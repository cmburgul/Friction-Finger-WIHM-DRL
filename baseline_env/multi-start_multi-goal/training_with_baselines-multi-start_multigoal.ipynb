{
 "cells": [
  {
   "cell_type": "markdown",
   "metadata": {},
   "source": [
    "# 1. Import Necessary Package"
   ]
  },
  {
   "cell_type": "code",
   "execution_count": 1,
   "metadata": {
    "scrolled": true
   },
   "outputs": [
    {
     "name": "stdout",
     "output_type": "stream",
     "text": [
      "Requirement already satisfied: stable-baselines[mpi]==2.10.0 in /home/cmb/anaconda3/envs/thesis/lib/python3.6/site-packages (2.10.0)\n",
      "Requirement already satisfied: matplotlib in /home/cmb/anaconda3/envs/thesis/lib/python3.6/site-packages (from stable-baselines[mpi]==2.10.0) (3.1.1)\n",
      "Requirement already satisfied: opencv-python in /home/cmb/anaconda3/envs/thesis/lib/python3.6/site-packages (from stable-baselines[mpi]==2.10.0) (4.1.1.26)\n",
      "Requirement already satisfied: gym[atari,classic_control]>=0.11 in /home/cmb/anaconda3/envs/thesis/lib/python3.6/site-packages (from stable-baselines[mpi]==2.10.0) (0.15.4)\n",
      "Requirement already satisfied: scipy in /home/cmb/anaconda3/envs/thesis/lib/python3.6/site-packages (from stable-baselines[mpi]==2.10.0) (1.3.2)\n",
      "Requirement already satisfied: joblib in /home/cmb/anaconda3/envs/thesis/lib/python3.6/site-packages (from stable-baselines[mpi]==2.10.0) (0.14.1)\n",
      "Requirement already satisfied: pandas in /home/cmb/anaconda3/envs/thesis/lib/python3.6/site-packages (from stable-baselines[mpi]==2.10.0) (1.0.1)\n",
      "Requirement already satisfied: numpy in /home/cmb/anaconda3/envs/thesis/lib/python3.6/site-packages (from stable-baselines[mpi]==2.10.0) (1.17.3)\n",
      "Requirement already satisfied: cloudpickle>=0.5.5 in /home/cmb/anaconda3/envs/thesis/lib/python3.6/site-packages (from stable-baselines[mpi]==2.10.0) (1.2.2)\n",
      "Requirement already satisfied: mpi4py; extra == \"mpi\" in /home/cmb/anaconda3/envs/thesis/lib/python3.6/site-packages (from stable-baselines[mpi]==2.10.0) (3.0.3)\n",
      "Requirement already satisfied: cycler>=0.10 in /home/cmb/anaconda3/envs/thesis/lib/python3.6/site-packages (from matplotlib->stable-baselines[mpi]==2.10.0) (0.10.0)\n",
      "Requirement already satisfied: kiwisolver>=1.0.1 in /home/cmb/anaconda3/envs/thesis/lib/python3.6/site-packages (from matplotlib->stable-baselines[mpi]==2.10.0) (1.1.0)\n",
      "Requirement already satisfied: pyparsing!=2.0.4,!=2.1.2,!=2.1.6,>=2.0.1 in /home/cmb/anaconda3/envs/thesis/lib/python3.6/site-packages (from matplotlib->stable-baselines[mpi]==2.10.0) (2.4.3)\n",
      "Requirement already satisfied: python-dateutil>=2.1 in /home/cmb/anaconda3/envs/thesis/lib/python3.6/site-packages (from matplotlib->stable-baselines[mpi]==2.10.0) (2.8.0)\n",
      "Requirement already satisfied: pyglet<=1.3.2,>=1.2.0 in /home/cmb/anaconda3/envs/thesis/lib/python3.6/site-packages (from gym[atari,classic_control]>=0.11->stable-baselines[mpi]==2.10.0) (1.3.2)\n",
      "Requirement already satisfied: six in /home/cmb/anaconda3/envs/thesis/lib/python3.6/site-packages (from gym[atari,classic_control]>=0.11->stable-baselines[mpi]==2.10.0) (1.12.0)\n",
      "Requirement already satisfied: atari-py~=0.2.0; extra == \"atari\" in /home/cmb/anaconda3/envs/thesis/lib/python3.6/site-packages (from gym[atari,classic_control]>=0.11->stable-baselines[mpi]==2.10.0) (0.2.6)\n",
      "Requirement already satisfied: Pillow; extra == \"atari\" in /home/cmb/anaconda3/envs/thesis/lib/python3.6/site-packages (from gym[atari,classic_control]>=0.11->stable-baselines[mpi]==2.10.0) (7.0.0)\n",
      "Requirement already satisfied: pytz>=2017.2 in /home/cmb/anaconda3/envs/thesis/lib/python3.6/site-packages (from pandas->stable-baselines[mpi]==2.10.0) (2019.3)\n",
      "Requirement already satisfied: setuptools in /home/cmb/anaconda3/envs/thesis/lib/python3.6/site-packages (from kiwisolver>=1.0.1->matplotlib->stable-baselines[mpi]==2.10.0) (41.6.0.post20191030)\n",
      "Requirement already satisfied: future in /home/cmb/anaconda3/envs/thesis/lib/python3.6/site-packages (from pyglet<=1.3.2,>=1.2.0->gym[atari,classic_control]>=0.11->stable-baselines[mpi]==2.10.0) (0.18.1)\n"
     ]
    },
    {
     "name": "stderr",
     "output_type": "stream",
     "text": [
      "/home/cmb/anaconda3/envs/thesis/lib/python3.6/site-packages/tensorflow/python/framework/dtypes.py:523: FutureWarning: Passing (type, 1) or '1type' as a synonym of type is deprecated; in a future version of numpy, it will be understood as (type, (1,)) / '(1,)type'.\n",
      "  _np_qint8 = np.dtype([(\"qint8\", np.int8, 1)])\n",
      "/home/cmb/anaconda3/envs/thesis/lib/python3.6/site-packages/tensorflow/python/framework/dtypes.py:524: FutureWarning: Passing (type, 1) or '1type' as a synonym of type is deprecated; in a future version of numpy, it will be understood as (type, (1,)) / '(1,)type'.\n",
      "  _np_quint8 = np.dtype([(\"quint8\", np.uint8, 1)])\n",
      "/home/cmb/anaconda3/envs/thesis/lib/python3.6/site-packages/tensorflow/python/framework/dtypes.py:525: FutureWarning: Passing (type, 1) or '1type' as a synonym of type is deprecated; in a future version of numpy, it will be understood as (type, (1,)) / '(1,)type'.\n",
      "  _np_qint16 = np.dtype([(\"qint16\", np.int16, 1)])\n",
      "/home/cmb/anaconda3/envs/thesis/lib/python3.6/site-packages/tensorflow/python/framework/dtypes.py:526: FutureWarning: Passing (type, 1) or '1type' as a synonym of type is deprecated; in a future version of numpy, it will be understood as (type, (1,)) / '(1,)type'.\n",
      "  _np_quint16 = np.dtype([(\"quint16\", np.uint16, 1)])\n",
      "/home/cmb/anaconda3/envs/thesis/lib/python3.6/site-packages/tensorflow/python/framework/dtypes.py:527: FutureWarning: Passing (type, 1) or '1type' as a synonym of type is deprecated; in a future version of numpy, it will be understood as (type, (1,)) / '(1,)type'.\n",
      "  _np_qint32 = np.dtype([(\"qint32\", np.int32, 1)])\n",
      "/home/cmb/anaconda3/envs/thesis/lib/python3.6/site-packages/tensorflow/python/framework/dtypes.py:532: FutureWarning: Passing (type, 1) or '1type' as a synonym of type is deprecated; in a future version of numpy, it will be understood as (type, (1,)) / '(1,)type'.\n",
      "  np_resource = np.dtype([(\"resource\", np.ubyte, 1)])\n"
     ]
    }
   ],
   "source": [
    "!pip install stable-baselines[mpi]==2.10.0\n",
    "import gym\n",
    "import numpy as np\n",
    "import time\n",
    "import os\n",
    "from utils import *\n",
    "import matplotlib.pyplot as plt\n",
    "\n",
    "from stable_baselines.common.env_checker import check_env\n",
    "from stable_baselines import DQN, PPO2, A2C, ACKTR\n",
    "from stable_baselines.bench import Monitor\n",
    "from stable_baselines.common.vec_env import DummyVecEnv\n",
    "from stable_baselines.results_plotter import load_results, ts2xy\n",
    "from stable_baselines.common.noise import AdaptiveParamNoiseSpec, NormalActionNoise\n",
    "from stable_baselines.common.policies import FeedForwardPolicy, register_policy\n",
    "\n",
    "%matplotlib inline"
   ]
  },
  {
   "cell_type": "markdown",
   "metadata": {},
   "source": [
    "# 2. Instantiate the Environment"
   ]
  },
  {
   "cell_type": "code",
   "execution_count": 2,
   "metadata": {
    "scrolled": true
   },
   "outputs": [
    {
     "name": "stdout",
     "output_type": "stream",
     "text": [
      "Initial start -> d0 :  71.0 theta_left :  108.99999734137702\n",
      "\r",
      "Episode 2\tAverage Score: 0.00"
     ]
    }
   ],
   "source": [
    "from multistart_multigoal_eval import FFEnv\n",
    "\n",
    "# Instantiate the env\n",
    "env_test = FFEnv()\n",
    "env = FFEnv()\n",
    "\n",
    "# Check the env\n",
    "check_env(env_test, warn=True)\n",
    "\n",
    "# Wrap it\n",
    "env = Monitor(env, filename=None, allow_early_resets=True)"
   ]
  },
  {
   "cell_type": "markdown",
   "metadata": {},
   "source": [
    "# 3. Evaluate"
   ]
  },
  {
   "cell_type": "code",
   "execution_count": 3,
   "metadata": {},
   "outputs": [
    {
     "name": "stdout",
     "output_type": "stream",
     "text": [
      "Loading a model without an environment, this model cannot be trained until it has a valid environment.\n",
      "Loading a model without an environment, this model cannot be trained until it has a valid environment.\n",
      "Loading a model without an environment, this model cannot be trained until it has a valid environment.\n",
      "Loading a model without an environment, this model cannot be trained until it has a valid environment.\n",
      "Loading a model without an environment, this model cannot be trained until it has a valid environment.\n",
      "Loading a model without an environment, this model cannot be trained until it has a valid environment.\n"
     ]
    }
   ],
   "source": [
    "model_5 = PPO2.load(\"/home/cmb/singularity/thesis/Friction-Finger-WIHM-DRL/baseline_env/multi-start_multi-goal/train_5/ppo2_her_train_5\")\n",
    "model_6 = PPO2.load(\"/home/cmb/singularity/thesis/Friction-Finger-WIHM-DRL/baseline_env/multi-start_multi-goal/train_6/ppo2_her_train_6\")\n",
    "model_7 = PPO2.load(\"/home/cmb/singularity/thesis/Friction-Finger-WIHM-DRL/baseline_env/multi-start_multi-goal/train_7/ppo2_her_train_7\")\n",
    "model_8 = PPO2.load(\"/home/cmb/singularity/thesis/Friction-Finger-WIHM-DRL/baseline_env/multi-start_multi-goal/train_8/ppo2_her_train_8\")\n",
    "model_9 = PPO2.load(\"/home/cmb/singularity/thesis/Friction-Finger-WIHM-DRL/baseline_env/multi-start_multi-goal/train_9/ppo2_her_train_9\")\n",
    "model_10 = PPO2.load(\"/home/cmb/singularity/thesis/Friction-Finger-WIHM-DRL/baseline_env/multi-start_multi-goal/train_10/ppo2_her_train_10\")"
   ]
  },
  {
   "cell_type": "code",
   "execution_count": 59,
   "metadata": {
    "scrolled": true
   },
   "outputs": [
    {
     "name": "stdout",
     "output_type": "stream",
     "text": [
      "Initial start -> d0 :  64.0 theta_left :  80.99999883893577\n",
      "\r",
      "Episode 57\tAverage Score: -20.37obj : 306.98593712782554 189.17096646239315 goal : 302.0 189.0\n",
      "obj : 305.0889148250269 190.23135406853726 goal : 302.0 189.0\n"
     ]
    },
    {
     "ename": "RuntimeError",
     "evalue": "Tried to step environment that needs reset",
     "output_type": "error",
     "traceback": [
      "\u001b[0;31m---------------------------------------------------------------------------\u001b[0m",
      "\u001b[0;31mRuntimeError\u001b[0m                              Traceback (most recent call last)",
      "\u001b[0;32m<ipython-input-59-05ff5cd0d97a>\u001b[0m in \u001b[0;36m<module>\u001b[0;34m\u001b[0m\n\u001b[1;32m     25\u001b[0m     \u001b[0;32mfor\u001b[0m \u001b[0mj\u001b[0m \u001b[0;32min\u001b[0m \u001b[0mrange\u001b[0m\u001b[0;34m(\u001b[0m\u001b[0;36m100\u001b[0m\u001b[0;34m)\u001b[0m\u001b[0;34m:\u001b[0m\u001b[0;34m\u001b[0m\u001b[0;34m\u001b[0m\u001b[0m\n\u001b[1;32m     26\u001b[0m         \u001b[0maction\u001b[0m\u001b[0;34m,\u001b[0m \u001b[0m_states\u001b[0m \u001b[0;34m=\u001b[0m \u001b[0mmodel\u001b[0m\u001b[0;34m.\u001b[0m\u001b[0mpredict\u001b[0m\u001b[0;34m(\u001b[0m\u001b[0mobs\u001b[0m\u001b[0;34m)\u001b[0m\u001b[0;34m\u001b[0m\u001b[0;34m\u001b[0m\u001b[0m\n\u001b[0;32m---> 27\u001b[0;31m         \u001b[0mobs\u001b[0m\u001b[0;34m,\u001b[0m \u001b[0mrewards\u001b[0m\u001b[0;34m,\u001b[0m \u001b[0mdones\u001b[0m\u001b[0;34m,\u001b[0m \u001b[0minfo\u001b[0m \u001b[0;34m=\u001b[0m \u001b[0menv\u001b[0m\u001b[0;34m.\u001b[0m\u001b[0mstep\u001b[0m\u001b[0;34m(\u001b[0m\u001b[0maction\u001b[0m\u001b[0;34m)\u001b[0m\u001b[0;34m\u001b[0m\u001b[0;34m\u001b[0m\u001b[0m\n\u001b[0m\u001b[1;32m     28\u001b[0m         \u001b[0menv\u001b[0m\u001b[0;34m.\u001b[0m\u001b[0mrender_\u001b[0m\u001b[0;34m(\u001b[0m\u001b[0;34m)\u001b[0m\u001b[0;34m\u001b[0m\u001b[0;34m\u001b[0m\u001b[0m\n\u001b[1;32m     29\u001b[0m         \u001b[0mtime\u001b[0m\u001b[0;34m.\u001b[0m\u001b[0msleep\u001b[0m\u001b[0;34m(\u001b[0m\u001b[0;36m0.005\u001b[0m\u001b[0;34m)\u001b[0m\u001b[0;34m\u001b[0m\u001b[0;34m\u001b[0m\u001b[0m\n",
      "\u001b[0;32m~/anaconda3/envs/thesis/lib/python3.6/site-packages/stable_baselines/bench/monitor.py\u001b[0m in \u001b[0;36mstep\u001b[0;34m(self, action)\u001b[0m\n\u001b[1;32m     88\u001b[0m         \"\"\"\n\u001b[1;32m     89\u001b[0m         \u001b[0;32mif\u001b[0m \u001b[0mself\u001b[0m\u001b[0;34m.\u001b[0m\u001b[0mneeds_reset\u001b[0m\u001b[0;34m:\u001b[0m\u001b[0;34m\u001b[0m\u001b[0;34m\u001b[0m\u001b[0m\n\u001b[0;32m---> 90\u001b[0;31m             \u001b[0;32mraise\u001b[0m \u001b[0mRuntimeError\u001b[0m\u001b[0;34m(\u001b[0m\u001b[0;34m\"Tried to step environment that needs reset\"\u001b[0m\u001b[0;34m)\u001b[0m\u001b[0;34m\u001b[0m\u001b[0;34m\u001b[0m\u001b[0m\n\u001b[0m\u001b[1;32m     91\u001b[0m         \u001b[0mobservation\u001b[0m\u001b[0;34m,\u001b[0m \u001b[0mreward\u001b[0m\u001b[0;34m,\u001b[0m \u001b[0mdone\u001b[0m\u001b[0;34m,\u001b[0m \u001b[0minfo\u001b[0m \u001b[0;34m=\u001b[0m \u001b[0mself\u001b[0m\u001b[0;34m.\u001b[0m\u001b[0menv\u001b[0m\u001b[0;34m.\u001b[0m\u001b[0mstep\u001b[0m\u001b[0;34m(\u001b[0m\u001b[0maction\u001b[0m\u001b[0;34m)\u001b[0m\u001b[0;34m\u001b[0m\u001b[0;34m\u001b[0m\u001b[0m\n\u001b[1;32m     92\u001b[0m         \u001b[0mself\u001b[0m\u001b[0;34m.\u001b[0m\u001b[0mrewards\u001b[0m\u001b[0;34m.\u001b[0m\u001b[0mappend\u001b[0m\u001b[0;34m(\u001b[0m\u001b[0mreward\u001b[0m\u001b[0;34m)\u001b[0m\u001b[0;34m\u001b[0m\u001b[0;34m\u001b[0m\u001b[0m\n",
      "\u001b[0;31mRuntimeError\u001b[0m: Tried to step environment that needs reset"
     ]
    }
   ],
   "source": [
    "import time\n",
    "from math import radians, degrees\n",
    "\n",
    "for i in range(1):\n",
    "    obs = env.reset()\n",
    "#     print(\"\\nt0 : \", degrees(env.ff_info['t'][0]), \"d0 : \", env.ff_info['d'][0])\n",
    "#     print(\"obs : \", obs)\n",
    "    t0 = degrees(env.ff_info['t'][0])\n",
    "    d0 = env.ff_info['d'][0]\n",
    "    \n",
    "    if (90 <= t0 <=  110):\n",
    "        if (35 <= d0 <= 55):\n",
    "            model = model_5\n",
    "        elif (55 <= d0 <= 75):\n",
    "            model = model_6\n",
    "        elif (75 <= d0 <= 110):\n",
    "            model = model_7\n",
    "    elif (70 <= t0 <=  90):\n",
    "        if (35 <= d0 <= 55):\n",
    "            model = model_8\n",
    "        elif (55 <= d0 <= 75):\n",
    "            model = model_9\n",
    "        elif (75 <= d0 <= 110):\n",
    "            model = model_10\n",
    "    for j in range(100):\n",
    "        action, _states = model.predict(obs)\n",
    "        obs, rewards, dones, info = env.step(action)\n",
    "        env.render_()\n",
    "        time.sleep(0.005)\n",
    "#         if done:\n",
    "#             print('------------')\n",
    "#             break \n",
    "\n",
    "# path_x, path_y = env.viewer.return_path()      "
   ]
  },
  {
   "cell_type": "code",
   "execution_count": null,
   "metadata": {},
   "outputs": [],
   "source": []
  }
 ],
 "metadata": {
  "kernelspec": {
   "display_name": "Python 3",
   "language": "python",
   "name": "python3"
  },
  "language_info": {
   "codemirror_mode": {
    "name": "ipython",
    "version": 3
   },
   "file_extension": ".py",
   "mimetype": "text/x-python",
   "name": "python",
   "nbconvert_exporter": "python",
   "pygments_lexer": "ipython3",
   "version": "3.6.9"
  }
 },
 "nbformat": 4,
 "nbformat_minor": 2
}
