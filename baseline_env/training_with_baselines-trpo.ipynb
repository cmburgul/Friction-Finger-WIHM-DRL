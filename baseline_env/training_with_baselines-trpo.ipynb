{
 "cells": [
  {
   "cell_type": "code",
   "execution_count": 1,
   "metadata": {
    "scrolled": true
   },
   "outputs": [
    {
     "name": "stdout",
     "output_type": "stream",
     "text": [
      "Requirement already satisfied: stable-baselines[mpi]==2.10.0 in /home/cmb/anaconda3/envs/thesis/lib/python3.6/site-packages (2.10.0)\n",
      "Requirement already satisfied: opencv-python in /home/cmb/anaconda3/envs/thesis/lib/python3.6/site-packages (from stable-baselines[mpi]==2.10.0) (4.1.1.26)\n",
      "Requirement already satisfied: numpy in /home/cmb/anaconda3/envs/thesis/lib/python3.6/site-packages (from stable-baselines[mpi]==2.10.0) (1.17.3)\n",
      "Requirement already satisfied: scipy in /home/cmb/anaconda3/envs/thesis/lib/python3.6/site-packages (from stable-baselines[mpi]==2.10.0) (1.3.2)\n",
      "Requirement already satisfied: matplotlib in /home/cmb/anaconda3/envs/thesis/lib/python3.6/site-packages (from stable-baselines[mpi]==2.10.0) (3.1.1)\n",
      "Requirement already satisfied: pandas in /home/cmb/anaconda3/envs/thesis/lib/python3.6/site-packages (from stable-baselines[mpi]==2.10.0) (1.0.1)\n",
      "Requirement already satisfied: gym[atari,classic_control]>=0.11 in /home/cmb/anaconda3/envs/thesis/lib/python3.6/site-packages (from stable-baselines[mpi]==2.10.0) (0.15.4)\n",
      "Requirement already satisfied: joblib in /home/cmb/anaconda3/envs/thesis/lib/python3.6/site-packages (from stable-baselines[mpi]==2.10.0) (0.14.1)\n",
      "Requirement already satisfied: cloudpickle>=0.5.5 in /home/cmb/anaconda3/envs/thesis/lib/python3.6/site-packages (from stable-baselines[mpi]==2.10.0) (1.2.2)\n",
      "Requirement already satisfied: mpi4py; extra == \"mpi\" in /home/cmb/anaconda3/envs/thesis/lib/python3.6/site-packages (from stable-baselines[mpi]==2.10.0) (3.0.3)\n",
      "Requirement already satisfied: cycler>=0.10 in /home/cmb/anaconda3/envs/thesis/lib/python3.6/site-packages (from matplotlib->stable-baselines[mpi]==2.10.0) (0.10.0)\n",
      "Requirement already satisfied: kiwisolver>=1.0.1 in /home/cmb/anaconda3/envs/thesis/lib/python3.6/site-packages (from matplotlib->stable-baselines[mpi]==2.10.0) (1.1.0)\n",
      "Requirement already satisfied: pyparsing!=2.0.4,!=2.1.2,!=2.1.6,>=2.0.1 in /home/cmb/anaconda3/envs/thesis/lib/python3.6/site-packages (from matplotlib->stable-baselines[mpi]==2.10.0) (2.4.3)\n",
      "Requirement already satisfied: python-dateutil>=2.1 in /home/cmb/anaconda3/envs/thesis/lib/python3.6/site-packages (from matplotlib->stable-baselines[mpi]==2.10.0) (2.8.0)\n",
      "Requirement already satisfied: pytz>=2017.2 in /home/cmb/anaconda3/envs/thesis/lib/python3.6/site-packages (from pandas->stable-baselines[mpi]==2.10.0) (2019.3)\n",
      "Requirement already satisfied: six in /home/cmb/anaconda3/envs/thesis/lib/python3.6/site-packages (from gym[atari,classic_control]>=0.11->stable-baselines[mpi]==2.10.0) (1.12.0)\n",
      "Requirement already satisfied: pyglet<=1.3.2,>=1.2.0 in /home/cmb/anaconda3/envs/thesis/lib/python3.6/site-packages (from gym[atari,classic_control]>=0.11->stable-baselines[mpi]==2.10.0) (1.3.2)\n",
      "Requirement already satisfied: atari-py~=0.2.0; extra == \"atari\" in /home/cmb/anaconda3/envs/thesis/lib/python3.6/site-packages (from gym[atari,classic_control]>=0.11->stable-baselines[mpi]==2.10.0) (0.2.6)\n",
      "Requirement already satisfied: Pillow; extra == \"atari\" in /home/cmb/anaconda3/envs/thesis/lib/python3.6/site-packages (from gym[atari,classic_control]>=0.11->stable-baselines[mpi]==2.10.0) (7.0.0)\n",
      "Requirement already satisfied: setuptools in /home/cmb/anaconda3/envs/thesis/lib/python3.6/site-packages (from kiwisolver>=1.0.1->matplotlib->stable-baselines[mpi]==2.10.0) (41.6.0.post20191030)\n",
      "Requirement already satisfied: future in /home/cmb/anaconda3/envs/thesis/lib/python3.6/site-packages (from pyglet<=1.3.2,>=1.2.0->gym[atari,classic_control]>=0.11->stable-baselines[mpi]==2.10.0) (0.18.1)\n"
     ]
    },
    {
     "name": "stderr",
     "output_type": "stream",
     "text": [
      "/home/cmb/anaconda3/envs/thesis/lib/python3.6/site-packages/tensorflow/python/framework/dtypes.py:523: FutureWarning: Passing (type, 1) or '1type' as a synonym of type is deprecated; in a future version of numpy, it will be understood as (type, (1,)) / '(1,)type'.\n",
      "  _np_qint8 = np.dtype([(\"qint8\", np.int8, 1)])\n",
      "/home/cmb/anaconda3/envs/thesis/lib/python3.6/site-packages/tensorflow/python/framework/dtypes.py:524: FutureWarning: Passing (type, 1) or '1type' as a synonym of type is deprecated; in a future version of numpy, it will be understood as (type, (1,)) / '(1,)type'.\n",
      "  _np_quint8 = np.dtype([(\"quint8\", np.uint8, 1)])\n",
      "/home/cmb/anaconda3/envs/thesis/lib/python3.6/site-packages/tensorflow/python/framework/dtypes.py:525: FutureWarning: Passing (type, 1) or '1type' as a synonym of type is deprecated; in a future version of numpy, it will be understood as (type, (1,)) / '(1,)type'.\n",
      "  _np_qint16 = np.dtype([(\"qint16\", np.int16, 1)])\n",
      "/home/cmb/anaconda3/envs/thesis/lib/python3.6/site-packages/tensorflow/python/framework/dtypes.py:526: FutureWarning: Passing (type, 1) or '1type' as a synonym of type is deprecated; in a future version of numpy, it will be understood as (type, (1,)) / '(1,)type'.\n",
      "  _np_quint16 = np.dtype([(\"quint16\", np.uint16, 1)])\n",
      "/home/cmb/anaconda3/envs/thesis/lib/python3.6/site-packages/tensorflow/python/framework/dtypes.py:527: FutureWarning: Passing (type, 1) or '1type' as a synonym of type is deprecated; in a future version of numpy, it will be understood as (type, (1,)) / '(1,)type'.\n",
      "  _np_qint32 = np.dtype([(\"qint32\", np.int32, 1)])\n",
      "/home/cmb/anaconda3/envs/thesis/lib/python3.6/site-packages/tensorflow/python/framework/dtypes.py:532: FutureWarning: Passing (type, 1) or '1type' as a synonym of type is deprecated; in a future version of numpy, it will be understood as (type, (1,)) / '(1,)type'.\n",
      "  np_resource = np.dtype([(\"resource\", np.ubyte, 1)])\n"
     ]
    }
   ],
   "source": [
    "!pip install stable-baselines[mpi]==2.10.0\n",
    "import gym\n",
    "import numpy as np\n",
    "import time\n",
    "import os\n",
    "from utils import *\n",
    "import matplotlib.pyplot as plt\n",
    "\n",
    "from stable_baselines.common.env_checker import check_env\n",
    "from stable_baselines import DQN, PPO2, A2C, ACKTR, TRPO\n",
    "from stable_baselines.bench import Monitor\n",
    "from stable_baselines.common.vec_env import DummyVecEnv\n",
    "from stable_baselines.results_plotter import load_results, ts2xy\n",
    "from stable_baselines.common.noise import AdaptiveParamNoiseSpec, NormalActionNoise\n",
    "%matplotlib inline"
   ]
  },
  {
   "cell_type": "code",
   "execution_count": 2,
   "metadata": {
    "scrolled": true
   },
   "outputs": [
    {
     "name": "stdout",
     "output_type": "stream",
     "text": [
      "\r",
      "Episode 2\tAverage Score: 0.00"
     ]
    }
   ],
   "source": [
    "from ff_env_callback import FFEnv\n",
    "\n",
    "# Instantiate the env\n",
    "env_test = FFEnv()\n",
    "env = FFEnv()\n",
    "\n",
    "# Check the env\n",
    "check_env(env_test, warn=True)\n",
    "\n",
    "# Wrap it\n",
    "env = Monitor(env, filename=None, allow_early_resets=True)"
   ]
  },
  {
   "cell_type": "code",
   "execution_count": 3,
   "metadata": {},
   "outputs": [],
   "source": [
    "# Define the model\n",
    "# Custom MLP Policy \n",
    "policy_kwargs = dict(net_arch=[256, 256])\n",
    "\n",
    "model = TRPO('MlpPolicy', env, verbose=1)\n",
    "#model = TRPO('MlpPolicy', env, n_steps = 256, policy_kwargs=policy_kwargs, verbose=1)"
   ]
  },
  {
   "cell_type": "code",
   "execution_count": 4,
   "metadata": {},
   "outputs": [],
   "source": [
    "best_mean_reward = -np.inf\n",
    "n_steps = 0\n",
    "\n",
    "num_episodes = 5\n",
    "\n",
    "def callback(_locals, _globals):\n",
    "    \"\"\"\n",
    "    Callback is called at each step (timestep) for DQN\n",
    "    :param_locals: (dict)\n",
    "    :param_globals: (dict)\n",
    "    \"\"\"\n",
    "    global n_steps, best_mean_reward\n",
    "    \n",
    "    if (env.episode) > num_episodes:\n",
    "        return False\n",
    "    \n",
    "    # Returning false will stop training early\n",
    "    return True"
   ]
  },
  {
   "cell_type": "code",
   "execution_count": null,
   "metadata": {},
   "outputs": [
    {
     "name": "stdout",
     "output_type": "stream",
     "text": [
      "********** Iteration 0 ************\n",
      "Optimizing Policy...\n",
      "\u001b[35msampling\u001b[0m\n",
      "Episode 2\tAverage Score: 0.00"
     ]
    }
   ],
   "source": [
    "# Train the agent\n",
    "model.learn(total_timesteps=int(1e100), callback=callback)"
   ]
  },
  {
   "cell_type": "code",
   "execution_count": 6,
   "metadata": {},
   "outputs": [],
   "source": [
    "model.save(\"trpo\")"
   ]
  },
  {
   "cell_type": "code",
   "execution_count": 26,
   "metadata": {},
   "outputs": [
    {
     "data": {
      "image/png": "[encoded data removed]",
      "text/plain": [
       "<Figure size 432x288 with 1 Axes>"
      ]
     },
     "metadata": {
      "needs_background": "light"
     },
     "output_type": "display_data"
    },
    {
     "data": {
      "text/plain": [
       "Text(0, 0.5, 'episode return')"
      ]
     },
     "execution_count": 26,
     "metadata": {},
     "output_type": "execute_result"
    },
    {
     "data": {
      "image/png": "[encoded data removed]",
      "text/plain": [
       "<Figure size 432x288 with 1 Axes>"
      ]
     },
     "metadata": {
      "needs_background": "light"
     },
     "output_type": "display_data"
    }
   ],
   "source": [
    "# Plotting the scores\n",
    "\n",
    "fig = plt.figure()\n",
    "ax = fig.add_subplot(111)\n",
    "plt.plot(np.arange(len(env.scores)), env.scores)\n",
    "plt.ylabel('Score')\n",
    "plt.xlabel('Episode #')\n",
    "plt.show()\n",
    "\n",
    "# Plotting \n",
    "Y = np.asarray(env.log.get_log('scores'))\n",
    "Y2 = smooth(Y)\n",
    "x = np.linspace(0, len(Y), len(Y))\n",
    "fig1 = plt.figure()\n",
    "ax1 = plt.axes()\n",
    "ax1.plot(x, Y, Y2)\n",
    "plt.xlabel('episodes')\n",
    "plt.ylabel('episode return')"
   ]
  },
  {
   "cell_type": "code",
   "execution_count": 8,
   "metadata": {},
   "outputs": [
    {
     "name": "stdout",
     "output_type": "stream",
     "text": [
      "Loading a model without an environment, this model cannot be trained until it has a valid environment.\n",
      "Loading a model without an environment, this model cannot be trained until it has a valid environment.\n"
     ]
    }
   ],
   "source": [
    "# model = DQN.load(\"dqn_\")\n",
    "model = PPO2.load(\"ppo2_\")"
   ]
  },
  {
   "cell_type": "code",
   "execution_count": 30,
   "metadata": {},
   "outputs": [
    {
     "name": "stdout",
     "output_type": "stream",
     "text": [
      "\r",
      "Episode 509\tAverage Score: -25.51obj_center :  281.97903465113876 138.52970447450616 | goal :  {'x': 388, 'y': 228, 'w': 25}\n",
      "tl : 87.65814237394507  | tr : 70.45217185463092  | dl : 44.205524 | dr : 30.822073\n",
      "obj_center :  283.3602061066716 137.70299787337422 | goal :  {'x': 388, 'y': 228, 'w': 25}\n",
      "tl : 87.08518512522937  | tr : 71.31110912389505  | dl : 44.205524 | dr : 38.208652\n",
      "obj_center :  288.634956739965 154.33843363702124 | goal :  {'x': 388, 'y': 228, 'w': 25}\n",
      "tl : 85.49911957730403  | tr : 70.73815187517935  | dl : 51.82722 | dr : 38.208652\n",
      "obj_center :  290.1574954175426 154.72139429037952 | goal :  {'x': 388, 'y': 228, 'w': 25}\n",
      "tl : 84.9718631243249  | tr : 70.16519462646367  | dl : 52.311134 | dr : 38.208652\n",
      "obj_center :  291.68180200798014 155.09202701864524 | goal :  {'x': 388, 'y': 228, 'w': 25}\n",
      "tl : 84.44916240752217  | tr : 69.59223737774798  | dl : 52.793217 | dr : 38.208652\n",
      "obj_center :  293.20787022151194 155.45027085542188 | goal :  {'x': 388, 'y': 228, 'w': 25}\n",
      "tl : 83.9308876533016  | tr : 69.01928012903228  | dl : 53.273468 | dr : 38.208652\n",
      "obj_center :  294.73568855022967 155.79607187737224 | goal :  {'x': 388, 'y': 228, 'w': 25}\n",
      "tl : 83.41691591825814  | tr : 68.4463228803166  | dl : 53.75189 | dr : 38.208652\n",
      "obj_center :  296.2652057781886 156.1293842637309 | goal :  {'x': 388, 'y': 228, 'w': 25}\n",
      "tl : 82.90713791936507  | tr : 67.8733656316009  | dl : 54.22848 | dr : 38.208652\n",
      "obj_center :  297.8216587605049 155.158945414193 | goal :  {'x': 388, 'y': 228, 'w': 25}\n",
      "tl : 82.33418067064937  | tr : 68.15919538798761  | dl : 54.22848 | dr : 44.50592\n",
      "obj_center :  303.7491545392861 169.8939014654087 | goal :  {'x': 388, 'y': 228, 'w': 25}\n",
      "tl : 81.11070254500333  | tr : 67.58623813927191  | dl : 61.054073 | dr : 44.50592\n",
      "obj_center :  305.4158131004989 170.14448320672216 | goal :  {'x': 388, 'y': 228, 'w': 25}\n",
      "tl : 80.61198262237652  | tr : 67.01328089055622  | dl : 61.524403 | dr : 44.50592\n",
      "obj_center :  307.08378566238525 170.38083551973557 | goal :  {'x': 388, 'y': 228, 'w': 25}\n",
      "tl : 80.11667096414553  | tr : 66.44032364184054  | dl : 61.992954 | dr : 44.50592\n",
      "obj_center :  308.75301346892957 170.6028805147696 | goal :  {'x': 388, 'y': 228, 'w': 25}\n",
      "tl : 79.62467877785117  | tr : 65.86736639312484  | dl : 62.45972 | dr : 44.50592\n",
      "obj_center :  310.4535733138754 169.50683495694534 | goal :  {'x': 388, 'y': 228, 'w': 25}\n",
      "tl : 79.05172152913548  | tr : 65.87835616749939  | dl : 62.45972 | dr : 50.18195\n",
      "obj_center :  316.8033882486742 182.97053703224947 | goal :  {'x': 388, 'y': 228, 'w': 25}\n",
      "tl : 78.0114905487317  | tr : 65.30539891878371  | dl : 68.79668 | dr : 50.18195\n",
      "obj_center :  318.6272199196719 181.79337338156984 | goal :  {'x': 388, 'y': 228, 'w': 25}\n",
      "tl : 77.43853330001602  | tr : 65.14802453011744  | dl : 68.79668 | dr : 55.359493\n",
      "obj_center :  325.0072290311664 194.24613909226537 | goal :  {'x': 388, 'y': 228, 'w': 25}\n",
      "tl : 76.51119168621422  | tr : 64.57506728140176  | dl : 74.71863 | dr : 55.359493\n",
      "obj_center :  326.9136215537151 194.2963609537219 | goal :  {'x': 388, 'y': 228, 'w': 25}\n",
      "tl : 76.0289598402438  | tr : 64.00211003268606  | dl : 75.17584 | dr : 55.359493\n",
      "obj_center :  328.8199444831281 194.3294800421745 | goal :  {'x': 388, 'y': 228, 'w': 25}\n",
      "tl : 75.54926882464464  | tr : 63.42915278397037  | dl : 75.63123 | dr : 55.359493\n",
      "obj_center :  330.72604975347986 194.34554089848461 | goal :  {'x': 388, 'y': 228, 'w': 25}\n",
      "tl : 75.0720776582817  | tr : 62.856195535254685  | dl : 76.08481 | dr : 55.359493\n",
      "obj_center :  332.63184180361975 194.34444716961593 | goal :  {'x': 388, 'y': 228, 'w': 25}\n",
      "tl : 74.59732486945245  | tr : 62.283238286538996  | dl : 76.53654 | dr : 55.359493\n",
      "obj_center :  334.5371543102601 194.32624402164947 | goal :  {'x': 388, 'y': 228, 'w': 25}\n",
      "tl : 74.12497630721106  | tr : 61.71028103782331  | dl : 76.98642 | dr : 55.359493\n",
      "obj_center :  336.4418777982587 194.2908942994609 | goal :  {'x': 388, 'y': 228, 'w': 25}\n",
      "tl : 73.65497733004413  | tr : 61.13732378910761  | dl : 77.43444 | dr : 55.359493\n",
      "obj_center :  338.3458947351096 194.23835551261163 | goal :  {'x': 388, 'y': 228, 'w': 25}\n",
      "tl : 73.18728012662751  | tr : 60.56436654039192  | dl : 77.880585 | dr : 55.359493\n",
      "obj_center :  340.2490749139463 194.16861109570164 | goal :  {'x': 388, 'y': 228, 'w': 25}\n",
      "tl : 72.72183688563699  | tr : 59.991409291676234  | dl : 78.32484 | dr : 55.359493\n",
      "obj_center :  342.15127977712655 194.0817093238752 | goal :  {'x': 388, 'y': 228, 'w': 25}\n",
      "tl : 72.25861345612672  | tr : 59.418452042960546  | dl : 78.7672 | dr : 55.359493\n",
      "obj_center :  344.05234486644076 193.97759285988286 | goal :  {'x': 388, 'y': 228, 'w': 25}\n",
      "tl : 71.79756885696169  | tr : 58.84549479424486  | dl : 79.20764 | dr : 55.359493\n",
      "obj_center :  345.98488603872283 192.52739257579378 | goal :  {'x': 388, 'y': 228, 'w': 25}\n",
      "tl : 71.22461160824601  | tr : 58.62736587291133  | dl : 79.20764 | dr : 60.648945\n",
      "obj_center :  353.94273512645213 204.46527270988327 | goal :  {'x': 388, 'y': 228, 'w': 25}\n",
      "tl : 70.35667897984497  | tr : 58.05440862419564  | dl : 85.22643 | dr : 60.648945\n",
      "obj_center :  355.97965248863204 202.91564940095896 | goal :  {'x': 388, 'y': 228, 'w': 25}\n",
      "tl : 69.78372173112929  | tr : 57.74995294194232  | dl : 85.22643 | dr : 65.63781\n",
      "obj_center :  358.00097281018736 201.34572409710586 | goal :  {'x': 388, 'y': 228, 'w': 25}\n",
      "tl : 69.2107644824136  | tr : 56.940606261147074  | dl : 85.22643 | dr : 65.14257\n",
      "obj_center :  360.0064994519789 199.75568601497685 | goal :  {'x': 388, 'y': 228, 'w': 25}\n",
      "tl : 68.63780723369791  | tr : 56.12420741003379  | dl : 85.22643 | dr : 64.648994\n",
      "obj_center :  368.51556305737176 211.21979501680698 | goal :  {'x': 388, 'y': 228, 'w': 25}\n",
      "tl : 67.80748162686697  | tr : 55.5512501613181  | dl : 91.18972 | dr : 64.648994\n",
      "obj_center :  370.6193003784392 209.52411547304564 | goal :  {'x': 388, 'y': 228, 'w': 25}\n",
      "tl : 67.23452437815128  | tr : 55.21288942002484  | dl : 91.18972 | dr : 69.619484\n",
      "obj_center :  379.1868854888844 220.31737810773848 | goal :  {'x': 388, 'y': 228, 'w': 25}\n",
      "tl : 66.45312341634514  | tr : 54.63993217130915  | dl : 96.92294 | dr : 69.619484\n",
      "obj_center :  381.354544245587 219.8501526014195 | goal :  {'x': 388, 'y': 228, 'w': 25}\n",
      "tl : 65.99905927051186  | tr : 54.06697492259346  | dl : 97.34316 | dr : 69.619484\n"
     ]
    },
    {
     "ename": "RuntimeError",
     "evalue": "Tried to step environment that needs reset",
     "output_type": "error",
     "traceback": [
      "\u001b[0;31m---------------------------------------------------------------------------\u001b[0m",
      "\u001b[0;31mRuntimeError\u001b[0m                              Traceback (most recent call last)",
      "\u001b[0;32m<ipython-input-30-388b271bf944>\u001b[0m in \u001b[0;36m<module>\u001b[0;34m\u001b[0m\n\u001b[1;32m      3\u001b[0m \u001b[0;32mwhile\u001b[0m \u001b[0;32mTrue\u001b[0m\u001b[0;34m:\u001b[0m\u001b[0;34m\u001b[0m\u001b[0;34m\u001b[0m\u001b[0m\n\u001b[1;32m      4\u001b[0m     \u001b[0maction\u001b[0m\u001b[0;34m,\u001b[0m \u001b[0m_states\u001b[0m \u001b[0;34m=\u001b[0m \u001b[0mmodel\u001b[0m\u001b[0;34m.\u001b[0m\u001b[0mpredict\u001b[0m\u001b[0;34m(\u001b[0m\u001b[0mobs\u001b[0m\u001b[0;34m)\u001b[0m\u001b[0;34m\u001b[0m\u001b[0;34m\u001b[0m\u001b[0m\n\u001b[0;32m----> 5\u001b[0;31m     \u001b[0mobs\u001b[0m\u001b[0;34m,\u001b[0m \u001b[0mrewards\u001b[0m\u001b[0;34m,\u001b[0m \u001b[0mdones\u001b[0m\u001b[0;34m,\u001b[0m \u001b[0minfo\u001b[0m \u001b[0;34m=\u001b[0m \u001b[0menv\u001b[0m\u001b[0;34m.\u001b[0m\u001b[0mstep\u001b[0m\u001b[0;34m(\u001b[0m\u001b[0maction\u001b[0m\u001b[0;34m)\u001b[0m\u001b[0;34m\u001b[0m\u001b[0;34m\u001b[0m\u001b[0m\n\u001b[0m\u001b[1;32m      6\u001b[0m     \u001b[0menv\u001b[0m\u001b[0;34m.\u001b[0m\u001b[0mrender_\u001b[0m\u001b[0;34m(\u001b[0m\u001b[0;34m)\u001b[0m\u001b[0;34m\u001b[0m\u001b[0;34m\u001b[0m\u001b[0m\n",
      "\u001b[0;32m~/anaconda3/envs/thesis/lib/python3.6/site-packages/stable_baselines/bench/monitor.py\u001b[0m in \u001b[0;36mstep\u001b[0;34m(self, action)\u001b[0m\n\u001b[1;32m     88\u001b[0m         \"\"\"\n\u001b[1;32m     89\u001b[0m         \u001b[0;32mif\u001b[0m \u001b[0mself\u001b[0m\u001b[0;34m.\u001b[0m\u001b[0mneeds_reset\u001b[0m\u001b[0;34m:\u001b[0m\u001b[0;34m\u001b[0m\u001b[0;34m\u001b[0m\u001b[0m\n\u001b[0;32m---> 90\u001b[0;31m             \u001b[0;32mraise\u001b[0m \u001b[0mRuntimeError\u001b[0m\u001b[0;34m(\u001b[0m\u001b[0;34m\"Tried to step environment that needs reset\"\u001b[0m\u001b[0;34m)\u001b[0m\u001b[0;34m\u001b[0m\u001b[0;34m\u001b[0m\u001b[0m\n\u001b[0m\u001b[1;32m     91\u001b[0m         \u001b[0mobservation\u001b[0m\u001b[0;34m,\u001b[0m \u001b[0mreward\u001b[0m\u001b[0;34m,\u001b[0m \u001b[0mdone\u001b[0m\u001b[0;34m,\u001b[0m \u001b[0minfo\u001b[0m \u001b[0;34m=\u001b[0m \u001b[0mself\u001b[0m\u001b[0;34m.\u001b[0m\u001b[0menv\u001b[0m\u001b[0;34m.\u001b[0m\u001b[0mstep\u001b[0m\u001b[0;34m(\u001b[0m\u001b[0maction\u001b[0m\u001b[0;34m)\u001b[0m\u001b[0;34m\u001b[0m\u001b[0;34m\u001b[0m\u001b[0m\n\u001b[1;32m     92\u001b[0m         \u001b[0mself\u001b[0m\u001b[0;34m.\u001b[0m\u001b[0mrewards\u001b[0m\u001b[0;34m.\u001b[0m\u001b[0mappend\u001b[0m\u001b[0;34m(\u001b[0m\u001b[0mreward\u001b[0m\u001b[0;34m)\u001b[0m\u001b[0;34m\u001b[0m\u001b[0;34m\u001b[0m\u001b[0m\n",
      "\u001b[0;31mRuntimeError\u001b[0m: Tried to step environment that needs reset"
     ]
    }
   ],
   "source": [
    "# Evaluating the model\n",
    "obs = env.reset()\n",
    "while True:\n",
    "    action, _states = model.predict(obs)\n",
    "    obs, rewards, dones, info = env.step(action)\n",
    "    env.render_()"
   ]
  },
  {
   "cell_type": "code",
   "execution_count": 29,
   "metadata": {},
   "outputs": [],
   "source": [
    "def evaluate(model, num_steps=1000):\n",
    "  \"\"\"\n",
    "  Evaluate a RL agent\n",
    "  :param model: (BaseRLModel object) the RL Agent\n",
    "  :param num_steps: (int) number of timesteps to evaluate it\n",
    "  :return: (float) Mean reward for the last 100 episodes\n",
    "  \"\"\"\n",
    "  episode_rewards = [0.0]\n",
    "  obs = env_test.reset()\n",
    "  for i in range(num_steps):\n",
    "      # _states are only useful when using LSTM policies\n",
    "      action, _states = model.predict(obs)\n",
    "\n",
    "      obs, reward, done, info = env_test.step(action)\n",
    "      \n",
    "      # Stats\n",
    "      episode_rewards[-1] += reward\n",
    "      if done:\n",
    "          obs = env_test.reset()\n",
    "          episode_rewards.append(0.0)\n",
    "  # Compute mean reward for the last 100 episodes\n",
    "  mean_100ep_reward = round(np.mean(episode_rewards[-100:]), 1)\n",
    "  print(\"Mean reward:\", mean_100ep_reward, \"Num episodes:\", len(episode_rewards))\n",
    "  \n",
    "  return mean_100ep_reward"
   ]
  },
  {
   "cell_type": "code",
   "execution_count": 9,
   "metadata": {},
   "outputs": [],
   "source": [
    "obs = env_test.reset()\n",
    "for i in range(10):\n",
    "  # _states are only useful when using LSTM policies\n",
    "  action, _states = model.predict(obs)\n",
    "\n",
    "  obs, reward, done, info = env_test.step(action)"
   ]
  },
  {
   "cell_type": "code",
   "execution_count": 10,
   "metadata": {
    "scrolled": true
   },
   "outputs": [
    {
     "ename": "NameError",
     "evalue": "name 'evaluate' is not defined",
     "output_type": "error",
     "traceback": [
      "\u001b[0;31m---------------------------------------------------------------------------\u001b[0m",
      "\u001b[0;31mNameError\u001b[0m                                 Traceback (most recent call last)",
      "\u001b[0;32m<ipython-input-10-3fd6c8982b63>\u001b[0m in \u001b[0;36m<module>\u001b[0;34m\u001b[0m\n\u001b[1;32m      1\u001b[0m \u001b[0;31m# Random Agent, before training\u001b[0m\u001b[0;34m\u001b[0m\u001b[0;34m\u001b[0m\u001b[0;34m\u001b[0m\u001b[0m\n\u001b[0;32m----> 2\u001b[0;31m \u001b[0mmean_reward_before_train\u001b[0m \u001b[0;34m=\u001b[0m \u001b[0mevaluate\u001b[0m\u001b[0;34m(\u001b[0m\u001b[0mmodel\u001b[0m\u001b[0;34m,\u001b[0m \u001b[0mnum_steps\u001b[0m\u001b[0;34m=\u001b[0m\u001b[0;36m1000\u001b[0m\u001b[0;34m)\u001b[0m\u001b[0;34m\u001b[0m\u001b[0;34m\u001b[0m\u001b[0m\n\u001b[0m",
      "\u001b[0;31mNameError\u001b[0m: name 'evaluate' is not defined"
     ]
    }
   ],
   "source": [
    "# Random Agent, before training\n",
    "mean_reward_before_train = evaluate(model, num_steps=1000)"
   ]
  },
  {
   "cell_type": "code",
   "execution_count": 10,
   "metadata": {},
   "outputs": [
    {
     "name": "stdout",
     "output_type": "stream",
     "text": [
      "Loading a model without an environment, this model cannot be trained until it has a valid environment.\n"
     ]
    }
   ],
   "source": [
    "model = DQN.load(\"dqn_\")"
   ]
  },
  {
   "cell_type": "code",
   "execution_count": 7,
   "metadata": {},
   "outputs": [
    {
     "ename": "LoadMonitorResultsError",
     "evalue": "no monitor files of the form *monitor.csv found in /tmp/gym/",
     "output_type": "error",
     "traceback": [
      "\u001b[0;31m---------------------------------------------------------------------------\u001b[0m",
      "\u001b[0;31mLoadMonitorResultsError\u001b[0m                   Traceback (most recent call last)",
      "\u001b[0;32m<ipython-input-7-aa2a24335c87>\u001b[0m in \u001b[0;36m<module>\u001b[0;34m\u001b[0m\n\u001b[1;32m      2\u001b[0m \u001b[0;34m\u001b[0m\u001b[0m\n\u001b[1;32m      3\u001b[0m \u001b[0;31m# Helper from the library\u001b[0m\u001b[0;34m\u001b[0m\u001b[0;34m\u001b[0m\u001b[0;34m\u001b[0m\u001b[0m\n\u001b[0;32m----> 4\u001b[0;31m \u001b[0mresults_plotter\u001b[0m\u001b[0;34m.\u001b[0m\u001b[0mplot_results\u001b[0m\u001b[0;34m(\u001b[0m\u001b[0;34m[\u001b[0m\u001b[0mlog_dir\u001b[0m\u001b[0;34m]\u001b[0m\u001b[0;34m,\u001b[0m \u001b[0;36m1e5\u001b[0m\u001b[0;34m,\u001b[0m \u001b[0mresults_plotter\u001b[0m\u001b[0;34m.\u001b[0m\u001b[0mX_TIMESTEPS\u001b[0m\u001b[0;34m,\u001b[0m \u001b[0;34m\"Friction Finger Env\"\u001b[0m\u001b[0;34m)\u001b[0m\u001b[0;34m\u001b[0m\u001b[0;34m\u001b[0m\u001b[0m\n\u001b[0m",
      "\u001b[0;32m~/anaconda3/envs/thesis/lib/python3.6/site-packages/stable_baselines/results_plotter.py\u001b[0m in \u001b[0;36mplot_results\u001b[0;34m(dirs, num_timesteps, xaxis, task_name)\u001b[0m\n\u001b[1;32m    110\u001b[0m     \u001b[0mtslist\u001b[0m \u001b[0;34m=\u001b[0m \u001b[0;34m[\u001b[0m\u001b[0;34m]\u001b[0m\u001b[0;34m\u001b[0m\u001b[0;34m\u001b[0m\u001b[0m\n\u001b[1;32m    111\u001b[0m     \u001b[0;32mfor\u001b[0m \u001b[0mfolder\u001b[0m \u001b[0;32min\u001b[0m \u001b[0mdirs\u001b[0m\u001b[0;34m:\u001b[0m\u001b[0;34m\u001b[0m\u001b[0;34m\u001b[0m\u001b[0m\n\u001b[0;32m--> 112\u001b[0;31m         \u001b[0mtimesteps\u001b[0m \u001b[0;34m=\u001b[0m \u001b[0mload_results\u001b[0m\u001b[0;34m(\u001b[0m\u001b[0mfolder\u001b[0m\u001b[0;34m)\u001b[0m\u001b[0;34m\u001b[0m\u001b[0;34m\u001b[0m\u001b[0m\n\u001b[0m\u001b[1;32m    113\u001b[0m         \u001b[0;32mif\u001b[0m \u001b[0mnum_timesteps\u001b[0m \u001b[0;32mis\u001b[0m \u001b[0;32mnot\u001b[0m \u001b[0;32mNone\u001b[0m\u001b[0;34m:\u001b[0m\u001b[0;34m\u001b[0m\u001b[0;34m\u001b[0m\u001b[0m\n\u001b[1;32m    114\u001b[0m             \u001b[0mtimesteps\u001b[0m \u001b[0;34m=\u001b[0m \u001b[0mtimesteps\u001b[0m\u001b[0;34m[\u001b[0m\u001b[0mtimesteps\u001b[0m\u001b[0;34m.\u001b[0m\u001b[0ml\u001b[0m\u001b[0;34m.\u001b[0m\u001b[0mcumsum\u001b[0m\u001b[0;34m(\u001b[0m\u001b[0;34m)\u001b[0m \u001b[0;34m<=\u001b[0m \u001b[0mnum_timesteps\u001b[0m\u001b[0;34m]\u001b[0m\u001b[0;34m\u001b[0m\u001b[0;34m\u001b[0m\u001b[0m\n",
      "\u001b[0;32m~/anaconda3/envs/thesis/lib/python3.6/site-packages/stable_baselines/bench/monitor.py\u001b[0m in \u001b[0;36mload_results\u001b[0;34m(path)\u001b[0m\n\u001b[1;32m    177\u001b[0m     \u001b[0mmonitor_files\u001b[0m \u001b[0;34m=\u001b[0m \u001b[0;34m(\u001b[0m\u001b[0mglob\u001b[0m\u001b[0;34m(\u001b[0m\u001b[0mos\u001b[0m\u001b[0;34m.\u001b[0m\u001b[0mpath\u001b[0m\u001b[0;34m.\u001b[0m\u001b[0mjoin\u001b[0m\u001b[0;34m(\u001b[0m\u001b[0mpath\u001b[0m\u001b[0;34m,\u001b[0m \u001b[0;34m\"*monitor.json\"\u001b[0m\u001b[0;34m)\u001b[0m\u001b[0;34m)\u001b[0m \u001b[0;34m+\u001b[0m \u001b[0mget_monitor_files\u001b[0m\u001b[0;34m(\u001b[0m\u001b[0mpath\u001b[0m\u001b[0;34m)\u001b[0m\u001b[0;34m)\u001b[0m\u001b[0;34m\u001b[0m\u001b[0;34m\u001b[0m\u001b[0m\n\u001b[1;32m    178\u001b[0m     \u001b[0;32mif\u001b[0m \u001b[0;32mnot\u001b[0m \u001b[0mmonitor_files\u001b[0m\u001b[0;34m:\u001b[0m\u001b[0;34m\u001b[0m\u001b[0;34m\u001b[0m\u001b[0m\n\u001b[0;32m--> 179\u001b[0;31m         \u001b[0;32mraise\u001b[0m \u001b[0mLoadMonitorResultsError\u001b[0m\u001b[0;34m(\u001b[0m\u001b[0;34m\"no monitor files of the form *%s found in %s\"\u001b[0m \u001b[0;34m%\u001b[0m \u001b[0;34m(\u001b[0m\u001b[0mMonitor\u001b[0m\u001b[0;34m.\u001b[0m\u001b[0mEXT\u001b[0m\u001b[0;34m,\u001b[0m \u001b[0mpath\u001b[0m\u001b[0;34m)\u001b[0m\u001b[0;34m)\u001b[0m\u001b[0;34m\u001b[0m\u001b[0;34m\u001b[0m\u001b[0m\n\u001b[0m\u001b[1;32m    180\u001b[0m     \u001b[0mdata_frames\u001b[0m \u001b[0;34m=\u001b[0m \u001b[0;34m[\u001b[0m\u001b[0;34m]\u001b[0m\u001b[0;34m\u001b[0m\u001b[0;34m\u001b[0m\u001b[0m\n\u001b[1;32m    181\u001b[0m     \u001b[0mheaders\u001b[0m \u001b[0;34m=\u001b[0m \u001b[0;34m[\u001b[0m\u001b[0;34m]\u001b[0m\u001b[0;34m\u001b[0m\u001b[0;34m\u001b[0m\u001b[0m\n",
      "\u001b[0;31mLoadMonitorResultsError\u001b[0m: no monitor files of the form *monitor.csv found in /tmp/gym/"
     ]
    }
   ],
   "source": [
    "from stable_baselines import results_plotter\n",
    "\n",
    "# Helper from the library\n",
    "results_plotter.plot_results([log_dir], 1e5, results_plotter.X_TIMESTEPS, \"Friction Finger Env\")"
   ]
  },
  {
   "cell_type": "code",
   "execution_count": null,
   "metadata": {},
   "outputs": [],
   "source": []
  },
  {
   "cell_type": "code",
   "execution_count": null,
   "metadata": {},
   "outputs": [],
   "source": []
  },
  {
   "cell_type": "code",
   "execution_count": null,
   "metadata": {},
   "outputs": [],
   "source": [
    "for i in range(5):\n",
    "    print(env.step(np.random.randint(0,5,1)[0]))"
   ]
  },
  {
   "cell_type": "code",
   "execution_count": null,
   "metadata": {},
   "outputs": [],
   "source": []
  },
  {
   "cell_type": "code",
   "execution_count": null,
   "metadata": {},
   "outputs": [],
   "source": []
  },
  {
   "cell_type": "code",
   "execution_count": null,
   "metadata": {},
   "outputs": [],
   "source": []
  }
 ],
 "metadata": {
  "kernelspec": {
   "display_name": "Python 3",
   "language": "python",
   "name": "python3"
  },
  "language_info": {
   "codemirror_mode": {
    "name": "ipython",
    "version": 3
   },
   "file_extension": ".py",
   "mimetype": "text/x-python",
   "name": "python",
   "nbconvert_exporter": "python",
   "pygments_lexer": "ipython3",
   "version": "3.6.9"
  }
 },
 "nbformat": 4,
 "nbformat_minor": 2
}
