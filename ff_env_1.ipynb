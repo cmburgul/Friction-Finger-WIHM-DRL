{
 "cells": [
  {
   "cell_type": "code",
   "execution_count": 3,
   "metadata": {},
   "outputs": [],
   "source": [
    "import numpy as np\n",
    "import pyglet"
   ]
  },
  {
   "cell_type": "code",
   "execution_count": 2,
   "metadata": {},
   "outputs": [],
   "source": [
    "class ArmEnv(object):\n",
    "    viewer = None\n",
    "    dt = 0.1    # refresh rate\n",
    "    action_bound = [-1, 1]\n",
    "    goal = {'x': 100., 'y': 100., 'l': 25}\n",
    "    state_dim = 2\n",
    "    action_dim = 2\n",
    "\n",
    "    def __init__(self):\n",
    "        self.arm_info = np.zeros(\n",
    "            2, dtype=[('l', np.float32), ('r', np.float32)])\n",
    "        self.arm_info['l'] = 100\n",
    "        self.arm_info['r'] = np.pi/6\n",
    "\n",
    "    def step(self, action):\n",
    "        done = False\n",
    "        r = 0.\n",
    "        action = np.clip(action, *self.action_bound)\n",
    "        self.arm_info['r'] += action * self.dt\n",
    "        self.arm_info['r'] %= np.pi * 2    # normalize\n",
    "\n",
    "        # state\n",
    "        s = self.arm_info['r']\n",
    "\n",
    "        (a1l, a2l) = self.arm_info['l']  # radius, arm length\n",
    "        (a1r, a2r) = self.arm_info['r']  # radian, angle\n",
    "        a1xy = np.array([200., 200.])    # a1 start (x0, y0)\n",
    "        a1xy_ = np.array([np.cos(a1r), np.sin(a1r)]) * a1l + a1xy  # a1 end and a2 start (x1, y1)\n",
    "        finger = np.array([np.cos(a1r + a2r), np.sin(a1r + a2r)]) * a2l + a1xy_  # a2 end (x2, y2)\n",
    "\n",
    "        # done and reward\n",
    "        if (self.goal['x'] - self.goal['l']/2 < finger[0] < self.goal['x'] + self.goal['l']/2\n",
    "        ) and (self.goal['y'] - self.goal['l']/2 < finger[1] < self.goal['y'] + self.goal['l']/2):\n",
    "                done = True\n",
    "                r = 1. # Sparse reward\n",
    "        return s, r, done\n",
    "    \n",
    "    def reset(self):\n",
    "        self.arm_info['r'] = 2 * np.pi * np.random.rand(2)\n",
    "        return self.arm_info['r']\n",
    "\n",
    "    def render(self):\n",
    "        if self.viewer is None:\n",
    "            self.viewer = Viewer(self.arm_info, self.goal)\n",
    "        self.viewer.render()\n",
    "\n",
    "    def sample_action(self):\n",
    "        return np.random.rand(2)-0.5    # two radians"
   ]
  },
  {
   "cell_type": "code",
   "execution_count": 3,
   "metadata": {},
   "outputs": [
    {
     "ename": "SyntaxError",
     "evalue": "invalid syntax (<ipython-input-3-e44e4d50dbe3>, line 32)",
     "output_type": "error",
     "traceback": [
      "\u001b[0;36m  File \u001b[0;32m\"<ipython-input-3-e44e4d50dbe3>\"\u001b[0;36m, line \u001b[0;32m32\u001b[0m\n\u001b[0;31m    self.obj_pos[1][0], self.obj_pos[1][1],\u001b[0m\n\u001b[0m       ^\u001b[0m\n\u001b[0;31mSyntaxError\u001b[0m\u001b[0;31m:\u001b[0m invalid syntax\n"
     ]
    }
   ],
   "source": [
    "class Viewer(pyglet.window.Window):\n",
    "    bar_thc = 5\n",
    "    w0 = 25   # Object width\n",
    "    wp = 5.0  # \n",
    "    fw = 1.8  # Finger width\n",
    "    \n",
    "    d2 = 5.0  # distance from x-axis to right bottom of the object \n",
    "    t2 = np.pi / 2\n",
    "    t1 = np.pi / 2\n",
    "    d1 = 6.2 # distance from x-axis to left bottom of the object\n",
    "    def __init__(self, arm_info, goal):\n",
    "        # vsync=False to not use the monitor FPS, we can speed up training\n",
    "        super(Viewer, self).__init__(width=400, height=400, resizable=False, caption='Arm', vsync=False)\n",
    "        pyglet.gl.glClearColor(1, 1, 1, 1)\n",
    "        self.arm_info = arm_info\n",
    "        self.center_coord = np.array([200, 200])\n",
    "        \n",
    "        self.obj_pos = translateLeft(self.t2, self.d2)\n",
    "        self.batch = pyglet.graphics.Batch()    # display whole batch at once\n",
    "        \"\"\"\n",
    "        self.goal = self.batch.add(\n",
    "            4, pyglet.gl.GL_QUADS, None,    # 4 corners\n",
    "            ('v2f', [goal['x'] - goal['l'] / 2, goal['y'] - goal['l'] / 2,                # location\n",
    "                     goal['x'] - goal['l'] / 2, goal['y'] + goal['l'] / 2,\n",
    "                     goal['x'] + goal['l'] / 2, goal['y'] + goal['l'] / 2,\n",
    "                     goal['x'] + goal['l'] / 2, goal['y'] - goal['l'] / 2]),\n",
    "            ('c3B', (86, 109, 249) * 4))    # color\n",
    "        \"\"\"\n",
    "        self.goal = self.batch.add(\n",
    "            4, pyglet.gl.GL_QUADS, None,    # 4 corners\n",
    "            ('v2f', [self.obj_pos[0][0], self.obj_pos[0][1]         # location\n",
    "                     self.obj_pos[1][0], self.obj_pos[1][1],\n",
    "                     self.obj_pos[2][0], self.obj_pos[2][1],\n",
    "                     self.obj_pos[3][0], self.obj_pos[3][1]),\n",
    "            ('c3B', (86, 109, 249) * 4))    # color\n",
    "        \n",
    "        self.arm1 = self.batch.add(\n",
    "            4, pyglet.gl.GL_QUADS, None,\n",
    "            ('v2f', [250, 250,                # location\n",
    "                     250, 300,\n",
    "                     260, 300,\n",
    "                     260, 250]),\n",
    "            ('c3B', (249, 86, 86) * 4,))    # color\n",
    "        self.arm2 = self.batch.add(\n",
    "            4, pyglet.gl.GL_QUADS, None,\n",
    "            ('v2f', [100, 150,              # location\n",
    "                     100, 160,\n",
    "                     200, 160,\n",
    "                     200, 150]), ('c3B', (249, 86, 86) * 4,))\n",
    "        \n",
    "    def translateLeft(t2, d2):\n",
    "        \n",
    "        # Transformation Matrix\n",
    "        x_square = self.wp + (d2 + w0 / 2.) * np.cos(np.float64(t2)) - (self.fw + self.w0 / 2.) * np.sin(np.float64(t2))\n",
    "        y_square = (d2 + w0 / 2.) * np.sin(np.float64(t2)) + (self.fw + self.w0 / 2.) * np.cos(np.float64(t2))\n",
    "\n",
    "        pts = np.array([[-self.w0 / 2., -self.w0 / 2., self.w0 / 2., self.w0 / 2.], [-self.w0 / 2., self.w0 / 2., self.w0 / 2., -self.w0 / 2.], [1, 1, 1, 1]])\n",
    "        R = np.array([[np.cos(t2), -np.sin(t2), x_square], [np.sin(t2), np.cos(t2), y_square], [0, 0, 1]])\n",
    "\n",
    "        # Points after transformation\n",
    "        pts_new = np.dot(R, pts)\n",
    "        \n",
    "        # Plotting the Object\n",
    "        pts = np.transpose([[pts_new[0, :]], [pts_new[1, :]]])\n",
    "        pts = pts.reshape((4, 2))\n",
    "        return pts\n",
    "\n",
    "    def render(self):\n",
    "        self._update_arm()\n",
    "        self.switch_to()\n",
    "        self.dispatch_events()\n",
    "        self.dispatch_event('on_draw')\n",
    "        self.flip()\n",
    "\n",
    "    def on_draw(self):\n",
    "        self.clear()\n",
    "        self.batch.draw()\n",
    "\n",
    "    def _update_arm(self):\n",
    "        (a1l, a2l) = self.arm_info['l']     # radius, arm length\n",
    "        (a1r, a2r) = self.arm_info['r']     # radian, angle\n",
    "        a1xy = self.center_coord            # a1 start (x0, y0)\n",
    "        a1xy_ = np.array([np.cos(a1r), np.sin(a1r)]) * a1l + a1xy   # a1 end and a2 start (x1, y1)\n",
    "        a2xy_ = np.array([np.cos(a1r+a2r), np.sin(a1r+a2r)]) * a2l + a1xy_  # a2 end (x2, y2)\n",
    "\n",
    "        a1tr, a2tr = np.pi / 2 - self.arm_info['r'][0], np.pi / 2 - self.arm_info['r'].sum()\n",
    "        xy01 = a1xy + np.array([-np.cos(a1tr), np.sin(a1tr)]) * self.bar_thc\n",
    "        xy02 = a1xy + np.array([np.cos(a1tr), -np.sin(a1tr)]) * self.bar_thc\n",
    "        xy11 = a1xy_ + np.array([np.cos(a1tr), -np.sin(a1tr)]) * self.bar_thc\n",
    "        xy12 = a1xy_ + np.array([-np.cos(a1tr), np.sin(a1tr)]) * self.bar_thc\n",
    "\n",
    "        xy11_ = a1xy_ + np.array([np.cos(a2tr), -np.sin(a2tr)]) * self.bar_thc\n",
    "        xy12_ = a1xy_ + np.array([-np.cos(a2tr), np.sin(a2tr)]) * self.bar_thc\n",
    "        xy21 = a2xy_ + np.array([-np.cos(a2tr), np.sin(a2tr)]) * self.bar_thc\n",
    "        xy22 = a2xy_ + np.array([np.cos(a2tr), -np.sin(a2tr)]) * self.bar_thc\n",
    "\n",
    "        self.arm1.vertices = np.concatenate((xy01, xy02, xy11, xy12))\n",
    "        self.arm2.vertices = np.concatenate((xy11_, xy12_, xy21, xy22))\n"
   ]
  },
  {
   "cell_type": "code",
   "execution_count": 4,
   "metadata": {},
   "outputs": [
    {
     "ename": "NameError",
     "evalue": "name 'Viewer' is not defined",
     "output_type": "error",
     "traceback": [
      "\u001b[0;31m---------------------------------------------------------------------------\u001b[0m",
      "\u001b[0;31mNameError\u001b[0m                                 Traceback (most recent call last)",
      "\u001b[0;32m<ipython-input-4-3903b6b0b224>\u001b[0m in \u001b[0;36m<module>\u001b[0;34m\u001b[0m\n\u001b[1;32m      2\u001b[0m     \u001b[0menv\u001b[0m \u001b[0;34m=\u001b[0m \u001b[0mArmEnv\u001b[0m\u001b[0;34m(\u001b[0m\u001b[0;34m)\u001b[0m\u001b[0;34m\u001b[0m\u001b[0;34m\u001b[0m\u001b[0m\n\u001b[1;32m      3\u001b[0m     \u001b[0;32mwhile\u001b[0m \u001b[0;32mTrue\u001b[0m\u001b[0;34m:\u001b[0m\u001b[0;34m\u001b[0m\u001b[0;34m\u001b[0m\u001b[0m\n\u001b[0;32m----> 4\u001b[0;31m         \u001b[0menv\u001b[0m\u001b[0;34m.\u001b[0m\u001b[0mrender\u001b[0m\u001b[0;34m(\u001b[0m\u001b[0;34m)\u001b[0m\u001b[0;34m\u001b[0m\u001b[0;34m\u001b[0m\u001b[0m\n\u001b[0m\u001b[1;32m      5\u001b[0m         \u001b[0;31m#env.step(env.sample_action())\u001b[0m\u001b[0;34m\u001b[0m\u001b[0;34m\u001b[0m\u001b[0;34m\u001b[0m\u001b[0m\n",
      "\u001b[0;32m<ipython-input-2-8437ff91722e>\u001b[0m in \u001b[0;36mrender\u001b[0;34m(self)\u001b[0m\n\u001b[1;32m     42\u001b[0m     \u001b[0;32mdef\u001b[0m \u001b[0mrender\u001b[0m\u001b[0;34m(\u001b[0m\u001b[0mself\u001b[0m\u001b[0;34m)\u001b[0m\u001b[0;34m:\u001b[0m\u001b[0;34m\u001b[0m\u001b[0;34m\u001b[0m\u001b[0m\n\u001b[1;32m     43\u001b[0m         \u001b[0;32mif\u001b[0m \u001b[0mself\u001b[0m\u001b[0;34m.\u001b[0m\u001b[0mviewer\u001b[0m \u001b[0;32mis\u001b[0m \u001b[0;32mNone\u001b[0m\u001b[0;34m:\u001b[0m\u001b[0;34m\u001b[0m\u001b[0;34m\u001b[0m\u001b[0m\n\u001b[0;32m---> 44\u001b[0;31m             \u001b[0mself\u001b[0m\u001b[0;34m.\u001b[0m\u001b[0mviewer\u001b[0m \u001b[0;34m=\u001b[0m \u001b[0mViewer\u001b[0m\u001b[0;34m(\u001b[0m\u001b[0mself\u001b[0m\u001b[0;34m.\u001b[0m\u001b[0marm_info\u001b[0m\u001b[0;34m,\u001b[0m \u001b[0mself\u001b[0m\u001b[0;34m.\u001b[0m\u001b[0mgoal\u001b[0m\u001b[0;34m)\u001b[0m\u001b[0;34m\u001b[0m\u001b[0;34m\u001b[0m\u001b[0m\n\u001b[0m\u001b[1;32m     45\u001b[0m         \u001b[0mself\u001b[0m\u001b[0;34m.\u001b[0m\u001b[0mviewer\u001b[0m\u001b[0;34m.\u001b[0m\u001b[0mrender\u001b[0m\u001b[0;34m(\u001b[0m\u001b[0;34m)\u001b[0m\u001b[0;34m\u001b[0m\u001b[0;34m\u001b[0m\u001b[0m\n\u001b[1;32m     46\u001b[0m \u001b[0;34m\u001b[0m\u001b[0m\n",
      "\u001b[0;31mNameError\u001b[0m: name 'Viewer' is not defined"
     ]
    }
   ],
   "source": [
    "if __name__ == '__main__':\n",
    "    env = ArmEnv()\n",
    "    while True:\n",
    "        env.render()\n",
    "        #env.step(env.sample_action())"
   ]
  },
  {
   "cell_type": "code",
   "execution_count": 7,
   "metadata": {},
   "outputs": [
    {
     "name": "stdout",
     "output_type": "stream",
     "text": [
      "[0.03341629]\n",
      "[0.16985617]\n",
      "[-0.36436752]\n",
      "[-0.06954137]\n",
      "[0.20358685]\n"
     ]
    }
   ],
   "source": [
    "for i in range(5):\n",
    "    print(np.random.rand(1)-0.5)"
   ]
  },
  {
   "cell_type": "code",
   "execution_count": 6,
   "metadata": {},
   "outputs": [
    {
     "name": "stdout",
     "output_type": "stream",
     "text": [
      "action :  [0.63924866 0.39260701]\n",
      "action :  [ 0.13924866 -0.10739299]\n"
     ]
    }
   ],
   "source": [
    "action = np.random.rand(2)\n",
    "print(\"action : \", action)\n",
    "\n",
    "action = action - 0.5\n",
    "print(\"action : \", action)"
   ]
  },
  {
   "cell_type": "code",
   "execution_count": 3,
   "metadata": {},
   "outputs": [],
   "source": [
    "action_bound = [-1, 1]\n",
    "dt = 0.1\n"
   ]
  },
  {
   "cell_type": "code",
   "execution_count": 8,
   "metadata": {},
   "outputs": [
    {
     "data": {
      "text/plain": [
       "array([(0., 0.), (0., 0.), (0., 0.)], dtype=[('l', '<f4'), ('r', '<f4')])"
      ]
     },
     "execution_count": 8,
     "metadata": {},
     "output_type": "execute_result"
    }
   ],
   "source": [
    "arm_info = np.zeros(3, dtype=[('l', np.float32), ('r', np.float32)])\n",
    "arm_info"
   ]
  },
  {
   "cell_type": "code",
   "execution_count": 14,
   "metadata": {},
   "outputs": [
    {
     "data": {
      "text/plain": [
       "array([(100., 0.5235988), (100., 0.5235988), (100., 0.5235988)],\n",
       "      dtype=[('l', '<f4'), ('r', '<f4')])"
      ]
     },
     "execution_count": 14,
     "metadata": {},
     "output_type": "execute_result"
    }
   ],
   "source": [
    "arm_info['l'] = 100\n",
    "arm_info['r'] = np.pi/6\n",
    "arm_info"
   ]
  },
  {
   "cell_type": "code",
   "execution_count": 21,
   "metadata": {},
   "outputs": [
    {
     "name": "stdout",
     "output_type": "stream",
     "text": [
      "[0.55198386]\n",
      "action :  [-0.05706867]\n"
     ]
    }
   ],
   "source": [
    "action_ = np.random.rand(1)\n",
    "action_\n",
    "print(action_)\n",
    "action_bound = [-1, 1]\n",
    "action_ = action_-0.5\n",
    "print(\"action : \", action)"
   ]
  },
  {
   "cell_type": "code",
   "execution_count": 22,
   "metadata": {},
   "outputs": [
    {
     "data": {
      "text/plain": [
       "array([0.05198386])"
      ]
     },
     "execution_count": 22,
     "metadata": {},
     "output_type": "execute_result"
    }
   ],
   "source": [
    "action_ = np.clip(action_, *action_bound)\n",
    "action_"
   ]
  },
  {
   "cell_type": "code",
   "execution_count": 77,
   "metadata": {},
   "outputs": [
    {
     "name": "stdout",
     "output_type": "stream",
     "text": [
      "[(0., 0., 0) (0., 0., 0)]\n",
      "[(62., 1.5707964, 0) (62., 1.5707964, 0)]\n",
      "62.0\n"
     ]
    }
   ],
   "source": [
    "ff_info = np.zeros(2, dtype=[('d', np.float32), ('t', np.float32), ('a', np.int)] )\n",
    "print(ff_info)\n",
    "ff_info['t'] = np.pi/2\n",
    "ff_info['d'] = 62\n",
    "print(ff_info)\n",
    "print(ff_info['d'][0])"
   ]
  },
  {
   "cell_type": "code",
   "execution_count": 5,
   "metadata": {},
   "outputs": [],
   "source": [
    "class ff_env(object):\n",
    "\n",
    "    \n",
    "    d2 = 50  # distance from x-axis to right bottom of the object \n",
    "    t2 = np.pi / 2 \n",
    "    t1 = np.pi / 2\n",
    "    d1 = 62 # distance from x-axis to left bottom of the object\n",
    "    \n",
    "    def __init__(self):\n",
    "        self.action_bound = [-1, 1]\n",
    "        self.ff_info = np.zeros(2, dtype=[('f', np.float32), ('t', np.float32)] )\n",
    "        self.ff_info['t'] = np.pi/2\n",
    "        self.ff_info['d'] = 0\n",
    "        \n",
    "        self.w0 = 25   # Object width\n",
    "        self.wp = 50  # \n",
    "        self.fw = 18  # Finger width\n",
    "    \n",
    "    def reset(self):\n",
    "        self.ff_info['t'] = np.pi/2\n",
    "        \n",
    "    def sample_action(self):\n",
    "        return np.random.rand(1)-0.5\n",
    "    \n",
    "    def translateLeft_obj(self,t2, d2):\n",
    "        \n",
    "        # Transformation Matrix\n",
    "        x_square = self.wp + (d2 + self.w0 / 2.) * np.cos(np.float64(t2)) - (self.fw + self.w0 / 2.) * np.sin(np.float64(t2)) \n",
    "        y_square = (d2 + self.w0 / 2.) * np.sin(np.float64(t2)) + (self.fw + self.w0 / 2.) * np.cos(np.float64(t2))\n",
    "\n",
    "        pts = np.array([[-self.w0 / 2., -self.w0 / 2., self.w0 / 2., self.w0 / 2.], [-self.w0 / 2., self.w0 / 2., self.w0 / 2., -self.w0 / 2.], [1, 1, 1, 1]])\n",
    "        R = np.array([[np.cos(t2), -np.sin(t2), x_square], [np.sin(t2), np.cos(t2), y_square], [0, 0, 1]])\n",
    "\n",
    "        # Points after transformation\n",
    "        pts_new = np.dot(R, pts)\n",
    "        \n",
    "        # Plotting the Object\n",
    "        pts = np.transpose([[pts_new[0, :]], [pts_new[1, :]]])\n",
    "        pts = pts.reshape((4, 2))\n",
    "        \"\"\"\n",
    "        print(pts[1][0],pts[1][1], '\\n',        # location\n",
    "              pts[0][0],pts[0][1], '\\n',\n",
    "              pts[3][0],pts[3][1], '\\n',\n",
    "              pts[2][0],pts[2][1]) \n",
    "        \"\"\"\n",
    "        return pts*2.5\n",
    "\n",
    "    def translateLeft_fingers(self,t2, d2):\n",
    "\n",
    "        # Calculate theta2, d2\n",
    "        d2v = np.array([d2 * np.cos(np.float64(t2)), d2 * np.sin(np.float64(t2))])\n",
    "        w0v = np.array([self.w0 * np.sin(np.float64(t2)), -self.w0 * np.cos(np.float64(t2))])\n",
    "        wpv = np.array([self.wp, 0.])\n",
    "        f1v = np.array([self.fw * np.sin(np.float64(t2)), -self.fw * np.cos(np.float64(t2))])\n",
    "        av = d2v - f1v - w0v + wpv\n",
    "        # Calculated Values of theta1, d1\n",
    "        d1 = np.sqrt(float((av * av).sum() - self.fw * self.fw))\n",
    "        t1 = np.arctan2(float(av[1]), float(av[0])) + np.arctan2(self.fw, d1)\n",
    "\n",
    "        l_fw_pts = np.array([[0., 0., self.fw, self.fw], [40, 130, 130, 40], [1.0, 1.0, 1.0, 1.0]])\n",
    "        r_fw_pts = np.array([[0., 0., -self.fw, -self.fw], [40, 130, 130, 40], [1.0, 1.0, 1.0, 1.0]])\n",
    "        # Transformation matrices for the finger width\n",
    "        R_fw1 = [[np.cos(t1 - np.pi / 2.0), -np.sin(t1 - np.pi / 2), 0.0], [np.sin(t1 - np.pi / 2), np.cos(t1 - np.pi / 2), 0.0], [0.0, 0.0, 1.0]]\n",
    "        R_fw2 = [[np.cos(t2 - np.pi / 2), -np.sin(t2 - np.pi / 2), self.wp], [np.sin(t2 - np.pi / 2), np.cos(t2 - np.pi / 2), 0.0], [0.0, 0.0, 1.0]]\n",
    "\n",
    "        # finger Coordinates 1-> Left, 2-> Right\n",
    "        pts_fw1 = np.dot(R_fw1, l_fw_pts)\n",
    "        pts_fw2 = np.dot(R_fw2, r_fw_pts)\n",
    "\n",
    "        # Plotting the fingers\n",
    "        fw_1 = np.transpose([[pts_fw1[0, :]], [pts_fw1[1, :]]]).reshape((4, 2))\n",
    "        fw_2 = np.transpose([[pts_fw2[0, :]], [pts_fw2[1, :]]]).reshape((4, 2))\n",
    "        #print(\"fw_1 :\", fw_1)\n",
    "        #print(\"fw_2 :\", fw_2)\n",
    "        return fw_1*2.5, fw_2*2.5\n",
    "    "
   ]
  },
  {
   "cell_type": "code",
   "execution_count": 6,
   "metadata": {},
   "outputs": [
    {
     "name": "stdout",
     "output_type": "stream",
     "text": [
      "[(0., 1.5707964) (0., 1.5707964)]\n",
      "obj_pos :  [[ 80.  125. ]\n",
      " [ 17.5 125. ]\n",
      " [ 17.5 187.5]\n",
      " [ 80.  187.5]]\n",
      "finger_l :  [[-22.35428248  97.46941087]\n",
      " [-72.65141806 316.77558532]\n",
      " [-28.79018316 326.83501243]\n",
      " [ 21.50695241 107.52883798]]\n",
      "finger_r :  [[125. 100.]\n",
      " [125. 325.]\n",
      " [ 80. 325.]\n",
      " [ 80. 100.]]\n"
     ]
    },
    {
     "data": {
      "text/plain": [
       "'\\nprint(\\'---------------\\')\\nfor i in range(10):\\n    action = ffenv.sample_action()\\n    print(action)\\n    action = np.clip(action, *action_bound)\\n    print(\"clipped action : \", action)\\n    print(\"t2 initial : \", t2)\\n    t2 += action * dt\\n    print(\"t2 changed : \", t2)\\n    obj_pos = ffenv.translateLeft_obj(t2, d2)\\n    print(\"obj_pos : \", obj_pos)\\n    finger_l, finger_r = ffenv.translateLeft_fingers(t2, d2)\\n    print(\"finger_l : \", finger_l)\\n    print(\"finger_r : \", finger_r)\\n'"
      ]
     },
     "execution_count": 6,
     "metadata": {},
     "output_type": "execute_result"
    }
   ],
   "source": [
    "ffenv = ff_env()\n",
    "\n",
    "d2 = 50  # distance from x-axis to right bottom of the object \n",
    "t2 = np.pi / 2 \n",
    "t1 = np.pi / 2\n",
    "d1 = 62 # distance from x-axis to left bottom of the object\n",
    "\n",
    "dt = 0.1\n",
    "\n",
    "\n",
    "print(ffenv.ff_info)\n",
    "\n",
    "obj_pos = ffenv.translateLeft_obj(t2, d2)\n",
    "print(\"obj_pos : \", obj_pos)\n",
    "finger_l, finger_r = ffenv.translateLeft_fingers(t2, d2)\n",
    "print(\"finger_l : \", finger_l)\n",
    "print(\"finger_r : \", finger_r)\n",
    "\n",
    "\"\"\"\n",
    "print('---------------')\n",
    "for i in range(10):\n",
    "    action = ffenv.sample_action()\n",
    "    print(action)\n",
    "    action = np.clip(action, *action_bound)\n",
    "    print(\"clipped action : \", action)\n",
    "    print(\"t2 initial : \", t2)\n",
    "    t2 += action * dt\n",
    "    print(\"t2 changed : \", t2)\n",
    "    obj_pos = ffenv.translateLeft_obj(t2, d2)\n",
    "    print(\"obj_pos : \", obj_pos)\n",
    "    finger_l, finger_r = ffenv.translateLeft_fingers(t2, d2)\n",
    "    print(\"finger_l : \", finger_l)\n",
    "    print(\"finger_r : \", finger_r)\n",
    "\"\"\""
   ]
  },
  {
   "cell_type": "code",
   "execution_count": 7,
   "metadata": {},
   "outputs": [
    {
     "data": {
      "text/plain": [
       "(17.500000000000018, 125.0, 80.00000000000001)"
      ]
     },
     "execution_count": 7,
     "metadata": {},
     "output_type": "execute_result"
    }
   ],
   "source": [
    "obj_pos[1][0], obj_pos[1][1], obj_pos[0][0]"
   ]
  },
  {
   "cell_type": "code",
   "execution_count": 16,
   "metadata": {},
   "outputs": [],
   "source": [
    "w0 = 25   # Object width\n",
    "wp = 50  # \n",
    "fw = 18  # Finger width\n",
    "\n",
    "d2 = 50  # distance from x-axis to right bottom of the object \n",
    "t2 = np.pi / 2 \n",
    "t1 = np.pi / 2\n",
    "d1 = 62 # distance from x-axis to left bottom of the object\n",
    "def translateLeft_obj(t2, d2):\n",
    "\n",
    "    # Transformation Matrix\n",
    "    x_square = wp + (d2 + w0 / 2.) * np.cos(np.float64(t2)) - (fw + w0 / 2.) * np.sin(np.float64(t2)) \n",
    "    y_square = (d2 + w0 / 2.) * np.sin(np.float64(t2)) + (fw + w0 / 2.) * np.cos(np.float64(t2))\n",
    "\n",
    "    pts = np.array([[-w0 / 2., -w0 / 2., w0 / 2., w0 / 2.], [-w0 / 2., w0 / 2., w0 / 2., -w0 / 2.], [1, 1, 1, 1]])\n",
    "    R = np.array([[np.cos(t2), -np.sin(t2), x_square], [np.sin(t2), np.cos(t2), y_square], [0, 0, 1]])\n",
    "\n",
    "    # Points after transformation\n",
    "    pts_new = np.dot(R, pts)\n",
    "\n",
    "    # Plotting the Object\n",
    "    pts = np.transpose([[pts_new[0, :]], [pts_new[1, :]]])\n",
    "    pts = pts.reshape((4, 2))\n",
    "    \"\"\"    print(pts[1][0],pts[1][1], '\\n',        # location\n",
    "          pts[0][0],pts[0][1], '\\n',\n",
    "          pts[3][0],pts[3][1], '\\n',\n",
    "          pts[2][0],pts[2][1]) \n",
    "    \"\"\"\n",
    "    return pts*2.5"
   ]
  },
  {
   "cell_type": "code",
   "execution_count": 19,
   "metadata": {},
   "outputs": [
    {
     "name": "stdout",
     "output_type": "stream",
     "text": [
      "[[ 80.  125. ]\n",
      " [ 17.5 125. ]\n",
      " [ 17.5 187.5]\n",
      " [ 80.  187.5]]\n"
     ]
    }
   ],
   "source": [
    "obj_pos_ = translateLeft_obj(np.pi/2, d2 =50)\n",
    "print(obj_pos_)"
   ]
  },
  {
   "cell_type": "code",
   "execution_count": 25,
   "metadata": {},
   "outputs": [
    {
     "data": {
      "text/plain": [
       "array([ 17.5, 125. ])"
      ]
     },
     "execution_count": 25,
     "metadata": {},
     "output_type": "execute_result"
    }
   ],
   "source": [
    "np.hstack([obj_pos_[1][0], obj_pos_[1][1]]) "
   ]
  },
  {
   "cell_type": "code",
   "execution_count": 20,
   "metadata": {},
   "outputs": [
    {
     "ename": "ValueError",
     "evalue": "zero-dimensional arrays cannot be concatenated",
     "output_type": "error",
     "traceback": [
      "\u001b[0;31m---------------------------------------------------------------------------\u001b[0m",
      "\u001b[0;31mValueError\u001b[0m                                Traceback (most recent call last)",
      "\u001b[0;32m<ipython-input-20-e3cccf48c5ea>\u001b[0m in \u001b[0;36m<module>\u001b[0;34m\u001b[0m\n\u001b[1;32m      2\u001b[0m                          \u001b[0mobj_pos_\u001b[0m\u001b[0;34m[\u001b[0m\u001b[0;36m0\u001b[0m\u001b[0;34m]\u001b[0m\u001b[0;34m[\u001b[0m\u001b[0;36m0\u001b[0m\u001b[0;34m]\u001b[0m\u001b[0;34m,\u001b[0m \u001b[0mobj_pos_\u001b[0m\u001b[0;34m[\u001b[0m\u001b[0;36m0\u001b[0m\u001b[0;34m]\u001b[0m\u001b[0;34m[\u001b[0m\u001b[0;36m1\u001b[0m\u001b[0;34m]\u001b[0m\u001b[0;34m,\u001b[0m\u001b[0;34m\u001b[0m\u001b[0;34m\u001b[0m\u001b[0m\n\u001b[1;32m      3\u001b[0m                          \u001b[0mobj_pos_\u001b[0m\u001b[0;34m[\u001b[0m\u001b[0;36m3\u001b[0m\u001b[0;34m]\u001b[0m\u001b[0;34m[\u001b[0m\u001b[0;36m0\u001b[0m\u001b[0;34m]\u001b[0m\u001b[0;34m,\u001b[0m \u001b[0mobj_pos_\u001b[0m\u001b[0;34m[\u001b[0m\u001b[0;36m3\u001b[0m\u001b[0;34m]\u001b[0m\u001b[0;34m[\u001b[0m\u001b[0;36m1\u001b[0m\u001b[0;34m]\u001b[0m\u001b[0;34m,\u001b[0m\u001b[0;34m\u001b[0m\u001b[0;34m\u001b[0m\u001b[0m\n\u001b[0;32m----> 4\u001b[0;31m                          obj_pos_[2][0], obj_pos_[2][1]))\n\u001b[0m",
      "\u001b[0;32m<__array_function__ internals>\u001b[0m in \u001b[0;36mconcatenate\u001b[0;34m(*args, **kwargs)\u001b[0m\n",
      "\u001b[0;31mValueError\u001b[0m: zero-dimensional arrays cannot be concatenated"
     ]
    }
   ],
   "source": [
    "object = np.concatenate((obj_pos_[1][0], obj_pos_[1][1],         \n",
    "                         obj_pos_[0][0], obj_pos_[0][1],\n",
    "                         obj_pos_[3][0], obj_pos_[3][1],\n",
    "                         obj_pos_[2][0], obj_pos_[2][1]))"
   ]
  },
  {
   "cell_type": "code",
   "execution_count": 26,
   "metadata": {},
   "outputs": [
    {
     "data": {
      "text/plain": [
       "3.141592653589793"
      ]
     },
     "execution_count": 26,
     "metadata": {},
     "output_type": "execute_result"
    }
   ],
   "source": [
    "np.pi"
   ]
  },
  {
   "cell_type": "markdown",
   "metadata": {},
   "source": [
    "Limitations for the finger rotation \n",
    "\n",
    "40 deg : 0.698132 rad\n",
    "\n",
    "140 deg : 2.443 rad"
   ]
  },
  {
   "cell_type": "markdown",
   "metadata": {},
   "source": [
    "# Dual Action \n",
    "\n",
    "1. Complete generalising the environemnt for both the actions\n",
    "\n",
    "Select a random action between 0 and 1 (delta_theta_left and delta_theta_right)\n",
    "\n",
    "Create a common function for getting object positions, finger_right positions and finger_left positions based on action is delta theta_1 (or) delta tehta_2.  \n"
   ]
  },
  {
   "cell_type": "code",
   "execution_count": 3,
   "metadata": {},
   "outputs": [
    {
     "name": "stdout",
     "output_type": "stream",
     "text": [
      "0\n",
      "0\n",
      "1\n",
      "0\n",
      "0\n"
     ]
    }
   ],
   "source": [
    "import random\n",
    "import numpy as np\n",
    "list_ = [0, 1]\n",
    "for i in range(5):\n",
    "    list_i = random.choice(list_) \n",
    "    print(list_i) # Use this for randomly selecting the theta_l or tehta_r"
   ]
  },
  {
   "cell_type": "code",
   "execution_count": 20,
   "metadata": {
    "scrolled": true
   },
   "outputs": [
    {
     "name": "stdout",
     "output_type": "stream",
     "text": [
      "[ 0.0414578  -0.46192004]\n",
      "[0.08062443 0.24403946]\n",
      "[ 0.19787908 -0.12080952]\n",
      "[ 0.46838361 -0.18004187]\n",
      "[-0.49817844  0.02291308]\n",
      "[-0.01931393 -0.38057104]\n",
      "[0.18442163 0.24884824]\n",
      "[-0.19903249 -0.02340453]\n",
      "[-0.09133922  0.00117175]\n",
      "[0.13932665 0.30849224]\n"
     ]
    }
   ],
   "source": [
    "for i in range(10):\n",
    "    action = np.random.rand(2) - 0.5 # Use this for selecting the magnitude of change in tehta_l or theta_r\n",
    "    print(action) "
   ]
  },
  {
   "cell_type": "code",
   "execution_count": 5,
   "metadata": {
    "scrolled": true
   },
   "outputs": [
    {
     "name": "stdout",
     "output_type": "stream",
     "text": [
      "[0.20258222 0.        ]\n"
     ]
    }
   ],
   "source": [
    "list_ = [0, 1]\n",
    "list_i = random.choice(list_) \n",
    "action_i = np.random.rand(1) - 0.5\n",
    "action = np.random.rand(2)\n",
    "if (list_i == 0):\n",
    "    action[0] = action_i\n",
    "    action[1] = 0\n",
    "else:\n",
    "    action[0] = 0\n",
    "    action[1] = action_i\n",
    "\n",
    "print(action)"
   ]
  },
  {
   "cell_type": "code",
   "execution_count": 16,
   "metadata": {},
   "outputs": [
    {
     "name": "stdout",
     "output_type": "stream",
     "text": [
      "Aciton is sliding left\n"
     ]
    }
   ],
   "source": [
    "# Action[0]\n",
    "if (action[0] != 0 and action[1] == 0):\n",
    "    print(\"Aciton is sliding left\")"
   ]
  },
  {
   "cell_type": "code",
   "execution_count": 14,
   "metadata": {},
   "outputs": [
    {
     "name": "stdout",
     "output_type": "stream",
     "text": [
      "[ 0.         -0.21584845]\n",
      "[0.         0.25775574]\n",
      "[-0.17061405  0.        ]\n",
      "[0.05357847 0.        ]\n",
      "[-0.45357418  0.        ]\n",
      "[0.37080079 0.        ]\n",
      "[ 0.         -0.32791881]\n",
      "[ 0.         -0.39942426]\n",
      "[ 0.         -0.11572681]\n",
      "[0.         0.06745553]\n"
     ]
    }
   ],
   "source": [
    "def take_action():\n",
    "    list_ = [0, 1]\n",
    "    list_i = random.choice(list_) \n",
    "    action_i = np.random.rand(1) - 0.5\n",
    "    action = np.random.rand(2)\n",
    "    if (list_i == 0):\n",
    "        action[0] = action_i\n",
    "        action[1] = 0\n",
    "    else:\n",
    "        action[0] = 0\n",
    "        action[1] = action_i\n",
    "\n",
    "    print(action)\n",
    "for i in range(10):\n",
    "    take_action()\n",
    "    "
   ]
  },
  {
   "cell_type": "code",
   "execution_count": 6,
   "metadata": {},
   "outputs": [
    {
     "name": "stdout",
     "output_type": "stream",
     "text": [
      "right\n"
     ]
    }
   ],
   "source": [
    "if (action[0] == 0):\n",
    "    print('left')\n",
    "elif (action[1] == 0):\n",
    "    print('right')"
   ]
  },
  {
   "cell_type": "code",
   "execution_count": 7,
   "metadata": {},
   "outputs": [
    {
     "data": {
      "text/plain": [
       "array([0.20258222, 0.        ])"
      ]
     },
     "execution_count": 7,
     "metadata": {},
     "output_type": "execute_result"
    }
   ],
   "source": [
    "action"
   ]
  },
  {
   "cell_type": "code",
   "execution_count": 8,
   "metadata": {},
   "outputs": [
    {
     "data": {
      "text/plain": [
       "True"
      ]
     },
     "execution_count": 8,
     "metadata": {},
     "output_type": "execute_result"
    }
   ],
   "source": [
    "action[1] == 0"
   ]
  },
  {
   "cell_type": "markdown",
   "metadata": {},
   "source": [
    "# Fixing calc_right_config"
   ]
  },
  {
   "cell_type": "code",
   "execution_count": 1,
   "metadata": {},
   "outputs": [],
   "source": [
    "import numpy as np\n",
    "import pyglet\n",
    "import random\n",
    "import time\n",
    "from pyglet.window import key\n",
    "from math import radians, degrees"
   ]
  },
  {
   "cell_type": "code",
   "execution_count": 2,
   "metadata": {},
   "outputs": [],
   "source": [
    "tl = degrees(100)\n",
    "dl = 100\n",
    "w0 = 25\n",
    "wp = 50\n",
    "fw = 18"
   ]
  },
  {
   "cell_type": "code",
   "execution_count": 3,
   "metadata": {},
   "outputs": [
    {
     "name": "stdout",
     "output_type": "stream",
     "text": [
      "[ 77.31211771 -63.42583429]\n"
     ]
    }
   ],
   "source": [
    "d1v = np.array([dl * np.cos(tl), dl * np.sin(tl)])\n",
    "print(d1v)"
   ]
  },
  {
   "cell_type": "code",
   "execution_count": 4,
   "metadata": {},
   "outputs": [
    {
     "name": "stdout",
     "output_type": "stream",
     "text": [
      "[-15.85645857  19.32802943]\n"
     ]
    }
   ],
   "source": [
    "w0v = np.array([w0 * np.sin(tl), w0 * np.cos(tl)])\n",
    "print(w0v)"
   ]
  },
  {
   "cell_type": "code",
   "execution_count": 5,
   "metadata": {},
   "outputs": [
    {
     "name": "stdout",
     "output_type": "stream",
     "text": [
      "[50.  0.]\n"
     ]
    }
   ],
   "source": [
    "wpv = np.array([wp, 0.])\n",
    "print(wpv)"
   ]
  },
  {
   "cell_type": "code",
   "execution_count": 6,
   "metadata": {},
   "outputs": [
    {
     "name": "stdout",
     "output_type": "stream",
     "text": [
      "[-11.41665017  13.91618119]\n"
     ]
    }
   ],
   "source": [
    "f1v = np.array([fw * np.sin(tl), fw * np.cos(tl)])\n",
    "print(f1v)"
   ]
  },
  {
   "cell_type": "code",
   "execution_count": 7,
   "metadata": {},
   "outputs": [
    {
     "name": "stdout",
     "output_type": "stream",
     "text": [
      "[  0.03900897 -30.18162367]\n"
     ]
    }
   ],
   "source": [
    "av = d1v + w0v + f1v - wpv\n",
    "print(av)"
   ]
  },
  {
   "cell_type": "code",
   "execution_count": 8,
   "metadata": {},
   "outputs": [
    {
     "name": "stdout",
     "output_type": "stream",
     "text": [
      "24.22667804724324\n"
     ]
    }
   ],
   "source": [
    "dr = np.sqrt(float((av * av).sum() - fw * fw))\n",
    "print(dr)"
   ]
  },
  {
   "cell_type": "code",
   "execution_count": 11,
   "metadata": {},
   "outputs": [
    {
     "data": {
      "text/plain": [
       "-1.5695038534225954"
      ]
     },
     "execution_count": 11,
     "metadata": {},
     "output_type": "execute_result"
    }
   ],
   "source": [
    "np.arctan2(float(av[1]), float(av[0])) "
   ]
  },
  {
   "cell_type": "code",
   "execution_count": 12,
   "metadata": {},
   "outputs": [
    {
     "data": {
      "text/plain": [
       "-2.208498671350577"
      ]
     },
     "execution_count": 12,
     "metadata": {},
     "output_type": "execute_result"
    }
   ],
   "source": [
    "np.arctan2(float(av[1]), float(av[0])) - np.arctan2(fw, dr)"
   ]
  },
  {
   "cell_type": "code",
   "execution_count": 9,
   "metadata": {},
   "outputs": [
    {
     "name": "stdout",
     "output_type": "stream",
     "text": [
      "-2.208498671350577\n"
     ]
    }
   ],
   "source": [
    "tr = np.arctan2(float(av[1]), float(av[0])) - np.arctan2(fw, dr)\n",
    "print(tr)"
   ]
  },
  {
   "cell_type": "code",
   "execution_count": 10,
   "metadata": {},
   "outputs": [
    {
     "name": "stdout",
     "output_type": "stream",
     "text": [
      "av : [  0.03900897 -30.18162367]\n",
      "fw : 18\n",
      "dr : 24.22667804724324\n"
     ]
    }
   ],
   "source": [
    "print(\"av :\", av)\n",
    "print(\"fw :\", fw)\n",
    "print(\"dr :\", dr)"
   ]
  },
  {
   "cell_type": "markdown",
   "metadata": {},
   "source": [
    "# Fix negative actions"
   ]
  },
  {
   "cell_type": "code",
   "execution_count": 34,
   "metadata": {},
   "outputs": [
    {
     "name": "stdout",
     "output_type": "stream",
     "text": [
      "[0.30209782 0.        ]\n"
     ]
    }
   ],
   "source": [
    "import random \n",
    "import numpy as np\n",
    "import matplotlib.pyplot as plt\n",
    "list_ = [0, 1]\n",
    "list_i = random.choice(list_) \n",
    "action_i = np.random.rand(1) - 0.5\n",
    "action = np.random.rand(2)\n",
    "if (list_i == 0):\n",
    "    action[0] = action_i\n",
    "    action[1] = 0\n",
    "else:\n",
    "    action[0] = 0\n",
    "    action[1] = action_i\n",
    "\n",
    "print(action)"
   ]
  },
  {
   "cell_type": "code",
   "execution_count": 44,
   "metadata": {
    "scrolled": true
   },
   "outputs": [
    {
     "name": "stdout",
     "output_type": "stream",
     "text": [
      "[-0.06346363 -0.41557861]\n",
      "[-0.02558906 -0.32971497]\n",
      "[-0.05091122 -0.10201371]\n",
      "[-0.7022427  -0.67879989]\n",
      "[-0.0653915 -0.7104958]\n",
      "[-0.59817235 -0.00822872]\n",
      "[-0.4690332  -0.24787626]\n",
      "[-0.35176588 -0.30666973]\n",
      "[-0.21819617 -0.85074031]\n",
      "[-0.26761977 -0.35984928]\n"
     ]
    }
   ],
   "source": [
    "for i in range(10):\n",
    "    action = np.random.rand(2) - 0.9 # Use this for selecting the magnitude of change in tehta_l or theta_r\n",
    "    print(action) "
   ]
  },
  {
   "cell_type": "code",
   "execution_count": 42,
   "metadata": {},
   "outputs": [
    {
     "data": {
      "image/png": "[encoded data removed]",
      "text/plain": [
       "<Figure size 432x288 with 1 Axes>"
      ]
     },
     "metadata": {
      "needs_background": "light"
     },
     "output_type": "display_data"
    }
   ],
   "source": [
    "# Randomly sleecting an action and plotting the randomness\n",
    "list_ = []\n",
    "for i in range(100):\n",
    "    list_.append(np.random.rand(1) - 0.7)\n",
    "    # print( np.random.rand(1) )\n",
    "#print(list_)\n",
    "plt.plot(list_)\n",
    "plt.show()"
   ]
  },
  {
   "cell_type": "code",
   "execution_count": 52,
   "metadata": {},
   "outputs": [
    {
     "name": "stdout",
     "output_type": "stream",
     "text": [
      "[[12.5]\n",
      " [15. ]]\n"
     ]
    }
   ],
   "source": [
    "x = 5\n",
    "y = 6\n",
    "print(np.vstack([x, y])*2.5)"
   ]
  },
  {
   "cell_type": "code",
   "execution_count": 50,
   "metadata": {},
   "outputs": [
    {
     "name": "stdout",
     "output_type": "stream",
     "text": [
      "[5, 6]\n"
     ]
    }
   ],
   "source": [
    "obj_center = [x, y]\n",
    "print(obj_center)"
   ]
  },
  {
   "cell_type": "code",
   "execution_count": 56,
   "metadata": {},
   "outputs": [
    {
     "ename": "TypeError",
     "evalue": "can't multiply sequence by non-int of type 'float'",
     "output_type": "error",
     "traceback": [
      "\u001b[0;31m---------------------------------------\u001b[0m",
      "\u001b[0;31mTypeError\u001b[0mTraceback (most recent call last)",
      "\u001b[0;32m<ipython-input-56-57aef13d8c2b>\u001b[0m in \u001b[0;36m<module>\u001b[0;34m\u001b[0m\n\u001b[0;32m----> 1\u001b[0;31m \u001b[0mobj_center\u001b[0m\u001b[0;34m*\u001b[0m\u001b[0;36m2.5\u001b[0m\u001b[0;34m\u001b[0m\u001b[0;34m\u001b[0m\u001b[0m\n\u001b[0m",
      "\u001b[0;31mTypeError\u001b[0m: can't multiply sequence by non-int of type 'float'"
     ]
    }
   ],
   "source": [
    "obj_center*2.5"
   ]
  },
  {
   "cell_type": "code",
   "execution_count": 60,
   "metadata": {},
   "outputs": [
    {
     "name": "stdout",
     "output_type": "stream",
     "text": [
      "[12.5 15. ]\n"
     ]
    }
   ],
   "source": [
    "d = np.array([x, y])\n",
    "print(d*2.5)"
   ]
  },
  {
   "cell_type": "markdown",
   "metadata": {},
   "source": [
    "# Plot obj_loc"
   ]
  },
  {
   "cell_type": "code",
   "execution_count": 100,
   "metadata": {},
   "outputs": [],
   "source": [
    "import matplotlib.pyplot as plt\n",
    "a1 = np.array([1,1])\n",
    "a2 = np.array([2,2])"
   ]
  },
  {
   "cell_type": "code",
   "execution_count": 101,
   "metadata": {},
   "outputs": [
    {
     "name": "stdout",
     "output_type": "stream",
     "text": [
      "[[1 1]\n",
      " [2 2]]\n"
     ]
    }
   ],
   "source": [
    "a = np.append([a1], [a2], axis=0)\n",
    "print(a)"
   ]
  },
  {
   "cell_type": "code",
   "execution_count": 102,
   "metadata": {},
   "outputs": [
    {
     "name": "stdout",
     "output_type": "stream",
     "text": [
      "[[1 1]\n",
      " [2 2]\n",
      " [3 3]]\n"
     ]
    }
   ],
   "source": [
    "a3 = np.array([3,3])\n",
    "a = np.append(a, [a3], axis= 0)\n",
    "print(a)"
   ]
  },
  {
   "cell_type": "code",
   "execution_count": 103,
   "metadata": {},
   "outputs": [
    {
     "name": "stdout",
     "output_type": "stream",
     "text": [
      "[[1 1]\n",
      " [2 2]\n",
      " [3 3]\n",
      " [4 4]]\n"
     ]
    }
   ],
   "source": [
    "a4 = np.array([4,4])\n",
    "a = np.append(a, [a4], axis=0)\n",
    "print(a)"
   ]
  },
  {
   "cell_type": "code",
   "execution_count": 13,
   "metadata": {},
   "outputs": [],
   "source": [
    "# Working on ff_env_2\n",
    "from ff_env_2 import *"
   ]
  },
  {
   "cell_type": "code",
   "execution_count": 14,
   "metadata": {},
   "outputs": [
    {
     "name": "stdout",
     "output_type": "stream",
     "text": [
      "Initial ff_info :  [(105.      , 1.5707964, 0) (103.682205, 1.4654704, 0)]\n"
     ]
    }
   ],
   "source": [
    "env = FFEnv()"
   ]
  },
  {
   "cell_type": "code",
   "execution_count": 15,
   "metadata": {},
   "outputs": [
    {
     "data": {
      "text/plain": [
       "array([(105.      , 1.5707964, 0), (103.682205, 1.4654704, 0)],\n",
       "      dtype=[('d', '<f4'), ('t', '<f4'), ('a', '<i8')])"
      ]
     },
     "execution_count": 15,
     "metadata": {},
     "output_type": "execute_result"
    }
   ],
   "source": [
    "env.ff_info"
   ]
  },
  {
   "cell_type": "code",
   "execution_count": 16,
   "metadata": {},
   "outputs": [
    {
     "data": {
      "text/plain": [
       "(100.0, 100.0)"
      ]
     },
     "execution_count": 16,
     "metadata": {},
     "output_type": "execute_result"
    }
   ],
   "source": [
    "env.goal['x'], env.goal['y']"
   ]
  },
  {
   "cell_type": "code",
   "execution_count": 26,
   "metadata": {
    "scrolled": false
   },
   "outputs": [
    {
     "ename": "TypeError",
     "evalue": "cannot create mpf from t1_sol",
     "output_type": "error",
     "traceback": [
      "\u001b[0;31m---------------------------------------------------------------------------\u001b[0m",
      "\u001b[0;31mTypeError\u001b[0m                                 Traceback (most recent call last)",
      "\u001b[0;32m<ipython-input-26-7b5782950050>\u001b[0m in \u001b[0;36m<module>\u001b[0;34m\u001b[0m\n\u001b[0;32m----> 1\u001b[0;31m \u001b[0menv\u001b[0m\u001b[0;34m.\u001b[0m\u001b[0mIK_slide_right_f\u001b[0m\u001b[0;34m(\u001b[0m\u001b[0;36m50\u001b[0m\u001b[0;34m,\u001b[0m\u001b[0;36m100\u001b[0m\u001b[0;34m)\u001b[0m\u001b[0;34m\u001b[0m\u001b[0;34m\u001b[0m\u001b[0m\n\u001b[0m",
      "\u001b[0;32m~/singularity/thesis/Friction-Finger-WIHM-DRL/ff_env_2.py\u001b[0m in \u001b[0;36mIK_slide_right_f\u001b[0;34m(self, x, y)\u001b[0m\n\u001b[1;32m    225\u001b[0m     \u001b[0;32mdef\u001b[0m \u001b[0mIK_slide_right_f\u001b[0m\u001b[0;34m(\u001b[0m\u001b[0mself\u001b[0m\u001b[0;34m,\u001b[0m \u001b[0mx\u001b[0m\u001b[0;34m,\u001b[0m \u001b[0my\u001b[0m\u001b[0;34m)\u001b[0m\u001b[0;34m:\u001b[0m\u001b[0;34m\u001b[0m\u001b[0;34m\u001b[0m\u001b[0m\n\u001b[1;32m    226\u001b[0m         \u001b[0mt1_sol\u001b[0m\u001b[0;34m,\u001b[0m \u001b[0md1_sol\u001b[0m \u001b[0;34m=\u001b[0m \u001b[0msymbols\u001b[0m\u001b[0;34m(\u001b[0m\u001b[0;34m't1_sol d1_sol'\u001b[0m\u001b[0;34m)\u001b[0m\u001b[0;34m\u001b[0m\u001b[0;34m\u001b[0m\u001b[0m\n\u001b[0;32m--> 227\u001b[0;31m         \u001b[0meqn1\u001b[0m \u001b[0;34m=\u001b[0m \u001b[0;34m(\u001b[0m\u001b[0md1_sol\u001b[0m \u001b[0;34m+\u001b[0m \u001b[0mself\u001b[0m\u001b[0;34m.\u001b[0m\u001b[0mw0\u001b[0m \u001b[0;34m/\u001b[0m \u001b[0;36m2.\u001b[0m\u001b[0;34m)\u001b[0m \u001b[0;34m*\u001b[0m \u001b[0mcos\u001b[0m\u001b[0;34m(\u001b[0m\u001b[0mt1_sol\u001b[0m\u001b[0;34m)\u001b[0m \u001b[0;34m+\u001b[0m \u001b[0;34m(\u001b[0m\u001b[0mself\u001b[0m\u001b[0;34m.\u001b[0m\u001b[0mfw\u001b[0m \u001b[0;34m+\u001b[0m \u001b[0mself\u001b[0m\u001b[0;34m.\u001b[0m\u001b[0mw0\u001b[0m \u001b[0;34m/\u001b[0m \u001b[0;36m2.\u001b[0m\u001b[0;34m)\u001b[0m \u001b[0;34m*\u001b[0m \u001b[0msin\u001b[0m\u001b[0;34m(\u001b[0m\u001b[0mt1_sol\u001b[0m\u001b[0;34m)\u001b[0m\u001b[0;34m\u001b[0m\u001b[0;34m\u001b[0m\u001b[0m\n\u001b[0m\u001b[1;32m    228\u001b[0m         \u001b[0meqn2\u001b[0m \u001b[0;34m=\u001b[0m \u001b[0;34m(\u001b[0m\u001b[0md1_sol\u001b[0m \u001b[0;34m+\u001b[0m \u001b[0mself\u001b[0m\u001b[0;34m.\u001b[0m\u001b[0mw0\u001b[0m \u001b[0;34m/\u001b[0m \u001b[0;36m2.\u001b[0m\u001b[0;34m)\u001b[0m \u001b[0;34m*\u001b[0m \u001b[0msin\u001b[0m\u001b[0;34m(\u001b[0m\u001b[0mt1_sol\u001b[0m\u001b[0;34m)\u001b[0m \u001b[0;34m-\u001b[0m \u001b[0;34m(\u001b[0m\u001b[0mself\u001b[0m\u001b[0;34m.\u001b[0m\u001b[0mfw\u001b[0m \u001b[0;34m+\u001b[0m \u001b[0mself\u001b[0m\u001b[0;34m.\u001b[0m\u001b[0mw0\u001b[0m \u001b[0;34m/\u001b[0m \u001b[0;36m2.\u001b[0m\u001b[0;34m)\u001b[0m \u001b[0;34m*\u001b[0m \u001b[0mcos\u001b[0m\u001b[0;34m(\u001b[0m\u001b[0mt1_sol\u001b[0m\u001b[0;34m)\u001b[0m\u001b[0;34m\u001b[0m\u001b[0;34m\u001b[0m\u001b[0m\n\u001b[1;32m    229\u001b[0m         \u001b[0meqn3\u001b[0m \u001b[0;34m=\u001b[0m \u001b[0mx\u001b[0m\u001b[0;34m**\u001b[0m\u001b[0;36m2\u001b[0m \u001b[0;34m+\u001b[0m \u001b[0my\u001b[0m\u001b[0;34m**\u001b[0m\u001b[0;36m2\u001b[0m \u001b[0;34m-\u001b[0m \u001b[0meqn1\u001b[0m\u001b[0;34m**\u001b[0m\u001b[0;36m2\u001b[0m \u001b[0;34m-\u001b[0m \u001b[0meqn2\u001b[0m\u001b[0;34m**\u001b[0m\u001b[0;36m2\u001b[0m\u001b[0;34m\u001b[0m\u001b[0;34m\u001b[0m\u001b[0m\n",
      "\u001b[0;32m~/anaconda3/envs/thesis/lib/python3.6/site-packages/mpmath/ctx_mp_python.py\u001b[0m in \u001b[0;36mf\u001b[0;34m(x, **kwargs)\u001b[0m\n\u001b[1;32m   1001\u001b[0m         \u001b[0;32mdef\u001b[0m \u001b[0mf\u001b[0m\u001b[0;34m(\u001b[0m\u001b[0mx\u001b[0m\u001b[0;34m,\u001b[0m \u001b[0;34m**\u001b[0m\u001b[0mkwargs\u001b[0m\u001b[0;34m)\u001b[0m\u001b[0;34m:\u001b[0m\u001b[0;34m\u001b[0m\u001b[0;34m\u001b[0m\u001b[0m\n\u001b[1;32m   1002\u001b[0m             \u001b[0;32mif\u001b[0m \u001b[0mtype\u001b[0m\u001b[0;34m(\u001b[0m\u001b[0mx\u001b[0m\u001b[0;34m)\u001b[0m \u001b[0;32mnot\u001b[0m \u001b[0;32min\u001b[0m \u001b[0mctx\u001b[0m\u001b[0;34m.\u001b[0m\u001b[0mtypes\u001b[0m\u001b[0;34m:\u001b[0m\u001b[0;34m\u001b[0m\u001b[0;34m\u001b[0m\u001b[0m\n\u001b[0;32m-> 1003\u001b[0;31m                 \u001b[0mx\u001b[0m \u001b[0;34m=\u001b[0m \u001b[0mctx\u001b[0m\u001b[0;34m.\u001b[0m\u001b[0mconvert\u001b[0m\u001b[0;34m(\u001b[0m\u001b[0mx\u001b[0m\u001b[0;34m)\u001b[0m\u001b[0;34m\u001b[0m\u001b[0;34m\u001b[0m\u001b[0m\n\u001b[0m\u001b[1;32m   1004\u001b[0m             \u001b[0mprec\u001b[0m\u001b[0;34m,\u001b[0m \u001b[0mrounding\u001b[0m \u001b[0;34m=\u001b[0m \u001b[0mctx\u001b[0m\u001b[0;34m.\u001b[0m\u001b[0m_prec_rounding\u001b[0m\u001b[0;34m\u001b[0m\u001b[0;34m\u001b[0m\u001b[0m\n\u001b[1;32m   1005\u001b[0m             \u001b[0;32mif\u001b[0m \u001b[0mkwargs\u001b[0m\u001b[0;34m:\u001b[0m\u001b[0;34m\u001b[0m\u001b[0;34m\u001b[0m\u001b[0m\n",
      "\u001b[0;32m~/anaconda3/envs/thesis/lib/python3.6/site-packages/mpmath/ctx_mp_python.py\u001b[0m in \u001b[0;36mconvert\u001b[0;34m(ctx, x, strings)\u001b[0m\n\u001b[1;32m    667\u001b[0m             \u001b[0;32mtry\u001b[0m\u001b[0;34m:\u001b[0m \u001b[0;32mreturn\u001b[0m \u001b[0mctx\u001b[0m\u001b[0;34m.\u001b[0m\u001b[0mmake_mpf\u001b[0m\u001b[0;34m(\u001b[0m\u001b[0mfrom_Decimal\u001b[0m\u001b[0;34m(\u001b[0m\u001b[0mx\u001b[0m\u001b[0;34m,\u001b[0m \u001b[0mprec\u001b[0m\u001b[0;34m,\u001b[0m \u001b[0mrounding\u001b[0m\u001b[0;34m)\u001b[0m\u001b[0;34m)\u001b[0m\u001b[0;34m\u001b[0m\u001b[0;34m\u001b[0m\u001b[0m\n\u001b[1;32m    668\u001b[0m             \u001b[0;32mexcept\u001b[0m\u001b[0;34m:\u001b[0m \u001b[0;32mpass\u001b[0m\u001b[0;34m\u001b[0m\u001b[0;34m\u001b[0m\u001b[0m\n\u001b[0;32m--> 669\u001b[0;31m         \u001b[0;32mreturn\u001b[0m \u001b[0mctx\u001b[0m\u001b[0;34m.\u001b[0m\u001b[0m_convert_fallback\u001b[0m\u001b[0;34m(\u001b[0m\u001b[0mx\u001b[0m\u001b[0;34m,\u001b[0m \u001b[0mstrings\u001b[0m\u001b[0;34m)\u001b[0m\u001b[0;34m\u001b[0m\u001b[0;34m\u001b[0m\u001b[0m\n\u001b[0m\u001b[1;32m    670\u001b[0m \u001b[0;34m\u001b[0m\u001b[0m\n\u001b[1;32m    671\u001b[0m     \u001b[0;32mdef\u001b[0m \u001b[0mnpconvert\u001b[0m\u001b[0;34m(\u001b[0m\u001b[0mctx\u001b[0m\u001b[0;34m,\u001b[0m \u001b[0mx\u001b[0m\u001b[0;34m)\u001b[0m\u001b[0;34m:\u001b[0m\u001b[0;34m\u001b[0m\u001b[0;34m\u001b[0m\u001b[0m\n",
      "\u001b[0;32m~/anaconda3/envs/thesis/lib/python3.6/site-packages/mpmath/ctx_mp.py\u001b[0m in \u001b[0;36m_convert_fallback\u001b[0;34m(ctx, x, strings)\u001b[0m\n\u001b[1;32m    632\u001b[0m             \u001b[0;32melse\u001b[0m\u001b[0;34m:\u001b[0m\u001b[0;34m\u001b[0m\u001b[0;34m\u001b[0m\u001b[0m\n\u001b[1;32m    633\u001b[0m                 \u001b[0;32mraise\u001b[0m \u001b[0mValueError\u001b[0m\u001b[0;34m(\u001b[0m\u001b[0;34m\"can only create mpf from zero-width interval\"\u001b[0m\u001b[0;34m)\u001b[0m\u001b[0;34m\u001b[0m\u001b[0;34m\u001b[0m\u001b[0m\n\u001b[0;32m--> 634\u001b[0;31m         \u001b[0;32mraise\u001b[0m \u001b[0mTypeError\u001b[0m\u001b[0;34m(\u001b[0m\u001b[0;34m\"cannot create mpf from \"\u001b[0m \u001b[0;34m+\u001b[0m \u001b[0mrepr\u001b[0m\u001b[0;34m(\u001b[0m\u001b[0mx\u001b[0m\u001b[0;34m)\u001b[0m\u001b[0;34m)\u001b[0m\u001b[0;34m\u001b[0m\u001b[0;34m\u001b[0m\u001b[0m\n\u001b[0m\u001b[1;32m    635\u001b[0m \u001b[0;34m\u001b[0m\u001b[0m\n\u001b[1;32m    636\u001b[0m     \u001b[0;32mdef\u001b[0m \u001b[0mmpmathify\u001b[0m\u001b[0;34m(\u001b[0m\u001b[0mctx\u001b[0m\u001b[0;34m,\u001b[0m \u001b[0;34m*\u001b[0m\u001b[0margs\u001b[0m\u001b[0;34m,\u001b[0m \u001b[0;34m**\u001b[0m\u001b[0mkwargs\u001b[0m\u001b[0;34m)\u001b[0m\u001b[0;34m:\u001b[0m\u001b[0;34m\u001b[0m\u001b[0;34m\u001b[0m\u001b[0m\n",
      "\u001b[0;31mTypeError\u001b[0m: cannot create mpf from t1_sol"
     ]
    }
   ],
   "source": [
    "env.IK_slide_right_f(50,100)"
   ]
  },
  {
   "cell_type": "markdown",
   "metadata": {},
   "source": [
    "# Designing a Function for selecting Goal Points "
   ]
  },
  {
   "cell_type": "code",
   "execution_count": 141,
   "metadata": {},
   "outputs": [],
   "source": [
    "import numpy as np\n",
    "%matplotlib inline\n",
    "import matplotlib.pyplot as plt"
   ]
  },
  {
   "cell_type": "code",
   "execution_count": 143,
   "metadata": {},
   "outputs": [
    {
     "name": "stdout",
     "output_type": "stream",
     "text": [
      "x_r :  [ 215.  131. -114.   -4.   80.  105.  -43.  209.  -96.   13.   87.  106.\n",
      " -110.  157. -113.  -87.   17.  211.  104.   87.   30.  162.   36.  -12.\n",
      "   -4.  126.   86.  125.  192.  202.    7.   11.   64.  -25.  105.   98.\n",
      "   22.  -61.  -27.  139.  -34.  107.  128. -116. -109.  236.  109.  102.\n",
      "  165.   97.]\n",
      "y_r :  [239. 170. 222. 184. 240. 220. 263. 143. 153. 143. 216. 254. 171. 264.\n",
      " 240. 156. 123. 278. 203. 197. 256. 176. 249. 256. 159. 230. 269. 162.\n",
      " 277. 224. 283. 253. 214. 178. 197. 263. 257. 215. 273. 252. 232. 263.\n",
      " 277. 124. 251. 258. 187. 212. 235. 270.]\n"
     ]
    }
   ],
   "source": [
    "# Randomly selecting X - Co-ordinates within limits\n",
    "x_r = np.random.randint(-137.71, 243.11, size=50).astype(\"float64\")\n",
    "print('x_r : ', x_r)\n",
    "\n",
    "# Randomly selecting Y - Co-ordinates within limits\n",
    "y_r = np.random.randint(118.67, 284.80, size=50).astype(\"float64\")\n",
    "print('y_r : ', y_r)"
   ]
  },
  {
   "cell_type": "code",
   "execution_count": 268,
   "metadata": {},
   "outputs": [
    {
     "name": "stdout",
     "output_type": "stream",
     "text": [
      "[243.11, 112.96, -22.8, -137.71, 45.107, 76.249, 243.11] [210.22, 129.67, 118.67, 215.09, 284.509, 281.25, 210.22]\n"
     ]
    }
   ],
   "source": [
    "# Defining Points from A - D \n",
    "D_x, D_y = (-137.71, 215.09)\n",
    "E_x, E_y = (45.107, 284.509)\n",
    "F_x, F_y = (76.249, 281.25)\n",
    "A_x, A_y = (243.11, 210.22)\n",
    "B_x, B_y = (112.96, 129.67)\n",
    "C_x, C_y = (-22.80, 118.67)\n",
    "\n",
    "# Splitting x and y\n",
    "x = [A_x, B_x, C_x, D_x, E_x, F_x, A_x]\n",
    "y = [A_y, B_y, C_y, D_y, E_y, F_y, A_y]\n",
    "print(x, y)"
   ]
  },
  {
   "cell_type": "code",
   "execution_count": 269,
   "metadata": {},
   "outputs": [
    {
     "data": {
      "image/png": "[encoded data removed]",
      "text/plain": [
       "<Figure size 432x288 with 1 Axes>"
      ]
     },
     "metadata": {
      "needs_background": "light"
     },
     "output_type": "display_data"
    }
   ],
   "source": [
    "# Plotting all the points from A-E\n",
    "# And Dividing the whole plotting into 6 sections\n",
    "\n",
    "# Plotting lines acros points\n",
    "plt.plot(x, y, linewidth=3)\n",
    "\n",
    "# Plotting a scatter points \n",
    "plt.plot(x_r, y_r, 'x', color='red')\n",
    "\n",
    "# Plotting Section line-1 across point D \n",
    "plt.plot([D_x, D_x], [110, 290], linestyle='dotted', linewidth=1, color='blue')\n",
    "\n",
    "# Plotting Section line-2 across point C\n",
    "plt.plot([C_x, C_x], [110, 290], linestyle='dotted', linewidth=1, color='blue')\n",
    "\n",
    "# Plotting Section line-3 across point E\n",
    "plt.plot([E_x, E_x], [110, 290], linestyle='dotted', linewidth=1, color='blue')\n",
    "\n",
    "# Plotting Section line-4 across point F\n",
    "plt.plot([F_x, F_x], [110, 290], linestyle='dotted', linewidth=1, color='blue')\n",
    "\n",
    "# Plotting Section line-5 across point B\n",
    "plt.plot([B_x, B_x], [110, 290], linestyle='dotted', linewidth=1, color='blue')\n",
    "\n",
    "# Plotting Section line-6 across point A\n",
    "plt.plot([A_x, A_x], [110, 290], linestyle='dotted', linewidth=1, color='blue')\n",
    "\n",
    "# Set title 1\n",
    "plt.title(\"Goal Positions Mapping\")\n",
    "\n",
    "# Set X-label\n",
    "plt.xlabel(\"X-Axis\", fontsize=10)\n",
    "\n",
    "# Set Y-label\n",
    "plt.ylabel(\"Y-Axis\", fontsize=10)\n",
    "\n",
    "# Display plot\n",
    "plt.show()"
   ]
  },
  {
   "cell_type": "code",
   "execution_count": 199,
   "metadata": {},
   "outputs": [
    {
     "name": "stdout",
     "output_type": "stream",
     "text": [
      "section :  5\n"
     ]
    }
   ],
   "source": [
    "def check_point_section():\n",
    "    # Setting limits for all the goal positions\n",
    "    # Divide the whole plotting into 6 parts\n",
    "\n",
    "    # 1. Randomly generate a point\n",
    "    # Randomly selecting X - Co-ordinates within limits\n",
    "    x_1 = np.random.randint(-137.71, 243.11, size=1).astype(\"float64\")\n",
    "    print('x_1 : ', x_1)\n",
    "\n",
    "    # Randomly selecting Y - Co-ordinates within limits\n",
    "    y_1 = np.random.randint(118.67, 284.80, size=1).astype(\"float64\")\n",
    "    print('y_1 : ', y_1)\n",
    "\n",
    "    # Printing Point \n",
    "    print(\"(x_1, y_1) : \", \"(\", x_1, \", \", y_1, \")\")\n",
    "\n",
    "    # Define a section variable\n",
    "    section = None\n",
    "\n",
    "    # Then sort it based on the section \n",
    "    if (-137.70 < x_1 < -22.80):\n",
    "        section = 1\n",
    "        print(\"Section - I\")\n",
    "    elif (-22.80 < x_1 < 45.07):\n",
    "        section = 2\n",
    "        print(\"Section - II\")\n",
    "    elif (45.07 < x_1 < 76.249):\n",
    "        section = 3\n",
    "        print(\"Section - III\")\n",
    "    elif (76.249 < x_1 < 112.96):\n",
    "        section = 4\n",
    "        print(\"Section - IV\")\n",
    "    elif (112.96 < x_1 < 243.11):\n",
    "        section = 5\n",
    "        print(\"Section - V\")\n",
    "    else:\n",
    "        print(\"Not in any section\")\n",
    "    return section\n",
    "print(\"section : \", section)"
   ]
  },
  {
   "cell_type": "code",
   "execution_count": 200,
   "metadata": {},
   "outputs": [
    {
     "name": "stdout",
     "output_type": "stream",
     "text": [
      "x_1 :  [-7.]\n",
      "y_1 :  [169.]\n",
      "(x_1, y_1) :  ( [-7.] ,  [169.] )\n",
      "Section - II\n",
      "------------------\n",
      "x_1 :  [83.]\n",
      "y_1 :  [175.]\n",
      "(x_1, y_1) :  ( [83.] ,  [175.] )\n",
      "Section - IV\n",
      "------------------\n",
      "x_1 :  [207.]\n",
      "y_1 :  [229.]\n",
      "(x_1, y_1) :  ( [207.] ,  [229.] )\n",
      "Section - V\n",
      "------------------\n",
      "x_1 :  [26.]\n",
      "y_1 :  [182.]\n",
      "(x_1, y_1) :  ( [26.] ,  [182.] )\n",
      "Section - II\n",
      "------------------\n",
      "x_1 :  [-11.]\n",
      "y_1 :  [229.]\n",
      "(x_1, y_1) :  ( [-11.] ,  [229.] )\n",
      "Section - II\n",
      "------------------\n",
      "x_1 :  [-47.]\n",
      "y_1 :  [247.]\n",
      "(x_1, y_1) :  ( [-47.] ,  [247.] )\n",
      "Section - I\n",
      "------------------\n",
      "x_1 :  [101.]\n",
      "y_1 :  [142.]\n",
      "(x_1, y_1) :  ( [101.] ,  [142.] )\n",
      "Section - IV\n",
      "------------------\n",
      "x_1 :  [-20.]\n",
      "y_1 :  [262.]\n",
      "(x_1, y_1) :  ( [-20.] ,  [262.] )\n",
      "Section - II\n",
      "------------------\n",
      "x_1 :  [-34.]\n",
      "y_1 :  [144.]\n",
      "(x_1, y_1) :  ( [-34.] ,  [144.] )\n",
      "Section - I\n",
      "------------------\n",
      "x_1 :  [171.]\n",
      "y_1 :  [152.]\n",
      "(x_1, y_1) :  ( [171.] ,  [152.] )\n",
      "Section - V\n",
      "------------------\n"
     ]
    }
   ],
   "source": [
    "for i in range(10):\n",
    "    check_point_section()\n",
    "    print(\"------------------\")"
   ]
  },
  {
   "cell_type": "code",
   "execution_count": 223,
   "metadata": {},
   "outputs": [],
   "source": [
    "def slope(x1, y1, x2, y2):\n",
    "    m = float(float((y2 - y1))/float((x2 - x1)))\n",
    "    return m"
   ]
  },
  {
   "cell_type": "markdown",
   "metadata": {},
   "source": [
    "# In that section is that point lies in the limits of that section then pass "
   ]
  },
  {
   "cell_type": "code",
   "execution_count": 291,
   "metadata": {},
   "outputs": [
    {
     "name": "stdout",
     "output_type": "stream",
     "text": [
      "m_pd : -0.020370370370370264\n",
      "m_cd : -0.839091462883996\n",
      "m_de : 0.3797185163305382\n",
      "m_pd : -0.25401616200954147\n",
      "Yes It is inside the limits\n"
     ]
    },
    {
     "data": {
      "image/png": "[encoded data removed]",
      "text/plain": [
       "<Figure size 432x288 with 1 Axes>"
      ]
     },
     "metadata": {
      "needs_background": "light"
     },
     "output_type": "display_data"
    }
   ],
   "source": [
    "# Section 1\n",
    "# if (section == 1):\n",
    "\n",
    "# Randomly selecting X - Co-ordinates within Section 1\n",
    "x_s1_p = np.random.randint(-137.70, -22.80, size=1).astype(\"float64\")\n",
    "# Randomly selecting X - Co-ordinates within Section 1\n",
    "y_s1_p = np.random.randint( 118.67,  284.80, size=1).astype(\"float64\")\n",
    "\n",
    "# Plotting\n",
    "x_s1 = [C_x, D_x, E_x]\n",
    "y_s1 = [C_y, D_y, E_y]\n",
    "\n",
    "# Plotting a scatter points \n",
    "plt.plot(x_s1_p, y_s1_p, 'x', color='red')\n",
    "\n",
    "# Plotting lines acros points\n",
    "plt.plot(x_s1, y_s1, linewidth=3)\n",
    "\n",
    "# Plotting Section line-1 across point D \n",
    "plt.plot([D_x, D_x], [110, 290], linestyle='dotted', linewidth=1, color='blue')\n",
    "\n",
    "# Plotting Section line-2 across point C\n",
    "plt.plot([C_x, C_x], [110, 290], linestyle='dotted', linewidth=1, color='blue')\n",
    "\n",
    "# Slope of point P and point C\n",
    "m_pd = slope(C_x, C_y, x_s1_p, y_s1_p)\n",
    "print(\"m_pd :\", m_pc)\n",
    "\n",
    "# Slope of line CD\n",
    "m_cd = slope(C_x, C_y, D_x, D_y)\n",
    "print(\"m_cd :\", m_cd)\n",
    "\n",
    "# Slope of line DE\n",
    "m_de = slope(D_x, D_y, E_x, E_y)\n",
    "print(\"m_de :\", m_de)\n",
    "\n",
    "# Slope of point P and point D\n",
    "m_pd = slope(D_x, D_y, x_s1_p, y_s1_p)\n",
    "print(\"m_pd :\", m_pd)\n",
    "\n",
    "#print(\"C : \", C_x, C_y)\n",
    "#print(\"D : \", D_x, D_y)\n",
    "#print(\"P : \", x_s1_p, y_s1_p)\n",
    "\n",
    "if (m_pd > m_cd and m_pd < m_de):\n",
    "    print(\"Yes It is inside the limits\")\n",
    "else:\n",
    "    print(\"No it is outside the limits\")\n",
    "\n",
    "# Else if point is killed generate a new point and check the limits"
   ]
  },
  {
   "cell_type": "code",
   "execution_count": 317,
   "metadata": {},
   "outputs": [
    {
     "name": "stdout",
     "output_type": "stream",
     "text": [
      "y_s2_p :  [-4.] [195.]\n",
      "m_cb : 0.08102533883323502\n",
      "m_de : 0.3797185163305382\n",
      "m_pc : 4.060106382978723\n",
      "m_pd : -0.1502505422182335\n",
      "Yes It is inside the limits\n"
     ]
    },
    {
     "data": {
      "image/png": "[encoded data removed]",
      "text/plain": [
       "<Figure size 432x288 with 1 Axes>"
      ]
     },
     "metadata": {
      "needs_background": "light"
     },
     "output_type": "display_data"
    }
   ],
   "source": [
    "# Section 2\n",
    "\n",
    "#if (section == 2):\n",
    "\n",
    "# Randomly selecting X - Co-ordinates within Section 1\n",
    "x_s2_p = np.random.randint(-22.80, 45.107, size=1).astype(\"float64\")\n",
    "# Randomly selecting X - Co-ordinates within Section 1\n",
    "y_s2_p = np.random.randint( 118.67,  284.80, size=1).astype(\"float64\")\n",
    "\n",
    "print(\"y_s2_p : \", x_s2_p, y_s2_p)\n",
    "\n",
    "# Plotting\n",
    "x_s2 = [B_x, C_x, D_x, E_x]\n",
    "y_s2 = [B_y, C_y, D_y, E_y]\n",
    "\n",
    "# Plotting a scatter points \n",
    "plt.plot(x_s2_p, y_s2_p, 'x', color='red')\n",
    "\n",
    "# Plotting lines acros points\n",
    "plt.plot(x_s2, y_s2, linewidth=3)\n",
    "\n",
    "# Plotting Section line-2 across point C\n",
    "plt.plot([C_x, C_x], [110, 290], linestyle='dotted', linewidth=1, color='blue')\n",
    "\n",
    "# Plotting Section line-3 across point E\n",
    "plt.plot([E_x, E_x], [110, 290], linestyle='dotted', linewidth=1, color='blue')\n",
    "\n",
    "# Slope of line CB\n",
    "m_cb = slope(C_x, C_y, B_x, B_y)\n",
    "print(\"m_cb :\", m_cb)\n",
    "\n",
    "# Slope of line DE\n",
    "m_de = slope(D_x, D_y, E_x, E_y)\n",
    "print(\"m_de :\", m_de)\n",
    "\n",
    "# Slope of point P and point C\n",
    "m_pc = slope(C_x, C_y, x_s2_p, y_s2_p)\n",
    "print(\"m_pc :\", m_pc)\n",
    "\n",
    "# Slope of point P and point D\n",
    "m_pd = slope(D_x, D_y, x_s2_p, y_s2_p)\n",
    "print(\"m_pd :\", m_pd)\n",
    "\n",
    "if (m_pc > m_cb and m_pd < m_de):\n",
    "    print(\"Yes It is inside the limits\")\n",
    "else:\n",
    "    print(\"No it is outside the limits\")    "
   ]
  },
  {
   "cell_type": "code",
   "execution_count": 335,
   "metadata": {},
   "outputs": [
    {
     "name": "stdout",
     "output_type": "stream",
     "text": [
      "s3_p :  [-4.] [195.]\n",
      "m_cb : 0.08102533883323502\n",
      "m_fe : -0.1046496692569525\n",
      "m_pc : 0.32097625329815305\n",
      "m_pe : -17.928417585202077\n",
      "Yes It is inside the limits\n"
     ]
    },
    {
     "data": {
      "image/png": "[encoded data removed]",
      "text/plain": [
       "<Figure size 432x288 with 1 Axes>"
      ]
     },
     "metadata": {
      "needs_background": "light"
     },
     "output_type": "display_data"
    }
   ],
   "source": [
    "# Section 3\n",
    "\n",
    "# Randomly selecting X - Co-ordinates within Section 3\n",
    "x_s3_p = np.random.randint(45.107, 76.249, size=1).astype(\"float64\")\n",
    "# Randomly selecting X - Co-ordinates within Section 3\n",
    "y_s3_p = np.random.randint( 118.67,  284.80, size=1).astype(\"float64\")\n",
    "\n",
    "print(\"s3_p : \", x_s3_p, y_s3_p)\n",
    "\n",
    "# Plotting\n",
    "x_s3 = [B_x, C_x, D_x, E_x, F_x]\n",
    "y_s3 = [B_y, C_y, D_y, E_y, F_y]\n",
    "\n",
    "# Plotting a scatter points \n",
    "plt.plot(x_s3_p, y_s3_p, 'x', color='red')\n",
    "\n",
    "# Plotting lines acros points\n",
    "plt.plot(x_s3, y_s3, linewidth=3)\n",
    "\n",
    "# Plotting Section line-3 across point E\n",
    "plt.plot([E_x, E_x], [110, 290], linestyle='dotted', linewidth=1, color='blue')\n",
    "\n",
    "# Plotting Section line-4 across point F\n",
    "plt.plot([F_x, F_x], [110, 290], linestyle='dotted', linewidth=1, color='blue')\n",
    "\n",
    "# Slope of line CB\n",
    "m_cb = slope(C_x, C_y, B_x, B_y)\n",
    "print(\"m_cb :\", m_cb)\n",
    "\n",
    "# Slope of line FE\n",
    "m_fe = slope(F_x, F_y, E_x, E_y)\n",
    "print(\"m_fe :\", m_fe)\n",
    "\n",
    "# Slope of point P and point C\n",
    "m_pc = slope(C_x, C_y, x_s3_p, y_s3_p)\n",
    "print(\"m_pc :\", m_pc)\n",
    "\n",
    "# Slope of point P and point E\n",
    "m_pe = slope(E_x, E_y, x_s3_p, y_s3_p)\n",
    "print(\"m_pe :\", m_pe)\n",
    "\n",
    "if (m_pc > m_cb and m_pe < m_fe):\n",
    "    print(\"Yes It is inside the limits\")\n",
    "else:\n",
    "    print(\"No it is outside the limits\")    "
   ]
  },
  {
   "cell_type": "code",
   "execution_count": 363,
   "metadata": {},
   "outputs": [
    {
     "name": "stdout",
     "output_type": "stream",
     "text": [
      "s4_p :  [103.] [128.]\n",
      "m_cb : 0.08102533883323502\n",
      "m_fa : -0.4256836528607643\n",
      "m_pf : -5.728757803446599\n",
      "m_pc : 0.07416534181240063\n",
      "No it is outside the limits\n"
     ]
    },
    {
     "data": {
      "image/png": "[encoded data removed]",
      "text/plain": [
       "<Figure size 432x288 with 1 Axes>"
      ]
     },
     "metadata": {
      "needs_background": "light"
     },
     "output_type": "display_data"
    }
   ],
   "source": [
    "# Section 4\n",
    "\n",
    "# Randomly selecting X - Co-ordinates within Section 4\n",
    "x_s4_p = np.random.randint(76.249, 112.96, size=1).astype(\"float64\")\n",
    "# Randomly selecting X - Co-ordinates within Section 4\n",
    "y_s4_p = np.random.randint( 118.67,  284.80, size=1).astype(\"float64\")\n",
    "\n",
    "print(\"s4_p : \", x_s4_p, y_s4_p)\n",
    "\n",
    "# Plotting\n",
    "x_s4 = [F_x, A_x, B_x, C_x]\n",
    "y_s4 = [F_y, A_y, B_y, C_y]\n",
    "\n",
    "# Plotting a scatter points \n",
    "plt.plot(x_s4_p, y_s4_p, 'x', color='red')\n",
    "\n",
    "# Plotting lines acros points\n",
    "plt.plot(x_s4, y_s4, linewidth=3)\n",
    "\n",
    "# Plotting Section line-4 across point F\n",
    "plt.plot([F_x, F_x], [110, 290], linestyle='dotted', linewidth=1, color='blue')\n",
    "\n",
    "# Plotting Section line-5 across point B\n",
    "plt.plot([B_x, B_x], [110, 290], linestyle='dotted', linewidth=1, color='blue')\n",
    "\n",
    "# Slope of line CB\n",
    "m_cb = slope(C_x, C_y, B_x, B_y)\n",
    "print(\"m_cb :\", m_cb)\n",
    "\n",
    "# Slope of line FA\n",
    "m_fa = slope(F_x, F_y, A_x, A_y)\n",
    "print(\"m_fa :\", m_fa)\n",
    "\n",
    "# Slope of point P and point F\n",
    "m_pf = slope(F_x, F_y, x_s4_p, y_s4_p)\n",
    "print(\"m_pf :\", m_pf)\n",
    "\n",
    "# Slope of point P and point C\n",
    "m_pc = slope(C_x, C_y, x_s4_p, y_s4_p)\n",
    "print(\"m_pc :\", m_pc)\n",
    "\n",
    "if (m_pc > m_cb and m_pf < m_fa):\n",
    "    print(\"Yes It is inside the limits\")\n",
    "else:\n",
    "    print(\"No it is outside the limits\")    "
   ]
  },
  {
   "cell_type": "code",
   "execution_count": 382,
   "metadata": {},
   "outputs": [
    {
     "name": "stdout",
     "output_type": "stream",
     "text": [
      "s5_p :  [127.] [159.]\n",
      "m_ab : 0.61890126776796\n",
      "m_fa : -0.4256836528607643\n",
      "m_pf : -2.4088195306496423\n",
      "m_pb : 2.089031339031339\n",
      "Yes It is inside the limits\n"
     ]
    },
    {
     "data": {
      "image/png": "[encoded data removed]",
      "text/plain": [
       "<Figure size 432x288 with 1 Axes>"
      ]
     },
     "metadata": {
      "needs_background": "light"
     },
     "output_type": "display_data"
    }
   ],
   "source": [
    "# Secion 5\n",
    "\n",
    "# Randomly selecting X - Co-ordinates within Section 5\n",
    "x_s5_p = np.random.randint(112.96, 243.11, size=1).astype(\"float64\")\n",
    "# Randomly selecting X - Co-ordinates within Section 5\n",
    "y_s5_p = np.random.randint( 118.67,  284.80, size=1).astype(\"float64\")\n",
    "\n",
    "print(\"s5_p : \", x_s5_p, y_s5_p)\n",
    "\n",
    "# Plotting\n",
    "x_s5 = [F_x, A_x, B_x, C_x]\n",
    "y_s5 = [F_y, A_y, B_y, C_y]\n",
    "\n",
    "# Plotting a scatter points \n",
    "plt.plot(x_s5_p, y_s5_p, 'x', color='red')\n",
    "\n",
    "# Plotting lines acros points\n",
    "plt.plot(x_s5, y_s5, linewidth=3)\n",
    "\n",
    "\n",
    "# Plotting Section line-5 across point B\n",
    "plt.plot([B_x, B_x], [110, 290], linestyle='dotted', linewidth=1, color='blue')\n",
    "\n",
    "# Plotting Section line-6 across point A\n",
    "plt.plot([A_x, A_x], [110, 290], linestyle='dotted', linewidth=1, color='blue')\n",
    "\n",
    "# Slope of line AB\n",
    "m_ab = slope(A_x, A_y, B_x, B_y)\n",
    "print(\"m_ab :\", m_ab)\n",
    "\n",
    "# Slope of line FA\n",
    "m_fa = slope(F_x, F_y, A_x, A_y)\n",
    "print(\"m_fa :\", m_fa)\n",
    "\n",
    "# Slope of point P and point F\n",
    "m_pf = slope(F_x, F_y, x_s5_p, y_s5_p)\n",
    "print(\"m_pf :\", m_pf)\n",
    "\n",
    "# Slope of point P and point B\n",
    "m_pb = slope(B_x, B_y, x_s5_p, y_s5_p)\n",
    "print(\"m_pb :\", m_pb)\n",
    "\n",
    "if (m_pf < m_fa and m_pb > m_ab):\n",
    "    print(\"Yes It is inside the limits\")\n",
    "else:\n",
    "    print(\"No it is outside the limits\")   "
   ]
  },
  {
   "cell_type": "code",
   "execution_count": 391,
   "metadata": {},
   "outputs": [
    {
     "name": "stdout",
     "output_type": "stream",
     "text": [
      "x_g :  [94.]\n",
      "y_g :  [209.]\n",
      "Section - IV\n",
      "m_cb : 0.08102533883323502\n",
      "m_fa : -0.4256836528607643\n",
      "m_gf : -4.070193228550503\n",
      "m_gc : 0.7733732876712329\n",
      "Yes It is inside the Section IV limits\n"
     ]
    },
    {
     "data": {
      "text/plain": [
       "[<matplotlib.lines.Line2D at 0x7f8572f71320>]"
      ]
     },
     "execution_count": 391,
     "metadata": {},
     "output_type": "execute_result"
    },
    {
     "data": {
      "image/png": "[encoded data removed]",
      "text/plain": [
       "<Figure size 432x288 with 1 Axes>"
      ]
     },
     "metadata": {
      "needs_background": "light"
     },
     "output_type": "display_data"
    }
   ],
   "source": [
    "# Genrealized Goal function\n",
    "\n",
    "# Randomly selecting X - Co-ordinates of goal within limits\n",
    "x_g = np.random.randint(-137.71, 243.11, size=1).astype(\"float64\")\n",
    "print('x_g : ', x_g)\n",
    "\n",
    "# Randomly selecting Y - Co-ordinates of goal within limits\n",
    "y_g = np.random.randint(118.67, 284.80, size=1).astype(\"float64\")\n",
    "print('y_g : ', y_g)\n",
    "\n",
    "# Splitting x and y\n",
    "x = [A_x, B_x, C_x, D_x, E_x, F_x, A_x]\n",
    "y = [A_y, B_y, C_y, D_y, E_y, F_y, A_y]\n",
    "\n",
    "# Plotting lines acros points\n",
    "plt.plot(x, y, linewidth=3)\n",
    "\n",
    "# Plotting a scatter points \n",
    "plt.plot(x_g, y_g, 'x', color='red')\n",
    "\n",
    "# Then sort it based on the section \n",
    "if (-137.70 < x_g < -22.80):\n",
    "    section = 1\n",
    "    print(\"Section - I\")\n",
    "elif (-22.80 <= x_g < 45.07):\n",
    "    section = 2\n",
    "    print(\"Section - II\")\n",
    "elif (45.07 <= x_g < 76.249):\n",
    "    section = 3\n",
    "    print(\"Section - III\")\n",
    "elif (76.249 <= x_g < 112.96):\n",
    "    section = 4\n",
    "    print(\"Section - IV\")\n",
    "elif (112.96 <= x_g < 243.11):\n",
    "    section = 5\n",
    "    print(\"Section - V\")\n",
    "else:\n",
    "    print(\"Not in any section\")\n",
    "    \n",
    "if (section == 1):\n",
    "\n",
    "    # Slope of point G and point C\n",
    "    m_gc = slope(C_x, C_y, x_g, y_g)\n",
    "    print(\"m_gc :\", m_gc)\n",
    "\n",
    "    # Slope of line CD\n",
    "    m_cd = slope(C_x, C_y, D_x, D_y)\n",
    "    print(\"m_cd :\", m_cd)\n",
    "\n",
    "    # Slope of line DE\n",
    "    m_de = slope(D_x, D_y, E_x, E_y)\n",
    "    print(\"m_de :\", m_de)\n",
    "\n",
    "    # Slope of point G and point D\n",
    "    m_gd = slope(D_x, D_y, x_g, y_g)\n",
    "    print(\"m_gd :\", m_gd)\n",
    "\n",
    "    #print(\"C : \", C_x, C_y)\n",
    "    #print(\"D : \", D_x, D_y)\n",
    "    #print(\"P : \", x_g, y_g)\n",
    "\n",
    "    if (m_gd > m_cd and m_gd < m_de):\n",
    "        print(\"Yes It is inside the Section- I limits\")\n",
    "    else:\n",
    "        print(\"No it is outside the Section- I limits\")\n",
    "\n",
    "elif (section == 2):\n",
    "\n",
    "    # Slope of line CB\n",
    "    m_cb = slope(C_x, C_y, B_x, B_y)\n",
    "    print(\"m_cb :\", m_cb)\n",
    "\n",
    "    # Slope of line DE\n",
    "    m_de = slope(D_x, D_y, E_x, E_y)\n",
    "    print(\"m_de :\", m_de)\n",
    "\n",
    "    # Slope of point G and point C\n",
    "    m_gc = slope(C_x, C_y, x_g, y_g)\n",
    "    print(\"m_gc :\", m_gc)\n",
    "\n",
    "    # Slope of point G and point D\n",
    "    m_gd = slope(D_x, D_y, x_g, y_g)\n",
    "    print(\"m_gd :\", m_gd)\n",
    "\n",
    "    if (m_gc > m_cb and m_gd < m_de):\n",
    "        print(\"Yes It is inside the Section- II limits\")\n",
    "    else:\n",
    "        print(\"No it is outside the Section- II limits\")    \n",
    "\n",
    "elif (section == 3):\n",
    "    # Slope of line CB\n",
    "    m_cb = slope(C_x, C_y, B_x, B_y)\n",
    "    print(\"m_cb :\", m_cb)\n",
    "\n",
    "    # Slope of line FE\n",
    "    m_fe = slope(F_x, F_y, E_x, E_y)\n",
    "    print(\"m_fe :\", m_fe)\n",
    "\n",
    "    # Slope of point G and point C\n",
    "    m_gc = slope(C_x, C_y, x_g, y_g)\n",
    "    print(\"m_gc :\", m_gc)\n",
    "\n",
    "    # Slope of point G and point E\n",
    "    m_ge = slope(E_x, E_y, x_g, y_g)\n",
    "    print(\"m_ge :\", m_ge)\n",
    "\n",
    "    if (m_gc > m_cb and m_ge < m_fe):\n",
    "        print(\"Yes It is inside the Section III limits\")\n",
    "    else:\n",
    "        print(\"No it is outside the Section III limits\") \n",
    "    \n",
    "elif (section == 4):\n",
    "    # Slope of line CB\n",
    "    m_cb = slope(C_x, C_y, B_x, B_y)\n",
    "    print(\"m_cb :\", m_cb)\n",
    "\n",
    "    # Slope of line FA\n",
    "    m_fa = slope(F_x, F_y, A_x, A_y)\n",
    "    print(\"m_fa :\", m_fa)\n",
    "\n",
    "    # Slope of point G and point F\n",
    "    m_gf = slope(F_x, F_y, x_g, y_g)\n",
    "    print(\"m_gf :\", m_gf)\n",
    "\n",
    "    # Slope of point G and point C\n",
    "    m_gc = slope(C_x, C_y, x_g, y_g)\n",
    "    print(\"m_gc :\", m_gc)\n",
    "\n",
    "    if (m_gc > m_cb and m_gf < m_fa):\n",
    "        print(\"Yes It is inside the Section IV limits\")\n",
    "    else:\n",
    "        print(\"No it is outside the Section IV limits\") \n",
    "\n",
    "elif (sectoin == 5):\n",
    "\n",
    "\n",
    "# Plotting Section line-1 across point D \n",
    "plt.plot([D_x, D_x], [110, 290], linestyle='dotted', linewidth=1, color='blue')\n",
    "\n",
    "# Plotting Section line-2 across point C\n",
    "plt.plot([C_x, C_x], [110, 290], linestyle='dotted', linewidth=1, color='blue')\n",
    "\n",
    "# Plotting Section line-3 across point E\n",
    "plt.plot([E_x, E_x], [110, 290], linestyle='dotted', linewidth=1, color='blue')\n",
    "\n",
    "# Plotting Section line-4 across point F\n",
    "plt.plot([F_x, F_x], [110, 290], linestyle='dotted', linewidth=1, color='blue')\n",
    "\n",
    "# Plotting Section line-5 across point B\n",
    "plt.plot([B_x, B_x], [110, 290], linestyle='dotted', linewidth=1, color='blue')\n",
    "\n",
    "# Plotting Section line-6 across point A\n",
    "plt.plot([A_x, A_x], [110, 290], linestyle='dotted', linewidth=1, color='blue')\n",
    "\n",
    "    "
   ]
  },
  {
   "cell_type": "code",
   "execution_count": null,
   "metadata": {},
   "outputs": [],
   "source": []
  }
 ],
 "metadata": {
  "kernelspec": {
   "display_name": "Python 3",
   "language": "python",
   "name": "python3"
  },
  "language_info": {
   "codemirror_mode": {
    "name": "ipython",
    "version": 3
   },
   "file_extension": ".py",
   "mimetype": "text/x-python",
   "name": "python",
   "nbconvert_exporter": "python",
   "pygments_lexer": "ipython3",
   "version": "3.6.9"
  }
 },
 "nbformat": 4,
 "nbformat_minor": 2
}
