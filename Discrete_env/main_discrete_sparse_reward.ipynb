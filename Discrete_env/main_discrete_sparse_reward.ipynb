{
 "cells": [
  {
   "cell_type": "markdown",
   "metadata": {},
   "source": [
    "# 1. Import the Necessary Package"
   ]
  },
  {
   "cell_type": "code",
   "execution_count": 1,
   "metadata": {},
   "outputs": [],
   "source": [
    "import gym\n",
    "import random\n",
    "import torch\n",
    "import numpy as np\n",
    "import matplotlib.pyplot as plt\n",
    "from collections import deque\n",
    "import matplotlib.pyplot as plt\n",
    "%matplotlib inline"
   ]
  },
  {
   "cell_type": "markdown",
   "metadata": {},
   "source": [
    "# 2. Instantiate the Environment "
   ]
  },
  {
   "cell_type": "code",
   "execution_count": 2,
   "metadata": {},
   "outputs": [
    {
     "name": "stdout",
     "output_type": "stream",
     "text": [
      "Initial ff_info :  [(35.      , 1.5707964, 0) (30.822073, 1.2396224, 0)]\n",
      "State size : 7\n",
      "Action size :  5\n"
     ]
    }
   ],
   "source": [
    "from ff_env_discrete_sparse import FFEnv, Viewer  # Environemnt\n",
    "\n",
    "env = FFEnv()\n",
    "print(\"State size :\", env.state_size)\n",
    "print(\"Action size : \", env.action_size)"
   ]
  },
  {
   "cell_type": "markdown",
   "metadata": {},
   "source": [
    "# 3. Instantiate the Agent"
   ]
  },
  {
   "cell_type": "code",
   "execution_count": 3,
   "metadata": {},
   "outputs": [],
   "source": [
    "from dqn_agent import Agent\n",
    "\n",
    "agent = Agent(state_size=7, action_size=5, seed=0)"
   ]
  },
  {
   "cell_type": "markdown",
   "metadata": {},
   "source": [
    "# 4. Train the Agent with DQN"
   ]
  },
  {
   "cell_type": "code",
   "execution_count": 4,
   "metadata": {
    "scrolled": true
   },
   "outputs": [
    {
     "name": "stdout",
     "output_type": "stream",
     "text": [
      "Episode 100\tAverage Score: -435.80\n",
      "Episode 200\tAverage Score: -279.89\n",
      "Episode 300\tAverage Score: -441.62\n",
      "Episode 400\tAverage Score: -72.981\n",
      "Episode 500\tAverage Score: -85.88\n",
      "Episode 600\tAverage Score: -79.87\n",
      "Episode 700\tAverage Score: -76.59\n",
      "Episode 800\tAverage Score: -78.41\n",
      "Episode 900\tAverage Score: -86.22\n",
      "Episode 1000\tAverage Score: -66.88\n"
     ]
    }
   ],
   "source": [
    "def dqn(n_episodes=1000, max_t=1000, eps_start=1.0, eps_end=0.01, eps_decay=0.995):\n",
    "    \"\"\"Deep Q-Learning.\n",
    "    \n",
    "    Params\n",
    "    ======\n",
    "        n_episodes (int): maximum number of training episodes\n",
    "        max_t (int): maximum number of timesteps per episode\n",
    "        eps_start (float): starting value of epsilon, for epsilon-greedy action selection\n",
    "        eps_end (float): minimum value of epsilon\n",
    "        eps_decay (float): multiplicative factor (per episode) for decreasing epsilon\n",
    "    \"\"\"\n",
    "    scores = []                        # list containing scores from each episode\n",
    "    scores_window = deque(maxlen=100)  # last 100 scores\n",
    "    eps = eps_start                    # initialize epsilon\n",
    "    for i_episode in range(1, n_episodes+1):\n",
    "        state = env.reset()\n",
    "        score = 0\n",
    "        for t in range(max_t):\n",
    "            action = agent.act(state, eps)\n",
    "            next_state, reward, done = env.step(action)\n",
    "            agent.step(state, action, reward, next_state, done)\n",
    "            state = next_state\n",
    "            score += reward\n",
    "            if done:\n",
    "                break \n",
    "        scores_window.append(score)       # save most recent score\n",
    "        scores.append(score)              # save most recent score\n",
    "        eps = max(eps_end, eps_decay*eps) # decrease epsilon\n",
    "        print('\\rEpisode {}\\tAverage Score: {:.2f}'.format(i_episode, np.mean(scores_window)), end=\"\")\n",
    "        if i_episode % 100 == 0:\n",
    "            print('\\rEpisode {}\\tAverage Score: {:.2f}'.format(i_episode, np.mean(scores_window)))\n",
    "            torch.save(agent.qnetwork_local.state_dict(), 'checkpoint_sparse_reward.pth')\n",
    "        if i_episode >= n_episodes:\n",
    "            torch.save(agent.qnetwork_local.state_dict(), 'checkpoint_sparse_reward.pth')\n",
    "            break\n",
    "            \n",
    "    return scores\n",
    "\n",
    "scores = dqn()"
   ]
  },
  {
   "cell_type": "code",
   "execution_count": 5,
   "metadata": {},
   "outputs": [
    {
     "data": {
      "image/png": "[encoded data removed]",
      "text/plain": [
       "<Figure size 432x288 with 1 Axes>"
      ]
     },
     "metadata": {
      "needs_background": "light"
     },
     "output_type": "display_data"
    }
   ],
   "source": [
    "# plot the scores\n",
    "fig = plt.figure()\n",
    "ax = fig.add_subplot(111)\n",
    "plt.plot(np.arange(len(scores)), scores)\n",
    "plt.ylabel('Score')\n",
    "plt.xlabel('Episode #')\n",
    "plt.show()"
   ]
  },
  {
   "cell_type": "markdown",
   "metadata": {},
   "source": [
    "# 5. Evaluate"
   ]
  },
  {
   "cell_type": "code",
   "execution_count": 6,
   "metadata": {
    "scrolled": true
   },
   "outputs": [
    {
     "name": "stdout",
     "output_type": "stream",
     "text": [
      "goal pos :  388 228\n",
      "obj_center :  276.2499948092726 118.75000333299337 | goal :  {'x': 388, 'y': 228, 'w': 25}\n",
      "tl : 90.00000250447816  | tr : 71.02512910334661  | dl : 35.0 | dr : 30.822073\n",
      "obj_center :  281.97903465113876 138.52970447450616 | goal :  {'x': 388, 'y': 228, 'w': 25}\n",
      "tl : 87.65814237394507  | tr : 70.45217185463092  | dl : 44.205524 | dr : 30.822073\n",
      "obj_center :  283.35125736826984 138.96979619992976 | goal :  {'x': 388, 'y': 228, 'w': 25}\n",
      "tl : 87.11457542922794  | tr : 69.87921460591524  | dl : 44.695766 | dr : 30.822073\n",
      "obj_center :  284.7250567566931 139.39957395065505 | goal :  {'x': 388, 'y': 228, 'w': 25}\n",
      "tl : 86.57669803208944  | tr : 69.30625735719954  | dl : 45.183987 | dr : 30.822073\n",
      "obj_center :  286.100504562419 139.8189636312418 | goal :  {'x': 388, 'y': 228, 'w': 25}\n",
      "tl : 86.04431893723279  | tr : 68.73330010848386  | dl : 45.6702 | dr : 30.822073\n",
      "obj_center :  287.4776194869719 140.22787779666032 | goal :  {'x': 388, 'y': 228, 'w': 25}\n",
      "tl : 85.51726738992876  | tr : 68.16034285976816  | dl : 46.15442 | dr : 30.822073\n",
      "obj_center :  288.8564500435794 140.6262664112313 | goal :  {'x': 388, 'y': 228, 'w': 25}\n",
      "tl : 84.99537263544808  | tr : 67.58738561105248  | dl : 46.63666 | dr : 30.822073\n",
      "obj_center :  290.2370132239128 141.01406421819092 | goal :  {'x': 388, 'y': 228, 'w': 25}\n",
      "tl : 84.47847757943985  | tr : 67.01442836233679  | dl : 47.11694 | dr : 30.822073\n",
      "obj_center :  291.61934662576897 141.39118069178267 | goal :  {'x': 388, 'y': 228, 'w': 25}\n",
      "tl : 83.966418297364  | tr : 66.44147111362109  | dl : 47.59527 | dr : 30.822073\n",
      "obj_center :  293.0034716384116 141.75753407552747 | goal :  {'x': 388, 'y': 228, 'w': 25}\n",
      "tl : 83.45904452505877  | tr : 65.86851386490541  | dl : 48.07165 | dr : 30.822073\n",
      "obj_center :  294.38936712873505 142.11308844301016 | goal :  {'x': 388, 'y': 228, 'w': 25}\n",
      "tl : 82.95622648892994  | tr : 65.29555661618971  | dl : 48.54611 | dr : 30.822073\n",
      "obj_center :  295.7770723771412 142.45774474261907 | goal :  {'x': 388, 'y': 228, 'w': 25}\n",
      "tl : 82.45781392481578  | tr : 64.72259936747403  | dl : 49.01864 | dr : 30.822073\n",
      "obj_center :  297.1665410805508 142.79145773296477 | goal :  {'x': 388, 'y': 228, 'w': 25}\n",
      "tl : 81.96369071950038  | tr : 64.14964211875834  | dl : 49.489258 | dr : 30.822073\n",
      "obj_center :  298.5578179080899 143.1141441029871 | goal :  {'x': 388, 'y': 228, 'w': 25}\n",
      "tl : 81.47371343901116  | tr : 63.57668487004265  | dl : 49.957973 | dr : 30.822073\n",
      "obj_center :  299.9508595881912 143.4257459361379 | goal :  {'x': 388, 'y': 228, 'w': 25}\n",
      "tl : 80.98777280032144  | tr : 63.00372762132696  | dl : 50.42479 | dr : 30.822073\n",
      "obj_center :  301.3456509229138 143.72620427604318 | goal :  {'x': 388, 'y': 228, 'w': 25}\n",
      "tl : 80.5057526902153  | tr : 62.43077037261127  | dl : 50.889713 | dr : 30.822073\n",
      "obj_center :  302.742172074942 144.01543104312907 | goal :  {'x': 388, 'y': 228, 'w': 25}\n",
      "tl : 80.02753699547686  | tr : 61.85781312389558  | dl : 51.35275 | dr : 30.822073\n",
      "obj_center :  304.140410139687 144.29336962568414 | goal :  {'x': 388, 'y': 228, 'w': 25}\n",
      "tl : 79.55301643307939  | tr : 61.28485587517989  | dl : 51.813904 | dr : 30.822073\n",
      "obj_center :  305.5403132248483 144.55996245373854 | goal :  {'x': 388, 'y': 228, 'w': 25}\n",
      "tl : 79.08209538037453  | tr : 60.7118986264642  | dl : 52.27318 | dr : 30.822073\n",
      "obj_center :  306.9418583127293 144.81516907093692 | goal :  {'x': 388, 'y': 228, 'w': 25}\n",
      "tl : 78.6146713845247  | tr : 60.13894137774851  | dl : 52.730583 | dr : 30.822073\n",
      "obj_center :  308.34500084850436 145.0588942213176 | goal :  {'x': 388, 'y': 228, 'w': 25}\n",
      "tl : 78.15064882288155  | tr : 59.56598412903282  | dl : 53.186115 | dr : 30.822073\n",
      "obj_center :  309.74971266474 145.29108999019172 | goal :  {'x': 388, 'y': 228, 'w': 25}\n",
      "tl : 77.68993207279668  | tr : 58.99302688031713  | dl : 53.63978 | dr : 30.822073\n",
      "obj_center :  311.1559324410463 145.51172090591479 | goal :  {'x': 388, 'y': 228, 'w': 25}\n",
      "tl : 77.23243917200006  | tr : 58.42006963160144  | dl : 54.09158 | dr : 30.822073\n",
      "obj_center :  312.5636335250572 145.7206907627119 | goal :  {'x': 388, 'y': 228, 'w': 25}\n",
      "tl : 76.77807449784329  | tr : 57.847112382885754  | dl : 54.541515 | dr : 30.822073\n",
      "obj_center :  313.97272818951507 145.91797512011908 | goal :  {'x': 388, 'y': 228, 'w': 25}\n",
      "tl : 76.3267697484347  | tr : 57.274155134170066  | dl : 54.989586 | dr : 30.822073\n",
      "obj_center :  315.38318680611695 146.10350645536812 | goal :  {'x': 388, 'y': 228, 'w': 25}\n",
      "tl : 75.87843613131507  | tr : 56.70119788545437  | dl : 55.435795 | dr : 30.822073\n",
      "obj_center :  316.79494957093254 146.27723981222005 | goal :  {'x': 388, 'y': 228, 'w': 25}\n",
      "tl : 75.43299851440351  | tr : 56.12824063673868  | dl : 55.880146 | dr : 30.822073\n",
      "obj_center :  318.2079491397326 146.4390989556523 | goal :  {'x': 388, 'y': 228, 'w': 25}\n",
      "tl : 74.99038176561918  | tr : 55.55528338802299  | dl : 56.32263 | dr : 30.822073\n",
      "obj_center :  319.62214146264955 146.58905899800402 | goal :  {'x': 388, 'y': 228, 'w': 25}\n",
      "tl : 74.55051075288118  | tr : 54.982326139307304  | dl : 56.76326 | dr : 30.822073\n",
      "obj_center :  321.0374181806637 146.72706562105589 | goal :  {'x': 388, 'y': 228, 'w': 25}\n",
      "tl : 74.11333083467618  | tr : 54.409368890591615  | dl : 57.202023 | dr : 30.822073\n",
      "obj_center :  322.4537522686194 146.85305475380346 | goal :  {'x': 388, 'y': 228, 'w': 25}\n",
      "tl : 73.67876004873412  | tr : 53.83641164187593  | dl : 57.638924 | dr : 30.822073\n",
      "obj_center :  323.8710514637364 146.96701283221444 | goal :  {'x': 388, 'y': 228, 'w': 25}\n",
      "tl : 73.24674375354164  | tr : 53.26345439316024  | dl : 58.073963 | dr : 30.822073\n",
      "obj_center :  322.3952126038114 148.19834948429786 | goal :  {'x': 388, 'y': 228, 'w': 25}\n",
      "tl : 73.81970100225733  | tr : 56.4052048075827  | dl : 58.073963 | dr : 40.615463\n",
      "obj_center :  332.3250724089081 164.70930919550824 | goal :  {'x': 388, 'y': 228, 'w': 25}\n",
      "tl : 72.37734946465822  | tr : 55.83224755886701  | dl : 66.31626 | dr : 40.615463\n",
      "obj_center :  333.92575902912256 164.71860612624596 | goal :  {'x': 388, 'y': 228, 'w': 25}\n",
      "tl : 71.93633098013967  | tr : 55.25929031015132  | dl : 66.750755 | dr : 40.615463\n",
      "obj_center :  335.52640303742294 164.71380827361486 | goal :  {'x': 388, 'y': 228, 'w': 25}\n",
      "tl : 71.4975732882364  | tr : 54.68633306143563  | dl : 67.18336 | dr : 40.615463\n",
      "obj_center :  333.8725208168387 166.06082259704976 | goal :  {'x': 388, 'y': 228, 'w': 25}\n",
      "tl : 72.07053053695209  | tr : 56.859873425157524  | dl : 67.18336 | dr : 48.777203\n",
      "obj_center :  343.001897213187 180.4355035998151 | goal :  {'x': 388, 'y': 228, 'w': 25}\n",
      "tl : 70.94278434271294  | tr : 56.286916176441835  | dl : 74.395294 | dr : 48.777203\n",
      "obj_center :  344.7633396674951 180.33477694716566 | goal :  {'x': 388, 'y': 228, 'w': 25}\n",
      "tl : 70.49660223518185  | tr : 55.713958927726146  | dl : 74.82742 | dr : 48.777203\n",
      "obj_center :  346.5236737167794 180.21822903375437 | goal :  {'x': 388, 'y': 228, 'w': 25}\n",
      "tl : 70.05249650515846  | tr : 55.14100167901046  | dl : 75.25761 | dr : 48.777203\n",
      "obj_center :  344.71419728875674 181.67442245322036 | goal :  {'x': 388, 'y': 228, 'w': 25}\n",
      "tl : 70.62545375387415  | tr : 56.869514237170996  | dl : 75.25761 | dr : 55.996464\n",
      "obj_center :  353.4099687826483 194.557398532379 | goal :  {'x': 388, 'y': 228, 'w': 25}\n",
      "tl : 69.66776560958998  | tr : 56.29655698845531  | dl : 81.79582 | dr : 55.996464\n",
      "obj_center :  355.3153880174682 194.34990696408022 | goal :  {'x': 388, 'y': 228, 'w': 25}\n",
      "tl : 69.21746489798937  | tr : 55.72359973973962  | dl : 82.22545 | dr : 55.996464\n",
      "obj_center :  357.2186970059613 194.12503509134012 | goal :  {'x': 388, 'y': 228, 'w': 25}\n",
      "tl : 68.76908346954555  | tr : 55.15064249102393  | dl : 82.65308 | dr : 55.996464\n",
      "obj_center :  359.1197803951934 193.8827586891523 | goal :  {'x': 388, 'y': 228, 'w': 25}\n",
      "tl : 68.32257351293431  | tr : 54.57768524230824  | dl : 83.07871 | dr : 55.996464\n",
      "obj_center :  361.01851392478125 193.62306602438252 | goal :  {'x': 388, 'y': 228, 'w': 25}\n",
      "tl : 67.8779008772098  | tr : 54.004727993592546  | dl : 83.50233 | dr : 55.996464\n",
      "obj_center :  359.0742680217687 195.2235460231634 | goal :  {'x': 388, 'y': 228, 'w': 25}\n",
      "tl : 68.45085812592549  | tr : 55.513031837817294  | dl : 83.50233 | dr : 62.69899\n",
      "obj_center :  367.8497630478637 207.03465370043205 | goal :  {'x': 388, 'y': 228, 'w': 25}\n",
      "tl : 67.59101244150175  | tr : 54.940074589101606  | dl : 89.655045 | dr : 62.69899\n"
     ]
    },
    {
     "name": "stdout",
     "output_type": "stream",
     "text": [
      "obj_center :  369.88238703519073 206.68350597271 | goal :  {'x': 388, 'y': 228, 'w': 25}\n",
      "tl : 67.14073222046866  | tr : 54.36711734038592  | dl : 90.077995 | dr : 62.69899\n",
      "obj_center :  371.91155479208817 206.31355461170529 | goal :  {'x': 388, 'y': 228, 'w': 25}\n",
      "tl : 66.69218003729559  | tr : 53.79416009167023  | dl : 90.49888 | dr : 62.69899\n",
      "obj_center :  373.93716158174357 205.92481635265813 | goal :  {'x': 388, 'y': 228, 'w': 25}\n",
      "tl : 66.2453149108475  | tr : 53.22120284295453  | dl : 90.91768 | dr : 62.69899\n",
      "obj_center :  371.8692511403617 207.65385726234626 | goal :  {'x': 388, 'y': 228, 'w': 25}\n",
      "tl : 66.8182721595632  | tr : 54.57667095921649  | dl : 90.91768 | dr : 68.98724\n",
      "obj_center :  380.6432201735777 218.57435894873106 | goal :  {'x': 388, 'y': 228, 'w': 25}\n",
      "tl : 66.02651663097531  | tr : 54.003713710500804  | dl : 96.74663 | dr : 68.98724\n"
     ]
    }
   ],
   "source": [
    "# load the weights from file\n",
    "agent.qnetwork_local.load_state_dict(torch.load('checkpoint_sparse_reward.pth', map_location='cpu'))\n",
    "import time\n",
    "for i in range(1):\n",
    "    state = env.reset()\n",
    "    for j in range(200):\n",
    "        action = agent.act(state)\n",
    "        env.render()\n",
    "        state, reward, done = env.step(action)\n",
    "        time.sleep(0.1)\n",
    "        if done:\n",
    "            break \n",
    "path_x, path_y = env.viewer.return_path()      \n",
    "\n",
    "#env.close()"
   ]
  },
  {
   "cell_type": "code",
   "execution_count": 7,
   "metadata": {
    "scrolled": true
   },
   "outputs": [
    {
     "data": {
      "image/png": "[encoded data removed]",
      "text/plain": [
       "<Figure size 432x288 with 1 Axes>"
      ]
     },
     "metadata": {
      "needs_background": "light"
     },
     "output_type": "display_data"
    }
   ],
   "source": [
    "plt.scatter(path_x, path_y)\n",
    "plt.show()"
   ]
  }
 ],
 "metadata": {
  "kernelspec": {
   "display_name": "Python 3",
   "language": "python",
   "name": "python3"
  },
  "language_info": {
   "codemirror_mode": {
    "name": "ipython",
    "version": 3
   },
   "file_extension": ".py",
   "mimetype": "text/x-python",
   "name": "python",
   "nbconvert_exporter": "python",
   "pygments_lexer": "ipython3",
   "version": "3.6.9"
  }
 },
 "nbformat": 4,
 "nbformat_minor": 2
}
