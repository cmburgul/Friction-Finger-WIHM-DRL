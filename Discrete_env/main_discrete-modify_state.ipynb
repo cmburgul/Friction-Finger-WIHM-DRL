{
 "cells": [
  {
   "cell_type": "markdown",
   "metadata": {},
   "source": [
    "# 1. Import the Necessary Package"
   ]
  },
  {
   "cell_type": "code",
   "execution_count": 1,
   "metadata": {},
   "outputs": [],
   "source": [
    "import gym\n",
    "import random\n",
    "import torch\n",
    "import numpy as np\n",
    "import matplotlib.pyplot as plt\n",
    "from collections import deque\n",
    "import matplotlib.pyplot as plt\n",
    "%matplotlib inline"
   ]
  },
  {
   "cell_type": "markdown",
   "metadata": {},
   "source": [
    "# 2. Instantiate the Environment "
   ]
  },
  {
   "cell_type": "code",
   "execution_count": 2,
   "metadata": {},
   "outputs": [
    {
     "name": "stdout",
     "output_type": "stream",
     "text": [
      "State size : 7\n",
      "Action size :  5\n"
     ]
    }
   ],
   "source": [
    "from ff_env_discrete_modify_state import FFEnv, Viewer  # Environemnt\n",
    "\n",
    "env = FFEnv()\n",
    "print(\"State size :\", env.state_size)\n",
    "print(\"Action size : \", env.action_size)"
   ]
  },
  {
   "cell_type": "markdown",
   "metadata": {},
   "source": [
    "# 3. Instantiate the Agent"
   ]
  },
  {
   "cell_type": "code",
   "execution_count": 3,
   "metadata": {},
   "outputs": [],
   "source": [
    "from dqn_agent import Agent\n",
    "\n",
    "agent = Agent(state_size=7, action_size=5, seed=0)"
   ]
  },
  {
   "cell_type": "markdown",
   "metadata": {},
   "source": [
    "# 4. Train the Agent with DQN"
   ]
  },
  {
   "cell_type": "code",
   "execution_count": 4,
   "metadata": {
    "scrolled": true
   },
   "outputs": [
    {
     "name": "stdout",
     "output_type": "stream",
     "text": [
      "Episode 100\tAverage Score: -81.42\n",
      "Episode 200\tAverage Score: -58.73\n",
      "Episode 300\tAverage Score: -28.22\n",
      "Episode 400\tAverage Score: -27.26\n",
      "Episode 500\tAverage Score: -30.64\n",
      "Episode 600\tAverage Score: -42.12\n",
      "Episode 700\tAverage Score: -45.86\n",
      "Episode 800\tAverage Score: -35.82\n",
      "Episode 900\tAverage Score: -25.65\n",
      "Episode 1000\tAverage Score: -24.52\n"
     ]
    }
   ],
   "source": [
    "def dqn(n_episodes=1000, max_t=1000, eps_start=1.0, eps_end=0.01, eps_decay=0.995):\n",
    "    \"\"\"Deep Q-Learning.\n",
    "    \n",
    "    Params\n",
    "    ======\n",
    "        n_episodes (int): maximum number of training episodes\n",
    "        max_t (int): maximum number of timesteps per episode\n",
    "        eps_start (float): starting value of epsilon, for epsilon-greedy action selection\n",
    "        eps_end (float): minimum value of epsilon\n",
    "        eps_decay (float): multiplicative factor (per episode) for decreasing epsilon\n",
    "    \"\"\"\n",
    "    scores = []                        # list containing scores from each episode\n",
    "    scores_window = deque(maxlen=100)  # last 100 scores\n",
    "    eps = eps_start                    # initialize epsilon\n",
    "    for i_episode in range(1, n_episodes+1):\n",
    "        state = env.reset()\n",
    "        score = 0\n",
    "        for t in range(max_t):\n",
    "            action = agent.act(state, eps)\n",
    "            next_state, reward, done = env.step(action)\n",
    "            agent.step(state, action, reward, next_state, done)\n",
    "            state = next_state\n",
    "            score += reward\n",
    "            if done:\n",
    "                break \n",
    "        scores_window.append(score)       # save most recent score\n",
    "        scores.append(score)              # save most recent score\n",
    "        eps = max(eps_end, eps_decay*eps) # decrease epsilon\n",
    "        print('\\rEpisode {}\\tAverage Score: {:.2f}'.format(i_episode, np.mean(scores_window)), end=\"\")\n",
    "        if i_episode % 100 == 0:\n",
    "            print('\\rEpisode {}\\tAverage Score: {:.2f}'.format(i_episode, np.mean(scores_window)))\n",
    "            torch.save(agent.qnetwork_local.state_dict(), 'checkpoint_modify_state.pth')\n",
    "        if i_episode >= n_episodes:\n",
    "            torch.save(agent.qnetwork_local.state_dict(), 'checkpoint_modify_state.pth')\n",
    "            break\n",
    "            \n",
    "    return scores\n",
    "\n",
    "scores = dqn()"
   ]
  },
  {
   "cell_type": "code",
   "execution_count": 5,
   "metadata": {},
   "outputs": [
    {
     "data": {
      "image/png": "[encoded data removed]",
      "text/plain": [
       "<Figure size 432x288 with 1 Axes>"
      ]
     },
     "metadata": {
      "needs_background": "light"
     },
     "output_type": "display_data"
    }
   ],
   "source": [
    "# plot the scores\n",
    "fig = plt.figure()\n",
    "ax = fig.add_subplot(111)\n",
    "plt.plot(np.arange(len(scores)), scores)\n",
    "plt.ylabel('Score')\n",
    "plt.xlabel('Episode #')\n",
    "plt.show()"
   ]
  },
  {
   "cell_type": "markdown",
   "metadata": {},
   "source": [
    "# 5. Evaluate"
   ]
  },
  {
   "cell_type": "code",
   "execution_count": 4,
   "metadata": {
    "scrolled": true
   },
   "outputs": [
    {
     "name": "stdout",
     "output_type": "stream",
     "text": [
      "goal pos :  388 228\n",
      "obj_center :  276.2499948092726 118.75000333299337 | goal :  {'x': 388, 'y': 228, 'w': 25}\n",
      "tl : 90.00000250447816  | tr : 71.02512910334661  | dl : 35.0 | dr : 30.822073\n",
      "obj_center :  281.97903465113876 138.52970447450616 | goal :  {'x': 388, 'y': 228, 'w': 25}\n",
      "tl : 87.65814237394507  | tr : 70.45217185463092  | dl : 44.205524 | dr : 30.822073\n",
      "obj_center :  283.35125736826984 138.96979619992976 | goal :  {'x': 388, 'y': 228, 'w': 25}\n",
      "tl : 87.11457542922794  | tr : 69.87921460591524  | dl : 44.695766 | dr : 30.822073\n",
      "obj_center :  284.7250567566931 139.39957395065505 | goal :  {'x': 388, 'y': 228, 'w': 25}\n",
      "tl : 86.57669803208944  | tr : 69.30625735719954  | dl : 45.183987 | dr : 30.822073\n",
      "obj_center :  286.100504562419 139.8189636312418 | goal :  {'x': 388, 'y': 228, 'w': 25}\n",
      "tl : 86.04431893723279  | tr : 68.73330010848386  | dl : 45.6702 | dr : 30.822073\n",
      "obj_center :  287.4776194869719 140.22787779666032 | goal :  {'x': 388, 'y': 228, 'w': 25}\n",
      "tl : 85.51726738992876  | tr : 68.16034285976816  | dl : 46.15442 | dr : 30.822073\n",
      "obj_center :  288.8564500435794 140.6262664112313 | goal :  {'x': 388, 'y': 228, 'w': 25}\n",
      "tl : 84.99537263544808  | tr : 67.58738561105248  | dl : 46.63666 | dr : 30.822073\n",
      "obj_center :  290.2370132239128 141.01406421819092 | goal :  {'x': 388, 'y': 228, 'w': 25}\n",
      "tl : 84.47847757943985  | tr : 67.01442836233679  | dl : 47.11694 | dr : 30.822073\n",
      "obj_center :  291.61934662576897 141.39118069178267 | goal :  {'x': 388, 'y': 228, 'w': 25}\n",
      "tl : 83.966418297364  | tr : 66.44147111362109  | dl : 47.59527 | dr : 30.822073\n",
      "obj_center :  293.0034716384116 141.75753407552747 | goal :  {'x': 388, 'y': 228, 'w': 25}\n",
      "tl : 83.45904452505877  | tr : 65.86851386490541  | dl : 48.07165 | dr : 30.822073\n",
      "obj_center :  294.38936712873505 142.11308844301016 | goal :  {'x': 388, 'y': 228, 'w': 25}\n",
      "tl : 82.95622648892994  | tr : 65.29555661618971  | dl : 48.54611 | dr : 30.822073\n",
      "obj_center :  295.7770723771412 142.45774474261907 | goal :  {'x': 388, 'y': 228, 'w': 25}\n",
      "tl : 82.45781392481578  | tr : 64.72259936747403  | dl : 49.01864 | dr : 30.822073\n",
      "obj_center :  297.1665410805508 142.79145773296477 | goal :  {'x': 388, 'y': 228, 'w': 25}\n",
      "tl : 81.96369071950038  | tr : 64.14964211875834  | dl : 49.489258 | dr : 30.822073\n",
      "obj_center :  298.5578179080899 143.1141441029871 | goal :  {'x': 388, 'y': 228, 'w': 25}\n",
      "tl : 81.47371343901116  | tr : 63.57668487004265  | dl : 49.957973 | dr : 30.822073\n",
      "obj_center :  299.9508595881912 143.4257459361379 | goal :  {'x': 388, 'y': 228, 'w': 25}\n",
      "tl : 80.98777280032144  | tr : 63.00372762132696  | dl : 50.42479 | dr : 30.822073\n",
      "obj_center :  301.3456509229138 143.72620427604318 | goal :  {'x': 388, 'y': 228, 'w': 25}\n",
      "tl : 80.5057526902153  | tr : 62.43077037261127  | dl : 50.889713 | dr : 30.822073\n",
      "obj_center :  302.742172074942 144.01543104312907 | goal :  {'x': 388, 'y': 228, 'w': 25}\n",
      "tl : 80.02753699547686  | tr : 61.85781312389558  | dl : 51.35275 | dr : 30.822073\n",
      "obj_center :  304.140410139687 144.29336962568414 | goal :  {'x': 388, 'y': 228, 'w': 25}\n",
      "tl : 79.55301643307939  | tr : 61.28485587517989  | dl : 51.813904 | dr : 30.822073\n",
      "obj_center :  305.5403132248483 144.55996245373854 | goal :  {'x': 388, 'y': 228, 'w': 25}\n",
      "tl : 79.08209538037453  | tr : 60.7118986264642  | dl : 52.27318 | dr : 30.822073\n",
      "obj_center :  306.9418583127293 144.81516907093692 | goal :  {'x': 388, 'y': 228, 'w': 25}\n",
      "tl : 78.6146713845247  | tr : 60.13894137774851  | dl : 52.730583 | dr : 30.822073\n",
      "obj_center :  308.34500084850436 145.0588942213176 | goal :  {'x': 388, 'y': 228, 'w': 25}\n",
      "tl : 78.15064882288155  | tr : 59.56598412903282  | dl : 53.186115 | dr : 30.822073\n",
      "obj_center :  309.74971266474 145.29108999019172 | goal :  {'x': 388, 'y': 228, 'w': 25}\n",
      "tl : 77.68993207279668  | tr : 58.99302688031713  | dl : 53.63978 | dr : 30.822073\n",
      "obj_center :  311.1559324410463 145.51172090591479 | goal :  {'x': 388, 'y': 228, 'w': 25}\n",
      "tl : 77.23243917200006  | tr : 58.42006963160144  | dl : 54.09158 | dr : 30.822073\n",
      "obj_center :  312.5636335250572 145.7206907627119 | goal :  {'x': 388, 'y': 228, 'w': 25}\n",
      "tl : 76.77807449784329  | tr : 57.847112382885754  | dl : 54.541515 | dr : 30.822073\n",
      "obj_center :  313.97272818951507 145.91797512011908 | goal :  {'x': 388, 'y': 228, 'w': 25}\n",
      "tl : 76.3267697484347  | tr : 57.274155134170066  | dl : 54.989586 | dr : 30.822073\n",
      "obj_center :  315.38318680611695 146.10350645536812 | goal :  {'x': 388, 'y': 228, 'w': 25}\n",
      "tl : 75.87843613131507  | tr : 56.70119788545437  | dl : 55.435795 | dr : 30.822073\n",
      "obj_center :  316.79494957093254 146.27723981222005 | goal :  {'x': 388, 'y': 228, 'w': 25}\n",
      "tl : 75.43299851440351  | tr : 56.12824063673868  | dl : 55.880146 | dr : 30.822073\n",
      "obj_center :  318.2079491397326 146.4390989556523 | goal :  {'x': 388, 'y': 228, 'w': 25}\n",
      "tl : 74.99038176561918  | tr : 55.55528338802299  | dl : 56.32263 | dr : 30.822073\n",
      "obj_center :  319.62214146264955 146.58905899800402 | goal :  {'x': 388, 'y': 228, 'w': 25}\n",
      "tl : 74.55051075288118  | tr : 54.982326139307304  | dl : 56.76326 | dr : 30.822073\n",
      "obj_center :  321.0374181806637 146.72706562105589 | goal :  {'x': 388, 'y': 228, 'w': 25}\n",
      "tl : 74.11333083467618  | tr : 54.409368890591615  | dl : 57.202023 | dr : 30.822073\n",
      "obj_center :  322.4537522686194 146.85305475380346 | goal :  {'x': 388, 'y': 228, 'w': 25}\n",
      "tl : 73.67876004873412  | tr : 53.83641164187593  | dl : 57.638924 | dr : 30.822073\n",
      "obj_center :  323.8710514637364 146.96701283221444 | goal :  {'x': 388, 'y': 228, 'w': 25}\n",
      "tl : 73.24674375354164  | tr : 53.26345439316024  | dl : 58.073963 | dr : 30.822073\n",
      "obj_center :  325.2892498517494 147.06886175777925 | goal :  {'x': 388, 'y': 228, 'w': 25}\n",
      "tl : 72.81721364720705  | tr : 52.69049714444454  | dl : 58.507137 | dr : 30.822073\n",
      "obj_center :  326.70826363755396 147.1585753691113 | goal :  {'x': 388, 'y': 228, 'w': 25}\n",
      "tl : 72.39011508821699  | tr : 52.117539895728854  | dl : 58.938442 | dr : 30.822073\n",
      "obj_center :  328.128035276373 147.23609564689752 | goal :  {'x': 388, 'y': 228, 'w': 25}\n",
      "tl : 71.96537977467973  | tr : 51.544582647013165  | dl : 59.367878 | dr : 30.822073\n",
      "obj_center :  326.649296231148 148.5099869788445 | goal :  {'x': 388, 'y': 228, 'w': 25}\n",
      "tl : 72.53833702339543  | tr : 54.78483463455097  | dl : 59.367878 | dr : 40.81985\n",
      "obj_center :  337.1676184263157 165.07878280225327 | goal :  {'x': 388, 'y': 228, 'w': 25}\n",
      "tl : 71.08561042844708  | tr : 54.21187738583528  | dl : 67.7515 | dr : 40.81985\n",
      "obj_center :  338.77177079756166 165.04495996830883 | goal :  {'x': 388, 'y': 228, 'w': 25}\n",
      "tl : 70.65079375569489  | tr : 53.63892013711959  | dl : 68.18049 | dr : 40.81985\n",
      "obj_center :  340.3755255074543 164.99694338148743 | goal :  {'x': 388, 'y': 228, 'w': 25}\n",
      "tl : 70.21810810196375  | tr : 53.0659628884039  | dl : 68.60755 | dr : 40.81985\n",
      "obj_center :  341.97877868358773 164.9346692994868 | goal :  {'x': 388, 'y': 228, 'w': 25}\n",
      "tl : 69.78750565592948  | tr : 52.493005639688214  | dl : 69.03268 | dr : 40.81985\n",
      "obj_center :  343.58144689313576 164.85816062110644 | goal :  {'x': 388, 'y': 228, 'w': 25}\n",
      "tl : 69.35893860626786  | tr : 51.920048390972525  | dl : 69.45587 | dr : 40.81985\n",
      "obj_center :  345.18339338774297 164.7673831910231 | goal :  {'x': 388, 'y': 228, 'w': 25}\n",
      "tl : 68.93237280203304  | tr : 51.34709114225683  | dl : 69.87713 | dr : 40.81985\n",
      "obj_center :  346.7845235344703 164.6622997721238 | goal :  {'x': 388, 'y': 228, 'w': 25}\n",
      "tl : 68.50776043190086  | tr : 50.77413389354114  | dl : 70.29643 | dr : 40.81985\n",
      "obj_center :  348.3847236856627 164.54289182435332 | goal :  {'x': 388, 'y': 228, 'w': 25}\n",
      "tl : 68.08506051473628  | tr : 50.20117664482545  | dl : 70.713776 | dr : 40.81985\n",
      "obj_center :  346.73190503055594 166.01848273253836 | goal :  {'x': 388, 'y': 228, 'w': 25}\n",
      "tl : 68.65801776345198  | tr : 52.55214483261677  | dl : 70.713776 | dr : 49.46512\n",
      "obj_center :  357.3124378124942 180.54756407811738 | goal :  {'x': 388, 'y': 228, 'w': 25}\n",
      "tl : 67.50121594448359  | tr : 51.97918758390108  | dl : 78.30138 | dr : 49.46512\n",
      "obj_center :  359.07554416677726 180.31620338353036 | goal :  {'x': 388, 'y': 228, 'w': 25}\n",
      "tl : 67.06916549834527  | tr : 51.40623033518539  | dl : 78.71833 | dr : 49.46512\n",
      "obj_center :  360.8365324812752 180.06877377896558 | goal :  {'x': 388, 'y': 228, 'w': 25}\n",
      "tl : 66.6388772410128  | tr : 50.833273086469696  | dl : 79.13326 | dr : 49.46512\n"
     ]
    },
    {
     "name": "stdout",
     "output_type": "stream",
     "text": [
      "obj_center :  362.5952214209178 179.80531105793716 | goal :  {'x': 388, 'y': 228, 'w': 25}\n",
      "tl : 66.21033751210787  | tr : 50.26031583775401  | dl : 79.54616 | dr : 49.46512\n",
      "obj_center :  364.35149395117435 179.5258089728577 | goal :  {'x': 388, 'y': 228, 'w': 25}\n",
      "tl : 65.78350533049543  | tr : 49.68735858903832  | dl : 79.95701 | dr : 49.46512\n",
      "obj_center :  362.54804713194574 181.16031240835468 | goal :  {'x': 388, 'y': 228, 'w': 25}\n",
      "tl : 66.35646257921111  | tr : 51.56881957328296  | dl : 79.95701 | dr : 57.2052\n",
      "obj_center :  372.90088764512006 194.17740998450654 | goal :  {'x': 388, 'y': 228, 'w': 25}\n",
      "tl : 65.37109167822089  | tr : 50.99586232456727  | dl : 86.92677 | dr : 57.2052\n",
      "obj_center :  374.804028273403 193.78890971168062 | goal :  {'x': 388, 'y': 228, 'w': 25}\n",
      "tl : 64.93628183565788  | tr : 50.422905075851574  | dl : 87.33709 | dr : 57.2052\n",
      "obj_center :  376.70352055258206 193.38283126792703 | goal :  {'x': 388, 'y': 228, 'w': 25}\n",
      "tl : 64.50307708754981  | tr : 49.849947827135885  | dl : 87.74529 | dr : 57.2052\n",
      "obj_center :  378.59924334606717 192.95922788934945 | goal :  {'x': 388, 'y': 228, 'w': 25}\n",
      "tl : 64.07144328295087  | tr : 49.2769905784202  | dl : 88.15139 | dr : 57.2052\n",
      "obj_center :  376.660749681227 194.73553145966093 | goal :  {'x': 388, 'y': 228, 'w': 25}\n",
      "tl : 64.64440053166655  | tr : 50.88003256152761  | dl : 88.15139 | dr : 64.30355\n",
      "obj_center :  386.7977981767564 206.57648322656883 | goal :  {'x': 388, 'y': 228, 'w': 25}\n",
      "tl : 63.76766378942538  | tr : 50.30707531281192  | dl : 94.64715 | dr : 64.30355\n",
      "obj_center :  384.7227318465633 208.43408919265357 | goal :  {'x': 388, 'y': 228, 'w': 25}\n",
      "tl : 64.34062103814107  | tr : 51.694471148349095  | dl : 94.64715 | dr : 70.7723\n",
      "obj_center :  394.2666784739009 219.26873968236237 | goal :  {'x': 388, 'y': 228, 'w': 25}\n",
      "tl : 63.546850603748034  | tr : 51.121513899633406  | dl : 100.6401 | dr : 70.7723\n"
     ]
    }
   ],
   "source": [
    "# load the weights from file\n",
    "agent.qnetwork_local.load_state_dict(torch.load('checkpoint_modify_state.pth', map_location='cpu'))\n",
    "import time\n",
    "for i in range(1):\n",
    "    state = env.reset()\n",
    "    for j in range(200):\n",
    "        action = agent.act(state)\n",
    "        env.render()\n",
    "        state, reward, done = env.step(action)\n",
    "        time.sleep(0.1)\n",
    "        if done:\n",
    "            break \n",
    "path_x, path_y = env.viewer.return_path()      \n",
    "\n",
    "#env.close()"
   ]
  },
  {
   "cell_type": "code",
   "execution_count": 6,
   "metadata": {
    "scrolled": true
   },
   "outputs": [
    {
     "data": {
      "image/png": "[encoded data removed]",
      "text/plain": [
       "<Figure size 432x288 with 1 Axes>"
      ]
     },
     "metadata": {
      "needs_background": "light"
     },
     "output_type": "display_data"
    }
   ],
   "source": [
    "plt.scatter(path_x, path_y)\n",
    "plt.show()"
   ]
  },
  {
   "cell_type": "code",
   "execution_count": null,
   "metadata": {},
   "outputs": [],
   "source": []
  },
  {
   "cell_type": "code",
   "execution_count": null,
   "metadata": {},
   "outputs": [],
   "source": []
  }
 ],
 "metadata": {
  "kernelspec": {
   "display_name": "Python 3",
   "language": "python",
   "name": "python3"
  },
  "language_info": {
   "codemirror_mode": {
    "name": "ipython",
    "version": 3
   },
   "file_extension": ".py",
   "mimetype": "text/x-python",
   "name": "python",
   "nbconvert_exporter": "python",
   "pygments_lexer": "ipython3",
   "version": "3.6.9"
  }
 },
 "nbformat": 4,
 "nbformat_minor": 2
}
