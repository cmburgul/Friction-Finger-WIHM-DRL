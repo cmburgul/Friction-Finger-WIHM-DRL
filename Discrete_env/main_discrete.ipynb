{
 "cells": [
  {
   "cell_type": "markdown",
   "metadata": {},
   "source": [
    "# 1. Import the Necessary Package"
   ]
  },
  {
   "cell_type": "code",
   "execution_count": 1,
   "metadata": {},
   "outputs": [],
   "source": [
    "import gym\n",
    "import random\n",
    "import torch\n",
    "import numpy as np\n",
    "from collections import deque\n",
    "import matplotlib.pyplot as plt\n",
    "%matplotlib inline"
   ]
  },
  {
   "cell_type": "markdown",
   "metadata": {},
   "source": [
    "# 2. Instantiate the Environment "
   ]
  },
  {
   "cell_type": "code",
   "execution_count": 2,
   "metadata": {},
   "outputs": [
    {
     "name": "stdout",
     "output_type": "stream",
     "text": [
      "State size : 7\n",
      "Action size :  5\n"
     ]
    }
   ],
   "source": [
    "from ff_env_discrete import FFEnv, Viewer  # Environemnt\n",
    "\n",
    "env = FFEnv()\n",
    "print(\"State size :\", env.state_size)\n",
    "print(\"Action size : \", env.action_size)"
   ]
  },
  {
   "cell_type": "markdown",
   "metadata": {},
   "source": [
    "# 3. Instantiate the Agent"
   ]
  },
  {
   "cell_type": "code",
   "execution_count": 3,
   "metadata": {},
   "outputs": [],
   "source": [
    "from dqn_agent import Agent\n",
    "\n",
    "agent = Agent(state_size=7, action_size=5, seed=0)"
   ]
  },
  {
   "cell_type": "markdown",
   "metadata": {},
   "source": [
    "# 4. Train the Agent with DQN"
   ]
  },
  {
   "cell_type": "code",
   "execution_count": 4,
   "metadata": {},
   "outputs": [
    {
     "name": "stdout",
     "output_type": "stream",
     "text": [
      "Episode 100\tAverage Score: -13154.39\n",
      "Episode 200\tAverage Score: -10810.59\n",
      "Episode 300\tAverage Score: -7774.914\n",
      "Episode 400\tAverage Score: -6452.48\n",
      "Episode 500\tAverage Score: -4701.05\n",
      "Episode 600\tAverage Score: -3951.98\n",
      "Episode 700\tAverage Score: -4020.10\n",
      "Episode 800\tAverage Score: -2757.41\n",
      "Episode 900\tAverage Score: -2698.90\n",
      "Episode 1000\tAverage Score: -2283.82\n",
      "Episode 1100\tAverage Score: -2224.71\n",
      "Episode 1200\tAverage Score: -2043.13\n",
      "Episode 1300\tAverage Score: -2300.66\n",
      "Episode 1400\tAverage Score: -2072.12\n",
      "Episode 1500\tAverage Score: -2132.32\n",
      "Episode 1600\tAverage Score: -1728.03\n",
      "Episode 1700\tAverage Score: -2305.10\n",
      "Episode 1800\tAverage Score: -2236.08\n",
      "Episode 1900\tAverage Score: -1981.11\n",
      "Episode 2000\tAverage Score: -2840.65\n"
     ]
    }
   ],
   "source": [
    "def dqn(n_episodes=2000, max_t=1000, eps_start=1.0, eps_end=0.01, eps_decay=0.995):\n",
    "    \"\"\"Deep Q-Learning.\n",
    "    \n",
    "    Params\n",
    "    ======\n",
    "        n_episodes (int): maximum number of training episodes\n",
    "        max_t (int): maximum number of timesteps per episode\n",
    "        eps_start (float): starting value of epsilon, for epsilon-greedy action selection\n",
    "        eps_end (float): minimum value of epsilon\n",
    "        eps_decay (float): multiplicative factor (per episode) for decreasing epsilon\n",
    "    \"\"\"\n",
    "    scores = []                        # list containing scores from each episode\n",
    "    scores_window = deque(maxlen=100)  # last 100 scores\n",
    "    eps = eps_start                    # initialize epsilon\n",
    "    for i_episode in range(1, n_episodes+1):\n",
    "        state = env.reset()\n",
    "        score = 0\n",
    "        for t in range(max_t):\n",
    "            action = agent.act(state, eps)\n",
    "            next_state, reward, done = env.step(action)\n",
    "            agent.step(state, action, reward, next_state, done)\n",
    "            state = next_state\n",
    "            score += reward\n",
    "            if done:\n",
    "                break \n",
    "        scores_window.append(score)       # save most recent score\n",
    "        scores.append(score)              # save most recent score\n",
    "        eps = max(eps_end, eps_decay*eps) # decrease epsilon\n",
    "        print('\\rEpisode {}\\tAverage Score: {:.2f}'.format(i_episode, np.mean(scores_window)), end=\"\")\n",
    "        if i_episode % 100 == 0:\n",
    "            print('\\rEpisode {}\\tAverage Score: {:.2f}'.format(i_episode, np.mean(scores_window)))\n",
    "            torch.save(agent.qnetwork_local.state_dict(), 'checkpoint.pth')\n",
    "        if i_episode >= n_episodes:\n",
    "            torch.save(agent.qnetwork_local.state_dict(), 'checkpoint.pth')\n",
    "            break\n",
    "            \n",
    "    return scores\n",
    "\n",
    "scores = dqn()"
   ]
  },
  {
   "cell_type": "code",
   "execution_count": 4,
   "metadata": {},
   "outputs": [
    {
     "ename": "NameError",
     "evalue": "name 'scores' is not defined",
     "output_type": "error",
     "traceback": [
      "\u001b[0;31m---------------------------------------------------------------------------\u001b[0m",
      "\u001b[0;31mNameError\u001b[0m                                 Traceback (most recent call last)",
      "\u001b[0;32m<ipython-input-4-c6a6ca0371c3>\u001b[0m in \u001b[0;36m<module>\u001b[0;34m\u001b[0m\n\u001b[1;32m      2\u001b[0m \u001b[0mfig\u001b[0m \u001b[0;34m=\u001b[0m \u001b[0mplt\u001b[0m\u001b[0;34m.\u001b[0m\u001b[0mfigure\u001b[0m\u001b[0;34m(\u001b[0m\u001b[0;34m)\u001b[0m\u001b[0;34m\u001b[0m\u001b[0;34m\u001b[0m\u001b[0m\n\u001b[1;32m      3\u001b[0m \u001b[0max\u001b[0m \u001b[0;34m=\u001b[0m \u001b[0mfig\u001b[0m\u001b[0;34m.\u001b[0m\u001b[0madd_subplot\u001b[0m\u001b[0;34m(\u001b[0m\u001b[0;36m111\u001b[0m\u001b[0;34m)\u001b[0m\u001b[0;34m\u001b[0m\u001b[0;34m\u001b[0m\u001b[0m\n\u001b[0;32m----> 4\u001b[0;31m \u001b[0mplt\u001b[0m\u001b[0;34m.\u001b[0m\u001b[0mplot\u001b[0m\u001b[0;34m(\u001b[0m\u001b[0mnp\u001b[0m\u001b[0;34m.\u001b[0m\u001b[0marange\u001b[0m\u001b[0;34m(\u001b[0m\u001b[0mlen\u001b[0m\u001b[0;34m(\u001b[0m\u001b[0mscores\u001b[0m\u001b[0;34m)\u001b[0m\u001b[0;34m)\u001b[0m\u001b[0;34m,\u001b[0m \u001b[0mscores\u001b[0m\u001b[0;34m)\u001b[0m\u001b[0;34m\u001b[0m\u001b[0;34m\u001b[0m\u001b[0m\n\u001b[0m\u001b[1;32m      5\u001b[0m \u001b[0mplt\u001b[0m\u001b[0;34m.\u001b[0m\u001b[0mylabel\u001b[0m\u001b[0;34m(\u001b[0m\u001b[0;34m'Score'\u001b[0m\u001b[0;34m)\u001b[0m\u001b[0;34m\u001b[0m\u001b[0;34m\u001b[0m\u001b[0m\n\u001b[1;32m      6\u001b[0m \u001b[0mplt\u001b[0m\u001b[0;34m.\u001b[0m\u001b[0mxlabel\u001b[0m\u001b[0;34m(\u001b[0m\u001b[0;34m'Episode #'\u001b[0m\u001b[0;34m)\u001b[0m\u001b[0;34m\u001b[0m\u001b[0;34m\u001b[0m\u001b[0m\n",
      "\u001b[0;31mNameError\u001b[0m: name 'scores' is not defined"
     ]
    },
    {
     "data": {
      "image/png": "[encoded data removed]",
      "text/plain": [
       "<Figure size 432x288 with 1 Axes>"
      ]
     },
     "metadata": {
      "needs_background": "light"
     },
     "output_type": "display_data"
    }
   ],
   "source": [
    "# plot the scores\n",
    "fig = plt.figure()\n",
    "ax = fig.add_subplot(111)\n",
    "plt.plot(np.arange(len(scores)), scores)\n",
    "plt.ylabel('Score')\n",
    "plt.xlabel('Episode #')\n",
    "plt.show()"
   ]
  },
  {
   "cell_type": "markdown",
   "metadata": {},
   "source": [
    "# 5. Evaluate"
   ]
  },
  {
   "cell_type": "code",
   "execution_count": 4,
   "metadata": {
    "scrolled": true
   },
   "outputs": [
    {
     "name": "stdout",
     "output_type": "stream",
     "text": [
      "obj_center :  276.2499877061721 281.25000333299334 goal :  {'x': 91, 'y': 215, 'w': 25}\n",
      "obj_center :  274.8427905043354 281.6277309769066 goal :  {'x': 91, 'y': 215, 'w': 25}\n",
      "obj_center :  273.4337241249159 281.9984250655398 goal :  {'x': 91, 'y': 215, 'w': 25}\n",
      "obj_center :  272.0228237810079 282.3620760522317 goal :  {'x': 91, 'y': 215, 'w': 25}\n",
      "obj_center :  270.61011989600956 282.71865769289434 goal :  {'x': 91, 'y': 215, 'w': 25}\n",
      "obj_center :  269.19564835494384 283.0681602586992 goal :  {'x': 91, 'y': 215, 'w': 25}\n",
      "obj_center :  267.7794520370662 283.41060811653733 goal :  {'x': 91, 'y': 215, 'w': 25}\n",
      "obj_center :  266.3615579996258 283.74595793895423 goal :  {'x': 91, 'y': 215, 'w': 25}\n",
      "obj_center :  264.9420058866963 284.07421697396785 goal :  {'x': 91, 'y': 215, 'w': 25}\n",
      "obj_center :  263.52083132136613 284.3953755637631 goal :  {'x': 91, 'y': 215, 'w': 25}\n",
      "obj_center :  262.09806783124804 284.7094246186316 goal :  {'x': 91, 'y': 215, 'w': 25}\n",
      "obj_center :  260.6737520871684 285.0163541967049 goal :  {'x': 91, 'y': 215, 'w': 25}\n",
      "obj_center :  259.24791761673987 285.3161552082747 goal :  {'x': 91, 'y': 215, 'w': 25}\n",
      "obj_center :  257.820605635643 285.60883447527885 goal :  {'x': 91, 'y': 215, 'w': 25}\n",
      "obj_center :  256.3279113583499 291.98883791351705 goal :  {'x': 91, 'y': 215, 'w': 25}\n",
      "obj_center :  254.86301594681208 291.64686196777666 goal :  {'x': 91, 'y': 215, 'w': 25}\n",
      "obj_center :  253.39937870386166 291.29790411701833 goal :  {'x': 91, 'y': 215, 'w': 25}\n",
      "obj_center :  251.93700670497648 290.94196851970196 goal :  {'x': 91, 'y': 215, 'w': 25}\n",
      "obj_center :  250.47596599872577 290.57907978537173 goal :  {'x': 91, 'y': 215, 'w': 25}\n",
      "obj_center :  249.01627897298567 290.2092198507944 goal :  {'x': 91, 'y': 215, 'w': 25}\n",
      "obj_center :  247.55798913808576 289.83238440776404 goal :  {'x': 91, 'y': 215, 'w': 25}\n",
      "obj_center :  246.10106191627125 289.44862611457097 goal :  {'x': 91, 'y': 215, 'w': 25}\n",
      "obj_center :  244.64557095311875 289.05791523186963 goal :  {'x': 91, 'y': 215, 'w': 25}\n",
      "obj_center :  243.1915503154366 288.6602318847781 goal :  {'x': 91, 'y': 215, 'w': 25}\n",
      "obj_center :  241.7390163884511 288.2556534873038 goal :  {'x': 91, 'y': 215, 'w': 25}\n",
      "obj_center :  240.2879891711882 287.8441107945025 goal :  {'x': 91, 'y': 215, 'w': 25}\n",
      "obj_center :  238.83848804403243 287.42562663544845 goal :  {'x': 91, 'y': 215, 'w': 25}\n",
      "obj_center :  237.39057886914424 287.0002468881546 goal :  {'x': 91, 'y': 215, 'w': 25}\n",
      "obj_center :  235.9442315349125 286.56791837490346 goal :  {'x': 91, 'y': 215, 'w': 25}\n",
      "obj_center :  234.49955241203327 286.1286765956743 goal :  {'x': 91, 'y': 215, 'w': 25}\n",
      "obj_center :  233.0564883885438 285.68254735812843 goal :  {'x': 91, 'y': 215, 'w': 25}\n",
      "obj_center :  231.6150886680157 285.2294933848441 goal :  {'x': 91, 'y': 215, 'w': 25}\n",
      "obj_center :  230.17542325006616 284.7695428496263 goal :  {'x': 91, 'y': 215, 'w': 25}\n",
      "obj_center :  228.73746273355096 284.302698946658 goal :  {'x': 91, 'y': 215, 'w': 25}\n",
      "obj_center :  227.3012788854146 283.82895436850504 goal :  {'x': 91, 'y': 215, 'w': 25}\n",
      "obj_center :  225.86685410850578 283.3483276586094 goal :  {'x': 91, 'y': 215, 'w': 25}\n",
      "obj_center :  224.4342764095697 282.86082571149905 goal :  {'x': 91, 'y': 215, 'w': 25}\n",
      "obj_center :  223.00349746510108 282.3664585092456 goal :  {'x': 91, 'y': 215, 'w': 25}\n",
      "obj_center :  221.5745782734507 281.86518826668134 goal :  {'x': 91, 'y': 215, 'w': 25}\n",
      "obj_center :  220.14757752919593 281.3570838730175 goal :  {'x': 91, 'y': 215, 'w': 25}\n",
      "obj_center :  218.7224850830964 280.84209320318337 goal :  {'x': 91, 'y': 215, 'w': 25}\n",
      "obj_center :  217.2993451109511 280.3202721220373 goal :  {'x': 91, 'y': 215, 'w': 25}\n",
      "obj_center :  215.8781639768094 279.7915822850655 goal :  {'x': 91, 'y': 215, 'w': 25}\n",
      "obj_center :  214.45898299959254 279.2560634888014 goal :  {'x': 91, 'y': 215, 'w': 25}\n",
      "obj_center :  213.04183187407688 278.71367183677194 goal :  {'x': 91, 'y': 215, 'w': 25}\n",
      "obj_center :  211.626735700261 278.1644865996634 goal :  {'x': 91, 'y': 215, 'w': 25}\n",
      "obj_center :  210.21371750811625 277.608432209164 goal :  {'x': 91, 'y': 215, 'w': 25}\n",
      "obj_center :  208.802792563381 277.0455910510782 goal :  {'x': 91, 'y': 215, 'w': 25}\n",
      "obj_center :  207.39399534013273 276.4759025388844 goal :  {'x': 91, 'y': 215, 'w': 25}\n",
      "obj_center :  205.98734747324443 275.8994132329826 goal :  {'x': 91, 'y': 215, 'w': 25}\n",
      "obj_center :  204.58289353741293 275.3161288989668 goal :  {'x': 91, 'y': 215, 'w': 25}\n",
      "obj_center :  203.18063380985166 274.7260172731694 goal :  {'x': 91, 'y': 215, 'w': 25}\n",
      "obj_center :  201.78063633407078 274.1291121907443 goal :  {'x': 91, 'y': 215, 'w': 25}\n",
      "obj_center :  200.38286628760545 273.5254260528518 goal :  {'x': 91, 'y': 215, 'w': 25}\n",
      "obj_center :  198.98740621592424 272.91495488130295 goal :  {'x': 91, 'y': 215, 'w': 25}\n",
      "obj_center :  197.59426415085272 272.29768252643 goal :  {'x': 91, 'y': 215, 'w': 25}\n",
      "obj_center :  196.20343770855243 271.67364701483393 goal :  {'x': 91, 'y': 215, 'w': 25}\n",
      "obj_center :  194.81497896965948 271.04285337344663 goal :  {'x': 91, 'y': 215, 'w': 25}\n",
      "obj_center :  193.42894493767062 270.40527257721806 goal :  {'x': 91, 'y': 215, 'w': 25}\n",
      "obj_center :  192.0453038351252 269.7609179804715 goal :  {'x': 91, 'y': 215, 'w': 25}\n",
      "obj_center :  190.66410880733315 269.10982879509334 goal :  {'x': 91, 'y': 215, 'w': 25}\n",
      "obj_center :  189.28537387983852 268.45197208619993 goal :  {'x': 91, 'y': 215, 'w': 25}\n",
      "obj_center :  187.90913632655588 267.78740808656266 goal :  {'x': 91, 'y': 215, 'w': 25}\n",
      "obj_center :  186.535413079132 267.1160711383891 goal :  {'x': 91, 'y': 215, 'w': 25}\n",
      "obj_center :  185.164276641666 266.4379951673777 goal :  {'x': 91, 'y': 215, 'w': 25}\n",
      "obj_center :  183.79566662491015 265.7531860123913 goal :  {'x': 91, 'y': 215, 'w': 25}\n",
      "obj_center :  182.42967941934978 265.06167089663904 goal :  {'x': 91, 'y': 215, 'w': 25}\n",
      "obj_center :  181.06630829424432 264.3634245865087 goal :  {'x': 91, 'y': 215, 'w': 25}\n",
      "obj_center :  179.70558659540131 263.65847617699956 goal :  {'x': 91, 'y': 215, 'w': 25}\n",
      "obj_center :  178.34755564998432 262.94680294911814 goal :  {'x': 91, 'y': 215, 'w': 25}\n",
      "obj_center :  176.9922196319493 262.2284264615314 goal :  {'x': 91, 'y': 215, 'w': 25}\n",
      "obj_center :  175.63963014268666 261.5033530726214 goal :  {'x': 91, 'y': 215, 'w': 25}\n",
      "obj_center :  174.2897545157723 260.7715837145611 goal :  {'x': 91, 'y': 215, 'w': 25}\n",
      "obj_center :  172.94271086843594 260.03312185759114 goal :  {'x': 91, 'y': 215, 'w': 25}\n",
      "obj_center :  171.59843373 259.2879616153982 goal :  {'x': 91, 'y': 215, 'w': 25}\n",
      "obj_center :  170.25700143261759 258.53613370881135 goal :  {'x': 91, 'y': 215, 'w': 25}\n",
      "obj_center :  168.918444592764 257.7776353889931 goal :  {'x': 91, 'y': 215, 'w': 25}\n",
      "obj_center :  167.5827586585325 257.0124586269196 goal :  {'x': 91, 'y': 215, 'w': 25}\n",
      "obj_center :  166.24995752994948 256.24060609299363 goal :  {'x': 91, 'y': 215, 'w': 25}\n",
      "obj_center :  164.92016114544867 255.4620972721682 goal :  {'x': 91, 'y': 215, 'w': 25}\n",
      "obj_center :  163.59329541210286 254.67692705623676 goal :  {'x': 91, 'y': 215, 'w': 25}\n",
      "obj_center :  162.26942372353506 253.88511461267512 goal :  {'x': 91, 'y': 215, 'w': 25}\n",
      "obj_center :  160.94856365981855 253.0866465054646 goal :  {'x': 91, 'y': 215, 'w': 25}\n",
      "obj_center :  159.63075161967595 252.2815326207069 goal :  {'x': 91, 'y': 215, 'w': 25}\n",
      "obj_center :  158.31599596735145 251.46976253220146 goal :  {'x': 91, 'y': 215, 'w': 25}\n",
      "obj_center :  157.0043933435545 250.65138880078393 goal :  {'x': 91, 'y': 215, 'w': 25}\n",
      "obj_center :  155.6958356681656 249.82634192396745 goal :  {'x': 91, 'y': 215, 'w': 25}\n",
      "obj_center :  154.39048672598346 248.99470180509525 goal :  {'x': 91, 'y': 215, 'w': 25}\n",
      "obj_center :  153.0883079483374 248.1564247907204 goal :  {'x': 91, 'y': 215, 'w': 25}\n",
      "obj_center :  151.78931385293026 247.31152426898916 goal :  {'x': 91, 'y': 215, 'w': 25}\n",
      "obj_center :  150.4935296256224 246.46001542494787 goal :  {'x': 91, 'y': 215, 'w': 25}\n",
      "obj_center :  149.20107020438252 245.6018984165803 goal :  {'x': 91, 'y': 215, 'w': 25}\n",
      "obj_center :  147.91185551338458 244.73715464604993 goal :  {'x': 91, 'y': 215, 'w': 25}\n",
      "obj_center :  146.6259356209548 243.86583341601977 goal :  {'x': 91, 'y': 215, 'w': 25}\n",
      "obj_center :  145.34334839888288 242.9878845125893 goal :  {'x': 91, 'y': 215, 'w': 25}\n",
      "obj_center :  144.06415948776157 242.10336222794012 goal :  {'x': 91, 'y': 215, 'w': 25}\n",
      "obj_center :  142.78840147469168 241.21223303210854 goal :  {'x': 91, 'y': 215, 'w': 25}\n",
      "obj_center :  141.51598745163142 240.31452369031172 goal :  {'x': 91, 'y': 215, 'w': 25}\n",
      "obj_center :  140.24709666773106 239.41022809361584 goal :  {'x': 91, 'y': 215, 'w': 25}\n",
      "obj_center :  138.98164844483972 238.49935421843156 goal :  {'x': 91, 'y': 215, 'w': 25}\n",
      "obj_center :  137.7196897690692 237.58187882059246 goal :  {'x': 91, 'y': 215, 'w': 25}\n",
      "obj_center :  136.4612751327286 236.6578546852179 goal :  {'x': 91, 'y': 215, 'w': 25}\n",
      "obj_center :  135.20643361390512 235.72726044652654 goal :  {'x': 91, 'y': 215, 'w': 25}\n",
      "obj_center :  133.95521499432107 234.7900956170588 goal :  {'x': 91, 'y': 215, 'w': 25}\n",
      "obj_center :  132.7076063734512 233.84636144877732 goal :  {'x': 91, 'y': 215, 'w': 25}\n",
      "obj_center :  131.46360874231164 232.89605712747402 goal :  {'x': 91, 'y': 215, 'w': 25}\n",
      "obj_center :  130.2233388467141 231.9392159044503 goal :  {'x': 91, 'y': 215, 'w': 25}\n",
      "obj_center :  128.98673517511838 230.9757952826874 goal :  {'x': 91, 'y': 215, 'w': 25}\n",
      "obj_center :  127.75383345835394 230.00582328324526 goal :  {'x': 91, 'y': 215, 'w': 25}\n",
      "obj_center :  126.52478530586109 229.0293100637632 goal :  {'x': 91, 'y': 215, 'w': 25}\n",
      "obj_center :  125.29942117689188 228.04622575234362 goal :  {'x': 91, 'y': 215, 'w': 25}\n",
      "obj_center :  124.07793246634242 227.05662232532632 goal :  {'x': 91, 'y': 215, 'w': 25}\n",
      "obj_center :  122.86032748768434 226.0604610752216 goal :  {'x': 91, 'y': 215, 'w': 25}\n",
      "obj_center :  121.64663772812219 225.05778126948144 goal :  {'x': 91, 'y': 215, 'w': 25}\n",
      "obj_center :  120.43679389413683 224.04855007482183 goal :  {'x': 91, 'y': 215, 'w': 25}\n",
      "obj_center :  119.23093017670908 223.03280373336747 goal :  {'x': 91, 'y': 215, 'w': 25}\n",
      "obj_center :  118.02907701363438 222.01054826219206 goal :  {'x': 91, 'y': 215, 'w': 25}\n",
      "obj_center :  116.83119023493987 220.98174374680752 goal :  {'x': 91, 'y': 215, 'w': 25}\n",
      "obj_center :  115.63738075674337 219.9464158660703 goal :  {'x': 91, 'y': 215, 'w': 25}\n",
      "obj_center :  114.44761274447501 218.90457081379282 goal :  {'x': 91, 'y': 215, 'w': 25}\n",
      "obj_center :  114.44761274447501 218.90457081379282 goal :  {'x': 91, 'y': 215, 'w': 25}\n",
      "obj_center :  114.44761274447501 218.90457081379282 goal :  {'x': 91, 'y': 215, 'w': 25}\n",
      "obj_center :  114.44761274447501 218.90457081379282 goal :  {'x': 91, 'y': 215, 'w': 25}\n",
      "obj_center :  114.44761274447501 218.90457081379282 goal :  {'x': 91, 'y': 215, 'w': 25}\n",
      "obj_center :  114.44761274447501 218.90457081379282 goal :  {'x': 91, 'y': 215, 'w': 25}\n",
      "obj_center :  114.44761274447501 218.90457081379282 goal :  {'x': 91, 'y': 215, 'w': 25}\n",
      "obj_center :  114.44761274447501 218.90457081379282 goal :  {'x': 91, 'y': 215, 'w': 25}\n",
      "obj_center :  114.44761274447501 218.90457081379282 goal :  {'x': 91, 'y': 215, 'w': 25}\n",
      "obj_center :  114.44761274447501 218.90457081379282 goal :  {'x': 91, 'y': 215, 'w': 25}\n",
      "obj_center :  114.44761274447501 218.90457081379282 goal :  {'x': 91, 'y': 215, 'w': 25}\n",
      "obj_center :  114.44761274447501 218.90457081379282 goal :  {'x': 91, 'y': 215, 'w': 25}\n",
      "obj_center :  114.44761274447501 218.90457081379282 goal :  {'x': 91, 'y': 215, 'w': 25}\n",
      "obj_center :  114.44761274447501 218.90457081379282 goal :  {'x': 91, 'y': 215, 'w': 25}\n",
      "obj_center :  114.44761274447501 218.90457081379282 goal :  {'x': 91, 'y': 215, 'w': 25}\n",
      "obj_center :  114.44761274447501 218.90457081379282 goal :  {'x': 91, 'y': 215, 'w': 25}\n"
     ]
    },
    {
     "name": "stdout",
     "output_type": "stream",
     "text": [
      "obj_center :  114.44761274447501 218.90457081379282 goal :  {'x': 91, 'y': 215, 'w': 25}\n",
      "obj_center :  114.44761274447501 218.90457081379282 goal :  {'x': 91, 'y': 215, 'w': 25}\n",
      "obj_center :  114.44761274447501 218.90457081379282 goal :  {'x': 91, 'y': 215, 'w': 25}\n",
      "obj_center :  114.44761274447501 218.90457081379282 goal :  {'x': 91, 'y': 215, 'w': 25}\n",
      "obj_center :  114.44761274447501 218.90457081379282 goal :  {'x': 91, 'y': 215, 'w': 25}\n",
      "obj_center :  114.44761274447501 218.90457081379282 goal :  {'x': 91, 'y': 215, 'w': 25}\n",
      "obj_center :  114.44761274447501 218.90457081379282 goal :  {'x': 91, 'y': 215, 'w': 25}\n",
      "obj_center :  114.44761274447501 218.90457081379282 goal :  {'x': 91, 'y': 215, 'w': 25}\n",
      "obj_center :  114.44761274447501 218.90457081379282 goal :  {'x': 91, 'y': 215, 'w': 25}\n",
      "obj_center :  114.44761274447501 218.90457081379282 goal :  {'x': 91, 'y': 215, 'w': 25}\n",
      "obj_center :  114.44761274447501 218.90457081379282 goal :  {'x': 91, 'y': 215, 'w': 25}\n",
      "obj_center :  114.44761274447501 218.90457081379282 goal :  {'x': 91, 'y': 215, 'w': 25}\n",
      "obj_center :  114.44761274447501 218.90457081379282 goal :  {'x': 91, 'y': 215, 'w': 25}\n",
      "obj_center :  114.44761274447501 218.90457081379282 goal :  {'x': 91, 'y': 215, 'w': 25}\n",
      "obj_center :  114.44761274447501 218.90457081379282 goal :  {'x': 91, 'y': 215, 'w': 25}\n",
      "obj_center :  114.44761274447501 218.90457081379282 goal :  {'x': 91, 'y': 215, 'w': 25}\n",
      "obj_center :  114.44761274447501 218.90457081379282 goal :  {'x': 91, 'y': 215, 'w': 25}\n",
      "obj_center :  114.44761274447501 218.90457081379282 goal :  {'x': 91, 'y': 215, 'w': 25}\n",
      "obj_center :  114.44761274447501 218.90457081379282 goal :  {'x': 91, 'y': 215, 'w': 25}\n",
      "obj_center :  114.44761274447501 218.90457081379282 goal :  {'x': 91, 'y': 215, 'w': 25}\n",
      "obj_center :  114.44761274447501 218.90457081379282 goal :  {'x': 91, 'y': 215, 'w': 25}\n",
      "obj_center :  114.44761274447501 218.90457081379282 goal :  {'x': 91, 'y': 215, 'w': 25}\n",
      "obj_center :  114.44761274447501 218.90457081379282 goal :  {'x': 91, 'y': 215, 'w': 25}\n",
      "obj_center :  114.44761274447501 218.90457081379282 goal :  {'x': 91, 'y': 215, 'w': 25}\n",
      "obj_center :  114.44761274447501 218.90457081379282 goal :  {'x': 91, 'y': 215, 'w': 25}\n",
      "obj_center :  114.44761274447501 218.90457081379282 goal :  {'x': 91, 'y': 215, 'w': 25}\n",
      "obj_center :  114.44761274447501 218.90457081379282 goal :  {'x': 91, 'y': 215, 'w': 25}\n",
      "obj_center :  114.44761274447501 218.90457081379282 goal :  {'x': 91, 'y': 215, 'w': 25}\n",
      "obj_center :  114.44761274447501 218.90457081379282 goal :  {'x': 91, 'y': 215, 'w': 25}\n",
      "obj_center :  114.44761274447501 218.90457081379282 goal :  {'x': 91, 'y': 215, 'w': 25}\n",
      "obj_center :  114.44761274447501 218.90457081379282 goal :  {'x': 91, 'y': 215, 'w': 25}\n",
      "obj_center :  114.44761274447501 218.90457081379282 goal :  {'x': 91, 'y': 215, 'w': 25}\n",
      "obj_center :  114.44761274447501 218.90457081379282 goal :  {'x': 91, 'y': 215, 'w': 25}\n",
      "obj_center :  114.44761274447501 218.90457081379282 goal :  {'x': 91, 'y': 215, 'w': 25}\n",
      "obj_center :  114.44761274447501 218.90457081379282 goal :  {'x': 91, 'y': 215, 'w': 25}\n",
      "obj_center :  114.44761274447501 218.90457081379282 goal :  {'x': 91, 'y': 215, 'w': 25}\n",
      "obj_center :  114.44761274447501 218.90457081379282 goal :  {'x': 91, 'y': 215, 'w': 25}\n",
      "obj_center :  114.44761274447501 218.90457081379282 goal :  {'x': 91, 'y': 215, 'w': 25}\n",
      "obj_center :  114.44761274447501 218.90457081379282 goal :  {'x': 91, 'y': 215, 'w': 25}\n",
      "obj_center :  114.44761274447501 218.90457081379282 goal :  {'x': 91, 'y': 215, 'w': 25}\n",
      "obj_center :  114.44761274447501 218.90457081379282 goal :  {'x': 91, 'y': 215, 'w': 25}\n",
      "obj_center :  114.44761274447501 218.90457081379282 goal :  {'x': 91, 'y': 215, 'w': 25}\n",
      "obj_center :  114.44761274447501 218.90457081379282 goal :  {'x': 91, 'y': 215, 'w': 25}\n",
      "obj_center :  114.44761274447501 218.90457081379282 goal :  {'x': 91, 'y': 215, 'w': 25}\n",
      "obj_center :  114.44761274447501 218.90457081379282 goal :  {'x': 91, 'y': 215, 'w': 25}\n",
      "obj_center :  114.44761274447501 218.90457081379282 goal :  {'x': 91, 'y': 215, 'w': 25}\n",
      "obj_center :  114.44761274447501 218.90457081379282 goal :  {'x': 91, 'y': 215, 'w': 25}\n",
      "obj_center :  114.44761274447501 218.90457081379282 goal :  {'x': 91, 'y': 215, 'w': 25}\n",
      "obj_center :  114.44761274447501 218.90457081379282 goal :  {'x': 91, 'y': 215, 'w': 25}\n",
      "obj_center :  114.44761274447501 218.90457081379282 goal :  {'x': 91, 'y': 215, 'w': 25}\n",
      "obj_center :  114.44761274447501 218.90457081379282 goal :  {'x': 91, 'y': 215, 'w': 25}\n",
      "obj_center :  114.44761274447501 218.90457081379282 goal :  {'x': 91, 'y': 215, 'w': 25}\n",
      "obj_center :  114.44761274447501 218.90457081379282 goal :  {'x': 91, 'y': 215, 'w': 25}\n",
      "obj_center :  114.44761274447501 218.90457081379282 goal :  {'x': 91, 'y': 215, 'w': 25}\n",
      "obj_center :  114.44761274447501 218.90457081379282 goal :  {'x': 91, 'y': 215, 'w': 25}\n",
      "obj_center :  114.44761274447501 218.90457081379282 goal :  {'x': 91, 'y': 215, 'w': 25}\n",
      "obj_center :  114.44761274447501 218.90457081379282 goal :  {'x': 91, 'y': 215, 'w': 25}\n",
      "obj_center :  114.44761274447501 218.90457081379282 goal :  {'x': 91, 'y': 215, 'w': 25}\n",
      "obj_center :  114.44761274447501 218.90457081379282 goal :  {'x': 91, 'y': 215, 'w': 25}\n",
      "obj_center :  114.44761274447501 218.90457081379282 goal :  {'x': 91, 'y': 215, 'w': 25}\n",
      "obj_center :  114.44761274447501 218.90457081379282 goal :  {'x': 91, 'y': 215, 'w': 25}\n",
      "obj_center :  114.44761274447501 218.90457081379282 goal :  {'x': 91, 'y': 215, 'w': 25}\n",
      "obj_center :  114.44761274447501 218.90457081379282 goal :  {'x': 91, 'y': 215, 'w': 25}\n",
      "obj_center :  114.44761274447501 218.90457081379282 goal :  {'x': 91, 'y': 215, 'w': 25}\n",
      "obj_center :  114.44761274447501 218.90457081379282 goal :  {'x': 91, 'y': 215, 'w': 25}\n"
     ]
    }
   ],
   "source": [
    "\n",
    "# load the weights from file\n",
    "agent.qnetwork_local.load_state_dict(torch.load('checkpoint.pth', map_location='cpu'))\n",
    "\n",
    "for i in range(1):\n",
    "    state = env.reset()\n",
    "    for j in range(200):\n",
    "        action = agent.act(state)\n",
    "        env.render()\n",
    "        state, reward, done = env.step(action)\n",
    "        if done:\n",
    "            break \n",
    "            \n",
    "#env.close()"
   ]
  },
  {
   "cell_type": "code",
   "execution_count": 14,
   "metadata": {},
   "outputs": [
    {
     "data": {
      "text/plain": [
       "(array([-28.]), array([143.]))"
      ]
     },
     "execution_count": 14,
     "metadata": {},
     "output_type": "execute_result"
    }
   ],
   "source": [
    "env.get_goal_point()"
   ]
  },
  {
   "cell_type": "code",
   "execution_count": 6,
   "metadata": {
    "scrolled": true
   },
   "outputs": [
    {
     "name": "stdout",
     "output_type": "stream",
     "text": [
      "[1.57079637 1.46014261 1.38124994 1.40625002 0.92624994 0.33125002\n",
      " 0.        ]\n"
     ]
    }
   ],
   "source": [
    "state = env.reset()\n",
    "print(state)"
   ]
  },
  {
   "cell_type": "code",
   "execution_count": 11,
   "metadata": {},
   "outputs": [
    {
     "name": "stdout",
     "output_type": "stream",
     "text": [
      "4\n"
     ]
    }
   ],
   "source": [
    "action = env.sample_action()\n",
    "print(action)"
   ]
  },
  {
   "cell_type": "code",
   "execution_count": 13,
   "metadata": {},
   "outputs": [
    {
     "name": "stdout",
     "output_type": "stream",
     "text": [
      "-14.312334312097306\n",
      "next_state :  [1.55934012 1.45014262 1.39780562 1.44287516 0.94280562 0.36787516\n",
      " 0.        ]\n",
      "reward :  -14.312334312097306\n",
      "done :  False\n"
     ]
    }
   ],
   "source": [
    "next_state, reward, done = env.step(action)\n",
    "print(\"next_state : \", next_state)\n",
    "print(\"reward : \", reward)\n",
    "print(\"done : \", done)"
   ]
  },
  {
   "cell_type": "code",
   "execution_count": null,
   "metadata": {},
   "outputs": [],
   "source": []
  }
 ],
 "metadata": {
  "kernelspec": {
   "display_name": "Python 3",
   "language": "python",
   "name": "python3"
  },
  "language_info": {
   "codemirror_mode": {
    "name": "ipython",
    "version": 3
   },
   "file_extension": ".py",
   "mimetype": "text/x-python",
   "name": "python",
   "nbconvert_exporter": "python",
   "pygments_lexer": "ipython3",
   "version": "3.6.9"
  }
 },
 "nbformat": 4,
 "nbformat_minor": 2
}
