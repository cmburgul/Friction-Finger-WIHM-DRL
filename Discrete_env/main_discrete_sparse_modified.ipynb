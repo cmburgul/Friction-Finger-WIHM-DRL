{
 "cells": [
  {
   "cell_type": "markdown",
   "metadata": {},
   "source": [
    "# 1. Import the Necessary Package"
   ]
  },
  {
   "cell_type": "code",
   "execution_count": 1,
   "metadata": {},
   "outputs": [],
   "source": [
    "import gym\n",
    "import random\n",
    "import torch\n",
    "import numpy as np\n",
    "import matplotlib.pyplot as plt\n",
    "from collections import deque\n",
    "import matplotlib.pyplot as plt\n",
    "%matplotlib inline"
   ]
  },
  {
   "cell_type": "markdown",
   "metadata": {},
   "source": [
    "# 2. Instantiate the Environment "
   ]
  },
  {
   "cell_type": "code",
   "execution_count": 2,
   "metadata": {},
   "outputs": [
    {
     "name": "stdout",
     "output_type": "stream",
     "text": [
      "Initial ff_info :  [(35.      , 1.5707964, 0) (30.822073, 1.2396224, 0)]\n",
      "State size : 7\n",
      "Action size :  5\n"
     ]
    }
   ],
   "source": [
    "from ff_env_discrete_sparse_modified import FFEnv, Viewer  # Environemnt\n",
    "\n",
    "env = FFEnv()\n",
    "print(\"State size :\", env.state_size)\n",
    "print(\"Action size : \", env.action_size)"
   ]
  },
  {
   "cell_type": "markdown",
   "metadata": {},
   "source": [
    "# 3. Instantiate the Agent"
   ]
  },
  {
   "cell_type": "code",
   "execution_count": 3,
   "metadata": {},
   "outputs": [],
   "source": [
    "from dqn_agent import Agent\n",
    "\n",
    "agent = Agent(state_size=7, action_size=5, seed=0)"
   ]
  },
  {
   "cell_type": "markdown",
   "metadata": {},
   "source": [
    "# 4. Train the Agent with DQN"
   ]
  },
  {
   "cell_type": "code",
   "execution_count": 4,
   "metadata": {
    "scrolled": true
   },
   "outputs": [
    {
     "name": "stdout",
     "output_type": "stream",
     "text": [
      "Episode 100\tAverage Score: -673.09\n",
      "Episode 200\tAverage Score: -929.42\n",
      "Episode 300\tAverage Score: -443.57\n",
      "Episode 400\tAverage Score: -302.53\n",
      "Episode 500\tAverage Score: -416.89\n",
      "Episode 600\tAverage Score: -177.67\n",
      "Episode 700\tAverage Score: -60.812\n",
      "Episode 800\tAverage Score: -103.62\n",
      "Episode 900\tAverage Score: -78.091\n",
      "Episode 1000\tAverage Score: -69.32\n"
     ]
    }
   ],
   "source": [
    "def dqn(n_episodes=1000, max_t=5000, eps_start=1.0, eps_end=0.01, eps_decay=0.995):\n",
    "    \"\"\"Deep Q-Learning.\n",
    "    \n",
    "    Params\n",
    "    ======\n",
    "        n_episodes (int): maximum number of training episodes\n",
    "        max_t (int): maximum number of timesteps per episode\n",
    "        eps_start (float): starting value of epsilon, for epsilon-greedy action selection\n",
    "        eps_end (float): minimum value of epsilon\n",
    "        eps_decay (float): multiplicative factor (per episode) for decreasing epsilon\n",
    "    \"\"\"\n",
    "    scores = []                        # list containing scores from each episode\n",
    "    scores_window = deque(maxlen=100)  # last 100 scores\n",
    "    eps = eps_start                    # initialize epsilon\n",
    "    for i_episode in range(1, n_episodes+1):\n",
    "        state = env.reset()\n",
    "        score = 0\n",
    "        for t in range(max_t):\n",
    "            action = agent.act(state, eps)\n",
    "            next_state, reward, done = env.step(action)\n",
    "            agent.step(state, action, reward, next_state, done)\n",
    "            state = next_state\n",
    "            score += reward\n",
    "            if done:\n",
    "                break \n",
    "        scores_window.append(score)       # save most recent score\n",
    "        scores.append(score)              # save most recent score\n",
    "        eps = max(eps_end, eps_decay*eps) # decrease epsilon\n",
    "        print('\\rEpisode {}\\tAverage Score: {:.2f}'.format(i_episode, np.mean(scores_window)), end=\"\")\n",
    "        if i_episode % 100 == 0:\n",
    "            print('\\rEpisode {}\\tAverage Score: {:.2f}'.format(i_episode, np.mean(scores_window)))\n",
    "            torch.save(agent.qnetwork_local.state_dict(), 'checkpoint_sparse_modified.pth')\n",
    "        if i_episode >= n_episodes:\n",
    "            torch.save(agent.qnetwork_local.state_dict(), 'checkpoint_sparse_modified.pth')\n",
    "            break\n",
    "            \n",
    "    return scores\n",
    "\n",
    "scores = dqn()"
   ]
  },
  {
   "cell_type": "code",
   "execution_count": 5,
   "metadata": {},
   "outputs": [
    {
     "data": {
      "image/png": "[encoded data removed]",
      "text/plain": [
       "<Figure size 432x288 with 1 Axes>"
      ]
     },
     "metadata": {
      "needs_background": "light"
     },
     "output_type": "display_data"
    }
   ],
   "source": [
    "# plot the scores\n",
    "fig = plt.figure()\n",
    "ax = fig.add_subplot(111)\n",
    "plt.plot(np.arange(len(scores)), scores)\n",
    "plt.ylabel('Score')\n",
    "plt.xlabel('Episode #')\n",
    "plt.show()"
   ]
  },
  {
   "cell_type": "markdown",
   "metadata": {},
   "source": [
    "# 5. Evaluate"
   ]
  },
  {
   "cell_type": "code",
   "execution_count": 17,
   "metadata": {
    "scrolled": true
   },
   "outputs": [
    {
     "name": "stdout",
     "output_type": "stream",
     "text": [
      "obj_center :  276.2499948092726 118.75000333299337 | goal :  {'x': 388, 'y': 228, 'w': 25}\n",
      "tl : 90.00000250447816  | tr : 71.02512910334661  | dl : 35.0 | dr : 30.822073\n",
      "obj_center :  277.43366074049845 117.98157829092816 | goal :  {'x': 388, 'y': 228, 'w': 25}\n",
      "tl : 89.42704525576248  | tr : 70.14029858693897  | dl : 35.0 | dr : 30.252533\n",
      "obj_center :  283.48938605105195 137.99588516699941 | goal :  {'x': 388, 'y': 228, 'w': 25}\n",
      "tl : 87.039170140791  | tr : 69.56734133822329  | dl : 44.349667 | dr : 30.252533\n",
      "obj_center :  284.8528918351588 138.42500016779695 | goal :  {'x': 388, 'y': 228, 'w': 25}\n",
      "tl : 86.5024060644872  | tr : 68.99438408950759  | dl : 44.8375 | dr : 30.252533\n",
      "obj_center :  286.2180482189589 138.84383667681504 | goal :  {'x': 388, 'y': 228, 'w': 25}\n",
      "tl : 85.97115395084361  | tr : 68.42142684079191  | dl : 45.32332 | dr : 30.252533\n",
      "obj_center :  287.58486465723024 139.25234248934885 | goal :  {'x': 388, 'y': 228, 'w': 25}\n",
      "tl : 85.44524987532014  | tr : 67.84846959207621  | dl : 45.807133 | dr : 30.252533\n",
      "obj_center :  288.9533932152251 139.65043220698874 | goal :  {'x': 388, 'y': 228, 'w': 25}\n",
      "tl : 84.92451625299837  | tr : 67.27551234336052  | dl : 46.28896 | dr : 30.252533\n",
      "obj_center :  290.3236827544288 140.0380215435598 | goal :  {'x': 388, 'y': 228, 'w': 25}\n",
      "tl : 84.40878232914905  | tr : 66.70255509464484  | dl : 46.768814 | dr : 30.252533\n",
      "obj_center :  291.6957056488328 140.41506480495457 | goal :  {'x': 388, 'y': 228, 'w': 25}\n",
      "tl : 83.89791149998878  | tr : 66.12959784592914  | dl : 47.246708 | dr : 30.252533\n",
      "obj_center :  293.06953657216013 140.78147188518926 | goal :  {'x': 388, 'y': 228, 'w': 25}\n",
      "tl : 83.3917330107883  | tr : 65.55664059721346  | dl : 47.722652 | dr : 30.252533\n",
      "obj_center :  294.4451649562452 141.13716984741643 | goal :  {'x': 388, 'y': 228, 'w': 25}\n",
      "tl : 82.89011025776422  | tr : 64.98368334849776  | dl : 48.19666 | dr : 30.252533\n",
      "obj_center :  295.8225770245119 141.48211572443756 | goal :  {'x': 388, 'y': 228, 'w': 25}\n",
      "tl : 82.39291346732232  | tr : 64.41072609978208  | dl : 48.66874 | dr : 30.252533\n",
      "obj_center :  297.20180085231107 141.81620673996576 | goal :  {'x': 388, 'y': 228, 'w': 25}\n",
      "tl : 81.89999920549  | tr : 63.837768851066386  | dl : 49.1389 | dr : 30.252533\n",
      "obj_center :  298.58281511930795 142.13938041689687 | goal :  {'x': 388, 'y': 228, 'w': 25}\n",
      "tl : 81.41124452886223  | tr : 63.2648116023507  | dl : 49.60715 | dr : 30.252533\n",
      "obj_center :  299.96560597109055 142.45159710849634 | goal :  {'x': 388, 'y': 228, 'w': 25}\n",
      "tl : 80.92653332422312  | tr : 62.69185435363501  | dl : 50.073498 | dr : 30.252533\n",
      "obj_center :  301.35016339372487 142.75277083740377 | goal :  {'x': 388, 'y': 228, 'w': 25}\n",
      "tl : 80.44574264816757  | tr : 62.11889710491932  | dl : 50.537952 | dr : 30.252533\n",
      "obj_center :  302.73647713467966 143.04281171751313 | goal :  {'x': 388, 'y': 228, 'w': 25}\n",
      "tl : 79.96875638747973  | tr : 61.545939856203624  | dl : 51.00051 | dr : 30.252533\n",
      "obj_center :  304.1245005828051 143.32171148577686 | goal :  {'x': 388, 'y': 228, 'w': 25}\n",
      "tl : 79.4954789195112  | tr : 60.972982607487936  | dl : 51.46119 | dr : 30.252533\n",
      "obj_center :  305.51422256275373 143.58934805069111 | goal :  {'x': 388, 'y': 228, 'w': 25}\n",
      "tl : 79.02579413104611  | tr : 60.40002535877225  | dl : 51.919983 | dr : 30.252533\n",
      "obj_center :  306.9056050457614 143.84568813915678 | goal :  {'x': 388, 'y': 228, 'w': 25}\n",
      "tl : 78.55960639943606  | tr : 59.82706811005656  | dl : 52.376904 | dr : 30.252533\n",
      "obj_center :  308.2986134046972 144.09067782294812 | goal :  {'x': 388, 'y': 228, 'w': 25}\n",
      "tl : 78.09682010203268  | tr : 59.25411086134087  | dl : 52.83195 | dr : 30.252533\n",
      "obj_center :  309.6931904909158 144.3242475520691 | goal :  {'x': 388, 'y': 228, 'w': 25}\n",
      "tl : 77.63734644637675  | tr : 58.68115361262518  | dl : 53.28513 | dr : 30.252533\n",
      "obj_center :  311.089311940498 144.54632437427335 | goal :  {'x': 388, 'y': 228, 'w': 25}\n",
      "tl : 77.1810898098199  | tr : 58.10819636390949  | dl : 53.73644 | dr : 30.252533\n",
      "obj_center :  312.4869168971155 144.75687095001035 | goal :  {'x': 388, 'y': 228, 'w': 25}\n",
      "tl : 76.72796823009207  | tr : 57.5352391151938  | dl : 54.185886 | dr : 30.252533\n",
      "obj_center :  313.88595997168807 144.95583367911422 | goal :  {'x': 388, 'y': 228, 'w': 25}\n",
      "tl : 76.27789974492326  | tr : 56.96228186647811  | dl : 54.63347 | dr : 30.252533\n",
      "obj_center :  315.286379722464 145.14313587259267 | goal :  {'x': 388, 'y': 228, 'w': 25}\n",
      "tl : 75.8308023920434  | tr : 56.38932461776242  | dl : 55.07919 | dr : 30.252533\n",
      "obj_center :  316.6881227042728 145.31874395324394 | goal :  {'x': 388, 'y': 228, 'w': 25}\n",
      "tl : 75.38660103937161  | tr : 55.81636736904673  | dl : 55.52305 | dr : 30.252533\n",
      "obj_center :  318.0911565798857 145.48258730288978 | goal :  {'x': 388, 'y': 228, 'w': 25}\n",
      "tl : 74.94521372463788  | tr : 55.24341012033104  | dl : 55.965046 | dr : 30.252533\n",
      "obj_center :  319.49537224964615 145.63462548497682 | goal :  {'x': 388, 'y': 228, 'w': 25}\n",
      "tl : 74.50657897613966  | tr : 54.67045287161535  | dl : 56.40518 | dr : 30.252533\n",
      "obj_center :  320.9007402138968 145.77481294875497 | goal :  {'x': 388, 'y': 228, 'w': 25}\n",
      "tl : 74.07062166179608  | tr : 54.097495622899665  | dl : 56.84346 | dr : 30.252533\n",
      "obj_center :  322.30716132575026 145.90309738050564 | goal :  {'x': 388, 'y': 228, 'w': 25}\n",
      "tl : 73.63728030990463  | tr : 53.524538374183976  | dl : 57.279877 | dr : 30.252533\n",
      "obj_center :  323.7146035673081 146.01941659749627 | goal :  {'x': 388, 'y': 228, 'w': 25}\n",
      "tl : 73.20647978838441  | tr : 52.95158112546828  | dl : 57.714428 | dr : 30.252533\n",
      "obj_center :  325.1229529655541 146.12375963012255 | goal :  {'x': 388, 'y': 228, 'w': 25}\n",
      "tl : 72.77817228591125  | tr : 52.37862387675259  | dl : 58.147118 | dr : 30.252533\n",
      "obj_center :  326.53217254520683 146.21603285994354 | goal :  {'x': 388, 'y': 228, 'w': 25}\n",
      "tl : 72.35228267040428  | tr : 51.8056666280369  | dl : 58.577938 | dr : 30.252533\n",
      "obj_center :  327.94216707697615 146.29624074053936 | goal :  {'x': 388, 'y': 228, 'w': 25}\n",
      "tl : 71.9287631305393  | tr : 51.232709379321214  | dl : 59.006897 | dr : 30.252533\n",
      "obj_center :  329.35285432554167 146.36431170277774 | goal :  {'x': 388, 'y': 228, 'w': 25}\n",
      "tl : 71.50755219461378  | tr : 50.659752130605526  | dl : 59.433983 | dr : 30.252533\n",
      "obj_center :  330.76415184725874 146.42023430561153 | goal :  {'x': 388, 'y': 228, 'w': 25}\n",
      "tl : 71.08860205130354  | tr : 50.08679488188984  | dl : 59.8592 | dr : 30.252533\n",
      "obj_center :  332.1759893315982 146.46393924835024 | goal :  {'x': 388, 'y': 228, 'w': 25}\n",
      "tl : 70.67185122890605  | tr : 49.51383763317415  | dl : 60.282543 | dr : 30.252533\n",
      "obj_center :  333.5882942301623 146.49538929529626 | goal :  {'x': 388, 'y': 228, 'w': 25}\n",
      "tl : 70.25724508590793  | tr : 48.94088038445845  | dl : 60.70401 | dr : 30.252533\n",
      "obj_center :  335.00093827812634 146.5145761172971 | goal :  {'x': 388, 'y': 228, 'w': 25}\n",
      "tl : 69.84474947136334  | tr : 48.367923135742764  | dl : 61.123596 | dr : 30.252533\n",
      "obj_center :  336.4138744109641 146.5214347388678 | goal :  {'x': 388, 'y': 228, 'w': 25}\n",
      "tl : 69.43430291356978  | tr : 47.794965887027075  | dl : 61.5413 | dr : 30.252533\n",
      "obj_center :  334.9418657005458 147.87822624321223 | goal :  {'x': 388, 'y': 228, 'w': 25}\n",
      "tl : 70.00726016228546  | tr : 51.344280519413374  | dl : 61.5413 | dr : 40.833363\n",
      "obj_center :  346.81476845681345 164.68555652248597 | goal :  {'x': 388, 'y': 228, 'w': 25}\n",
      "tl : 68.5023304315107  | tr : 50.771323270697685  | dl : 70.31241 | dr : 40.833363\n",
      "obj_center :  348.4152205403552 164.5658497819386 | goal :  {'x': 388, 'y': 228, 'w': 25}\n",
      "tl : 68.07963051434612  | tr : 50.19836602198199  | dl : 70.72974 | dr : 40.833363\n",
      "obj_center :  350.0146127441923 164.43181330472953 | goal :  {'x': 388, 'y': 228, 'w': 25}\n",
      "tl : 67.6588088992033  | tr : 49.6254087732663  | dl : 71.1451 | dr : 40.833363\n",
      "obj_center :  351.61283343483433 164.2834456296339 | goal :  {'x': 388, 'y': 228, 'w': 25}\n",
      "tl : 67.23983143513638  | tr : 49.05245152455061  | dl : 71.558495 | dr : 40.833363\n",
      "obj_center :  349.9624460265693 165.79133203546348 | goal :  {'x': 388, 'y': 228, 'w': 25}\n",
      "tl : 67.81278868385206  | tr : 51.45484420660296  | dl : 71.558495 | dr : 49.61571\n",
      "obj_center :  360.9331607883587 180.36123760721694 | goal :  {'x': 388, 'y': 228, 'w': 25}\n",
      "tl : 66.6456869396153  | tr : 50.88188695788726  | dl : 79.25236 | dr : 49.61571\n",
      "obj_center :  362.69484545743126 180.0966006343583 | goal :  {'x': 388, 'y': 228, 'w': 25}\n",
      "tl : 66.2168876635219  | tr : 50.30892970917157  | dl : 79.66536 | dr : 49.61571\n",
      "obj_center :  364.4540733055959 179.81590633470205 | goal :  {'x': 388, 'y': 228, 'w': 25}\n",
      "tl : 65.78980276491018  | tr : 49.73597246045588  | dl : 80.07632 | dr : 49.61571\n",
      "obj_center :  362.6477308944601 181.45143069937717 | goal :  {'x': 388, 'y': 228, 'w': 25}\n",
      "tl : 66.36276001362587  | tr : 51.60896059503512  | dl : 80.07632 | dr : 57.335506\n",
      "obj_center :  372.97800619274653 194.44185974879474 | goal :  {'x': 388, 'y': 228, 'w': 25}\n",
      "tl : 65.38032609397875  | tr : 51.03600334631943  | dl : 87.03087 | dr : 57.335506\n"
     ]
    },
    {
     "name": "stdout",
     "output_type": "stream",
     "text": [
      "obj_center :  374.8838000516844 194.05243260343923 | goal :  {'x': 388, 'y': 228, 'w': 25}\n",
      "tl : 64.94531134574063  | tr : 50.463046097603744  | dl : 87.441284 | dr : 57.335506\n",
      "obj_center :  372.9345639791791 195.79152954913297 | goal :  {'x': 388, 'y': 228, 'w': 25}\n",
      "tl : 65.51826859445632  | tr : 52.02825224780386  | dl : 87.441284 | dr : 64.29605\n",
      "obj_center :  382.703073955837 207.56706733589454 | goal :  {'x': 388, 'y': 228, 'w': 25}\n",
      "tl : 64.65187275861855  | tr : 51.455294999088174  | dl : 93.8206 | dr : 64.29605\n",
      "obj_center :  384.74256588999424 207.07546735081905 | goal :  {'x': 388, 'y': 228, 'w': 25}\n",
      "tl : 64.21041031180394  | tr : 50.882337750372486  | dl : 94.230316 | dr : 64.29605\n",
      "obj_center :  382.66261213090047 208.91251276977982 | goal :  {'x': 388, 'y': 228, 'w': 25}\n",
      "tl : 64.78336756051964  | tr : 52.25642154721731  | dl : 94.230316 | dr : 70.70729\n",
      "obj_center :  392.0411877619699 219.72566772221398 | goal :  {'x': 388, 'y': 228, 'w': 25}\n",
      "tl : 63.993066862224964  | tr : 51.68346429850162  | dl : 100.173065 | dr : 70.70729\n"
     ]
    }
   ],
   "source": [
    "# load the weights from file\n",
    "agent.qnetwork_local.load_state_dict(torch.load('checkpoint_sparse_modified.pth', map_location='cpu'))\n",
    "import time\n",
    "for i in range(1):\n",
    "    state = env.reset()\n",
    "    for j in range(200):\n",
    "        action = agent.act(state)\n",
    "        env.render()\n",
    "        state, reward, done = env.step(action)\n",
    "        time.sleep(0.04)\n",
    "        if done:\n",
    "            break \n",
    "path_x, path_y = env.viewer.return_path()      \n",
    "\n",
    "#env.close()"
   ]
  },
  {
   "cell_type": "code",
   "execution_count": 14,
   "metadata": {
    "scrolled": true
   },
   "outputs": [
    {
     "data": {
      "image/png": "[encoded data removed]",
      "text/plain": [
       "<Figure size 432x288 with 1 Axes>"
      ]
     },
     "metadata": {
      "needs_background": "light"
     },
     "output_type": "display_data"
    }
   ],
   "source": [
    "plt.scatter(path_x, path_y)\n",
    "plt.show()"
   ]
  },
  {
   "cell_type": "code",
   "execution_count": null,
   "metadata": {},
   "outputs": [],
   "source": []
  }
 ],
 "metadata": {
  "kernelspec": {
   "display_name": "Python 3",
   "language": "python",
   "name": "python3"
  },
  "language_info": {
   "codemirror_mode": {
    "name": "ipython",
    "version": 3
   },
   "file_extension": ".py",
   "mimetype": "text/x-python",
   "name": "python",
   "nbconvert_exporter": "python",
   "pygments_lexer": "ipython3",
   "version": "3.6.9"
  }
 },
 "nbformat": 4,
 "nbformat_minor": 2
}
