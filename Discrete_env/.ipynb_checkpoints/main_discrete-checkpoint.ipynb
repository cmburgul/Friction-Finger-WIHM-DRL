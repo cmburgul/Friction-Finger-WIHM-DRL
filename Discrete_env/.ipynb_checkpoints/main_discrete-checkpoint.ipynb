{
 "cells": [
  {
   "cell_type": "markdown",
   "metadata": {},
   "source": [
    "# 1. Import the Necessary Package"
   ]
  },
  {
   "cell_type": "code",
   "execution_count": 1,
   "metadata": {},
   "outputs": [],
   "source": [
    "import gym\n",
    "import random\n",
    "import torch\n",
    "import numpy as np\n",
    "import matplotlib.pyplot as plt\n",
    "from collections import deque\n",
    "import matplotlib.pyplot as plt\n",
    "%matplotlib inline"
   ]
  },
  {
   "cell_type": "markdown",
   "metadata": {},
   "source": [
    "# 2. Instantiate the Environment "
   ]
  },
  {
   "cell_type": "code",
   "execution_count": 2,
   "metadata": {},
   "outputs": [
    {
     "name": "stdout",
     "output_type": "stream",
     "text": [
      "Initial ff_info :  [(35.      , 1.5707964, 0) (30.822073, 1.2396224, 0)]\n",
      "State size : 7\n",
      "Action size :  5\n"
     ]
    }
   ],
   "source": [
    "from ff_env_discrete import FFEnv, Viewer  # Environemnt\n",
    "\n",
    "env = FFEnv()\n",
    "print(\"State size :\", env.state_size)\n",
    "print(\"Action size : \", env.action_size)"
   ]
  },
  {
   "cell_type": "markdown",
   "metadata": {},
   "source": [
    "# 3. Instantiate the Agent"
   ]
  },
  {
   "cell_type": "code",
   "execution_count": 3,
   "metadata": {},
   "outputs": [],
   "source": [
    "from dqn_agent import Agent\n",
    "\n",
    "agent = Agent(state_size=7, action_size=5, seed=0)"
   ]
  },
  {
   "cell_type": "markdown",
   "metadata": {},
   "source": [
    "# 4. Train the Agent with DQN"
   ]
  },
  {
   "cell_type": "code",
   "execution_count": 4,
   "metadata": {
    "scrolled": true
   },
   "outputs": [
    {
     "name": "stdout",
     "output_type": "stream",
     "text": [
      "Episode 100\tAverage Score: -76.12\n",
      "Episode 200\tAverage Score: -47.62\n",
      "Episode 300\tAverage Score: -34.63\n",
      "Episode 400\tAverage Score: -23.92\n",
      "Episode 500\tAverage Score: -25.28\n"
     ]
    }
   ],
   "source": [
    "def dqn(n_episodes=500, max_t=1000, eps_start=1.0, eps_end=0.01, eps_decay=0.995):\n",
    "    \"\"\"Deep Q-Learning.\n",
    "    \n",
    "    Params\n",
    "    ======\n",
    "        n_episodes (int): maximum number of training episodes\n",
    "        max_t (int): maximum number of timesteps per episode\n",
    "        eps_start (float): starting value of epsilon, for epsilon-greedy action selection\n",
    "        eps_end (float): minimum value of epsilon\n",
    "        eps_decay (float): multiplicative factor (per episode) for decreasing epsilon\n",
    "    \"\"\"\n",
    "    scores = []                        # list containing scores from each episode\n",
    "    scores_window = deque(maxlen=100)  # last 100 scores\n",
    "    eps = eps_start                    # initialize epsilon\n",
    "    for i_episode in range(1, n_episodes+1):\n",
    "        state = env.reset()\n",
    "        score = 0\n",
    "        for t in range(max_t):\n",
    "            action = agent.act(state, eps)\n",
    "            next_state, reward, done = env.step(action)\n",
    "            agent.step(state, action, reward, next_state, done)\n",
    "            state = next_state\n",
    "            score += reward\n",
    "            if done:\n",
    "                break \n",
    "        scores_window.append(score)       # save most recent score\n",
    "        scores.append(score)              # save most recent score\n",
    "        eps = max(eps_end, eps_decay*eps) # decrease epsilon\n",
    "        print('\\rEpisode {}\\tAverage Score: {:.2f}'.format(i_episode, np.mean(scores_window)), end=\"\")\n",
    "        if i_episode % 100 == 0:\n",
    "            print('\\rEpisode {}\\tAverage Score: {:.2f}'.format(i_episode, np.mean(scores_window)))\n",
    "            torch.save(agent.qnetwork_local.state_dict(), 'checkpoint.pth')\n",
    "        if i_episode >= n_episodes:\n",
    "            torch.save(agent.qnetwork_local.state_dict(), 'checkpoint.pth')\n",
    "            break\n",
    "            \n",
    "    return scores\n",
    "\n",
    "scores = dqn()"
   ]
  },
  {
   "cell_type": "code",
   "execution_count": 5,
   "metadata": {},
   "outputs": [
    {
     "data": {
      "image/png": "[encoded data removed]",
      "text/plain": [
       "<Figure size 432x288 with 1 Axes>"
      ]
     },
     "metadata": {
      "needs_background": "light"
     },
     "output_type": "display_data"
    }
   ],
   "source": [
    "# plot the scores\n",
    "fig = plt.figure()\n",
    "ax = fig.add_subplot(111)\n",
    "plt.plot(np.arange(len(scores)), scores)\n",
    "plt.ylabel('Score')\n",
    "plt.xlabel('Episode #')\n",
    "plt.show()"
   ]
  },
  {
   "cell_type": "markdown",
   "metadata": {},
   "source": [
    "# 5. Evaluate"
   ]
  },
  {
   "cell_type": "code",
   "execution_count": 6,
   "metadata": {
    "scrolled": true
   },
   "outputs": [
    {
     "name": "stdout",
     "output_type": "stream",
     "text": [
      "goal pos :  388 228\n",
      "obj_center :  276.2499948092726 118.75000333299337 | goal :  {'x': 388, 'y': 228, 'w': 25}\n",
      "tl : 90.00000250447816  | tr : 71.02512910334661  | dl : 35.0 | dr : 30.822073\n",
      "obj_center :  281.97903465113876 138.52970447450616 | goal :  {'x': 388, 'y': 228, 'w': 25}\n",
      "tl : 87.65814237394507  | tr : 70.45217185463092  | dl : 44.205524 | dr : 30.822073\n",
      "obj_center :  283.35125736826984 138.96979619992976 | goal :  {'x': 388, 'y': 228, 'w': 25}\n",
      "tl : 87.11457542922794  | tr : 69.87921460591524  | dl : 44.695766 | dr : 30.822073\n",
      "obj_center :  284.7250567566931 139.39957395065505 | goal :  {'x': 388, 'y': 228, 'w': 25}\n",
      "tl : 86.57669803208944  | tr : 69.30625735719954  | dl : 45.183987 | dr : 30.822073\n",
      "obj_center :  286.100504562419 139.8189636312418 | goal :  {'x': 388, 'y': 228, 'w': 25}\n",
      "tl : 86.04431893723279  | tr : 68.73330010848386  | dl : 45.6702 | dr : 30.822073\n",
      "obj_center :  287.4776194869719 140.22787779666032 | goal :  {'x': 388, 'y': 228, 'w': 25}\n",
      "tl : 85.51726738992876  | tr : 68.16034285976816  | dl : 46.15442 | dr : 30.822073\n",
      "obj_center :  288.8564500435794 140.6262664112313 | goal :  {'x': 388, 'y': 228, 'w': 25}\n",
      "tl : 84.99537263544808  | tr : 67.58738561105248  | dl : 46.63666 | dr : 30.822073\n",
      "obj_center :  290.2370132239128 141.01406421819092 | goal :  {'x': 388, 'y': 228, 'w': 25}\n",
      "tl : 84.47847757943985  | tr : 67.01442836233679  | dl : 47.11694 | dr : 30.822073\n",
      "obj_center :  291.61934662576897 141.39118069178267 | goal :  {'x': 388, 'y': 228, 'w': 25}\n",
      "tl : 83.966418297364  | tr : 66.44147111362109  | dl : 47.59527 | dr : 30.822073\n",
      "obj_center :  293.0034716384116 141.75753407552747 | goal :  {'x': 388, 'y': 228, 'w': 25}\n",
      "tl : 83.45904452505877  | tr : 65.86851386490541  | dl : 48.07165 | dr : 30.822073\n",
      "obj_center :  294.38936712873505 142.11308844301016 | goal :  {'x': 388, 'y': 228, 'w': 25}\n",
      "tl : 82.95622648892994  | tr : 65.29555661618971  | dl : 48.54611 | dr : 30.822073\n",
      "obj_center :  295.7770723771412 142.45774474261907 | goal :  {'x': 388, 'y': 228, 'w': 25}\n",
      "tl : 82.45781392481578  | tr : 64.72259936747403  | dl : 49.01864 | dr : 30.822073\n",
      "obj_center :  297.1665410805508 142.79145773296477 | goal :  {'x': 388, 'y': 228, 'w': 25}\n",
      "tl : 81.96369071950038  | tr : 64.14964211875834  | dl : 49.489258 | dr : 30.822073\n",
      "obj_center :  298.5578179080899 143.1141441029871 | goal :  {'x': 388, 'y': 228, 'w': 25}\n",
      "tl : 81.47371343901116  | tr : 63.57668487004265  | dl : 49.957973 | dr : 30.822073\n",
      "obj_center :  299.9508595881912 143.4257459361379 | goal :  {'x': 388, 'y': 228, 'w': 25}\n",
      "tl : 80.98777280032144  | tr : 63.00372762132696  | dl : 50.42479 | dr : 30.822073\n",
      "obj_center :  301.3456509229138 143.72620427604318 | goal :  {'x': 388, 'y': 228, 'w': 25}\n",
      "tl : 80.5057526902153  | tr : 62.43077037261127  | dl : 50.889713 | dr : 30.822073\n",
      "obj_center :  302.742172074942 144.01543104312907 | goal :  {'x': 388, 'y': 228, 'w': 25}\n",
      "tl : 80.02753699547686  | tr : 61.85781312389558  | dl : 51.35275 | dr : 30.822073\n",
      "obj_center :  304.140410139687 144.29336962568414 | goal :  {'x': 388, 'y': 228, 'w': 25}\n",
      "tl : 79.55301643307939  | tr : 61.28485587517989  | dl : 51.813904 | dr : 30.822073\n",
      "obj_center :  305.5403132248483 144.55996245373854 | goal :  {'x': 388, 'y': 228, 'w': 25}\n",
      "tl : 79.08209538037453  | tr : 60.7118986264642  | dl : 52.27318 | dr : 30.822073\n",
      "obj_center :  306.9418583127293 144.81516907093692 | goal :  {'x': 388, 'y': 228, 'w': 25}\n",
      "tl : 78.6146713845247  | tr : 60.13894137774851  | dl : 52.730583 | dr : 30.822073\n",
      "obj_center :  308.34500084850436 145.0588942213176 | goal :  {'x': 388, 'y': 228, 'w': 25}\n",
      "tl : 78.15064882288155  | tr : 59.56598412903282  | dl : 53.186115 | dr : 30.822073\n",
      "obj_center :  309.74971266474 145.29108999019172 | goal :  {'x': 388, 'y': 228, 'w': 25}\n",
      "tl : 77.68993207279668  | tr : 58.99302688031713  | dl : 53.63978 | dr : 30.822073\n",
      "obj_center :  311.1559324410463 145.51172090591479 | goal :  {'x': 388, 'y': 228, 'w': 25}\n",
      "tl : 77.23243917200006  | tr : 58.42006963160144  | dl : 54.09158 | dr : 30.822073\n",
      "obj_center :  312.5636335250572 145.7206907627119 | goal :  {'x': 388, 'y': 228, 'w': 25}\n",
      "tl : 76.77807449784329  | tr : 57.847112382885754  | dl : 54.541515 | dr : 30.822073\n",
      "obj_center :  313.97272818951507 145.91797512011908 | goal :  {'x': 388, 'y': 228, 'w': 25}\n",
      "tl : 76.3267697484347  | tr : 57.274155134170066  | dl : 54.989586 | dr : 30.822073\n",
      "obj_center :  315.38318680611695 146.10350645536812 | goal :  {'x': 388, 'y': 228, 'w': 25}\n",
      "tl : 75.87843613131507  | tr : 56.70119788545437  | dl : 55.435795 | dr : 30.822073\n",
      "obj_center :  316.79494957093254 146.27723981222005 | goal :  {'x': 388, 'y': 228, 'w': 25}\n",
      "tl : 75.43299851440351  | tr : 56.12824063673868  | dl : 55.880146 | dr : 30.822073\n",
      "obj_center :  318.2079491397326 146.4390989556523 | goal :  {'x': 388, 'y': 228, 'w': 25}\n",
      "tl : 74.99038176561918  | tr : 55.55528338802299  | dl : 56.32263 | dr : 30.822073\n",
      "obj_center :  319.62214146264955 146.58905899800402 | goal :  {'x': 388, 'y': 228, 'w': 25}\n",
      "tl : 74.55051075288118  | tr : 54.982326139307304  | dl : 56.76326 | dr : 30.822073\n",
      "obj_center :  321.0374181806637 146.72706562105589 | goal :  {'x': 388, 'y': 228, 'w': 25}\n",
      "tl : 74.11333083467618  | tr : 54.409368890591615  | dl : 57.202023 | dr : 30.822073\n",
      "obj_center :  322.4537522686194 146.85305475380346 | goal :  {'x': 388, 'y': 228, 'w': 25}\n",
      "tl : 73.67876004873412  | tr : 53.83641164187593  | dl : 57.638924 | dr : 30.822073\n",
      "obj_center :  323.8710514637364 146.96701283221444 | goal :  {'x': 388, 'y': 228, 'w': 25}\n",
      "tl : 73.24674375354164  | tr : 53.26345439316024  | dl : 58.073963 | dr : 30.822073\n",
      "obj_center :  325.2892498517494 147.06886175777925 | goal :  {'x': 388, 'y': 228, 'w': 25}\n",
      "tl : 72.81721364720705  | tr : 52.69049714444454  | dl : 58.507137 | dr : 30.822073\n",
      "obj_center :  326.70826363755396 147.1585753691113 | goal :  {'x': 388, 'y': 228, 'w': 25}\n",
      "tl : 72.39011508821699  | tr : 52.117539895728854  | dl : 58.938442 | dr : 30.822073\n",
      "obj_center :  328.128035276373 147.23609564689752 | goal :  {'x': 388, 'y': 228, 'w': 25}\n",
      "tl : 71.96537977467973  | tr : 51.544582647013165  | dl : 59.367878 | dr : 30.822073\n",
      "obj_center :  329.54845293547123 147.30140656192475 | goal :  {'x': 388, 'y': 228, 'w': 25}\n",
      "tl : 71.5429667254603  | tr : 50.971625398297476  | dl : 59.795444 | dr : 30.822073\n",
      "obj_center :  330.9694633199578 147.3544401031677 | goal :  {'x': 388, 'y': 228, 'w': 25}\n",
      "tl : 71.12280763866697  | tr : 50.39866814958179  | dl : 60.221134 | dr : 30.822073\n",
      "obj_center :  332.43644074927715 146.03740942402908 | goal :  {'x': 388, 'y': 228, 'w': 25}\n",
      "tl : 70.54985038995127  | tr : 51.702541016853466  | dl : 60.221134 | dr : 39.89607\n",
      "obj_center :  344.2695134584943 163.09476599819732 | goal :  {'x': 388, 'y': 228, 'w': 25}\n",
      "tl : 69.0030174486185  | tr : 51.12958376813778  | dl : 69.083855 | dr : 39.89607\n",
      "obj_center :  345.8534502855292 162.99971685599644 | goal :  {'x': 388, 'y': 228, 'w': 25}\n",
      "tl : 68.57962768234773  | tr : 50.55662651942209  | dl : 69.503 | dr : 39.89607\n",
      "obj_center :  347.436568781618 162.89053385595707 | goal :  {'x': 388, 'y': 228, 'w': 25}\n",
      "tl : 68.15815719923376  | tr : 49.9836692707064  | dl : 69.9202 | dr : 39.89607\n",
      "obj_center :  349.0187375509265 162.76720284482963 | goal :  {'x': 388, 'y': 228, 'w': 25}\n",
      "tl : 67.73857184833071  | tr : 49.410712021990705  | dl : 70.335434 | dr : 39.89607\n",
      "obj_center :  350.59986579588724 162.62969827233292 | goal :  {'x': 388, 'y': 228, 'w': 25}\n",
      "tl : 67.32083064850356  | tr : 48.837754773275016  | dl : 70.74871 | dr : 39.89607\n",
      "obj_center :  352.1798314302356 162.47798412551447 | goal :  {'x': 388, 'y': 228, 'w': 25}\n",
      "tl : 66.9048926186173  | tr : 48.26479752455933  | dl : 71.16001 | dr : 39.89607\n",
      "obj_center :  353.75849535943416 162.31210406156606 | goal :  {'x': 388, 'y': 228, 'w': 25}\n",
      "tl : 66.4907372681044  | tr : 47.69184027584364  | dl : 71.569336 | dr : 39.89607\n",
      "obj_center :  355.33579739993 162.13202105831442 | goal :  {'x': 388, 'y': 228, 'w': 25}\n",
      "tl : 66.07830995545152  | tr : 47.11888302712795  | dl : 71.976685 | dr : 39.89607\n",
      "obj_center :  356.91156617182855 161.93771037185343 | goal :  {'x': 388, 'y': 228, 'w': 25}\n",
      "tl : 65.66759019009115  | tr : 46.54592577841226  | dl : 72.382034 | dr : 39.89607\n"
     ]
    },
    {
     "name": "stdout",
     "output_type": "stream",
     "text": [
      "obj_center :  358.4857142720955 161.72916769248104 | goal :  {'x': 388, 'y': 228, 'w': 25}\n",
      "tl : 65.25853699088825  | tr : 45.97296852969657  | dl : 72.785385 | dr : 39.89607\n",
      "obj_center :  360.05811160370115 161.50638804604228 | goal :  {'x': 388, 'y': 228, 'w': 25}\n",
      "tl : 64.85112303708615  | tr : 45.40001128098088  | dl : 73.18673 | dr : 39.89607\n",
      "obj_center :  361.6651380897082 159.89775506983506 | goal :  {'x': 388, 'y': 228, 'w': 25}\n",
      "tl : 64.27816578837047  | tr : 46.10702123744183  | dl : 73.18673 | dr : 48.281\n",
      "obj_center :  374.86622544865895 175.0880286110987 | goal :  {'x': 388, 'y': 228, 'w': 25}\n",
      "tl : 62.98329169533028  | tr : 45.53406398872614  | dl : 81.66577 | dr : 48.281\n",
      "obj_center :  373.10663724720143 176.8279058421831 | goal :  {'x': 388, 'y': 228, 'w': 25}\n",
      "tl : 63.55624894404597  | tr : 47.63001340347668  | dl : 81.66577 | dr : 56.634502\n",
      "obj_center :  371.32973390922416 178.5501045980709 | goal :  {'x': 388, 'y': 228, 'w': 25}\n",
      "tl : 64.12920619276166  | tr : 48.53946333674764  | dl : 81.66577 | dr : 57.11228\n",
      "obj_center :  369.5356965686915 180.25444217917538 | goal :  {'x': 388, 'y': 228, 'w': 25}\n",
      "tl : 64.70216344147735  | tr : 49.44019111844848  | dl : 81.66577 | dr : 57.59255\n",
      "obj_center :  380.6054997476713 193.32793907935866 | goal :  {'x': 388, 'y': 228, 'w': 25}\n",
      "tl : 63.69947118075197  | tr : 48.86723386973279  | dl : 88.83507 | dr : 57.59255\n",
      "obj_center :  378.6632210041671 195.12429571120038 | goal :  {'x': 388, 'y': 228, 'w': 25}\n",
      "tl : 64.27242842946765  | tr : 50.47002313584091  | dl : 88.83507 | dr : 64.70449\n",
      "obj_center :  376.70308211191696 196.9011447430671 | goal :  {'x': 388, 'y': 228, 'w': 25}\n",
      "tl : 64.84538567818335  | tr : 51.32121155549165  | dl : 88.83507 | dr : 65.1799\n",
      "obj_center :  374.7252732136144 198.65829720133206 | goal :  {'x': 388, 'y': 228, 'w': 25}\n",
      "tl : 65.41834292689903  | tr : 52.16532048406768  | dl : 88.83507 | dr : 65.65771\n",
      "obj_center :  372.72998144675626 200.39558148489732 | goal :  {'x': 388, 'y': 228, 'w': 25}\n",
      "tl : 65.99130017561473  | tr : 53.002421638555276  | dl : 88.83507 | dr : 66.1378\n",
      "obj_center :  382.0994202094454 211.82806267174215 | goal :  {'x': 388, 'y': 228, 'w': 25}\n",
      "tl : 65.15649396468825  | tr : 52.42946438983958  | dl : 94.99308 | dr : 66.1378\n",
      "obj_center :  379.97207060076846 213.63842456561997 | goal :  {'x': 388, 'y': 228, 'w': 25}\n",
      "tl : 65.72945121340395  | tr : 53.73059835125409  | dl : 94.99308 | dr : 72.27787\n",
      "obj_center :  388.85476742601895 224.15561571939406 | goal :  {'x': 388, 'y': 228, 'w': 25}\n",
      "tl : 64.96390312066141  | tr : 53.1576411025384  | dl : 100.70622 | dr : 72.27787\n"
     ]
    }
   ],
   "source": [
    "# load the weights from file\n",
    "agent.qnetwork_local.load_state_dict(torch.load('checkpoint.pth', map_location='cpu'))\n",
    "import time\n",
    "for i in range(1):\n",
    "    state = env.reset()\n",
    "    for j in range(200):\n",
    "        action = agent.act(state)\n",
    "        env.render()\n",
    "        state, reward, done = env.step(action)\n",
    "        time.sleep(0.1)\n",
    "        if done:\n",
    "            break \n",
    "path_x, path_y = env.viewer.return_path()      \n",
    "\n",
    "#env.close()"
   ]
  },
  {
   "cell_type": "code",
   "execution_count": 7,
   "metadata": {
    "scrolled": true
   },
   "outputs": [
    {
     "data": {
      "image/png": "[encoded data removed]",
      "text/plain": [
       "<Figure size 432x288 with 1 Axes>"
      ]
     },
     "metadata": {
      "needs_background": "light"
     },
     "output_type": "display_data"
    }
   ],
   "source": [
    "plt.scatter(path_x, path_y)\n",
    "plt.show()"
   ]
  },
  {
   "cell_type": "code",
   "execution_count": null,
   "metadata": {},
   "outputs": [],
   "source": []
  },
  {
   "cell_type": "code",
   "execution_count": null,
   "metadata": {},
   "outputs": [],
   "source": []
  }
 ],
 "metadata": {
  "kernelspec": {
   "display_name": "Python 3",
   "language": "python",
   "name": "python3"
  },
  "language_info": {
   "codemirror_mode": {
    "name": "ipython",
    "version": 3
   },
   "file_extension": ".py",
   "mimetype": "text/x-python",
   "name": "python",
   "nbconvert_exporter": "python",
   "pygments_lexer": "ipython3",
   "version": "3.6.9"
  }
 },
 "nbformat": 4,
 "nbformat_minor": 2
}
