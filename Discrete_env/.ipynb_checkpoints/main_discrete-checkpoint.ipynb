{
 "cells": [
  {
   "cell_type": "markdown",
   "metadata": {},
   "source": [
    "# 1. Import the Necessary Package"
   ]
  },
  {
   "cell_type": "code",
   "execution_count": 1,
   "metadata": {},
   "outputs": [],
   "source": [
    "import gym\n",
    "import random\n",
    "import torch\n",
    "import numpy as np\n",
    "import matplotlib.pyplot as plt\n",
    "from collections import deque\n",
    "import matplotlib.pyplot as plt\n",
    "%matplotlib inline"
   ]
  },
  {
   "cell_type": "markdown",
   "metadata": {},
   "source": [
    "# 2. Instantiate the Environment "
   ]
  },
  {
   "cell_type": "code",
   "execution_count": 2,
   "metadata": {},
   "outputs": [
    {
     "name": "stdout",
     "output_type": "stream",
     "text": [
      "State size : 7\n",
      "Action size :  5\n"
     ]
    }
   ],
   "source": [
    "from ff_env_discrete import FFEnv, Viewer  # Environemnt\n",
    "\n",
    "env = FFEnv()\n",
    "print(\"State size :\", env.state_size)\n",
    "print(\"Action size : \", env.action_size)"
   ]
  },
  {
   "cell_type": "markdown",
   "metadata": {},
   "source": [
    "# 3. Instantiate the Agent"
   ]
  },
  {
   "cell_type": "code",
   "execution_count": 3,
   "metadata": {},
   "outputs": [],
   "source": [
    "from dqn_agent import Agent\n",
    "\n",
    "agent = Agent(state_size=7, action_size=5, seed=0)"
   ]
  },
  {
   "cell_type": "markdown",
   "metadata": {},
   "source": [
    "# 4. Train the Agent with DQN"
   ]
  },
  {
   "cell_type": "code",
   "execution_count": 16,
   "metadata": {},
   "outputs": [
    {
     "name": "stdout",
     "output_type": "stream",
     "text": [
      "Episode 100\tAverage Score: -13866.39\n",
      "Episode 200\tAverage Score: -10543.32\n",
      "Episode 300\tAverage Score: -7444.121\n",
      "Episode 400\tAverage Score: -6581.29\n",
      "Episode 500\tAverage Score: -6643.91\n",
      "Episode 600\tAverage Score: -5405.13\n",
      "Episode 700\tAverage Score: -5541.29\n",
      "Episode 800\tAverage Score: -4922.94\n",
      "Episode 900\tAverage Score: -4658.79\n",
      "Episode 1000\tAverage Score: -4789.03\n",
      "Episode 1100\tAverage Score: -4172.81\n",
      "Episode 1200\tAverage Score: -3996.51\n",
      "Episode 1300\tAverage Score: -3978.78\n",
      "Episode 1400\tAverage Score: -3825.19\n",
      "Episode 1500\tAverage Score: -4357.20\n",
      "Episode 1600\tAverage Score: -4013.85\n",
      "Episode 1700\tAverage Score: -4427.62\n",
      "Episode 1800\tAverage Score: -4611.03\n",
      "Episode 1900\tAverage Score: -4002.14\n",
      "Episode 2000\tAverage Score: -4447.02\n"
     ]
    }
   ],
   "source": [
    "def dqn(n_episodes=2000, max_t=1000, eps_start=1.0, eps_end=0.01, eps_decay=0.995):\n",
    "    \"\"\"Deep Q-Learning.\n",
    "    \n",
    "    Params\n",
    "    ======\n",
    "        n_episodes (int): maximum number of training episodes\n",
    "        max_t (int): maximum number of timesteps per episode\n",
    "        eps_start (float): starting value of epsilon, for epsilon-greedy action selection\n",
    "        eps_end (float): minimum value of epsilon\n",
    "        eps_decay (float): multiplicative factor (per episode) for decreasing epsilon\n",
    "    \"\"\"\n",
    "    scores = []                        # list containing scores from each episode\n",
    "    scores_window = deque(maxlen=100)  # last 100 scores\n",
    "    eps = eps_start                    # initialize epsilon\n",
    "    for i_episode in range(1, n_episodes+1):\n",
    "        state = env.reset()\n",
    "        score = 0\n",
    "        for t in range(max_t):\n",
    "            action = agent.act(state, eps)\n",
    "            next_state, reward, done = env.step(action)\n",
    "            agent.step(state, action, reward, next_state, done)\n",
    "            state = next_state\n",
    "            score += reward\n",
    "            if done:\n",
    "                break \n",
    "        scores_window.append(score)       # save most recent score\n",
    "        scores.append(score)              # save most recent score\n",
    "        eps = max(eps_end, eps_decay*eps) # decrease epsilon\n",
    "        print('\\rEpisode {}\\tAverage Score: {:.2f}'.format(i_episode, np.mean(scores_window)), end=\"\")\n",
    "        if i_episode % 100 == 0:\n",
    "            print('\\rEpisode {}\\tAverage Score: {:.2f}'.format(i_episode, np.mean(scores_window)))\n",
    "            torch.save(agent.qnetwork_local.state_dict(), 'checkpoint.pth')\n",
    "        if i_episode >= n_episodes:\n",
    "            torch.save(agent.qnetwork_local.state_dict(), 'checkpoint.pth')\n",
    "            break\n",
    "            \n",
    "    return scores\n",
    "\n",
    "scores = dqn()"
   ]
  },
  {
   "cell_type": "code",
   "execution_count": 18,
   "metadata": {},
   "outputs": [
    {
     "data": {
      "image/png": "[encoded data removed]",
      "text/plain": [
       "<Figure size 432x288 with 1 Axes>"
      ]
     },
     "metadata": {
      "needs_background": "light"
     },
     "output_type": "display_data"
    }
   ],
   "source": [
    "# plot the scores\n",
    "fig = plt.figure()\n",
    "ax = fig.add_subplot(111)\n",
    "plt.plot(np.arange(len(scores)), scores)\n",
    "plt.ylabel('Score')\n",
    "plt.xlabel('Episode #')\n",
    "plt.show()"
   ]
  },
  {
   "cell_type": "markdown",
   "metadata": {},
   "source": [
    "# 5. Evaluate"
   ]
  },
  {
   "cell_type": "code",
   "execution_count": 5,
   "metadata": {
    "scrolled": true
   },
   "outputs": [
    {
     "name": "stdout",
     "output_type": "stream",
     "text": [
      "obj_center :  276.2499877061721 281.25000333299334 goal :  {'x': 100, 'y': 148, 'w': 25}\n",
      "obj_center :  273.4337241249159 281.9984250655398 goal :  {'x': 100, 'y': 148, 'w': 25}\n",
      "obj_center :  270.61011989600956 282.71865769289434 goal :  {'x': 100, 'y': 148, 'w': 25}\n",
      "obj_center :  267.7794520370662 283.41060811653733 goal :  {'x': 100, 'y': 148, 'w': 25}\n",
      "obj_center :  264.9420058866963 284.07421697396785 goal :  {'x': 100, 'y': 148, 'w': 25}\n",
      "obj_center :  262.09806783124804 284.7094246186316 goal :  {'x': 100, 'y': 148, 'w': 25}\n",
      "obj_center :  259.2540164191598 290.8121135208785 goal :  {'x': 100, 'y': 148, 'w': 25}\n",
      "obj_center :  256.33878348944165 290.1492103770943 goal :  {'x': 100, 'y': 148, 'w': 25}\n",
      "obj_center :  253.42844946535536 289.45860337303657 goal :  {'x': 100, 'y': 148, 'w': 25}\n",
      "obj_center :  250.52328177568825 288.7403037260435 goal :  {'x': 100, 'y': 148, 'w': 25}\n",
      "obj_center :  247.62347555481512 287.9943310622025 goal :  {'x': 100, 'y': 148, 'w': 25}\n",
      "obj_center :  244.7292329962491 287.2207467867304 goal :  {'x': 100, 'y': 148, 'w': 25}\n",
      "obj_center :  241.84081940007047 286.4195658885683 goal :  {'x': 100, 'y': 148, 'w': 25}\n",
      "obj_center :  238.95840927556236 285.5908527343536 goal :  {'x': 100, 'y': 148, 'w': 25}\n",
      "obj_center :  236.08221135395695 284.73461528855637 goal :  {'x': 100, 'y': 148, 'w': 25}\n",
      "obj_center :  233.21248770725617 283.8509077200547 goal :  {'x': 100, 'y': 148, 'w': 25}\n",
      "obj_center :  230.34939528367659 282.9397836403143 goal :  {'x': 100, 'y': 148, 'w': 25}\n",
      "obj_center :  227.4932297014169 282.00124711247895 goal :  {'x': 100, 'y': 148, 'w': 25}\n",
      "obj_center :  224.64411004795522 281.0353403852173 goal :  {'x': 100, 'y': 148, 'w': 25}\n",
      "obj_center :  221.80231933706295 280.04213639552063 goal :  {'x': 100, 'y': 148, 'w': 25}\n",
      "obj_center :  218.9680019995319 279.0216306044863 goal :  {'x': 100, 'y': 148, 'w': 25}\n",
      "obj_center :  216.1414450176585 277.9739062017643 goal :  {'x': 100, 'y': 148, 'w': 25}\n",
      "obj_center :  213.32282466685115 276.8989964825687 goal :  {'x': 100, 'y': 148, 'w': 25}\n",
      "obj_center :  210.51234192494746 275.79691593882217 goal :  {'x': 100, 'y': 148, 'w': 25}\n",
      "obj_center :  207.71017114399 274.66774453409016 goal :  {'x': 100, 'y': 148, 'w': 25}\n",
      "obj_center :  204.91660903482 273.51148012093176 goal :  {'x': 100, 'y': 148, 'w': 25}\n",
      "obj_center :  202.131780011415 272.3281926528398 goal :  {'x': 100, 'y': 148, 'w': 25}\n",
      "obj_center :  199.355946172779 271.1178999220874 goal :  {'x': 100, 'y': 148, 'w': 25}\n",
      "obj_center :  196.5892936565234 269.8806797478312 goal :  {'x': 100, 'y': 148, 'w': 25}\n",
      "obj_center :  193.83202181911201 268.6165264056194 goal :  {'x': 100, 'y': 148, 'w': 25}\n",
      "obj_center :  191.08433703454466 267.32551975615934 goal :  {'x': 100, 'y': 148, 'w': 25}\n",
      "obj_center :  188.346421319377 266.0076834826964 goal :  {'x': 100, 'y': 148, 'w': 25}\n",
      "obj_center :  185.61854715665447 264.6630672528454 goal :  {'x': 100, 'y': 148, 'w': 25}\n",
      "obj_center :  182.9008543753764 263.2916811516941 goal :  {'x': 100, 'y': 148, 'w': 25}\n",
      "obj_center :  180.1936052412634 261.89359831855313 goal :  {'x': 100, 'y': 148, 'w': 25}\n",
      "obj_center :  177.49693968941415 260.468833941452 goal :  {'x': 100, 'y': 148, 'w': 25}\n",
      "obj_center :  174.81112410723426 259.01744711647893 goal :  {'x': 100, 'y': 148, 'w': 25}\n",
      "obj_center :  172.1363031945657 257.5394383899402 goal :  {'x': 100, 'y': 148, 'w': 25}\n",
      "obj_center :  169.4727338082538 256.0348702650333 goal :  {'x': 100, 'y': 148, 'w': 25}\n",
      "obj_center :  166.8206327013877 254.50378667917448 goal :  {'x': 100, 'y': 148, 'w': 25}\n",
      "obj_center :  164.18011689553623 252.94621213981372 goal :  {'x': 100, 'y': 148, 'w': 25}\n",
      "obj_center :  161.55150317381413 251.36217459645195 goal :  {'x': 100, 'y': 148, 'w': 25}\n",
      "obj_center :  158.93495524755622 249.75169779145972 goal :  {'x': 100, 'y': 148, 'w': 25}\n",
      "obj_center :  156.33066235415754 248.11482712306315 goal :  {'x': 100, 'y': 148, 'w': 25}\n",
      "obj_center :  153.73889990532518 246.45162454565138 goal :  {'x': 100, 'y': 148, 'w': 25}\n",
      "obj_center :  151.15976908881748 244.76205060153006 goal :  {'x': 100, 'y': 148, 'w': 25}\n",
      "obj_center :  148.59357526168594 243.04619336326255 goal :  {'x': 100, 'y': 148, 'w': 25}\n",
      "obj_center :  146.04053681610594 241.30407237114696 goal :  {'x': 100, 'y': 148, 'w': 25}\n",
      "obj_center :  143.50078776664645 239.5356828430522 goal :  {'x': 100, 'y': 148, 'w': 25}\n",
      "obj_center :  140.9746741145409 237.7410994073125 goal :  {'x': 100, 'y': 148, 'w': 25}\n",
      "obj_center :  138.4622891760432 235.92028419481267 goal :  {'x': 100, 'y': 148, 'w': 25}\n",
      "obj_center :  135.9639268676483 234.07332227392203 goal :  {'x': 100, 'y': 148, 'w': 25}\n",
      "obj_center :  133.47979900189216 232.20021391768 goal :  {'x': 100, 'y': 148, 'w': 25}\n",
      "obj_center :  131.01013111245265 230.30098484543487 goal :  {'x': 100, 'y': 148, 'w': 25}\n",
      "obj_center :  128.5551521742036 228.37565115736993 goal :  {'x': 100, 'y': 148, 'w': 25}\n",
      "obj_center :  126.1151356371397 226.424258458469 goal :  {'x': 100, 'y': 148, 'w': 25}\n",
      "obj_center :  123.69028129117396 224.44679190878105 goal :  {'x': 100, 'y': 148, 'w': 25}\n",
      "obj_center :  121.28081318246927 222.44330779586676 goal :  {'x': 100, 'y': 148, 'w': 25}\n",
      "obj_center :  118.8870192296406 220.4137948764469 goal :  {'x': 100, 'y': 148, 'w': 25}\n",
      "obj_center :  116.50913039363331 218.35830282695042 goal :  {'x': 100, 'y': 148, 'w': 25}\n",
      "obj_center :  114.14738675436638 216.27683807480025 goal :  {'x': 100, 'y': 148, 'w': 25}\n",
      "obj_center :  111.8020322915936 214.16941163061892 goal :  {'x': 100, 'y': 148, 'w': 25}\n",
      "obj_center :  109.47343113392208 212.0360641268894 goal :  {'x': 100, 'y': 148, 'w': 25}\n",
      "obj_center :  107.16174403362174 209.8768113895676 goal :  {'x': 100, 'y': 148, 'w': 25}\n",
      "obj_center :  104.86729864535164 207.6916983329238 goal :  {'x': 100, 'y': 148, 'w': 25}\n",
      "obj_center :  102.59035845587732 205.48068645133867 goal :  {'x': 100, 'y': 148, 'w': 25}\n",
      "obj_center :  100.33117114027505 203.2438305522544 goal :  {'x': 100, 'y': 148, 'w': 25}\n",
      "obj_center :  98.0901095125705 200.98118889532998 goal :  {'x': 100, 'y': 148, 'w': 25}\n",
      "obj_center :  95.86734309033318 198.6927279290444 goal :  {'x': 100, 'y': 148, 'w': 25}\n",
      "obj_center :  93.66329574409292 196.37851087727086 goal :  {'x': 100, 'y': 148, 'w': 25}\n",
      "obj_center :  91.47824741003888 194.03860119009323 goal :  {'x': 100, 'y': 148, 'w': 25}\n",
      "obj_center :  91.47824741003888 194.03860119009323 goal :  {'x': 100, 'y': 148, 'w': 25}\n",
      "obj_center :  91.47824741003888 194.03860119009323 goal :  {'x': 100, 'y': 148, 'w': 25}\n",
      "obj_center :  91.47824741003888 194.03860119009323 goal :  {'x': 100, 'y': 148, 'w': 25}\n",
      "obj_center :  91.47824741003888 194.03860119009323 goal :  {'x': 100, 'y': 148, 'w': 25}\n",
      "obj_center :  91.47824741003888 194.03860119009323 goal :  {'x': 100, 'y': 148, 'w': 25}\n",
      "obj_center :  91.47824741003888 194.03860119009323 goal :  {'x': 100, 'y': 148, 'w': 25}\n",
      "obj_center :  91.47824741003888 194.03860119009323 goal :  {'x': 100, 'y': 148, 'w': 25}\n",
      "obj_center :  91.47824741003888 194.03860119009323 goal :  {'x': 100, 'y': 148, 'w': 25}\n",
      "obj_center :  91.47824741003888 194.03860119009323 goal :  {'x': 100, 'y': 148, 'w': 25}\n",
      "obj_center :  91.47824741003888 194.03860119009323 goal :  {'x': 100, 'y': 148, 'w': 25}\n",
      "obj_center :  91.47824741003888 194.03860119009323 goal :  {'x': 100, 'y': 148, 'w': 25}\n",
      "obj_center :  91.47824741003888 194.03860119009323 goal :  {'x': 100, 'y': 148, 'w': 25}\n",
      "obj_center :  91.47824741003888 194.03860119009323 goal :  {'x': 100, 'y': 148, 'w': 25}\n",
      "obj_center :  91.47824741003888 194.03860119009323 goal :  {'x': 100, 'y': 148, 'w': 25}\n",
      "obj_center :  91.47824741003888 194.03860119009323 goal :  {'x': 100, 'y': 148, 'w': 25}\n",
      "obj_center :  91.47824741003888 194.03860119009323 goal :  {'x': 100, 'y': 148, 'w': 25}\n",
      "obj_center :  91.47824741003888 194.03860119009323 goal :  {'x': 100, 'y': 148, 'w': 25}\n",
      "obj_center :  91.47824741003888 194.03860119009323 goal :  {'x': 100, 'y': 148, 'w': 25}\n",
      "obj_center :  91.47824741003888 194.03860119009323 goal :  {'x': 100, 'y': 148, 'w': 25}\n",
      "obj_center :  91.47824741003888 194.03860119009323 goal :  {'x': 100, 'y': 148, 'w': 25}\n",
      "obj_center :  91.47824741003888 194.03860119009323 goal :  {'x': 100, 'y': 148, 'w': 25}\n",
      "obj_center :  91.47824741003888 194.03860119009323 goal :  {'x': 100, 'y': 148, 'w': 25}\n",
      "obj_center :  91.47824741003888 194.03860119009323 goal :  {'x': 100, 'y': 148, 'w': 25}\n",
      "obj_center :  91.47824741003888 194.03860119009323 goal :  {'x': 100, 'y': 148, 'w': 25}\n",
      "obj_center :  91.47824741003888 194.03860119009323 goal :  {'x': 100, 'y': 148, 'w': 25}\n",
      "obj_center :  91.47824741003888 194.03860119009323 goal :  {'x': 100, 'y': 148, 'w': 25}\n",
      "obj_center :  91.47824741003888 194.03860119009323 goal :  {'x': 100, 'y': 148, 'w': 25}\n",
      "obj_center :  91.47824741003888 194.03860119009323 goal :  {'x': 100, 'y': 148, 'w': 25}\n",
      "obj_center :  91.47824741003888 194.03860119009323 goal :  {'x': 100, 'y': 148, 'w': 25}\n",
      "obj_center :  91.47824741003888 194.03860119009323 goal :  {'x': 100, 'y': 148, 'w': 25}\n",
      "obj_center :  91.47824741003888 194.03860119009323 goal :  {'x': 100, 'y': 148, 'w': 25}\n",
      "obj_center :  91.47824741003888 194.03860119009323 goal :  {'x': 100, 'y': 148, 'w': 25}\n",
      "obj_center :  91.47824741003888 194.03860119009323 goal :  {'x': 100, 'y': 148, 'w': 25}\n",
      "obj_center :  91.47824741003888 194.03860119009323 goal :  {'x': 100, 'y': 148, 'w': 25}\n",
      "obj_center :  91.47824741003888 194.03860119009323 goal :  {'x': 100, 'y': 148, 'w': 25}\n",
      "obj_center :  91.47824741003888 194.03860119009323 goal :  {'x': 100, 'y': 148, 'w': 25}\n",
      "obj_center :  91.47824741003888 194.03860119009323 goal :  {'x': 100, 'y': 148, 'w': 25}\n",
      "obj_center :  91.47824741003888 194.03860119009323 goal :  {'x': 100, 'y': 148, 'w': 25}\n",
      "obj_center :  91.47824741003888 194.03860119009323 goal :  {'x': 100, 'y': 148, 'w': 25}\n",
      "obj_center :  91.47824741003888 194.03860119009323 goal :  {'x': 100, 'y': 148, 'w': 25}\n",
      "obj_center :  91.47824741003888 194.03860119009323 goal :  {'x': 100, 'y': 148, 'w': 25}\n",
      "obj_center :  91.47824741003888 194.03860119009323 goal :  {'x': 100, 'y': 148, 'w': 25}\n",
      "obj_center :  91.47824741003888 194.03860119009323 goal :  {'x': 100, 'y': 148, 'w': 25}\n",
      "obj_center :  91.47824741003888 194.03860119009323 goal :  {'x': 100, 'y': 148, 'w': 25}\n",
      "obj_center :  91.47824741003888 194.03860119009323 goal :  {'x': 100, 'y': 148, 'w': 25}\n",
      "obj_center :  91.47824741003888 194.03860119009323 goal :  {'x': 100, 'y': 148, 'w': 25}\n",
      "obj_center :  91.47824741003888 194.03860119009323 goal :  {'x': 100, 'y': 148, 'w': 25}\n",
      "obj_center :  91.47824741003888 194.03860119009323 goal :  {'x': 100, 'y': 148, 'w': 25}\n",
      "obj_center :  91.47824741003888 194.03860119009323 goal :  {'x': 100, 'y': 148, 'w': 25}\n",
      "obj_center :  91.47824741003888 194.03860119009323 goal :  {'x': 100, 'y': 148, 'w': 25}\n",
      "obj_center :  91.47824741003888 194.03860119009323 goal :  {'x': 100, 'y': 148, 'w': 25}\n",
      "obj_center :  91.47824741003888 194.03860119009323 goal :  {'x': 100, 'y': 148, 'w': 25}\n",
      "obj_center :  91.47824741003888 194.03860119009323 goal :  {'x': 100, 'y': 148, 'w': 25}\n",
      "obj_center :  91.47824741003888 194.03860119009323 goal :  {'x': 100, 'y': 148, 'w': 25}\n",
      "obj_center :  91.47824741003888 194.03860119009323 goal :  {'x': 100, 'y': 148, 'w': 25}\n",
      "obj_center :  91.47824741003888 194.03860119009323 goal :  {'x': 100, 'y': 148, 'w': 25}\n",
      "obj_center :  91.47824741003888 194.03860119009323 goal :  {'x': 100, 'y': 148, 'w': 25}\n",
      "obj_center :  91.47824741003888 194.03860119009323 goal :  {'x': 100, 'y': 148, 'w': 25}\n",
      "obj_center :  91.47824741003888 194.03860119009323 goal :  {'x': 100, 'y': 148, 'w': 25}\n",
      "obj_center :  91.47824741003888 194.03860119009323 goal :  {'x': 100, 'y': 148, 'w': 25}\n",
      "obj_center :  91.47824741003888 194.03860119009323 goal :  {'x': 100, 'y': 148, 'w': 25}\n",
      "obj_center :  91.47824741003888 194.03860119009323 goal :  {'x': 100, 'y': 148, 'w': 25}\n",
      "obj_center :  91.47824741003888 194.03860119009323 goal :  {'x': 100, 'y': 148, 'w': 25}\n",
      "obj_center :  91.47824741003888 194.03860119009323 goal :  {'x': 100, 'y': 148, 'w': 25}\n",
      "obj_center :  91.47824741003888 194.03860119009323 goal :  {'x': 100, 'y': 148, 'w': 25}\n",
      "obj_center :  91.47824741003888 194.03860119009323 goal :  {'x': 100, 'y': 148, 'w': 25}\n",
      "obj_center :  91.47824741003888 194.03860119009323 goal :  {'x': 100, 'y': 148, 'w': 25}\n",
      "obj_center :  91.47824741003888 194.03860119009323 goal :  {'x': 100, 'y': 148, 'w': 25}\n",
      "obj_center :  91.47824741003888 194.03860119009323 goal :  {'x': 100, 'y': 148, 'w': 25}\n",
      "obj_center :  91.47824741003888 194.03860119009323 goal :  {'x': 100, 'y': 148, 'w': 25}\n",
      "obj_center :  91.47824741003888 194.03860119009323 goal :  {'x': 100, 'y': 148, 'w': 25}\n",
      "obj_center :  91.47824741003888 194.03860119009323 goal :  {'x': 100, 'y': 148, 'w': 25}\n",
      "obj_center :  91.47824741003888 194.03860119009323 goal :  {'x': 100, 'y': 148, 'w': 25}\n",
      "obj_center :  91.47824741003888 194.03860119009323 goal :  {'x': 100, 'y': 148, 'w': 25}\n",
      "obj_center :  91.47824741003888 194.03860119009323 goal :  {'x': 100, 'y': 148, 'w': 25}\n",
      "obj_center :  91.47824741003888 194.03860119009323 goal :  {'x': 100, 'y': 148, 'w': 25}\n",
      "obj_center :  91.47824741003888 194.03860119009323 goal :  {'x': 100, 'y': 148, 'w': 25}\n",
      "obj_center :  91.47824741003888 194.03860119009323 goal :  {'x': 100, 'y': 148, 'w': 25}\n",
      "obj_center :  91.47824741003888 194.03860119009323 goal :  {'x': 100, 'y': 148, 'w': 25}\n",
      "obj_center :  91.47824741003888 194.03860119009323 goal :  {'x': 100, 'y': 148, 'w': 25}\n",
      "obj_center :  91.47824741003888 194.03860119009323 goal :  {'x': 100, 'y': 148, 'w': 25}\n",
      "obj_center :  91.47824741003888 194.03860119009323 goal :  {'x': 100, 'y': 148, 'w': 25}\n",
      "obj_center :  91.47824741003888 194.03860119009323 goal :  {'x': 100, 'y': 148, 'w': 25}\n",
      "obj_center :  91.47824741003888 194.03860119009323 goal :  {'x': 100, 'y': 148, 'w': 25}\n",
      "obj_center :  91.47824741003888 194.03860119009323 goal :  {'x': 100, 'y': 148, 'w': 25}\n",
      "obj_center :  91.47824741003888 194.03860119009323 goal :  {'x': 100, 'y': 148, 'w': 25}\n",
      "obj_center :  91.47824741003888 194.03860119009323 goal :  {'x': 100, 'y': 148, 'w': 25}\n",
      "obj_center :  91.47824741003888 194.03860119009323 goal :  {'x': 100, 'y': 148, 'w': 25}\n",
      "obj_center :  91.47824741003888 194.03860119009323 goal :  {'x': 100, 'y': 148, 'w': 25}\n",
      "obj_center :  91.47824741003888 194.03860119009323 goal :  {'x': 100, 'y': 148, 'w': 25}\n",
      "obj_center :  91.47824741003888 194.03860119009323 goal :  {'x': 100, 'y': 148, 'w': 25}\n",
      "obj_center :  91.47824741003888 194.03860119009323 goal :  {'x': 100, 'y': 148, 'w': 25}\n",
      "obj_center :  91.47824741003888 194.03860119009323 goal :  {'x': 100, 'y': 148, 'w': 25}\n",
      "obj_center :  91.47824741003888 194.03860119009323 goal :  {'x': 100, 'y': 148, 'w': 25}\n",
      "obj_center :  91.47824741003888 194.03860119009323 goal :  {'x': 100, 'y': 148, 'w': 25}\n",
      "obj_center :  91.47824741003888 194.03860119009323 goal :  {'x': 100, 'y': 148, 'w': 25}\n",
      "obj_center :  91.47824741003888 194.03860119009323 goal :  {'x': 100, 'y': 148, 'w': 25}\n",
      "obj_center :  91.47824741003888 194.03860119009323 goal :  {'x': 100, 'y': 148, 'w': 25}\n",
      "obj_center :  91.47824741003888 194.03860119009323 goal :  {'x': 100, 'y': 148, 'w': 25}\n",
      "obj_center :  91.47824741003888 194.03860119009323 goal :  {'x': 100, 'y': 148, 'w': 25}\n",
      "obj_center :  91.47824741003888 194.03860119009323 goal :  {'x': 100, 'y': 148, 'w': 25}\n",
      "obj_center :  91.47824741003888 194.03860119009323 goal :  {'x': 100, 'y': 148, 'w': 25}\n",
      "obj_center :  91.47824741003888 194.03860119009323 goal :  {'x': 100, 'y': 148, 'w': 25}\n",
      "obj_center :  91.47824741003888 194.03860119009323 goal :  {'x': 100, 'y': 148, 'w': 25}\n",
      "obj_center :  91.47824741003888 194.03860119009323 goal :  {'x': 100, 'y': 148, 'w': 25}\n",
      "obj_center :  91.47824741003888 194.03860119009323 goal :  {'x': 100, 'y': 148, 'w': 25}\n",
      "obj_center :  91.47824741003888 194.03860119009323 goal :  {'x': 100, 'y': 148, 'w': 25}\n",
      "obj_center :  91.47824741003888 194.03860119009323 goal :  {'x': 100, 'y': 148, 'w': 25}\n",
      "obj_center :  91.47824741003888 194.03860119009323 goal :  {'x': 100, 'y': 148, 'w': 25}\n",
      "obj_center :  91.47824741003888 194.03860119009323 goal :  {'x': 100, 'y': 148, 'w': 25}\n",
      "obj_center :  91.47824741003888 194.03860119009323 goal :  {'x': 100, 'y': 148, 'w': 25}\n",
      "obj_center :  91.47824741003888 194.03860119009323 goal :  {'x': 100, 'y': 148, 'w': 25}\n",
      "obj_center :  91.47824741003888 194.03860119009323 goal :  {'x': 100, 'y': 148, 'w': 25}\n",
      "obj_center :  91.47824741003888 194.03860119009323 goal :  {'x': 100, 'y': 148, 'w': 25}\n",
      "obj_center :  91.47824741003888 194.03860119009323 goal :  {'x': 100, 'y': 148, 'w': 25}\n",
      "obj_center :  91.47824741003888 194.03860119009323 goal :  {'x': 100, 'y': 148, 'w': 25}\n",
      "obj_center :  91.47824741003888 194.03860119009323 goal :  {'x': 100, 'y': 148, 'w': 25}\n",
      "obj_center :  91.47824741003888 194.03860119009323 goal :  {'x': 100, 'y': 148, 'w': 25}\n",
      "obj_center :  91.47824741003888 194.03860119009323 goal :  {'x': 100, 'y': 148, 'w': 25}\n",
      "obj_center :  91.47824741003888 194.03860119009323 goal :  {'x': 100, 'y': 148, 'w': 25}\n",
      "obj_center :  91.47824741003888 194.03860119009323 goal :  {'x': 100, 'y': 148, 'w': 25}\n",
      "obj_center :  91.47824741003888 194.03860119009323 goal :  {'x': 100, 'y': 148, 'w': 25}\n",
      "obj_center :  91.47824741003888 194.03860119009323 goal :  {'x': 100, 'y': 148, 'w': 25}\n",
      "obj_center :  91.47824741003888 194.03860119009323 goal :  {'x': 100, 'y': 148, 'w': 25}\n",
      "obj_center :  91.47824741003888 194.03860119009323 goal :  {'x': 100, 'y': 148, 'w': 25}\n",
      "obj_center :  91.47824741003888 194.03860119009323 goal :  {'x': 100, 'y': 148, 'w': 25}\n",
      "obj_center :  91.47824741003888 194.03860119009323 goal :  {'x': 100, 'y': 148, 'w': 25}\n",
      "obj_center :  91.47824741003888 194.03860119009323 goal :  {'x': 100, 'y': 148, 'w': 25}\n",
      "obj_center :  91.47824741003888 194.03860119009323 goal :  {'x': 100, 'y': 148, 'w': 25}\n"
     ]
    }
   ],
   "source": [
    "# load the weights from file\n",
    "agent.qnetwork_local.load_state_dict(torch.load('checkpoint_goal_100_148.pth', map_location='cpu'))\n",
    "\n",
    "for i in range(1):\n",
    "    state = env.reset()\n",
    "    for j in range(200):\n",
    "        action = agent.act(state)\n",
    "        env.render()\n",
    "        state, reward, done = env.step(action)\n",
    "        if done:\n",
    "            break \n",
    "path_x, path_y = env.viewer.return_path()            \n",
    "#env.close()"
   ]
  },
  {
   "cell_type": "code",
   "execution_count": 8,
   "metadata": {},
   "outputs": [
    {
     "data": {
      "image/png": "[encoded data removed]",
      "text/plain": [
       "<Figure size 432x288 with 1 Axes>"
      ]
     },
     "metadata": {
      "needs_background": "light"
     },
     "output_type": "display_data"
    }
   ],
   "source": [
    "plt.scatter(path_x, path_y)\n",
    "plt.show()"
   ]
  },
  {
   "cell_type": "code",
   "execution_count": 7,
   "metadata": {},
   "outputs": [
    {
     "data": {
      "image/png": "[encoded data removed]",
      "text/plain": [
       "<Figure size 432x288 with 1 Axes>"
      ]
     },
     "metadata": {
      "needs_background": "light"
     },
     "output_type": "display_data"
    }
   ],
   "source": [
    "import numpy as np\n",
    "import matplotlib.pyplot as plt\n",
    "\n",
    "x = np.random.rand(50)\n",
    "y = np.random.rand(50)\n",
    "x\n",
    "plt.scatter(path_x, path_y)\n",
    "plt.show()"
   ]
  },
  {
   "cell_type": "code",
   "execution_count": 8,
   "metadata": {},
   "outputs": [
    {
     "data": {
      "text/plain": [
       "array([0.8772199 , 0.23282825, 0.42024674, 0.37494073, 0.96503586,\n",
       "       0.16392386, 0.10643643, 0.24697046, 0.46885732, 0.13044376,\n",
       "       0.68765113, 0.72341369, 0.24167508, 0.27201097, 0.44575089,\n",
       "       0.06447344, 0.82793536, 0.58380374, 0.62185173, 0.70177808,\n",
       "       0.12572188, 0.34497298, 0.16297421, 0.57679508, 0.24409358,\n",
       "       0.61521963, 0.93262964, 0.67612629, 0.50910336, 0.51366492,\n",
       "       0.21081832, 0.75121458, 0.76481765, 0.50845248, 0.13543852,\n",
       "       0.42833735, 0.01216652, 0.78481556, 0.43879992, 0.90958641,\n",
       "       0.24980902, 0.89208685, 0.51561328, 0.1930738 , 0.66945094,\n",
       "       0.14027884, 0.92941089, 0.47402123, 0.33173772, 0.01713142])"
      ]
     },
     "execution_count": 8,
     "metadata": {},
     "output_type": "execute_result"
    }
   ],
   "source": [
    "x"
   ]
  },
  {
   "cell_type": "code",
   "execution_count": 33,
   "metadata": {},
   "outputs": [],
   "source": [
    "a = np.array([])"
   ]
  },
  {
   "cell_type": "code",
   "execution_count": 38,
   "metadata": {},
   "outputs": [],
   "source": [
    "a = np.insert(a,0,[7])"
   ]
  },
  {
   "cell_type": "code",
   "execution_count": 39,
   "metadata": {},
   "outputs": [
    {
     "data": {
      "text/plain": [
       "array([7., 6., 5.])"
      ]
     },
     "execution_count": 39,
     "metadata": {},
     "output_type": "execute_result"
    }
   ],
   "source": [
    "a"
   ]
  },
  {
   "cell_type": "code",
   "execution_count": null,
   "metadata": {},
   "outputs": [],
   "source": []
  },
  {
   "cell_type": "code",
   "execution_count": null,
   "metadata": {},
   "outputs": [],
   "source": []
  },
  {
   "cell_type": "code",
   "execution_count": 12,
   "metadata": {},
   "outputs": [
    {
     "data": {
      "text/plain": [
       "(array([164.]), array([200.]))"
      ]
     },
     "execution_count": 12,
     "metadata": {},
     "output_type": "execute_result"
    }
   ],
   "source": [
    "env.get_goal_point()"
   ]
  },
  {
   "cell_type": "code",
   "execution_count": 6,
   "metadata": {
    "scrolled": true
   },
   "outputs": [
    {
     "name": "stdout",
     "output_type": "stream",
     "text": [
      "[1.57079637 1.46014261 1.38124994 1.40625002 0.88124994 0.66625002\n",
      " 0.        ]\n"
     ]
    }
   ],
   "source": [
    "state = env.reset()\n",
    "print(state)"
   ]
  },
  {
   "cell_type": "code",
   "execution_count": 11,
   "metadata": {},
   "outputs": [
    {
     "name": "stdout",
     "output_type": "stream",
     "text": [
      "4\n"
     ]
    }
   ],
   "source": [
    "action = env.sample_action()\n",
    "print(action)"
   ]
  },
  {
   "cell_type": "code",
   "execution_count": 13,
   "metadata": {},
   "outputs": [
    {
     "name": "stdout",
     "output_type": "stream",
     "text": [
      "-14.312334312097306\n",
      "next_state :  [1.55934012 1.45014262 1.39780562 1.44287516 0.94280562 0.36787516\n",
      " 0.        ]\n",
      "reward :  -14.312334312097306\n",
      "done :  False\n"
     ]
    }
   ],
   "source": [
    "next_state, reward, done = env.step(action)\n",
    "print(\"next_state : \", next_state)\n",
    "print(\"reward : \", reward)\n",
    "print(\"done : \", done)"
   ]
  },
  {
   "cell_type": "code",
   "execution_count": null,
   "metadata": {},
   "outputs": [],
   "source": []
  }
 ],
 "metadata": {
  "kernelspec": {
   "display_name": "Python 3",
   "language": "python",
   "name": "python3"
  },
  "language_info": {
   "codemirror_mode": {
    "name": "ipython",
    "version": 3
   },
   "file_extension": ".py",
   "mimetype": "text/x-python",
   "name": "python",
   "nbconvert_exporter": "python",
   "pygments_lexer": "ipython3",
   "version": "3.6.9"
  }
 },
 "nbformat": 4,
 "nbformat_minor": 2
}
