{
 "cells": [
  {
   "cell_type": "code",
   "execution_count": 2,
   "metadata": {},
   "outputs": [],
   "source": [
    "from ff_env_discrete import FFEnv, Viewer"
   ]
  },
  {
   "cell_type": "code",
   "execution_count": 3,
   "metadata": {},
   "outputs": [],
   "source": [
    "# Instantiating the agent\n",
    "env = FFEnv()\n",
    "\n"
   ]
  },
  {
   "cell_type": "code",
   "execution_count": 4,
   "metadata": {},
   "outputs": [
    {
     "name": "stdout",
     "output_type": "stream",
     "text": [
      "state :  [1.57079637 1.46014261 1.38124994 1.40625002 1.20624994 0.74625002\n",
      " 0.        ]\n",
      "action :  3\n",
      "action from agent :  3\n",
      "Action choosen is Sliding on Left Finger Down\n",
      "Action of Sliding on Left Finger Down is taken\n",
      "ff_info :  [(102.7626 , 1.5698084, 0) ( 98.61542, 1.4606426, 0)]\n",
      "next_state :  [1.56980836 1.46064258 1.38267326 1.4404052  1.20767326 0.7804052\n",
      " 0.        ]\n",
      "reward :  [-20.33473369]\n",
      "done :  False\n",
      "----------------------\n",
      "action :  0\n",
      "action from agent :  0\n",
      "Action choosen is Do Nothing\n",
      "ff_info :  [(102.7626 , 1.5698084, 0) ( 98.61542, 1.4606426, 0)]\n",
      "next_state :  [1.56980836 1.46064258 1.38267326 1.4404052  1.20767326 0.7804052\n",
      " 0.        ]\n",
      "reward :  [-20.33473369]\n",
      "done :  False\n",
      "----------------------\n",
      "action :  3\n",
      "action from agent :  3\n",
      "Action choosen is Sliding on Left Finger Down\n",
      "Action of Sliding on Left Finger Down is taken\n",
      "ff_info :  [(102.73761, 1.5703081, 0) ( 98.61542, 1.4611425, 0)]\n",
      "next_state :  [1.57030809 1.46114254 1.38195325 1.44028381 1.20695325 0.78028381\n",
      " 0.        ]\n",
      "reward :  [-20.32525013]\n",
      "done :  False\n",
      "----------------------\n",
      "action :  4\n",
      "action from agent :  4\n",
      "Action choosen is Sliding on Left Finger UP\n",
      "Action of Sliding on Left Finger UP is taken\n",
      "ff_info :  [(102.7626 , 1.5698084, 0) ( 98.61542, 1.4606426, 0)]\n",
      "next_state :  [1.56980836 1.46064258 1.38267326 1.4404052  1.20767326 0.7804052\n",
      " 0.        ]\n",
      "reward :  [-20.33473369]\n",
      "done :  False\n",
      "----------------------\n",
      "action :  4\n",
      "action from agent :  4\n",
      "Action choosen is Sliding on Left Finger UP\n",
      "Action of Sliding on Left Finger UP is taken\n",
      "ff_info :  [(102.7876 , 1.5693086, 0) ( 98.61542, 1.4601426, 0)]\n",
      "next_state :  [1.56930864 1.46014261 1.38339347 1.44052616 1.20839347 0.78052616\n",
      " 0.        ]\n",
      "reward :  [-20.34421714]\n",
      "done :  False\n",
      "----------------------\n",
      "action :  3\n",
      "action from agent :  3\n",
      "Action choosen is Sliding on Left Finger Down\n",
      "Action of Sliding on Left Finger Down is taken\n",
      "ff_info :  [(102.7626 , 1.5698084, 0) ( 98.61542, 1.4606426, 0)]\n",
      "next_state :  [1.56980836 1.46064258 1.38267326 1.4404052  1.20767326 0.7804052\n",
      " 0.        ]\n",
      "reward :  [-20.33473369]\n",
      "done :  False\n",
      "----------------------\n",
      "action :  2\n",
      "action from agent :  2\n",
      "Action choosen is Sliding on Right Finger Down\n",
      "Action of Sliding on Right Finger Up is taken\n",
      "ff_info :  [(102.7626  , 1.5693084, 0) (101.340355, 1.4615841, 0)]\n",
      "next_state :  [1.5693084  1.46158409 1.38339335 1.44021364 1.20839335 0.78021364\n",
      " 0.        ]\n",
      "reward :  [-20.34181805]\n",
      "done :  False\n",
      "----------------------\n",
      "action :  2\n",
      "action from agent :  2\n",
      "Action choosen is Sliding on Right Finger Down\n",
      "Action of Sliding on Right Finger Up is taken\n",
      "ff_info :  [(102.7626  , 1.5688084, 0) (101.315025, 1.4610572, 0)]\n",
      "next_state :  [1.56880844 1.46105719 1.38411337 1.44002183 1.20911337 0.78002183\n",
      " 0.        ]\n",
      "reward :  [-20.34890261]\n",
      "done :  False\n",
      "----------------------\n",
      "action :  3\n",
      "action from agent :  3\n",
      "Action choosen is Sliding on Left Finger Down\n",
      "Crossing limits d0 > 105\n",
      " Action not taken\n",
      "ff_info :  [(102.7626  , 1.5688084, 0) (101.315025, 1.4610572, 0)]\n",
      "next_state :  [1.56880844 1.46105719 1.38411337 1.44002183 1.20911337 0.78002183\n",
      " 0.        ]\n",
      "reward :  [-20.34890261]\n",
      "done :  False\n",
      "----------------------\n",
      "action :  1\n",
      "action from agent :  1\n",
      "Action choosen is Sliding on Right Finger Up\n",
      "Action of Sliding on Right Finger Up is taken\n",
      "ff_info :  [(102.7626  , 1.5693084, 0) (101.340355, 1.4615841, 0)]\n",
      "next_state :  [1.5693084  1.46158409 1.38339335 1.44021364 1.20839335 0.78021364\n",
      " 0.        ]\n",
      "reward :  [-20.34181805]\n",
      "done :  False\n",
      "----------------------\n"
     ]
    }
   ],
   "source": [
    "state = env.reset()\n",
    "print(\"state : \", state)\n",
    "for i in range(10):\n",
    "    action = env.sample_action()\n",
    "    print(\"action : \", action)\n",
    "    \n",
    "    next_state, reward, done = env.step(action)\n",
    "    print(\"next_state : \", next_state)\n",
    "    print(\"reward : \", reward)\n",
    "    print(\"done : \", done)\n",
    "    \n",
    "    \n",
    "    print('----------------------')"
   ]
  },
  {
   "cell_type": "markdown",
   "metadata": {},
   "source": [
    "# 1. Import the Necessary Package"
   ]
  },
  {
   "cell_type": "code",
   "execution_count": 1,
   "metadata": {},
   "outputs": [],
   "source": [
    "import gym\n",
    "import random\n",
    "import torch\n",
    "import numpy as np\n",
    "from collections import deque\n",
    "import matplotlib.pyplot as plt\n",
    "%matplotlib inline"
   ]
  },
  {
   "cell_type": "markdown",
   "metadata": {},
   "source": [
    "# 2. Instantiate the Environment "
   ]
  },
  {
   "cell_type": "code",
   "execution_count": 2,
   "metadata": {},
   "outputs": [
    {
     "name": "stdout",
     "output_type": "stream",
     "text": [
      "State size : 7\n",
      "Action size :  5\n"
     ]
    }
   ],
   "source": [
    "from ff_env_discrete import FFEnv, Viewer  # Environemnt\n",
    "\n",
    "env = FFEnv()\n",
    "print(\"State size :\", env.state_size)\n",
    "print(\"Action size : \", env.action_size)"
   ]
  },
  {
   "cell_type": "markdown",
   "metadata": {},
   "source": [
    "# 3. Instantiate the Agent"
   ]
  },
  {
   "cell_type": "code",
   "execution_count": 3,
   "metadata": {},
   "outputs": [],
   "source": [
    "from dqn_agent import Agent\n",
    "\n",
    "agent = Agent(state_size=7, action_size=5, seed=0)"
   ]
  },
  {
   "cell_type": "markdown",
   "metadata": {},
   "source": [
    "# 4. Train the Agent with DQN"
   ]
  },
  {
   "cell_type": "code",
   "execution_count": 4,
   "metadata": {},
   "outputs": [
    {
     "name": "stdout",
     "output_type": "stream",
     "text": [
      "Episode 100\tAverage Score: -17118.29\n",
      "Episode 200\tAverage Score: -16595.84\n",
      "Episode 300\tAverage Score: -16466.68\n",
      "Episode 400\tAverage Score: -16865.13\n",
      "Episode 500\tAverage Score: -15934.08\n",
      "Episode 600\tAverage Score: -17152.56\n",
      "Episode 700\tAverage Score: -16575.28\n",
      "Episode 800\tAverage Score: -16412.98\n",
      "Episode 900\tAverage Score: -16653.22\n",
      "Episode 1000\tAverage Score: -15347.15\n",
      "Episode 1100\tAverage Score: -16236.04\n",
      "Episode 1200\tAverage Score: -15308.06\n",
      "Episode 1300\tAverage Score: -17111.84\n",
      "Episode 1400\tAverage Score: -16437.78\n",
      "Episode 1500\tAverage Score: -15613.68\n",
      "Episode 1600\tAverage Score: -17401.03\n",
      "Episode 1700\tAverage Score: -15998.88\n",
      "Episode 1800\tAverage Score: -17229.65\n",
      "Episode 1900\tAverage Score: -15940.16\n",
      "Episode 2000\tAverage Score: -15431.22\n"
     ]
    }
   ],
   "source": [
    "def dqn(n_episodes=2000, max_t=1000, eps_start=1.0, eps_end=0.01, eps_decay=0.995):\n",
    "    \"\"\"Deep Q-Learning.\n",
    "    \n",
    "    Params\n",
    "    ======\n",
    "        n_episodes (int): maximum number of training episodes\n",
    "        max_t (int): maximum number of timesteps per episode\n",
    "        eps_start (float): starting value of epsilon, for epsilon-greedy action selection\n",
    "        eps_end (float): minimum value of epsilon\n",
    "        eps_decay (float): multiplicative factor (per episode) for decreasing epsilon\n",
    "    \"\"\"\n",
    "    scores = []                        # list containing scores from each episode\n",
    "    scores_window = deque(maxlen=100)  # last 100 scores\n",
    "    eps = eps_start                    # initialize epsilon\n",
    "    for i_episode in range(1, n_episodes+1):\n",
    "        state = env.reset()\n",
    "        score = 0\n",
    "        for t in range(max_t):\n",
    "            action = agent.act(state, eps)\n",
    "            next_state, reward, done = env.step(action)\n",
    "            agent.step(state, action, reward, next_state, done)\n",
    "            state = next_state\n",
    "            score += reward\n",
    "            if done:\n",
    "                break \n",
    "        scores_window.append(score)       # save most recent score\n",
    "        scores.append(score)              # save most recent score\n",
    "        eps = max(eps_end, eps_decay*eps) # decrease epsilon\n",
    "        print('\\rEpisode {}\\tAverage Score: {:.2f}'.format(i_episode, np.mean(scores_window)), end=\"\")\n",
    "        if i_episode % 100 == 0:\n",
    "            print('\\rEpisode {}\\tAverage Score: {:.2f}'.format(i_episode, np.mean(scores_window)))\n",
    "        if np.mean(scores_window)>=200.0:\n",
    "            print('\\nEnvironment solved in {:d} episodes!\\tAverage Score: {:.2f}'.format(i_episode-100, np.mean(scores_window)))\n",
    "            torch.save(agent.qnetwork_local.state_dict(), 'checkpoint.pth')\n",
    "            break\n",
    "    return scores\n",
    "\n",
    "scores = dqn()"
   ]
  },
  {
   "cell_type": "code",
   "execution_count": 5,
   "metadata": {},
   "outputs": [
    {
     "data": {
      "image/png": "[encoded data removed]",
      "text/plain": [
       "<Figure size 432x288 with 1 Axes>"
      ]
     },
     "metadata": {
      "needs_background": "light"
     },
     "output_type": "display_data"
    }
   ],
   "source": [
    "# plot the scores\n",
    "fig = plt.figure()\n",
    "ax = fig.add_subplot(111)\n",
    "plt.plot(np.arange(len(scores)), scores)\n",
    "plt.ylabel('Score')\n",
    "plt.xlabel('Episode #')\n",
    "plt.show()"
   ]
  },
  {
   "cell_type": "code",
   "execution_count": 4,
   "metadata": {},
   "outputs": [
    {
     "ename": "FileNotFoundError",
     "evalue": "[Errno 2] No such file or directory: 'checkpoint.pth'",
     "output_type": "error",
     "traceback": [
      "\u001b[0;31m---------------------------------------------------------------------------\u001b[0m",
      "\u001b[0;31mFileNotFoundError\u001b[0m                         Traceback (most recent call last)",
      "\u001b[0;32m<ipython-input-4-8b5c788bc52f>\u001b[0m in \u001b[0;36m<module>\u001b[0;34m\u001b[0m\n\u001b[1;32m      1\u001b[0m \u001b[0;31m# load the weights from file\u001b[0m\u001b[0;34m\u001b[0m\u001b[0;34m\u001b[0m\u001b[0;34m\u001b[0m\u001b[0m\n\u001b[0;32m----> 2\u001b[0;31m \u001b[0magent\u001b[0m\u001b[0;34m.\u001b[0m\u001b[0mqnetwork_local\u001b[0m\u001b[0;34m.\u001b[0m\u001b[0mload_state_dict\u001b[0m\u001b[0;34m(\u001b[0m\u001b[0mtorch\u001b[0m\u001b[0;34m.\u001b[0m\u001b[0mload\u001b[0m\u001b[0;34m(\u001b[0m\u001b[0;34m'checkpoint.pth'\u001b[0m\u001b[0;34m)\u001b[0m\u001b[0;34m)\u001b[0m\u001b[0;34m\u001b[0m\u001b[0;34m\u001b[0m\u001b[0m\n\u001b[0m\u001b[1;32m      3\u001b[0m \u001b[0;34m\u001b[0m\u001b[0m\n\u001b[1;32m      4\u001b[0m \u001b[0;32mfor\u001b[0m \u001b[0mi\u001b[0m \u001b[0;32min\u001b[0m \u001b[0mrange\u001b[0m\u001b[0;34m(\u001b[0m\u001b[0;36m3\u001b[0m\u001b[0;34m)\u001b[0m\u001b[0;34m:\u001b[0m\u001b[0;34m\u001b[0m\u001b[0;34m\u001b[0m\u001b[0m\n\u001b[1;32m      5\u001b[0m     \u001b[0mstate\u001b[0m \u001b[0;34m=\u001b[0m \u001b[0menv\u001b[0m\u001b[0;34m.\u001b[0m\u001b[0mreset\u001b[0m\u001b[0;34m(\u001b[0m\u001b[0;34m)\u001b[0m\u001b[0;34m\u001b[0m\u001b[0;34m\u001b[0m\u001b[0m\n",
      "\u001b[0;32m~/anaconda3/envs/thesis/lib/python3.6/site-packages/torch/serialization.py\u001b[0m in \u001b[0;36mload\u001b[0;34m(f, map_location, pickle_module, **pickle_load_args)\u001b[0m\n\u001b[1;32m    417\u001b[0m             \u001b[0;34m(\u001b[0m\u001b[0msys\u001b[0m\u001b[0;34m.\u001b[0m\u001b[0mversion_info\u001b[0m\u001b[0;34m[\u001b[0m\u001b[0;36m0\u001b[0m\u001b[0;34m]\u001b[0m \u001b[0;34m==\u001b[0m \u001b[0;36m2\u001b[0m \u001b[0;32mand\u001b[0m \u001b[0misinstance\u001b[0m\u001b[0;34m(\u001b[0m\u001b[0mf\u001b[0m\u001b[0;34m,\u001b[0m \u001b[0municode\u001b[0m\u001b[0;34m)\u001b[0m\u001b[0;34m)\u001b[0m\u001b[0;34m:\u001b[0m\u001b[0;34m\u001b[0m\u001b[0;34m\u001b[0m\u001b[0m\n\u001b[1;32m    418\u001b[0m         \u001b[0mnew_fd\u001b[0m \u001b[0;34m=\u001b[0m \u001b[0;32mTrue\u001b[0m\u001b[0;34m\u001b[0m\u001b[0;34m\u001b[0m\u001b[0m\n\u001b[0;32m--> 419\u001b[0;31m         \u001b[0mf\u001b[0m \u001b[0;34m=\u001b[0m \u001b[0mopen\u001b[0m\u001b[0;34m(\u001b[0m\u001b[0mf\u001b[0m\u001b[0;34m,\u001b[0m \u001b[0;34m'rb'\u001b[0m\u001b[0;34m)\u001b[0m\u001b[0;34m\u001b[0m\u001b[0;34m\u001b[0m\u001b[0m\n\u001b[0m\u001b[1;32m    420\u001b[0m     \u001b[0;32melif\u001b[0m \u001b[0;34m(\u001b[0m\u001b[0msys\u001b[0m\u001b[0;34m.\u001b[0m\u001b[0mversion_info\u001b[0m\u001b[0;34m[\u001b[0m\u001b[0;36m0\u001b[0m\u001b[0;34m]\u001b[0m \u001b[0;34m==\u001b[0m \u001b[0;36m3\u001b[0m \u001b[0;32mand\u001b[0m \u001b[0misinstance\u001b[0m\u001b[0;34m(\u001b[0m\u001b[0mf\u001b[0m\u001b[0;34m,\u001b[0m \u001b[0mpathlib\u001b[0m\u001b[0;34m.\u001b[0m\u001b[0mPath\u001b[0m\u001b[0;34m)\u001b[0m\u001b[0;34m)\u001b[0m\u001b[0;34m:\u001b[0m\u001b[0;34m\u001b[0m\u001b[0;34m\u001b[0m\u001b[0m\n\u001b[1;32m    421\u001b[0m         \u001b[0mnew_fd\u001b[0m \u001b[0;34m=\u001b[0m \u001b[0;32mTrue\u001b[0m\u001b[0;34m\u001b[0m\u001b[0;34m\u001b[0m\u001b[0m\n",
      "\u001b[0;31mFileNotFoundError\u001b[0m: [Errno 2] No such file or directory: 'checkpoint.pth'"
     ]
    }
   ],
   "source": [
    "# load the weights from file\n",
    "agent.qnetwork_local.load_state_dict(torch.load('checkpoint.pth'))\n",
    "\n",
    "for i in range(3):\n",
    "    state = env.reset()\n",
    "    for j in range(200):\n",
    "        action = agent.act(state)\n",
    "        env.render()\n",
    "        state, reward, done = env.step(action)\n",
    "        if done:\n",
    "            break \n",
    "            \n",
    "env.close()"
   ]
  },
  {
   "cell_type": "code",
   "execution_count": null,
   "metadata": {},
   "outputs": [],
   "source": []
  }
 ],
 "metadata": {
  "kernelspec": {
   "display_name": "Python 3",
   "language": "python",
   "name": "python3"
  },
  "language_info": {
   "codemirror_mode": {
    "name": "ipython",
    "version": 3
   },
   "file_extension": ".py",
   "mimetype": "text/x-python",
   "name": "python",
   "nbconvert_exporter": "python",
   "pygments_lexer": "ipython3",
   "version": "3.6.9"
  }
 },
 "nbformat": 4,
 "nbformat_minor": 2
}
