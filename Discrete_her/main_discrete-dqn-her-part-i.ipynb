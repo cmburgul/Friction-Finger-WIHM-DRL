{
 "cells": [
  {
   "cell_type": "markdown",
   "metadata": {},
   "source": [
    "# 1. Import the Necessary Package"
   ]
  },
  {
   "cell_type": "code",
   "execution_count": 1,
   "metadata": {},
   "outputs": [],
   "source": [
    "import gym\n",
    "import random\n",
    "import torch\n",
    "import numpy as np\n",
    "import matplotlib.pyplot as plt\n",
    "from collections import deque\n",
    "from recordtype import *\n",
    "import copy\n",
    "import matplotlib.pyplot as plt\n",
    "from utils import * # mean_val, logger\n",
    "%matplotlib inline"
   ]
  },
  {
   "cell_type": "markdown",
   "metadata": {},
   "source": [
    "# 2. Instantiate the Environment "
   ]
  },
  {
   "cell_type": "code",
   "execution_count": 2,
   "metadata": {},
   "outputs": [
    {
     "name": "stdout",
     "output_type": "stream",
     "text": [
      "State size : 7\n",
      "Action size :  5\n"
     ]
    }
   ],
   "source": [
    "from ff_env_discrete_dqn_her_i import FFEnv, Viewer  # Environemnt\n",
    "\n",
    "env = FFEnv()\n",
    "print(\"State size :\", env.state_size)\n",
    "print(\"Action size : \", env.action_size)"
   ]
  },
  {
   "cell_type": "markdown",
   "metadata": {},
   "source": [
    "# 3. Instantiate the Agent"
   ]
  },
  {
   "cell_type": "code",
   "execution_count": 3,
   "metadata": {},
   "outputs": [],
   "source": [
    "from dqn_her_agent import Agent, HER\n",
    "\n",
    "agent = Agent(state_size=env.state_size, action_size=env.action_size, seed=0)\n",
    "her = HER()"
   ]
  },
  {
   "cell_type": "markdown",
   "metadata": {},
   "source": [
    "# 4. Train the Agent with DQN"
   ]
  },
  {
   "cell_type": "code",
   "execution_count": 4,
   "metadata": {
    "scrolled": true
   },
   "outputs": [
    {
     "name": "stdout",
     "output_type": "stream",
     "text": [
      "Episode 100\tAverage Score: -304.79\n",
      "Episode 200\tAverage Score: -251.68\n",
      "Episode 300\tAverage Score: -221.94\n",
      "Episode 400\tAverage Score: -235.24\n",
      "Episode 500\tAverage Score: -225.32\n",
      "Episode 600\tAverage Score: -209.51\n",
      "Episode 700\tAverage Score: -245.85\n",
      "Episode 800\tAverage Score: -209.33\n",
      "Episode 900\tAverage Score: -236.95\n",
      "Episode 1000\tAverage Score: -221.82\n",
      "Episode 1100\tAverage Score: -236.78\n",
      "Episode 1200\tAverage Score: -219.01\n",
      "Episode 1300\tAverage Score: -200.18\n",
      "Episode 1400\tAverage Score: -202.21\n",
      "Episode 1500\tAverage Score: -178.72\n",
      "Episode 1600\tAverage Score: -219.46\n",
      "Episode 1700\tAverage Score: -197.30\n",
      "Episode 1800\tAverage Score: -208.36\n",
      "Episode 1900\tAverage Score: -217.43\n",
      "Episode 2000\tAverage Score: -213.01\n",
      "Episode 2100\tAverage Score: -210.61\n",
      "Episode 2200\tAverage Score: -224.29\n",
      "Episode 2300\tAverage Score: -204.19\n",
      "Episode 2400\tAverage Score: -236.04\n",
      "Episode 2500\tAverage Score: -216.79\n",
      "Episode 2600\tAverage Score: -240.22\n",
      "Episode 2700\tAverage Score: -232.42\n",
      "Episode 2800\tAverage Score: -209.66\n",
      "Episode 2900\tAverage Score: -196.53\n",
      "Episode 3000\tAverage Score: -216.34\n",
      "Episode 3100\tAverage Score: -183.47\n",
      "Episode 3200\tAverage Score: -221.25\n",
      "Episode 3300\tAverage Score: -217.12\n",
      "Episode 3400\tAverage Score: -214.53\n",
      "Episode 3500\tAverage Score: -228.00\n",
      "Episode 3600\tAverage Score: -192.61\n",
      "Episode 3700\tAverage Score: -201.58\n",
      "Episode 3800\tAverage Score: -205.95\n",
      "Episode 3900\tAverage Score: -199.66\n",
      "Episode 4000\tAverage Score: -211.16\n",
      "Episode 4100\tAverage Score: -208.97\n",
      "Episode 4200\tAverage Score: -198.35\n",
      "Episode 4300\tAverage Score: -208.55\n",
      "Episode 4400\tAverage Score: -213.16\n",
      "Episode 4500\tAverage Score: -214.96\n",
      "Episode 4600\tAverage Score: -214.53\n",
      "Episode 4700\tAverage Score: -211.33\n",
      "Episode 4800\tAverage Score: -218.67\n",
      "Episode 4900\tAverage Score: -197.58\n",
      "Episode 5000\tAverage Score: -202.61\n",
      "Episode 5100\tAverage Score: -207.68\n",
      "Episode 5200\tAverage Score: -210.02\n",
      "Episode 5300\tAverage Score: -206.02\n",
      "Episode 5400\tAverage Score: -200.46\n",
      "Episode 5500\tAverage Score: -216.94\n",
      "Episode 5600\tAverage Score: -172.72\n",
      "Episode 5700\tAverage Score: -192.86\n",
      "Episode 5800\tAverage Score: -200.00\n",
      "Episode 5900\tAverage Score: -235.83\n",
      "Episode 6000\tAverage Score: -227.85\n",
      "Episode 6100\tAverage Score: -200.13\n",
      "Episode 6200\tAverage Score: -211.95\n",
      "Episode 6300\tAverage Score: -227.13\n",
      "Episode 6400\tAverage Score: -199.18\n",
      "Episode 6500\tAverage Score: -214.29\n",
      "Episode 6600\tAverage Score: -221.38\n",
      "Episode 6700\tAverage Score: -208.50\n",
      "Episode 6800\tAverage Score: -211.06\n",
      "Episode 6900\tAverage Score: -218.51\n",
      "Episode 7000\tAverage Score: -202.98\n",
      "Episode 7100\tAverage Score: -220.57\n",
      "Episode 7200\tAverage Score: -203.96\n",
      "Episode 7300\tAverage Score: -201.65\n",
      "Episode 7400\tAverage Score: -210.68\n",
      "Episode 7500\tAverage Score: -214.02\n",
      "Episode 7600\tAverage Score: -219.43\n",
      "Episode 7700\tAverage Score: -201.31\n",
      "Episode 7800\tAverage Score: -202.85\n",
      "Episode 7900\tAverage Score: -245.05\n",
      "Episode 8000\tAverage Score: -199.12\n",
      "Episode 8100\tAverage Score: -178.53\n",
      "Episode 8200\tAverage Score: -196.88\n",
      "Episode 8300\tAverage Score: -207.99\n",
      "Episode 8400\tAverage Score: -211.69\n",
      "Episode 8500\tAverage Score: -220.97\n",
      "Episode 8600\tAverage Score: -203.91\n",
      "Episode 8700\tAverage Score: -215.54\n",
      "Episode 8800\tAverage Score: -224.56\n",
      "Episode 8900\tAverage Score: -214.69\n",
      "Episode 9000\tAverage Score: -211.58\n",
      "Episode 9100\tAverage Score: -204.87\n",
      "Episode 9200\tAverage Score: -158.20\n",
      "Episode 9300\tAverage Score: -212.65\n",
      "Episode 9400\tAverage Score: -213.11\n",
      "Episode 9500\tAverage Score: -256.22\n",
      "Episode 9600\tAverage Score: -222.62\n",
      "Episode 9700\tAverage Score: -232.38\n",
      "Episode 9800\tAverage Score: -200.93\n",
      "Episode 9900\tAverage Score: -208.34\n",
      "Episode 10000\tAverage Score: -221.64\n"
     ]
    }
   ],
   "source": [
    "def dqn(num_episodes=10000, max_t=1000, eps_start=1.0, eps_end=0.01, eps_decay=0.995):\n",
    "    \"\"\"Deep Q-Learning.\n",
    "    \n",
    "    Params\n",
    "    ======\n",
    "        n_episodes (int): maximum number of training episodes\n",
    "        max_t (int): maximum number of timesteps per episode\n",
    "        eps_start (float): starting value of epsilon, for epsilon-greedy action selection\n",
    "        eps_end (float): minimum value of epsilon\n",
    "        eps_decay (float): multiplicative factor (per episode) for decreasing epsilon\n",
    "    \"\"\"\n",
    "    log = logger()\n",
    "    log.add_log('scores')\n",
    "    log.add_log('avg_loss')\n",
    "    \n",
    "    scores = []                        # list containing scores from each episode\n",
    "    scores_window = deque(maxlen=100)  # last 100 scores\n",
    "    eps = eps_start                    # initialize epsilon\n",
    "    \n",
    "    for i_episode in range(1, num_episodes+1):\n",
    "        state = env.reset()\n",
    "        score = 0\n",
    "        for t in range(max_t):\n",
    "            action = agent.act(state, eps)\n",
    "            next_state, reward, done = env.step(action)\n",
    "            # Add experience tuples to replay buffer and learn\n",
    "            agent.step(state, action, reward, next_state, done)\n",
    "            # Add experience tuples to her buffer\n",
    "            her.append(state, action, reward, next_state, done)\n",
    "            \n",
    "            state = next_state\n",
    "            score += reward\n",
    "            if done:\n",
    "                break \n",
    "        \n",
    "        # Update her \n",
    "        if (len(her.buffer) != 0):\n",
    "            her_buffer = her.update()\n",
    "            # Transfer experiences from her buffer to replay buffer\n",
    "            for i in range(len(her_buffer)):\n",
    "                agent.buffer.memory.append(her_buffer[i])\n",
    "        her.buffer = deque()\n",
    "        \n",
    "        scores_window.append(score)       # save most recent score\n",
    "        scores.append(score)              # save most recent score\n",
    "        log.add_item('scores', score)\n",
    "        log.add_item('avg_loss', agent.mean_loss.get())\n",
    "        eps = max(eps_end, eps_decay*eps) # decrease epsilon\n",
    "        \n",
    "        print('\\rEpisode {}\\tAverage Score: {:.2f}'.format(i_episode, np.mean(scores_window)), end=\"\")\n",
    "        if i_episode % 100 == 0:\n",
    "            print('\\rEpisode {}\\tAverage Score: {:.2f}'.format(i_episode, np.mean(scores_window)))\n",
    "            torch.save(agent.qnetwork_local.state_dict(), 'part-i.pth')\n",
    "        if i_episode >= num_episodes:\n",
    "            torch.save(agent.qnetwork_local.state_dict(), 'part-i.pth')\n",
    "            break\n",
    "            \n",
    "    return scores, log\n",
    "\n",
    "scores, log = dqn()"
   ]
  },
  {
   "cell_type": "code",
   "execution_count": 5,
   "metadata": {},
   "outputs": [
    {
     "data": {
      "image/png": "[encoded data removed]",
      "text/plain": [
       "<Figure size 432x288 with 1 Axes>"
      ]
     },
     "metadata": {
      "needs_background": "light"
     },
     "output_type": "display_data"
    }
   ],
   "source": [
    "# plot the scores\n",
    "fig = plt.figure()\n",
    "ax = fig.add_subplot(111)\n",
    "plt.plot(np.arange(len(scores)), scores)\n",
    "plt.ylabel('Score')\n",
    "plt.xlabel('Episode #')\n",
    "plt.show()"
   ]
  },
  {
   "cell_type": "code",
   "execution_count": 6,
   "metadata": {},
   "outputs": [
    {
     "data": {
      "text/plain": [
       "Text(0, 0.5, 'average loss')"
      ]
     },
     "execution_count": 6,
     "metadata": {},
     "output_type": "execute_result"
    },
    {
     "data": {
      "image/png": "[encoded data removed]",
      "text/plain": [
       "<Figure size 432x288 with 1 Axes>"
      ]
     },
     "metadata": {
      "needs_background": "light"
     },
     "output_type": "display_data"
    },
    {
     "data": {
      "image/png": "[encoded data removed]",
      "text/plain": [
       "<Figure size 432x288 with 1 Axes>"
      ]
     },
     "metadata": {
      "needs_background": "light"
     },
     "output_type": "display_data"
    }
   ],
   "source": [
    "# Plotting \n",
    "Y = np.asarray(log.get_log('scores'))\n",
    "Y2 = smooth(Y)\n",
    "x = np.linspace(0, len(Y), len(Y))\n",
    "fig1 = plt.figure()\n",
    "ax1 = plt.axes()\n",
    "ax1.plot(x, Y, Y2)\n",
    "plt.xlabel('episodes')\n",
    "plt.ylabel('episode return')\n",
    "\n",
    "Y = np.asarray(log.get_log('avg_loss'))\n",
    "Y2 = smooth(Y)\n",
    "x = np.linspace(0, len(Y), len(Y))\n",
    "fig2 = plt.figure()\n",
    "ax2 = plt.axes()\n",
    "ax2.plot(x, Y, Y2)\n",
    "plt.xlabel('episodes')\n",
    "plt.ylabel('average loss')"
   ]
  },
  {
   "cell_type": "markdown",
   "metadata": {},
   "source": [
    "# 5. Evaluate"
   ]
  },
  {
   "cell_type": "code",
   "execution_count": 1,
   "metadata": {
    "scrolled": true
   },
   "outputs": [
    {
     "ename": "NameError",
     "evalue": "name 'agent' is not defined",
     "output_type": "error",
     "traceback": [
      "\u001b[0;31m---------------------------------------------------------------------------\u001b[0m",
      "\u001b[0;31mNameError\u001b[0m                                 Traceback (most recent call last)",
      "\u001b[0;32m<ipython-input-1-a6616cde65b7>\u001b[0m in \u001b[0;36m<module>\u001b[0;34m\u001b[0m\n\u001b[1;32m      1\u001b[0m \u001b[0;31m# load the weights from file\u001b[0m\u001b[0;34m\u001b[0m\u001b[0;34m\u001b[0m\u001b[0;34m\u001b[0m\u001b[0m\n\u001b[0;32m----> 2\u001b[0;31m \u001b[0magent\u001b[0m\u001b[0;34m.\u001b[0m\u001b[0mqnetwork_local\u001b[0m\u001b[0;34m.\u001b[0m\u001b[0mload_state_dict\u001b[0m\u001b[0;34m(\u001b[0m\u001b[0mtorch\u001b[0m\u001b[0;34m.\u001b[0m\u001b[0mload\u001b[0m\u001b[0;34m(\u001b[0m\u001b[0;34m'part-i.pth'\u001b[0m\u001b[0;34m,\u001b[0m \u001b[0mmap_location\u001b[0m\u001b[0;34m=\u001b[0m\u001b[0;34m'cpu'\u001b[0m\u001b[0;34m)\u001b[0m\u001b[0;34m)\u001b[0m\u001b[0;34m\u001b[0m\u001b[0;34m\u001b[0m\u001b[0m\n\u001b[0m\u001b[1;32m      3\u001b[0m \u001b[0;32mimport\u001b[0m \u001b[0mtime\u001b[0m\u001b[0;34m\u001b[0m\u001b[0;34m\u001b[0m\u001b[0m\n\u001b[1;32m      4\u001b[0m \u001b[0;34m\u001b[0m\u001b[0m\n\u001b[1;32m      5\u001b[0m \u001b[0;32mfor\u001b[0m \u001b[0mi\u001b[0m \u001b[0;32min\u001b[0m \u001b[0mrange\u001b[0m\u001b[0;34m(\u001b[0m\u001b[0;36m10\u001b[0m\u001b[0;34m)\u001b[0m\u001b[0;34m:\u001b[0m\u001b[0;34m\u001b[0m\u001b[0;34m\u001b[0m\u001b[0m\n",
      "\u001b[0;31mNameError\u001b[0m: name 'agent' is not defined"
     ]
    }
   ],
   "source": [
    "# load the weights from file\n",
    "agent.qnetwork_local.load_state_dict(torch.load('part-i.pth', map_location='cpu'))\n",
    "import time\n",
    "\n",
    "for i in range(10):\n",
    "    state = env.reset()\n",
    "    print()\n",
    "    for j in range(200):\n",
    "        action = agent.act(state)\n",
    "        env.render()\n",
    "        state, reward, done = env.step(action)\n",
    "        time.sleep(0.005)\n",
    "        if done:\n",
    "            print('------------')\n",
    "            break \n",
    "path_x, path_y = env.viewer.return_path()      \n",
    "\n",
    "#env.close()"
   ]
  },
  {
   "cell_type": "code",
   "execution_count": 1,
   "metadata": {},
   "outputs": [
    {
     "ename": "NameError",
     "evalue": "name 'plt' is not defined",
     "output_type": "error",
     "traceback": [
      "\u001b[0;31m---------------------------------------------------------------------------\u001b[0m",
      "\u001b[0;31mNameError\u001b[0m                                 Traceback (most recent call last)",
      "\u001b[0;32m<ipython-input-1-027feaf5fd82>\u001b[0m in \u001b[0;36m<module>\u001b[0;34m\u001b[0m\n\u001b[0;32m----> 1\u001b[0;31m \u001b[0mplt\u001b[0m\u001b[0;34m.\u001b[0m\u001b[0mscatter\u001b[0m\u001b[0;34m(\u001b[0m\u001b[0mpath_x\u001b[0m\u001b[0;34m,\u001b[0m \u001b[0mpath_y\u001b[0m\u001b[0;34m)\u001b[0m\u001b[0;34m\u001b[0m\u001b[0;34m\u001b[0m\u001b[0m\n\u001b[0m\u001b[1;32m      2\u001b[0m \u001b[0mplt\u001b[0m\u001b[0;34m.\u001b[0m\u001b[0mshow\u001b[0m\u001b[0;34m(\u001b[0m\u001b[0;34m)\u001b[0m\u001b[0;34m\u001b[0m\u001b[0;34m\u001b[0m\u001b[0m\n",
      "\u001b[0;31mNameError\u001b[0m: name 'plt' is not defined"
     ]
    }
   ],
   "source": [
    "plt.scatter(path_x, path_y)\n",
    "plt.show()"
   ]
  },
  {
   "cell_type": "code",
   "execution_count": null,
   "metadata": {},
   "outputs": [],
   "source": []
  },
  {
   "cell_type": "code",
   "execution_count": 9,
   "metadata": {},
   "outputs": [],
   "source": [
    "# Check HER Output and input"
   ]
  },
  {
   "cell_type": "code",
   "execution_count": 10,
   "metadata": {},
   "outputs": [],
   "source": [
    "agent.buffer.memory = deque(maxlen=int(1e5))\n",
    "her.buffer = deque()"
   ]
  },
  {
   "cell_type": "code",
   "execution_count": 11,
   "metadata": {},
   "outputs": [],
   "source": [
    "num_episodes=1\n",
    "max_t=1000\n",
    "eps_start=1.0\n",
    "eps_end=0.01\n",
    "eps_decay=0.995\n",
    "eps = eps_start"
   ]
  },
  {
   "cell_type": "code",
   "execution_count": 12,
   "metadata": {},
   "outputs": [
    {
     "name": "stdout",
     "output_type": "stream",
     "text": [
      "a :  2\n",
      "state :  [1.57079637 1.36674273 1.38124996 0.84375002 1.72316939 0.91556494\n",
      " 0.        ]\n",
      "next_state :  [1.57079637 1.36674273 1.38124996 0.84375002 1.72316939 0.91556494\n",
      " 0.        ]\n",
      "reward :  -0.3493798460283377\n",
      "done :  False\n",
      "------------\n",
      "a :  0\n",
      "state :  [1.57079637 1.36674273 1.38124996 0.84375002 1.72316939 0.91556494\n",
      " 0.        ]\n",
      "next_state :  [1.57079637 1.36674273 1.38124996 0.84375002 1.72316939 0.91556494\n",
      " 0.        ]\n",
      "reward :  -0.3493798460283377\n",
      "done :  False\n",
      "------------\n",
      "a :  3\n",
      "state :  [1.57079637 1.36674273 1.38124996 0.84375002 1.72316939 0.91556494\n",
      " 0.        ]\n",
      "next_state :  [1.57214236 1.37674272 1.38003446 0.90331274 1.72316939 0.91556494\n",
      " 0.        ]\n",
      "reward :  -0.3433536043245882\n",
      "done :  False\n",
      "------------\n",
      "a :  0\n",
      "state :  [1.57214236 1.37674272 1.38003446 0.90331274 1.72316939 0.91556494\n",
      " 0.        ]\n",
      "next_state :  [1.57214236 1.37674272 1.38003446 0.90331274 1.72316939 0.91556494\n",
      " 0.        ]\n",
      "reward :  -0.3433536043245882\n",
      "done :  False\n",
      "------------\n",
      "a :  2\n",
      "state :  [1.57214236 1.37674272 1.38003446 0.90331274 1.72316939 0.91556494\n",
      " 0.        ]\n",
      "next_state :  [1.57214236 1.37674272 1.38003446 0.90331274 1.72316939 0.91556494\n",
      " 0.        ]\n",
      "reward :  -0.3433536043245882\n",
      "done :  False\n",
      "------------\n"
     ]
    }
   ],
   "source": [
    "state = env.reset()\n",
    "for t in range(5): \n",
    "    action = agent.act(state, eps)\n",
    "    print(\"a : \", action)\n",
    "    next_state, reward, done = env.step(action)\n",
    "    print(\"state : \", state)\n",
    "    print(\"next_state : \", next_state)\n",
    "    print(\"reward : \", reward)\n",
    "    print(\"done : \", done)\n",
    "    # Add experience tuples to replay buffer and learn\n",
    "    agent.step(state, action, reward, next_state, done)\n",
    "    # Add experience tuples to her buffer\n",
    "    her.append(state, action, reward, next_state, done)\n",
    "    \n",
    "    state = next_state\n",
    "    if done:\n",
    "        break\n",
    "\n",
    "    print('------------')"
   ]
  },
  {
   "cell_type": "code",
   "execution_count": 13,
   "metadata": {},
   "outputs": [
    {
     "name": "stdout",
     "output_type": "stream",
     "text": [
      "state :  [1.57079637 1.36674273 1.38124996 0.84375002 1.72316939 0.91556494\n",
      " 0.        ]\n",
      "next_state :  [1.57079637 1.36674273 1.38124996 0.84375002 1.72316939 0.91556494\n",
      " 0.        ]\n",
      "reward :  -0.3493798460283377\n",
      "done :  False\n",
      "--------\n",
      "state :  [1.57079637 1.36674273 1.38124996 0.84375002 1.72316939 0.91556494\n",
      " 0.        ]\n",
      "next_state :  [1.57079637 1.36674273 1.38124996 0.84375002 1.72316939 0.91556494\n",
      " 0.        ]\n",
      "reward :  -0.3493798460283377\n",
      "done :  False\n",
      "--------\n",
      "state :  [1.57079637 1.36674273 1.38124996 0.84375002 1.72316939 0.91556494\n",
      " 0.        ]\n",
      "next_state :  [1.57214236 1.37674272 1.38003446 0.90331274 1.72316939 0.91556494\n",
      " 0.        ]\n",
      "reward :  -0.3433536043245882\n",
      "done :  False\n",
      "--------\n",
      "state :  [1.57214236 1.37674272 1.38003446 0.90331274 1.72316939 0.91556494\n",
      " 0.        ]\n",
      "next_state :  [1.57214236 1.37674272 1.38003446 0.90331274 1.72316939 0.91556494\n",
      " 0.        ]\n",
      "reward :  -0.3433536043245882\n",
      "done :  False\n",
      "--------\n",
      "state :  [1.57214236 1.37674272 1.38003446 0.90331274 1.72316939 0.91556494\n",
      " 0.        ]\n",
      "next_state :  [1.57214236 1.37674272 1.38003446 0.90331274 1.72316939 0.91556494\n",
      " 0.        ]\n",
      "reward :  -0.3433536043245882\n",
      "done :  False\n",
      "--------\n"
     ]
    }
   ],
   "source": [
    "for i in agent.buffer.memory:\n",
    "    print(\"state : \", i.state)\n",
    "    print(\"next_state : \", i.next_state)\n",
    "    print(\"reward : \", i.reward)\n",
    "    print(\"done : \", i.done)\n",
    "    print('--------')"
   ]
  },
  {
   "cell_type": "code",
   "execution_count": 14,
   "metadata": {},
   "outputs": [
    {
     "name": "stdout",
     "output_type": "stream",
     "text": [
      "state :  [1.57079637 1.36674273 1.38124996 0.84375002 1.72316939 0.91556494\n",
      " 0.        ]\n",
      "action :  2\n",
      "next_state :  [1.57079637 1.36674273 1.38124996 0.84375002 1.72316939 0.91556494\n",
      " 0.        ]\n",
      "reward :  -0.3493798460283377\n",
      "done :  False\n",
      "--------\n",
      "state :  [1.57079637 1.36674273 1.38124996 0.84375002 1.72316939 0.91556494\n",
      " 0.        ]\n",
      "action :  0\n",
      "next_state :  [1.57079637 1.36674273 1.38124996 0.84375002 1.72316939 0.91556494\n",
      " 0.        ]\n",
      "reward :  -0.3493798460283377\n",
      "done :  False\n",
      "--------\n",
      "state :  [1.57079637 1.36674273 1.38124996 0.84375002 1.72316939 0.91556494\n",
      " 0.        ]\n",
      "action :  3\n",
      "next_state :  [1.57214236 1.37674272 1.38003446 0.90331274 1.72316939 0.91556494\n",
      " 0.        ]\n",
      "reward :  -0.3433536043245882\n",
      "done :  False\n",
      "--------\n",
      "state :  [1.57214236 1.37674272 1.38003446 0.90331274 1.72316939 0.91556494\n",
      " 0.        ]\n",
      "action :  0\n",
      "next_state :  [1.57214236 1.37674272 1.38003446 0.90331274 1.72316939 0.91556494\n",
      " 0.        ]\n",
      "reward :  -0.3433536043245882\n",
      "done :  False\n",
      "--------\n",
      "state :  [1.57214236 1.37674272 1.38003446 0.90331274 1.72316939 0.91556494\n",
      " 0.        ]\n",
      "action :  2\n",
      "next_state :  [1.57214236 1.37674272 1.38003446 0.90331274 1.72316939 0.91556494\n",
      " 0.        ]\n",
      "reward :  -0.3433536043245882\n",
      "done :  False\n",
      "--------\n"
     ]
    }
   ],
   "source": [
    "for i in her.buffer:\n",
    "    print(\"state : \", i.state)\n",
    "    print(\"action : \", i.action)\n",
    "    print(\"next_state : \", i.next_state)\n",
    "    print(\"reward : \", i.reward)\n",
    "    print(\"done : \", i.done)\n",
    "    print('--------')\n"
   ]
  },
  {
   "cell_type": "code",
   "execution_count": 15,
   "metadata": {},
   "outputs": [
    {
     "name": "stdout",
     "output_type": "stream",
     "text": [
      "state :  [1.57079637 1.36674273 1.38124996 0.84375002 1.38003446 0.90331274\n",
      " 0.        ]\n",
      "action :  2\n",
      "next_state :  [1.57079637 1.36674273 1.38124996 0.84375002 1.38003446 0.90331274\n",
      " 0.        ]\n",
      "reward :  -0.05957512263180358\n",
      "done :  False\n",
      "--------\n",
      "state :  [1.57079637 1.36674273 1.38124996 0.84375002 1.38003446 0.90331274\n",
      " 0.        ]\n",
      "action :  0\n",
      "next_state :  [1.57079637 1.36674273 1.38124996 0.84375002 1.38003446 0.90331274\n",
      " 0.        ]\n",
      "reward :  -0.05957512263180358\n",
      "done :  False\n",
      "--------\n",
      "state :  [1.57079637 1.36674273 1.38124996 0.84375002 1.38003446 0.90331274\n",
      " 0.        ]\n",
      "action :  3\n",
      "next_state :  [1.57214236 1.37674272 1.38003446 0.90331274 1.38003446 0.90331274\n",
      " 0.        ]\n",
      "reward :  -0.0\n",
      "done :  True\n",
      "--------\n",
      "state :  [1.57214236 1.37674272 1.38003446 0.90331274 1.38003446 0.90331274\n",
      " 0.        ]\n",
      "action :  0\n",
      "next_state :  [1.57214236 1.37674272 1.38003446 0.90331274 1.38003446 0.90331274\n",
      " 0.        ]\n",
      "reward :  -0.0\n",
      "done :  True\n",
      "--------\n",
      "state :  [1.57214236 1.37674272 1.38003446 0.90331274 1.38003446 0.90331274\n",
      " 0.        ]\n",
      "action :  2\n",
      "next_state :  [1.57214236 1.37674272 1.38003446 0.90331274 1.38003446 0.90331274\n",
      " 0.        ]\n",
      "reward :  -0.0\n",
      "done :  True\n",
      "--------\n"
     ]
    }
   ],
   "source": [
    "her_buffer = her.update() \n",
    "for i in her_buffer:\n",
    "    print(\"state : \", i.state)\n",
    "    print(\"action : \", i.action)\n",
    "    print(\"next_state : \", i.next_state)\n",
    "    print(\"reward : \", i.reward)\n",
    "    print(\"done : \", i.done)\n",
    "    print('--------')"
   ]
  },
  {
   "cell_type": "code",
   "execution_count": 16,
   "metadata": {},
   "outputs": [
    {
     "data": {
      "text/plain": [
       "array([1.57079637, 1.36674273, 1.38124996, 0.84375002, 1.38003446,\n",
       "       0.90331274, 0.        ])"
      ]
     },
     "execution_count": 16,
     "metadata": {},
     "output_type": "execute_result"
    }
   ],
   "source": [
    "her_buffer[0].next_state"
   ]
  },
  {
   "cell_type": "code",
   "execution_count": null,
   "metadata": {},
   "outputs": [],
   "source": []
  }
 ],
 "metadata": {
  "kernelspec": {
   "display_name": "Python 3",
   "language": "python",
   "name": "python3"
  },
  "language_info": {
   "codemirror_mode": {
    "name": "ipython",
    "version": 3
   },
   "file_extension": ".py",
   "mimetype": "text/x-python",
   "name": "python",
   "nbconvert_exporter": "python",
   "pygments_lexer": "ipython3",
   "version": "3.6.9"
  }
 },
 "nbformat": 4,
 "nbformat_minor": 2
}
