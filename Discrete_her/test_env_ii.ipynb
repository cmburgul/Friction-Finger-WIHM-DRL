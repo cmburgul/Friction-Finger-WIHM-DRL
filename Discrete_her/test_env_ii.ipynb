{
 "cells": [
  {
   "cell_type": "code",
   "execution_count": 12,
   "metadata": {},
   "outputs": [],
   "source": [
    "from ff_env_discrete_dqn_her_i import FFEnv, Viewer  # Environemnt\n",
    "\n",
    "env_i = FFEnv()"
   ]
  },
  {
   "cell_type": "code",
   "execution_count": 14,
   "metadata": {},
   "outputs": [
    {
     "name": "stdout",
     "output_type": "stream",
     "text": [
      "obj : 276.24999262370324 168.75000333299337 goal : 416.7901214671485 193.8012725571173\n",
      "obj : 276.24999262370324 168.75000333299337 goal : 358.8288740275583 193.41163017422758\n",
      "obj : 276.24999262370324 168.75000333299337 goal : 381.8159876534533 202.48266230687264\n",
      "obj : 276.24999262370324 168.75000333299337 goal : 383.74601793245904 200.17976960290477\n",
      "obj : 276.24999262370324 168.75000333299337 goal : 428.4755890675756 200.94593313853602\n",
      "obj : 276.24999262370324 168.75000333299337 goal : 400.06765292070213 229.82003697498607\n",
      "obj : 276.24999262370324 168.75000333299337 goal : 400.3297252032182 219.42336713315927\n",
      "obj : 276.24999262370324 168.75000333299337 goal : 377.75184410455176 241.23999409975227\n",
      "obj : 276.24999262370324 168.75000333299337 goal : 388.80696932105633 180.2278009228097\n",
      "obj : 276.24999262370324 168.75000333299337 goal : 415.25957266979157 209.72258808341476\n"
     ]
    }
   ],
   "source": [
    "for i in range(10):\n",
    "    env_i.reset()\n",
    "    env_i.render()"
   ]
  },
  {
   "cell_type": "code",
   "execution_count": null,
   "metadata": {},
   "outputs": [],
   "source": []
  },
  {
   "cell_type": "code",
   "execution_count": 17,
   "metadata": {},
   "outputs": [],
   "source": [
    "from ff_env_discrete_dqn_her_ii import FFEnv, Viewer  # Environemnt\n",
    "\n",
    "env_ii = FFEnv()"
   ]
  },
  {
   "cell_type": "code",
   "execution_count": 18,
   "metadata": {},
   "outputs": [
    {
     "name": "stdout",
     "output_type": "stream",
     "text": [
      "obj : 171.40302754244658 171.2705730295545 goal : 378.62510848559975 194.80219756739956\n",
      "obj : 171.40302754244658 171.2705730295545 goal : 378.62510848559975 194.80219756739956\n",
      "obj : 171.40302754244658 171.2705730295545 goal : 378.62510848559975 194.80219756739956\n",
      "obj : 171.40302754244658 171.2705730295545 goal : 378.62510848559975 194.80219756739956\n",
      "obj : 171.40302754244658 171.2705730295545 goal : 378.62510848559975 194.80219756739956\n",
      "obj : 171.40302754244658 171.2705730295545 goal : 378.62510848559975 194.80219756739956\n",
      "obj : 171.40302754244658 171.2705730295545 goal : 378.62510848559975 194.80219756739956\n",
      "obj : 171.40302754244658 171.2705730295545 goal : 378.62510848559975 194.80219756739956\n",
      "obj : 171.40302754244658 171.2705730295545 goal : 378.62510848559975 194.80219756739956\n",
      "obj : 171.40302754244658 171.2705730295545 goal : 378.62510848559975 194.80219756739956\n"
     ]
    }
   ],
   "source": [
    "for i in range(10):\n",
    "    env_ii.reset()\n",
    "    env.render()"
   ]
  },
  {
   "cell_type": "code",
   "execution_count": null,
   "metadata": {},
   "outputs": [],
   "source": []
  }
 ],
 "metadata": {
  "kernelspec": {
   "display_name": "Python 3",
   "language": "python",
   "name": "python3"
  },
  "language_info": {
   "codemirror_mode": {
    "name": "ipython",
    "version": 3
   },
   "file_extension": ".py",
   "mimetype": "text/x-python",
   "name": "python",
   "nbconvert_exporter": "python",
   "pygments_lexer": "ipython3",
   "version": "3.6.9"
  }
 },
 "nbformat": 4,
 "nbformat_minor": 2
}
