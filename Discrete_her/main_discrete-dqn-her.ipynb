{
 "cells": [
  {
   "cell_type": "markdown",
   "metadata": {},
   "source": [
    "# 1. Import the Necessary Package"
   ]
  },
  {
   "cell_type": "code",
   "execution_count": 6,
   "metadata": {},
   "outputs": [],
   "source": [
    "import gym\n",
    "import random\n",
    "import torch\n",
    "import numpy as np\n",
    "import matplotlib.pyplot as plt\n",
    "from collections import deque\n",
    "from recordtype import *\n",
    "import copy\n",
    "import matplotlib.pyplot as plt\n",
    "from utils import * # mean_val, logger\n",
    "%matplotlib inline"
   ]
  },
  {
   "cell_type": "markdown",
   "metadata": {},
   "source": [
    "# 2. Instantiate the Environment "
   ]
  },
  {
   "cell_type": "code",
   "execution_count": 7,
   "metadata": {},
   "outputs": [
    {
     "name": "stdout",
     "output_type": "stream",
     "text": [
      "State size : 7\n",
      "Action size :  5\n"
     ]
    }
   ],
   "source": [
    "from ff_env_discrete_dqn_her import FFEnv, Viewer  # Environemnt\n",
    "\n",
    "env = FFEnv()\n",
    "print(\"State size :\", env.state_size)\n",
    "print(\"Action size : \", env.action_size)"
   ]
  },
  {
   "cell_type": "markdown",
   "metadata": {},
   "source": [
    "# 3. Instantiate the Agent"
   ]
  },
  {
   "cell_type": "code",
   "execution_count": 8,
   "metadata": {},
   "outputs": [],
   "source": [
    "from dqn_her_agent import Agent, HER\n",
    "\n",
    "agent = Agent(state_size=env.state_size, action_size=env.action_size, seed=0)\n",
    "her = HER()"
   ]
  },
  {
   "cell_type": "markdown",
   "metadata": {},
   "source": [
    "# 4. Train the Agent with DQN"
   ]
  },
  {
   "cell_type": "code",
   "execution_count": 9,
   "metadata": {
    "scrolled": true
   },
   "outputs": [
    {
     "name": "stdout",
     "output_type": "stream",
     "text": [
      "Episode 100\tAverage Score: -414.43\n",
      "Episode 200\tAverage Score: -317.63\n",
      "Episode 300\tAverage Score: -309.28\n",
      "Episode 400\tAverage Score: -334.74\n",
      "Episode 500\tAverage Score: -290.40\n",
      "Episode 600\tAverage Score: -187.06\n",
      "Episode 700\tAverage Score: -199.14\n",
      "Episode 800\tAverage Score: -180.87\n",
      "Episode 900\tAverage Score: -218.88\n",
      "Episode 1000\tAverage Score: -316.52\n",
      "Episode 1100\tAverage Score: -379.30\n",
      "Episode 1200\tAverage Score: -381.13\n",
      "Episode 1300\tAverage Score: -376.80\n",
      "Episode 1400\tAverage Score: -487.46\n",
      "Episode 1500\tAverage Score: -426.34\n",
      "Episode 1502\tAverage Score: -421.88"
     ]
    },
    {
     "ename": "KeyboardInterrupt",
     "evalue": "",
     "output_type": "error",
     "traceback": [
      "\u001b[0;31m---------------------------------------------------------------------------\u001b[0m",
      "\u001b[0;31mKeyboardInterrupt\u001b[0m                         Traceback (most recent call last)",
      "\u001b[0;32m<ipython-input-9-a26b9db7142e>\u001b[0m in \u001b[0;36m<module>\u001b[0;34m\u001b[0m\n\u001b[1;32m     58\u001b[0m     \u001b[0;32mreturn\u001b[0m \u001b[0mscores\u001b[0m\u001b[0;34m,\u001b[0m \u001b[0mlog\u001b[0m\u001b[0;34m\u001b[0m\u001b[0;34m\u001b[0m\u001b[0m\n\u001b[1;32m     59\u001b[0m \u001b[0;34m\u001b[0m\u001b[0m\n\u001b[0;32m---> 60\u001b[0;31m \u001b[0mscores\u001b[0m\u001b[0;34m,\u001b[0m \u001b[0mlog\u001b[0m \u001b[0;34m=\u001b[0m \u001b[0mdqn\u001b[0m\u001b[0;34m(\u001b[0m\u001b[0;34m)\u001b[0m\u001b[0;34m\u001b[0m\u001b[0;34m\u001b[0m\u001b[0m\n\u001b[0m",
      "\u001b[0;32m<ipython-input-9-a26b9db7142e>\u001b[0m in \u001b[0;36mdqn\u001b[0;34m(num_episodes, max_t, eps_start, eps_end, eps_decay)\u001b[0m\n\u001b[1;32m     25\u001b[0m             \u001b[0mnext_state\u001b[0m\u001b[0;34m,\u001b[0m \u001b[0mreward\u001b[0m\u001b[0;34m,\u001b[0m \u001b[0mdone\u001b[0m \u001b[0;34m=\u001b[0m \u001b[0menv\u001b[0m\u001b[0;34m.\u001b[0m\u001b[0mstep\u001b[0m\u001b[0;34m(\u001b[0m\u001b[0maction\u001b[0m\u001b[0;34m)\u001b[0m\u001b[0;34m\u001b[0m\u001b[0;34m\u001b[0m\u001b[0m\n\u001b[1;32m     26\u001b[0m             \u001b[0;31m# Add experience tuples to replay buffer and learn\u001b[0m\u001b[0;34m\u001b[0m\u001b[0;34m\u001b[0m\u001b[0;34m\u001b[0m\u001b[0m\n\u001b[0;32m---> 27\u001b[0;31m             \u001b[0magent\u001b[0m\u001b[0;34m.\u001b[0m\u001b[0mstep\u001b[0m\u001b[0;34m(\u001b[0m\u001b[0mstate\u001b[0m\u001b[0;34m,\u001b[0m \u001b[0maction\u001b[0m\u001b[0;34m,\u001b[0m \u001b[0mreward\u001b[0m\u001b[0;34m,\u001b[0m \u001b[0mnext_state\u001b[0m\u001b[0;34m,\u001b[0m \u001b[0mdone\u001b[0m\u001b[0;34m)\u001b[0m\u001b[0;34m\u001b[0m\u001b[0;34m\u001b[0m\u001b[0m\n\u001b[0m\u001b[1;32m     28\u001b[0m             \u001b[0;31m# Add experience tuples to her buffer\u001b[0m\u001b[0;34m\u001b[0m\u001b[0;34m\u001b[0m\u001b[0;34m\u001b[0m\u001b[0m\n\u001b[1;32m     29\u001b[0m             \u001b[0mher\u001b[0m\u001b[0;34m.\u001b[0m\u001b[0mappend\u001b[0m\u001b[0;34m(\u001b[0m\u001b[0mstate\u001b[0m\u001b[0;34m,\u001b[0m \u001b[0maction\u001b[0m\u001b[0;34m,\u001b[0m \u001b[0mreward\u001b[0m\u001b[0;34m,\u001b[0m \u001b[0mnext_state\u001b[0m\u001b[0;34m,\u001b[0m \u001b[0mdone\u001b[0m\u001b[0;34m)\u001b[0m\u001b[0;34m\u001b[0m\u001b[0;34m\u001b[0m\u001b[0m\n",
      "\u001b[0;32m~/singularity/thesis/Friction-Finger-WIHM-DRL/Discrete_her/dqn_her_agent.py\u001b[0m in \u001b[0;36mstep\u001b[0;34m(self, state, action, reward, next_state, done)\u001b[0m\n\u001b[1;32m     62\u001b[0m             \u001b[0;32mif\u001b[0m \u001b[0mlen\u001b[0m\u001b[0;34m(\u001b[0m\u001b[0mself\u001b[0m\u001b[0;34m.\u001b[0m\u001b[0mbuffer\u001b[0m\u001b[0;34m)\u001b[0m \u001b[0;34m>\u001b[0m \u001b[0mBATCH_SIZE\u001b[0m\u001b[0;34m:\u001b[0m\u001b[0;34m\u001b[0m\u001b[0;34m\u001b[0m\u001b[0m\n\u001b[1;32m     63\u001b[0m                 \u001b[0mexperiences\u001b[0m \u001b[0;34m=\u001b[0m \u001b[0mself\u001b[0m\u001b[0;34m.\u001b[0m\u001b[0mbuffer\u001b[0m\u001b[0;34m.\u001b[0m\u001b[0msample\u001b[0m\u001b[0;34m(\u001b[0m\u001b[0;34m)\u001b[0m\u001b[0;34m\u001b[0m\u001b[0;34m\u001b[0m\u001b[0m\n\u001b[0;32m---> 64\u001b[0;31m                 \u001b[0mself\u001b[0m\u001b[0;34m.\u001b[0m\u001b[0mlearn\u001b[0m\u001b[0;34m(\u001b[0m\u001b[0mexperiences\u001b[0m\u001b[0;34m,\u001b[0m \u001b[0mGAMMA\u001b[0m\u001b[0;34m)\u001b[0m\u001b[0;34m\u001b[0m\u001b[0;34m\u001b[0m\u001b[0m\n\u001b[0m\u001b[1;32m     65\u001b[0m \u001b[0;34m\u001b[0m\u001b[0m\n\u001b[1;32m     66\u001b[0m     \u001b[0;32mdef\u001b[0m \u001b[0mact\u001b[0m\u001b[0;34m(\u001b[0m\u001b[0mself\u001b[0m\u001b[0;34m,\u001b[0m \u001b[0mstate\u001b[0m\u001b[0;34m,\u001b[0m \u001b[0meps\u001b[0m\u001b[0;34m=\u001b[0m\u001b[0;36m0.\u001b[0m\u001b[0;34m)\u001b[0m\u001b[0;34m:\u001b[0m\u001b[0;34m\u001b[0m\u001b[0;34m\u001b[0m\u001b[0m\n",
      "\u001b[0;32m~/singularity/thesis/Friction-Finger-WIHM-DRL/Discrete_her/dqn_her_agent.py\u001b[0m in \u001b[0;36mlearn\u001b[0;34m(self, experiences, gamma)\u001b[0m\n\u001b[1;32m    112\u001b[0m         \u001b[0mself\u001b[0m\u001b[0;34m.\u001b[0m\u001b[0moptimizer\u001b[0m\u001b[0;34m.\u001b[0m\u001b[0mzero_grad\u001b[0m\u001b[0;34m(\u001b[0m\u001b[0;34m)\u001b[0m\u001b[0;34m\u001b[0m\u001b[0;34m\u001b[0m\u001b[0m\n\u001b[1;32m    113\u001b[0m         \u001b[0mloss\u001b[0m\u001b[0;34m.\u001b[0m\u001b[0mbackward\u001b[0m\u001b[0;34m(\u001b[0m\u001b[0;34m)\u001b[0m\u001b[0;34m\u001b[0m\u001b[0;34m\u001b[0m\u001b[0m\n\u001b[0;32m--> 114\u001b[0;31m         \u001b[0mself\u001b[0m\u001b[0;34m.\u001b[0m\u001b[0moptimizer\u001b[0m\u001b[0;34m.\u001b[0m\u001b[0mstep\u001b[0m\u001b[0;34m(\u001b[0m\u001b[0;34m)\u001b[0m\u001b[0;34m\u001b[0m\u001b[0;34m\u001b[0m\u001b[0m\n\u001b[0m\u001b[1;32m    115\u001b[0m \u001b[0;34m\u001b[0m\u001b[0m\n\u001b[1;32m    116\u001b[0m         \u001b[0;31m# ------------------- update target network ------------------- #\u001b[0m\u001b[0;34m\u001b[0m\u001b[0;34m\u001b[0m\u001b[0;34m\u001b[0m\u001b[0m\n",
      "\u001b[0;32m~/anaconda3/envs/thesis/lib/python3.6/site-packages/torch/optim/adam.py\u001b[0m in \u001b[0;36mstep\u001b[0;34m(self, closure)\u001b[0m\n\u001b[1;32m     93\u001b[0m \u001b[0;34m\u001b[0m\u001b[0m\n\u001b[1;32m     94\u001b[0m                 \u001b[0;31m# Decay the first and second moment running average coefficient\u001b[0m\u001b[0;34m\u001b[0m\u001b[0;34m\u001b[0m\u001b[0;34m\u001b[0m\u001b[0m\n\u001b[0;32m---> 95\u001b[0;31m                 \u001b[0mexp_avg\u001b[0m\u001b[0;34m.\u001b[0m\u001b[0mmul_\u001b[0m\u001b[0;34m(\u001b[0m\u001b[0mbeta1\u001b[0m\u001b[0;34m)\u001b[0m\u001b[0;34m.\u001b[0m\u001b[0madd_\u001b[0m\u001b[0;34m(\u001b[0m\u001b[0;36m1\u001b[0m \u001b[0;34m-\u001b[0m \u001b[0mbeta1\u001b[0m\u001b[0;34m,\u001b[0m \u001b[0mgrad\u001b[0m\u001b[0;34m)\u001b[0m\u001b[0;34m\u001b[0m\u001b[0;34m\u001b[0m\u001b[0m\n\u001b[0m\u001b[1;32m     96\u001b[0m                 \u001b[0mexp_avg_sq\u001b[0m\u001b[0;34m.\u001b[0m\u001b[0mmul_\u001b[0m\u001b[0;34m(\u001b[0m\u001b[0mbeta2\u001b[0m\u001b[0;34m)\u001b[0m\u001b[0;34m.\u001b[0m\u001b[0maddcmul_\u001b[0m\u001b[0;34m(\u001b[0m\u001b[0;36m1\u001b[0m \u001b[0;34m-\u001b[0m \u001b[0mbeta2\u001b[0m\u001b[0;34m,\u001b[0m \u001b[0mgrad\u001b[0m\u001b[0;34m,\u001b[0m \u001b[0mgrad\u001b[0m\u001b[0;34m)\u001b[0m\u001b[0;34m\u001b[0m\u001b[0;34m\u001b[0m\u001b[0m\n\u001b[1;32m     97\u001b[0m                 \u001b[0;32mif\u001b[0m \u001b[0mamsgrad\u001b[0m\u001b[0;34m:\u001b[0m\u001b[0;34m\u001b[0m\u001b[0;34m\u001b[0m\u001b[0m\n",
      "\u001b[0;31mKeyboardInterrupt\u001b[0m: "
     ]
    }
   ],
   "source": [
    "def dqn(num_episodes=10000, max_t=1000, eps_start=1.0, eps_end=0.01, eps_decay=0.995):\n",
    "    \"\"\"Deep Q-Learning.\n",
    "    \n",
    "    Params\n",
    "    ======\n",
    "        n_episodes (int): maximum number of training episodes\n",
    "        max_t (int): maximum number of timesteps per episode\n",
    "        eps_start (float): starting value of epsilon, for epsilon-greedy action selection\n",
    "        eps_end (float): minimum value of epsilon\n",
    "        eps_decay (float): multiplicative factor (per episode) for decreasing epsilon\n",
    "    \"\"\"\n",
    "    log = logger()\n",
    "    log.add_log('scores')\n",
    "    log.add_log('avg_loss')\n",
    "    \n",
    "    scores = []                        # list containing scores from each episode\n",
    "    scores_window = deque(maxlen=100)  # last 100 scores\n",
    "    eps = eps_start                    # initialize epsilon\n",
    "    \n",
    "    for i_episode in range(1, num_episodes+1):\n",
    "        state = env.reset()\n",
    "        score = 0\n",
    "        for t in range(max_t):\n",
    "            action = agent.act(state, eps)\n",
    "            next_state, reward, done = env.step(action)\n",
    "            # Add experience tuples to replay buffer and learn\n",
    "            agent.step(state, action, reward, next_state, done)\n",
    "            # Add experience tuples to her buffer\n",
    "            her.append(state, action, reward, next_state, done)\n",
    "            \n",
    "            state = next_state\n",
    "            score += reward\n",
    "            if done:\n",
    "                break \n",
    "        \n",
    "        # Update her \n",
    "        if (len(her.buffer) != 0):\n",
    "            her_buffer = her.update()\n",
    "            # Transfer experiences from her buffer to replay buffer\n",
    "            for i in range(len(her_buffer)):\n",
    "                agent.buffer.memory.append(her_buffer[i])\n",
    "        her.buffer = deque()\n",
    "        \n",
    "        scores_window.append(score)       # save most recent score\n",
    "        scores.append(score)              # save most recent score\n",
    "        log.add_item('scores', score)\n",
    "        log.add_item('avg_loss', agent.mean_loss.get())\n",
    "        eps = max(eps_end, eps_decay*eps) # decrease epsilon\n",
    "        \n",
    "        print('\\rEpisode {}\\tAverage Score: {:.2f}'.format(i_episode, np.mean(scores_window)), end=\"\")\n",
    "        if i_episode % 100 == 0:\n",
    "            print('\\rEpisode {}\\tAverage Score: {:.2f}'.format(i_episode, np.mean(scores_window)))\n",
    "            torch.save(agent.qnetwork_local.state_dict(), 'checkpoint.pth')\n",
    "        if i_episode >= num_episodes:\n",
    "            torch.save(agent.qnetwork_local.state_dict(), 'checkpoint.pth')\n",
    "            break\n",
    "            \n",
    "    return scores, log\n",
    "\n",
    "scores, log = dqn()"
   ]
  },
  {
   "cell_type": "code",
   "execution_count": null,
   "metadata": {},
   "outputs": [],
   "source": [
    "# plot the scores\n",
    "fig = plt.figure()\n",
    "ax = fig.add_subplot(111)\n",
    "plt.plot(np.arange(len(scores)), scores)\n",
    "plt.ylabel('Score')\n",
    "plt.xlabel('Episode #')\n",
    "plt.show()"
   ]
  },
  {
   "cell_type": "code",
   "execution_count": 6,
   "metadata": {},
   "outputs": [
    {
     "data": {
      "text/plain": [
       "Text(0, 0.5, 'average loss')"
      ]
     },
     "execution_count": 6,
     "metadata": {},
     "output_type": "execute_result"
    },
    {
     "data": {
      "image/png": "[encoded data removed]",
      "text/plain": [
       "<Figure size 432x288 with 1 Axes>"
      ]
     },
     "metadata": {
      "needs_background": "light"
     },
     "output_type": "display_data"
    },
    {
     "data": {
      "image/png": "[encoded data removed]",
      "text/plain": [
       "<Figure size 432x288 with 1 Axes>"
      ]
     },
     "metadata": {
      "needs_background": "light"
     },
     "output_type": "display_data"
    }
   ],
   "source": [
    "# Plotting \n",
    "Y = np.asarray(log.get_log('scores'))\n",
    "Y2 = smooth(Y)\n",
    "x = np.linspace(0, len(Y), len(Y))\n",
    "fig1 = plt.figure()\n",
    "ax1 = plt.axes()\n",
    "ax1.plot(x, Y, Y2)\n",
    "plt.xlabel('episodes')\n",
    "plt.ylabel('episode return')\n",
    "\n",
    "Y = np.asarray(log.get_log('avg_loss'))\n",
    "Y2 = smooth(Y)\n",
    "x = np.linspace(0, len(Y), len(Y))\n",
    "fig2 = plt.figure()\n",
    "ax2 = plt.axes()\n",
    "ax2.plot(x, Y, Y2)\n",
    "plt.xlabel('episodes')\n",
    "plt.ylabel('average loss')"
   ]
  },
  {
   "cell_type": "markdown",
   "metadata": {},
   "source": [
    "# 5. Evaluate"
   ]
  },
  {
   "cell_type": "code",
   "execution_count": 4,
   "metadata": {
    "scrolled": true
   },
   "outputs": [
    {
     "name": "stdout",
     "output_type": "stream",
     "text": [
      "goal pos :  345.0 232.0\n",
      "obj_center :  276.24999535566496 106.25000333299337 goal :  {'x': 345.0, 'y': 232.0, 'w': 25}\n",
      "obj_center :  283.79128606429344 129.19324267355535 goal :  {'x': 345.0, 'y': 232.0, 'w': 25}\n",
      "obj_center :  282.52062442845977 128.75359150705776 goal :  {'x': 345.0, 'y': 232.0, 'w': 25}\n",
      "obj_center :  281.2513507015111 128.30497257884588 goal :  {'x': 345.0, 'y': 232.0, 'w': 25}\n",
      "obj_center :  282.52062442845977 128.75359150705776 goal :  {'x': 345.0, 'y': 232.0, 'w': 25}\n",
      "obj_center :  281.2513507015111 128.30497257884588 goal :  {'x': 345.0, 'y': 232.0, 'w': 25}\n",
      "obj_center :  282.52062442845977 128.75359150705776 goal :  {'x': 345.0, 'y': 232.0, 'w': 25}\n",
      "obj_center :  281.2513507015111 128.30497257884588 goal :  {'x': 345.0, 'y': 232.0, 'w': 25}\n",
      "obj_center :  282.52062442845977 128.75359150705776 goal :  {'x': 345.0, 'y': 232.0, 'w': 25}\n",
      "obj_center :  281.2513507015111 128.30497257884588 goal :  {'x': 345.0, 'y': 232.0, 'w': 25}\n",
      "obj_center :  282.52062442845977 128.75359150705776 goal :  {'x': 345.0, 'y': 232.0, 'w': 25}\n",
      "obj_center :  281.2513507015111 128.30497257884588 goal :  {'x': 345.0, 'y': 232.0, 'w': 25}\n",
      "obj_center :  282.52062442845977 128.75359150705776 goal :  {'x': 345.0, 'y': 232.0, 'w': 25}\n",
      "obj_center :  281.2513507015111 128.30497257884588 goal :  {'x': 345.0, 'y': 232.0, 'w': 25}\n",
      "obj_center :  282.52062442845977 128.75359150705776 goal :  {'x': 345.0, 'y': 232.0, 'w': 25}\n",
      "obj_center :  281.2513507015111 128.30497257884588 goal :  {'x': 345.0, 'y': 232.0, 'w': 25}\n",
      "obj_center :  282.52062442845977 128.75359150705776 goal :  {'x': 345.0, 'y': 232.0, 'w': 25}\n",
      "obj_center :  281.2513507015111 128.30497257884588 goal :  {'x': 345.0, 'y': 232.0, 'w': 25}\n",
      "obj_center :  282.52062442845977 128.75359150705776 goal :  {'x': 345.0, 'y': 232.0, 'w': 25}\n",
      "obj_center :  281.2513507015111 128.30497257884588 goal :  {'x': 345.0, 'y': 232.0, 'w': 25}\n",
      "obj_center :  282.52062442845977 128.75359150705776 goal :  {'x': 345.0, 'y': 232.0, 'w': 25}\n",
      "obj_center :  281.2513507015111 128.30497257884588 goal :  {'x': 345.0, 'y': 232.0, 'w': 25}\n",
      "obj_center :  282.52062442845977 128.75359150705776 goal :  {'x': 345.0, 'y': 232.0, 'w': 25}\n",
      "obj_center :  281.2513507015111 128.30497257884588 goal :  {'x': 345.0, 'y': 232.0, 'w': 25}\n",
      "obj_center :  282.52062442845977 128.75359150705776 goal :  {'x': 345.0, 'y': 232.0, 'w': 25}\n",
      "obj_center :  281.2513507015111 128.30497257884588 goal :  {'x': 345.0, 'y': 232.0, 'w': 25}\n",
      "obj_center :  282.52062442845977 128.75359150705776 goal :  {'x': 345.0, 'y': 232.0, 'w': 25}\n",
      "obj_center :  281.2513507015111 128.30497257884588 goal :  {'x': 345.0, 'y': 232.0, 'w': 25}\n",
      "obj_center :  282.52062442845977 128.75359150705776 goal :  {'x': 345.0, 'y': 232.0, 'w': 25}\n",
      "obj_center :  281.2513507015111 128.30497257884588 goal :  {'x': 345.0, 'y': 232.0, 'w': 25}\n",
      "obj_center :  282.52062442845977 128.75359150705776 goal :  {'x': 345.0, 'y': 232.0, 'w': 25}\n",
      "obj_center :  281.2513507015111 128.30497257884588 goal :  {'x': 345.0, 'y': 232.0, 'w': 25}\n",
      "obj_center :  282.52062442845977 128.75359150705776 goal :  {'x': 345.0, 'y': 232.0, 'w': 25}\n",
      "obj_center :  281.2513507015111 128.30497257884588 goal :  {'x': 345.0, 'y': 232.0, 'w': 25}\n",
      "obj_center :  282.52062442845977 128.75359150705776 goal :  {'x': 345.0, 'y': 232.0, 'w': 25}\n",
      "obj_center :  281.2513507015111 128.30497257884588 goal :  {'x': 345.0, 'y': 232.0, 'w': 25}\n",
      "obj_center :  282.52062442845977 128.75359150705776 goal :  {'x': 345.0, 'y': 232.0, 'w': 25}\n",
      "obj_center :  281.2513507015111 128.30497257884588 goal :  {'x': 345.0, 'y': 232.0, 'w': 25}\n",
      "obj_center :  282.52062442845977 128.75359150705776 goal :  {'x': 345.0, 'y': 232.0, 'w': 25}\n",
      "obj_center :  281.2513507015111 128.30497257884588 goal :  {'x': 345.0, 'y': 232.0, 'w': 25}\n",
      "obj_center :  282.52062442845977 128.75359150705776 goal :  {'x': 345.0, 'y': 232.0, 'w': 25}\n",
      "obj_center :  281.2513507015111 128.30497257884588 goal :  {'x': 345.0, 'y': 232.0, 'w': 25}\n",
      "obj_center :  282.52062442845977 128.75359150705776 goal :  {'x': 345.0, 'y': 232.0, 'w': 25}\n",
      "obj_center :  281.2513507015111 128.30497257884588 goal :  {'x': 345.0, 'y': 232.0, 'w': 25}\n",
      "obj_center :  282.52062442845977 128.75359150705776 goal :  {'x': 345.0, 'y': 232.0, 'w': 25}\n",
      "obj_center :  281.2513507015111 128.30497257884588 goal :  {'x': 345.0, 'y': 232.0, 'w': 25}\n",
      "obj_center :  282.52062442845977 128.75359150705776 goal :  {'x': 345.0, 'y': 232.0, 'w': 25}\n",
      "obj_center :  281.2513507015111 128.30497257884588 goal :  {'x': 345.0, 'y': 232.0, 'w': 25}\n",
      "obj_center :  282.52062442845977 128.75359150705776 goal :  {'x': 345.0, 'y': 232.0, 'w': 25}\n",
      "obj_center :  281.2513507015111 128.30497257884588 goal :  {'x': 345.0, 'y': 232.0, 'w': 25}\n",
      "obj_center :  282.52062442845977 128.75359150705776 goal :  {'x': 345.0, 'y': 232.0, 'w': 25}\n",
      "obj_center :  281.2513507015111 128.30497257884588 goal :  {'x': 345.0, 'y': 232.0, 'w': 25}\n",
      "obj_center :  282.52062442845977 128.75359150705776 goal :  {'x': 345.0, 'y': 232.0, 'w': 25}\n",
      "obj_center :  281.2513507015111 128.30497257884588 goal :  {'x': 345.0, 'y': 232.0, 'w': 25}\n",
      "obj_center :  282.52062442845977 128.75359150705776 goal :  {'x': 345.0, 'y': 232.0, 'w': 25}\n",
      "obj_center :  281.2513507015111 128.30497257884588 goal :  {'x': 345.0, 'y': 232.0, 'w': 25}\n",
      "obj_center :  282.52062442845977 128.75359150705776 goal :  {'x': 345.0, 'y': 232.0, 'w': 25}\n",
      "obj_center :  281.2513507015111 128.30497257884588 goal :  {'x': 345.0, 'y': 232.0, 'w': 25}\n",
      "obj_center :  282.52062442845977 128.75359150705776 goal :  {'x': 345.0, 'y': 232.0, 'w': 25}\n",
      "obj_center :  281.2513507015111 128.30497257884588 goal :  {'x': 345.0, 'y': 232.0, 'w': 25}\n",
      "obj_center :  282.52062442845977 128.75359150705776 goal :  {'x': 345.0, 'y': 232.0, 'w': 25}\n",
      "obj_center :  281.2513507015111 128.30497257884588 goal :  {'x': 345.0, 'y': 232.0, 'w': 25}\n",
      "obj_center :  282.52062442845977 128.75359150705776 goal :  {'x': 345.0, 'y': 232.0, 'w': 25}\n",
      "obj_center :  281.2513507015111 128.30497257884588 goal :  {'x': 345.0, 'y': 232.0, 'w': 25}\n",
      "obj_center :  282.52062442845977 128.75359150705776 goal :  {'x': 345.0, 'y': 232.0, 'w': 25}\n",
      "obj_center :  281.2513507015111 128.30497257884588 goal :  {'x': 345.0, 'y': 232.0, 'w': 25}\n",
      "obj_center :  282.52062442845977 128.75359150705776 goal :  {'x': 345.0, 'y': 232.0, 'w': 25}\n",
      "obj_center :  281.2513507015111 128.30497257884588 goal :  {'x': 345.0, 'y': 232.0, 'w': 25}\n",
      "obj_center :  282.52062442845977 128.75359150705776 goal :  {'x': 345.0, 'y': 232.0, 'w': 25}\n",
      "obj_center :  281.2513507015111 128.30497257884588 goal :  {'x': 345.0, 'y': 232.0, 'w': 25}\n",
      "obj_center :  282.52062442845977 128.75359150705776 goal :  {'x': 345.0, 'y': 232.0, 'w': 25}\n",
      "obj_center :  281.2513507015111 128.30497257884588 goal :  {'x': 345.0, 'y': 232.0, 'w': 25}\n",
      "obj_center :  282.52062442845977 128.75359150705776 goal :  {'x': 345.0, 'y': 232.0, 'w': 25}\n",
      "obj_center :  281.2513507015111 128.30497257884588 goal :  {'x': 345.0, 'y': 232.0, 'w': 25}\n",
      "obj_center :  282.52062442845977 128.75359150705776 goal :  {'x': 345.0, 'y': 232.0, 'w': 25}\n",
      "obj_center :  281.2513507015111 128.30497257884588 goal :  {'x': 345.0, 'y': 232.0, 'w': 25}\n",
      "obj_center :  282.52062442845977 128.75359150705776 goal :  {'x': 345.0, 'y': 232.0, 'w': 25}\n",
      "obj_center :  281.2513507015111 128.30497257884588 goal :  {'x': 345.0, 'y': 232.0, 'w': 25}\n",
      "obj_center :  282.52062442845977 128.75359150705776 goal :  {'x': 345.0, 'y': 232.0, 'w': 25}\n",
      "obj_center :  281.2513507015111 128.30497257884588 goal :  {'x': 345.0, 'y': 232.0, 'w': 25}\n",
      "obj_center :  282.52062442845977 128.75359150705776 goal :  {'x': 345.0, 'y': 232.0, 'w': 25}\n",
      "obj_center :  281.2513507015111 128.30497257884588 goal :  {'x': 345.0, 'y': 232.0, 'w': 25}\n",
      "obj_center :  282.52062442845977 128.75359150705776 goal :  {'x': 345.0, 'y': 232.0, 'w': 25}\n",
      "obj_center :  281.2513507015111 128.30497257884588 goal :  {'x': 345.0, 'y': 232.0, 'w': 25}\n",
      "obj_center :  282.52062442845977 128.75359150705776 goal :  {'x': 345.0, 'y': 232.0, 'w': 25}\n",
      "obj_center :  281.2513507015111 128.30497257884588 goal :  {'x': 345.0, 'y': 232.0, 'w': 25}\n",
      "obj_center :  282.52062442845977 128.75359150705776 goal :  {'x': 345.0, 'y': 232.0, 'w': 25}\n",
      "obj_center :  281.2513507015111 128.30497257884588 goal :  {'x': 345.0, 'y': 232.0, 'w': 25}\n",
      "obj_center :  282.52062442845977 128.75359150705776 goal :  {'x': 345.0, 'y': 232.0, 'w': 25}\n",
      "obj_center :  281.2513507015111 128.30497257884588 goal :  {'x': 345.0, 'y': 232.0, 'w': 25}\n",
      "obj_center :  282.52062442845977 128.75359150705776 goal :  {'x': 345.0, 'y': 232.0, 'w': 25}\n",
      "obj_center :  281.2513507015111 128.30497257884588 goal :  {'x': 345.0, 'y': 232.0, 'w': 25}\n",
      "obj_center :  282.52062442845977 128.75359150705776 goal :  {'x': 345.0, 'y': 232.0, 'w': 25}\n",
      "obj_center :  281.2513507015111 128.30497257884588 goal :  {'x': 345.0, 'y': 232.0, 'w': 25}\n",
      "obj_center :  282.52062442845977 128.75359150705776 goal :  {'x': 345.0, 'y': 232.0, 'w': 25}\n",
      "obj_center :  281.2513507015111 128.30497257884588 goal :  {'x': 345.0, 'y': 232.0, 'w': 25}\n",
      "obj_center :  282.52062442845977 128.75359150705776 goal :  {'x': 345.0, 'y': 232.0, 'w': 25}\n",
      "obj_center :  281.2513507015111 128.30497257884588 goal :  {'x': 345.0, 'y': 232.0, 'w': 25}\n",
      "obj_center :  282.52062442845977 128.75359150705776 goal :  {'x': 345.0, 'y': 232.0, 'w': 25}\n",
      "obj_center :  281.2513507015111 128.30497257884588 goal :  {'x': 345.0, 'y': 232.0, 'w': 25}\n",
      "obj_center :  282.52062442845977 128.75359150705776 goal :  {'x': 345.0, 'y': 232.0, 'w': 25}\n",
      "obj_center :  281.2513507015111 128.30497257884588 goal :  {'x': 345.0, 'y': 232.0, 'w': 25}\n",
      "obj_center :  282.52062442845977 128.75359150705776 goal :  {'x': 345.0, 'y': 232.0, 'w': 25}\n",
      "obj_center :  281.2513507015111 128.30497257884588 goal :  {'x': 345.0, 'y': 232.0, 'w': 25}\n",
      "obj_center :  282.52062442845977 128.75359150705776 goal :  {'x': 345.0, 'y': 232.0, 'w': 25}\n",
      "obj_center :  281.2513507015111 128.30497257884588 goal :  {'x': 345.0, 'y': 232.0, 'w': 25}\n",
      "obj_center :  282.52062442845977 128.75359150705776 goal :  {'x': 345.0, 'y': 232.0, 'w': 25}\n",
      "obj_center :  281.2513507015111 128.30497257884588 goal :  {'x': 345.0, 'y': 232.0, 'w': 25}\n",
      "obj_center :  282.52062442845977 128.75359150705776 goal :  {'x': 345.0, 'y': 232.0, 'w': 25}\n",
      "obj_center :  281.2513507015111 128.30497257884588 goal :  {'x': 345.0, 'y': 232.0, 'w': 25}\n",
      "obj_center :  282.52062442845977 128.75359150705776 goal :  {'x': 345.0, 'y': 232.0, 'w': 25}\n",
      "obj_center :  281.2513507015111 128.30497257884588 goal :  {'x': 345.0, 'y': 232.0, 'w': 25}\n",
      "obj_center :  282.52062442845977 128.75359150705776 goal :  {'x': 345.0, 'y': 232.0, 'w': 25}\n",
      "obj_center :  281.2513507015111 128.30497257884588 goal :  {'x': 345.0, 'y': 232.0, 'w': 25}\n",
      "obj_center :  282.52062442845977 128.75359150705776 goal :  {'x': 345.0, 'y': 232.0, 'w': 25}\n",
      "obj_center :  281.2513507015111 128.30497257884588 goal :  {'x': 345.0, 'y': 232.0, 'w': 25}\n",
      "obj_center :  282.52062442845977 128.75359150705776 goal :  {'x': 345.0, 'y': 232.0, 'w': 25}\n",
      "obj_center :  281.2513507015111 128.30497257884588 goal :  {'x': 345.0, 'y': 232.0, 'w': 25}\n"
     ]
    },
    {
     "name": "stdout",
     "output_type": "stream",
     "text": [
      "obj_center :  282.52062442845977 128.75359150705776 goal :  {'x': 345.0, 'y': 232.0, 'w': 25}\n",
      "obj_center :  281.2513507015111 128.30497257884588 goal :  {'x': 345.0, 'y': 232.0, 'w': 25}\n",
      "obj_center :  282.52062442845977 128.75359150705776 goal :  {'x': 345.0, 'y': 232.0, 'w': 25}\n",
      "obj_center :  281.2513507015111 128.30497257884588 goal :  {'x': 345.0, 'y': 232.0, 'w': 25}\n",
      "obj_center :  282.52062442845977 128.75359150705776 goal :  {'x': 345.0, 'y': 232.0, 'w': 25}\n",
      "obj_center :  281.2513507015111 128.30497257884588 goal :  {'x': 345.0, 'y': 232.0, 'w': 25}\n",
      "obj_center :  282.52062442845977 128.75359150705776 goal :  {'x': 345.0, 'y': 232.0, 'w': 25}\n",
      "obj_center :  281.2513507015111 128.30497257884588 goal :  {'x': 345.0, 'y': 232.0, 'w': 25}\n",
      "obj_center :  282.52062442845977 128.75359150705776 goal :  {'x': 345.0, 'y': 232.0, 'w': 25}\n",
      "obj_center :  281.2513507015111 128.30497257884588 goal :  {'x': 345.0, 'y': 232.0, 'w': 25}\n",
      "obj_center :  282.52062442845977 128.75359150705776 goal :  {'x': 345.0, 'y': 232.0, 'w': 25}\n",
      "obj_center :  281.2513507015111 128.30497257884588 goal :  {'x': 345.0, 'y': 232.0, 'w': 25}\n",
      "obj_center :  282.52062442845977 128.75359150705776 goal :  {'x': 345.0, 'y': 232.0, 'w': 25}\n",
      "obj_center :  281.2513507015111 128.30497257884588 goal :  {'x': 345.0, 'y': 232.0, 'w': 25}\n",
      "obj_center :  282.52062442845977 128.75359150705776 goal :  {'x': 345.0, 'y': 232.0, 'w': 25}\n",
      "obj_center :  281.2513507015111 128.30497257884588 goal :  {'x': 345.0, 'y': 232.0, 'w': 25}\n",
      "obj_center :  282.52062442845977 128.75359150705776 goal :  {'x': 345.0, 'y': 232.0, 'w': 25}\n",
      "obj_center :  281.2513507015111 128.30497257884588 goal :  {'x': 345.0, 'y': 232.0, 'w': 25}\n",
      "obj_center :  282.52062442845977 128.75359150705776 goal :  {'x': 345.0, 'y': 232.0, 'w': 25}\n",
      "obj_center :  281.2513507015111 128.30497257884588 goal :  {'x': 345.0, 'y': 232.0, 'w': 25}\n",
      "obj_center :  282.52062442845977 128.75359150705776 goal :  {'x': 345.0, 'y': 232.0, 'w': 25}\n",
      "obj_center :  281.2513507015111 128.30497257884588 goal :  {'x': 345.0, 'y': 232.0, 'w': 25}\n",
      "obj_center :  282.52062442845977 128.75359150705776 goal :  {'x': 345.0, 'y': 232.0, 'w': 25}\n",
      "obj_center :  281.2513507015111 128.30497257884588 goal :  {'x': 345.0, 'y': 232.0, 'w': 25}\n",
      "obj_center :  282.52062442845977 128.75359150705776 goal :  {'x': 345.0, 'y': 232.0, 'w': 25}\n",
      "obj_center :  281.2513507015111 128.30497257884588 goal :  {'x': 345.0, 'y': 232.0, 'w': 25}\n",
      "obj_center :  282.52062442845977 128.75359150705776 goal :  {'x': 345.0, 'y': 232.0, 'w': 25}\n",
      "obj_center :  281.2513507015111 128.30497257884588 goal :  {'x': 345.0, 'y': 232.0, 'w': 25}\n",
      "obj_center :  282.52062442845977 128.75359150705776 goal :  {'x': 345.0, 'y': 232.0, 'w': 25}\n",
      "obj_center :  281.2513507015111 128.30497257884588 goal :  {'x': 345.0, 'y': 232.0, 'w': 25}\n",
      "obj_center :  282.52062442845977 128.75359150705776 goal :  {'x': 345.0, 'y': 232.0, 'w': 25}\n",
      "obj_center :  281.2513507015111 128.30497257884588 goal :  {'x': 345.0, 'y': 232.0, 'w': 25}\n",
      "obj_center :  282.52062442845977 128.75359150705776 goal :  {'x': 345.0, 'y': 232.0, 'w': 25}\n",
      "obj_center :  281.2513507015111 128.30497257884588 goal :  {'x': 345.0, 'y': 232.0, 'w': 25}\n",
      "obj_center :  282.52062442845977 128.75359150705776 goal :  {'x': 345.0, 'y': 232.0, 'w': 25}\n",
      "obj_center :  281.2513507015111 128.30497257884588 goal :  {'x': 345.0, 'y': 232.0, 'w': 25}\n",
      "obj_center :  282.52062442845977 128.75359150705776 goal :  {'x': 345.0, 'y': 232.0, 'w': 25}\n",
      "obj_center :  281.2513507015111 128.30497257884588 goal :  {'x': 345.0, 'y': 232.0, 'w': 25}\n",
      "obj_center :  282.52062442845977 128.75359150705776 goal :  {'x': 345.0, 'y': 232.0, 'w': 25}\n",
      "obj_center :  281.2513507015111 128.30497257884588 goal :  {'x': 345.0, 'y': 232.0, 'w': 25}\n",
      "obj_center :  282.52062442845977 128.75359150705776 goal :  {'x': 345.0, 'y': 232.0, 'w': 25}\n",
      "obj_center :  281.2513507015111 128.30497257884588 goal :  {'x': 345.0, 'y': 232.0, 'w': 25}\n",
      "obj_center :  282.52062442845977 128.75359150705776 goal :  {'x': 345.0, 'y': 232.0, 'w': 25}\n",
      "obj_center :  281.2513507015111 128.30497257884588 goal :  {'x': 345.0, 'y': 232.0, 'w': 25}\n",
      "obj_center :  282.52062442845977 128.75359150705776 goal :  {'x': 345.0, 'y': 232.0, 'w': 25}\n",
      "obj_center :  281.2513507015111 128.30497257884588 goal :  {'x': 345.0, 'y': 232.0, 'w': 25}\n",
      "obj_center :  282.52062442845977 128.75359150705776 goal :  {'x': 345.0, 'y': 232.0, 'w': 25}\n",
      "obj_center :  281.2513507015111 128.30497257884588 goal :  {'x': 345.0, 'y': 232.0, 'w': 25}\n",
      "obj_center :  282.52062442845977 128.75359150705776 goal :  {'x': 345.0, 'y': 232.0, 'w': 25}\n",
      "obj_center :  281.2513507015111 128.30497257884588 goal :  {'x': 345.0, 'y': 232.0, 'w': 25}\n",
      "obj_center :  282.52062442845977 128.75359150705776 goal :  {'x': 345.0, 'y': 232.0, 'w': 25}\n",
      "obj_center :  281.2513507015111 128.30497257884588 goal :  {'x': 345.0, 'y': 232.0, 'w': 25}\n",
      "obj_center :  282.52062442845977 128.75359150705776 goal :  {'x': 345.0, 'y': 232.0, 'w': 25}\n",
      "obj_center :  281.2513507015111 128.30497257884588 goal :  {'x': 345.0, 'y': 232.0, 'w': 25}\n",
      "obj_center :  282.52062442845977 128.75359150705776 goal :  {'x': 345.0, 'y': 232.0, 'w': 25}\n",
      "obj_center :  281.2513507015111 128.30497257884588 goal :  {'x': 345.0, 'y': 232.0, 'w': 25}\n",
      "obj_center :  282.52062442845977 128.75359150705776 goal :  {'x': 345.0, 'y': 232.0, 'w': 25}\n",
      "obj_center :  281.2513507015111 128.30497257884588 goal :  {'x': 345.0, 'y': 232.0, 'w': 25}\n",
      "obj_center :  282.52062442845977 128.75359150705776 goal :  {'x': 345.0, 'y': 232.0, 'w': 25}\n",
      "obj_center :  281.2513507015111 128.30497257884588 goal :  {'x': 345.0, 'y': 232.0, 'w': 25}\n",
      "obj_center :  282.52062442845977 128.75359150705776 goal :  {'x': 345.0, 'y': 232.0, 'w': 25}\n",
      "obj_center :  281.2513507015111 128.30497257884588 goal :  {'x': 345.0, 'y': 232.0, 'w': 25}\n",
      "obj_center :  282.52062442845977 128.75359150705776 goal :  {'x': 345.0, 'y': 232.0, 'w': 25}\n",
      "obj_center :  281.2513507015111 128.30497257884588 goal :  {'x': 345.0, 'y': 232.0, 'w': 25}\n",
      "obj_center :  282.52062442845977 128.75359150705776 goal :  {'x': 345.0, 'y': 232.0, 'w': 25}\n",
      "obj_center :  281.2513507015111 128.30497257884588 goal :  {'x': 345.0, 'y': 232.0, 'w': 25}\n",
      "obj_center :  282.52062442845977 128.75359150705776 goal :  {'x': 345.0, 'y': 232.0, 'w': 25}\n",
      "obj_center :  281.2513507015111 128.30497257884588 goal :  {'x': 345.0, 'y': 232.0, 'w': 25}\n",
      "obj_center :  282.52062442845977 128.75359150705776 goal :  {'x': 345.0, 'y': 232.0, 'w': 25}\n",
      "obj_center :  281.2513507015111 128.30497257884588 goal :  {'x': 345.0, 'y': 232.0, 'w': 25}\n",
      "obj_center :  282.52062442845977 128.75359150705776 goal :  {'x': 345.0, 'y': 232.0, 'w': 25}\n",
      "obj_center :  281.2513507015111 128.30497257884588 goal :  {'x': 345.0, 'y': 232.0, 'w': 25}\n",
      "obj_center :  282.52062442845977 128.75359150705776 goal :  {'x': 345.0, 'y': 232.0, 'w': 25}\n",
      "obj_center :  281.2513507015111 128.30497257884588 goal :  {'x': 345.0, 'y': 232.0, 'w': 25}\n",
      "obj_center :  282.52062442845977 128.75359150705776 goal :  {'x': 345.0, 'y': 232.0, 'w': 25}\n",
      "obj_center :  281.2513507015111 128.30497257884588 goal :  {'x': 345.0, 'y': 232.0, 'w': 25}\n",
      "obj_center :  282.52062442845977 128.75359150705776 goal :  {'x': 345.0, 'y': 232.0, 'w': 25}\n",
      "obj_center :  281.2513507015111 128.30497257884588 goal :  {'x': 345.0, 'y': 232.0, 'w': 25}\n",
      "obj_center :  282.52062442845977 128.75359150705776 goal :  {'x': 345.0, 'y': 232.0, 'w': 25}\n",
      "obj_center :  281.2513507015111 128.30497257884588 goal :  {'x': 345.0, 'y': 232.0, 'w': 25}\n",
      "obj_center :  282.52062442845977 128.75359150705776 goal :  {'x': 345.0, 'y': 232.0, 'w': 25}\n",
      "obj_center :  281.2513507015111 128.30497257884588 goal :  {'x': 345.0, 'y': 232.0, 'w': 25}\n"
     ]
    }
   ],
   "source": [
    "# load the weights from file\n",
    "agent.qnetwork_local.load_state_dict(torch.load('checkpoint.pth', map_location='cpu'))\n",
    "\n",
    "for i in range(1):\n",
    "    state = env.reset()\n",
    "    for j in range(200):\n",
    "        action = agent.act(state)\n",
    "        env.render()\n",
    "        state, reward, done = env.step(action)\n",
    "        if done:\n",
    "            break \n",
    "path_x, path_y = env.viewer.return_path()      \n",
    "\n",
    "#env.close()"
   ]
  },
  {
   "cell_type": "code",
   "execution_count": 5,
   "metadata": {},
   "outputs": [
    {
     "data": {
      "image/png": "[encoded data removed]",
      "text/plain": [
       "<Figure size 432x288 with 1 Axes>"
      ]
     },
     "metadata": {
      "needs_background": "light"
     },
     "output_type": "display_data"
    }
   ],
   "source": [
    "plt.scatter(path_x, path_y)\n",
    "plt.show()"
   ]
  },
  {
   "cell_type": "code",
   "execution_count": null,
   "metadata": {},
   "outputs": [],
   "source": []
  }
 ],
 "metadata": {
  "kernelspec": {
   "display_name": "Python 3",
   "language": "python",
   "name": "python3"
  },
  "language_info": {
   "codemirror_mode": {
    "name": "ipython",
    "version": 3
   },
   "file_extension": ".py",
   "mimetype": "text/x-python",
   "name": "python",
   "nbconvert_exporter": "python",
   "pygments_lexer": "ipython3",
   "version": "3.6.9"
  }
 },
 "nbformat": 4,
 "nbformat_minor": 2
}
